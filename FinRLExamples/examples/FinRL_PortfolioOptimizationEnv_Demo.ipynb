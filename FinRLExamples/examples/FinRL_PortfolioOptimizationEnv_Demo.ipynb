{
 "cells": [
  {
   "metadata": {},
   "cell_type": "markdown",
   "source": [
    "# A guide Portfolio Optimization Environment\n",
    "\n",
    "This notebook aims to provide an example of using PortfolioOptimizationEnv (or POE) to train a reinforcement learning model that learns to solve the portfolio optimization problem.\n",
    "\n",
    "In this document, we will reproduce a famous architecture called EIIE (ensemble of identical independent evaluators), introduced in the following paper:\n",
    "\n",
    "- Zhengyao Jiang, Dixing Xu, & Jinjun Liang. (2017). A Deep Reinforcement Learning Framework for the Financial Portfolio Management Problem. https://doi.org/10.48550/arXiv.1706.10059.\n",
    "\n",
    "It's advisable to read it to understand the algorithm implemented in this notebook.\n",
    "\n",
    "### Note\n",
    "If you're using this environment, consider citing the following paper (in adittion to FinRL references):\n",
    "\n",
    "- Caio Costa, & Anna Costa (2023). POE: A General Portfolio Optimization Environment for FinRL. In *Anais do II Brazilian Workshop on Artificial Intelligence in Finance* (pp. 132–143). SBC. https://doi.org/10.5753/bwaif.2023.231144."
   ],
   "id": "94546ffe4eab6df8"
  },
  {
   "metadata": {},
   "cell_type": "markdown",
   "source": [
    "## Installation and imports\n",
    "\n",
    "To run this notebook in google colab, uncomment the cells below."
   ],
   "id": "54b6b54c25664d96"
  },
  {
   "metadata": {},
   "cell_type": "code",
   "outputs": [],
   "execution_count": null,
   "source": [
    "## install finrl library\n",
    "# !sudo apt install swig\n",
    "# !pip install git+https://github.com/AI4Finance-Foundation/FinRL.git"
   ],
   "id": "c835e7b33fd2ddb4"
  },
  {
   "metadata": {},
   "cell_type": "code",
   "outputs": [],
   "execution_count": null,
   "source": [
    "## We also need to install quantstats, because the environment uses it to plot graphs\n",
    "# !pip install quantstats"
   ],
   "id": "b8e2690e9b9d8750"
  },
  {
   "metadata": {
    "ExecuteTime": {
     "end_time": "2024-11-25T13:37:21.362050Z",
     "start_time": "2024-11-25T13:37:21.356549Z"
    }
   },
   "cell_type": "code",
   "source": [
    "## Hide matplotlib warnings\n",
    "# import warnings\n",
    "# warnings.filterwarnings('ignore')\n",
    "\n",
    "import logging\n",
    "logging.getLogger('matplotlib.font_manager').disabled = True"
   ],
   "id": "8cf4d505ff586bfb",
   "outputs": [],
   "execution_count": 1
  },
  {
   "metadata": {},
   "cell_type": "markdown",
   "source": "#### Import the necessary code libraries",
   "id": "1bad593a86f59833"
  },
  {
   "metadata": {
    "ExecuteTime": {
     "end_time": "2024-11-25T13:37:26.900860Z",
     "start_time": "2024-11-25T13:37:24.004395Z"
    }
   },
   "cell_type": "code",
   "source": [
    "import torch\n",
    "\n",
    "import numpy as np\n",
    "\n",
    "from sklearn.preprocessing import MaxAbsScaler\n",
    "\n",
    "from finrl.meta.preprocessor.yahoodownloader import YahooDownloader\n",
    "from finrl.meta.preprocessor.preprocessors import GroupByScaler\n",
    "from finrl.meta.env_portfolio_optimization.env_portfolio_optimization import PortfolioOptimizationEnv\n",
    "from finrl.agents.portfolio_optimization.models import DRLAgent\n",
    "from finrl.agents.portfolio_optimization.architectures import EIIE\n",
    "\n",
    "device = 'cuda:0' if torch.cuda.is_available() else 'cpu'"
   ],
   "id": "e890b6cc979f5903",
   "outputs": [],
   "execution_count": 2
  },
  {
   "metadata": {},
   "cell_type": "markdown",
   "source": [
    "## Fetch data\n",
    "\n",
    "In his paper, *Jiang et al* creates a portfolio composed by the top-11 cryptocurrencies based on 30-days volume. Since it's not specified when this classification was done, it's difficult to reproduce, so we will use a similar approach in the Brazillian stock market:\n",
    "\n",
    "- We select top-10 stocks from Brazillian stock market;\n",
    "- For simplicity, we disconsider stocks that have missing data for the days in period 2011-01-01 to 2019-12-31 (9 years);"
   ],
   "id": "e0e49c1f7a0d1080"
  },
  {
   "metadata": {
    "ExecuteTime": {
     "end_time": "2024-11-25T13:37:30.661027Z",
     "start_time": "2024-11-25T13:37:30.658568Z"
    }
   },
   "cell_type": "code",
   "source": [
    "TOP_BRL = [\n",
    "    \"VALE3.SA\", \"PETR4.SA\", \"ITUB4.SA\", \"BBDC4.SA\",\n",
    "    \"BBAS3.SA\", \"RENT3.SA\", \"LREN3.SA\", \"PRIO3.SA\",\n",
    "    \"WEGE3.SA\", \"ABEV3.SA\"\n",
    "]"
   ],
   "id": "d24be9fd3795c406",
   "outputs": [],
   "execution_count": 3
  },
  {
   "metadata": {
    "ExecuteTime": {
     "end_time": "2024-11-25T13:37:43.394664Z",
     "start_time": "2024-11-25T13:37:33.625489Z"
    }
   },
   "cell_type": "code",
   "source": [
    "print(len(TOP_BRL))\n",
    "\n",
    "portfolio_raw_df = YahooDownloader(start_date = '2011-01-01',\n",
    "                                end_date = '2022-12-31',\n",
    "                                ticker_list = TOP_BRL).fetch_data()\n",
    "portfolio_raw_df"
   ],
   "id": "98fcc714da5f0b77",
   "outputs": [
    {
     "name": "stdout",
     "output_type": "stream",
     "text": [
      "10\n"
     ]
    },
    {
     "name": "stderr",
     "output_type": "stream",
     "text": [
      "[*********************100%***********************]  1 of 1 completed\n",
      "[*********************100%***********************]  1 of 1 completed\n",
      "[*********************100%***********************]  1 of 1 completed\n",
      "[*********************100%***********************]  1 of 1 completed\n",
      "[*********************100%***********************]  1 of 1 completed\n",
      "[*********************100%***********************]  1 of 1 completed\n",
      "[*********************100%***********************]  1 of 1 completed\n",
      "[*********************100%***********************]  1 of 1 completed\n",
      "[*********************100%***********************]  1 of 1 completed\n",
      "[*********************100%***********************]  1 of 1 completed"
     ]
    },
    {
     "name": "stdout",
     "output_type": "stream",
     "text": [
      "Shape of DataFrame:  (29780, 8)\n"
     ]
    },
    {
     "name": "stderr",
     "output_type": "stream",
     "text": [
      "\n"
     ]
    },
    {
     "data": {
      "text/plain": [
       "             date       open       high        low      close    volume  \\\n",
       "0      2011-01-03   5.287134   8.690246   8.728203   8.632311    576145   \n",
       "1      2011-01-03   6.304975  15.700000  15.900000  15.750000   6626800   \n",
       "2      2011-01-03   6.361643  11.774127  11.927362  11.809763  10862336   \n",
       "3      2011-01-03  10.177240  18.067982  18.250118  18.031555  10014663   \n",
       "4      2011-01-03   6.115665   8.510648   8.629907   8.422694   3652542   \n",
       "...           ...        ...        ...        ...        ...       ...   \n",
       "29775  2022-12-29  16.668446  24.500000  25.049999  24.990000  57901800   \n",
       "29776  2022-12-29  37.150330  37.209999  37.480000  37.250000   7890300   \n",
       "29777  2022-12-29  50.361668  53.025078  55.776001  54.300869   8786791   \n",
       "29778  2022-12-29  77.194099  88.879997  89.949997  89.000000  40110800   \n",
       "29779  2022-12-29  37.281891  38.509998  38.990002  38.840000   6444500   \n",
       "\n",
       "            tic  day  \n",
       "0      ABEV3.SA    0  \n",
       "1      BBAS3.SA    0  \n",
       "2      BBDC4.SA    0  \n",
       "3      ITUB4.SA    0  \n",
       "4      LREN3.SA    0  \n",
       "...         ...  ...  \n",
       "29775  PETR4.SA    3  \n",
       "29776  PRIO3.SA    3  \n",
       "29777  RENT3.SA    3  \n",
       "29778  VALE3.SA    3  \n",
       "29779  WEGE3.SA    3  \n",
       "\n",
       "[29780 rows x 8 columns]"
      ],
      "text/html": [
       "<div>\n",
       "<style scoped>\n",
       "    .dataframe tbody tr th:only-of-type {\n",
       "        vertical-align: middle;\n",
       "    }\n",
       "\n",
       "    .dataframe tbody tr th {\n",
       "        vertical-align: top;\n",
       "    }\n",
       "\n",
       "    .dataframe thead th {\n",
       "        text-align: right;\n",
       "    }\n",
       "</style>\n",
       "<table border=\"1\" class=\"dataframe\">\n",
       "  <thead>\n",
       "    <tr style=\"text-align: right;\">\n",
       "      <th></th>\n",
       "      <th>date</th>\n",
       "      <th>open</th>\n",
       "      <th>high</th>\n",
       "      <th>low</th>\n",
       "      <th>close</th>\n",
       "      <th>volume</th>\n",
       "      <th>tic</th>\n",
       "      <th>day</th>\n",
       "    </tr>\n",
       "  </thead>\n",
       "  <tbody>\n",
       "    <tr>\n",
       "      <th>0</th>\n",
       "      <td>2011-01-03</td>\n",
       "      <td>5.287134</td>\n",
       "      <td>8.690246</td>\n",
       "      <td>8.728203</td>\n",
       "      <td>8.632311</td>\n",
       "      <td>576145</td>\n",
       "      <td>ABEV3.SA</td>\n",
       "      <td>0</td>\n",
       "    </tr>\n",
       "    <tr>\n",
       "      <th>1</th>\n",
       "      <td>2011-01-03</td>\n",
       "      <td>6.304975</td>\n",
       "      <td>15.700000</td>\n",
       "      <td>15.900000</td>\n",
       "      <td>15.750000</td>\n",
       "      <td>6626800</td>\n",
       "      <td>BBAS3.SA</td>\n",
       "      <td>0</td>\n",
       "    </tr>\n",
       "    <tr>\n",
       "      <th>2</th>\n",
       "      <td>2011-01-03</td>\n",
       "      <td>6.361643</td>\n",
       "      <td>11.774127</td>\n",
       "      <td>11.927362</td>\n",
       "      <td>11.809763</td>\n",
       "      <td>10862336</td>\n",
       "      <td>BBDC4.SA</td>\n",
       "      <td>0</td>\n",
       "    </tr>\n",
       "    <tr>\n",
       "      <th>3</th>\n",
       "      <td>2011-01-03</td>\n",
       "      <td>10.177240</td>\n",
       "      <td>18.067982</td>\n",
       "      <td>18.250118</td>\n",
       "      <td>18.031555</td>\n",
       "      <td>10014663</td>\n",
       "      <td>ITUB4.SA</td>\n",
       "      <td>0</td>\n",
       "    </tr>\n",
       "    <tr>\n",
       "      <th>4</th>\n",
       "      <td>2011-01-03</td>\n",
       "      <td>6.115665</td>\n",
       "      <td>8.510648</td>\n",
       "      <td>8.629907</td>\n",
       "      <td>8.422694</td>\n",
       "      <td>3652542</td>\n",
       "      <td>LREN3.SA</td>\n",
       "      <td>0</td>\n",
       "    </tr>\n",
       "    <tr>\n",
       "      <th>...</th>\n",
       "      <td>...</td>\n",
       "      <td>...</td>\n",
       "      <td>...</td>\n",
       "      <td>...</td>\n",
       "      <td>...</td>\n",
       "      <td>...</td>\n",
       "      <td>...</td>\n",
       "      <td>...</td>\n",
       "    </tr>\n",
       "    <tr>\n",
       "      <th>29775</th>\n",
       "      <td>2022-12-29</td>\n",
       "      <td>16.668446</td>\n",
       "      <td>24.500000</td>\n",
       "      <td>25.049999</td>\n",
       "      <td>24.990000</td>\n",
       "      <td>57901800</td>\n",
       "      <td>PETR4.SA</td>\n",
       "      <td>3</td>\n",
       "    </tr>\n",
       "    <tr>\n",
       "      <th>29776</th>\n",
       "      <td>2022-12-29</td>\n",
       "      <td>37.150330</td>\n",
       "      <td>37.209999</td>\n",
       "      <td>37.480000</td>\n",
       "      <td>37.250000</td>\n",
       "      <td>7890300</td>\n",
       "      <td>PRIO3.SA</td>\n",
       "      <td>3</td>\n",
       "    </tr>\n",
       "    <tr>\n",
       "      <th>29777</th>\n",
       "      <td>2022-12-29</td>\n",
       "      <td>50.361668</td>\n",
       "      <td>53.025078</td>\n",
       "      <td>55.776001</td>\n",
       "      <td>54.300869</td>\n",
       "      <td>8786791</td>\n",
       "      <td>RENT3.SA</td>\n",
       "      <td>3</td>\n",
       "    </tr>\n",
       "    <tr>\n",
       "      <th>29778</th>\n",
       "      <td>2022-12-29</td>\n",
       "      <td>77.194099</td>\n",
       "      <td>88.879997</td>\n",
       "      <td>89.949997</td>\n",
       "      <td>89.000000</td>\n",
       "      <td>40110800</td>\n",
       "      <td>VALE3.SA</td>\n",
       "      <td>3</td>\n",
       "    </tr>\n",
       "    <tr>\n",
       "      <th>29779</th>\n",
       "      <td>2022-12-29</td>\n",
       "      <td>37.281891</td>\n",
       "      <td>38.509998</td>\n",
       "      <td>38.990002</td>\n",
       "      <td>38.840000</td>\n",
       "      <td>6444500</td>\n",
       "      <td>WEGE3.SA</td>\n",
       "      <td>3</td>\n",
       "    </tr>\n",
       "  </tbody>\n",
       "</table>\n",
       "<p>29780 rows × 8 columns</p>\n",
       "</div>"
      ]
     },
     "execution_count": 4,
     "metadata": {},
     "output_type": "execute_result"
    }
   ],
   "execution_count": 4
  },
  {
   "metadata": {
    "ExecuteTime": {
     "end_time": "2024-11-25T13:37:47.911446Z",
     "start_time": "2024-11-25T13:37:47.903911Z"
    }
   },
   "cell_type": "code",
   "source": "portfolio_raw_df.groupby(\"tic\").count()",
   "id": "fb00ebd082fc7201",
   "outputs": [
    {
     "data": {
      "text/plain": [
       "          date  open  high   low  close  volume   day\n",
       "tic                                                  \n",
       "ABEV3.SA  2978  2978  2978  2978   2978    2978  2978\n",
       "BBAS3.SA  2978  2978  2978  2978   2978    2978  2978\n",
       "BBDC4.SA  2978  2978  2978  2978   2978    2978  2978\n",
       "ITUB4.SA  2978  2978  2978  2978   2978    2978  2978\n",
       "LREN3.SA  2978  2978  2978  2978   2978    2978  2978\n",
       "PETR4.SA  2978  2978  2978  2978   2978    2978  2978\n",
       "PRIO3.SA  2978  2978  2978  2978   2978    2978  2978\n",
       "RENT3.SA  2978  2978  2978  2978   2978    2978  2978\n",
       "VALE3.SA  2978  2978  2978  2978   2978    2978  2978\n",
       "WEGE3.SA  2978  2978  2978  2978   2978    2978  2978"
      ],
      "text/html": [
       "<div>\n",
       "<style scoped>\n",
       "    .dataframe tbody tr th:only-of-type {\n",
       "        vertical-align: middle;\n",
       "    }\n",
       "\n",
       "    .dataframe tbody tr th {\n",
       "        vertical-align: top;\n",
       "    }\n",
       "\n",
       "    .dataframe thead th {\n",
       "        text-align: right;\n",
       "    }\n",
       "</style>\n",
       "<table border=\"1\" class=\"dataframe\">\n",
       "  <thead>\n",
       "    <tr style=\"text-align: right;\">\n",
       "      <th></th>\n",
       "      <th>date</th>\n",
       "      <th>open</th>\n",
       "      <th>high</th>\n",
       "      <th>low</th>\n",
       "      <th>close</th>\n",
       "      <th>volume</th>\n",
       "      <th>day</th>\n",
       "    </tr>\n",
       "    <tr>\n",
       "      <th>tic</th>\n",
       "      <th></th>\n",
       "      <th></th>\n",
       "      <th></th>\n",
       "      <th></th>\n",
       "      <th></th>\n",
       "      <th></th>\n",
       "      <th></th>\n",
       "    </tr>\n",
       "  </thead>\n",
       "  <tbody>\n",
       "    <tr>\n",
       "      <th>ABEV3.SA</th>\n",
       "      <td>2978</td>\n",
       "      <td>2978</td>\n",
       "      <td>2978</td>\n",
       "      <td>2978</td>\n",
       "      <td>2978</td>\n",
       "      <td>2978</td>\n",
       "      <td>2978</td>\n",
       "    </tr>\n",
       "    <tr>\n",
       "      <th>BBAS3.SA</th>\n",
       "      <td>2978</td>\n",
       "      <td>2978</td>\n",
       "      <td>2978</td>\n",
       "      <td>2978</td>\n",
       "      <td>2978</td>\n",
       "      <td>2978</td>\n",
       "      <td>2978</td>\n",
       "    </tr>\n",
       "    <tr>\n",
       "      <th>BBDC4.SA</th>\n",
       "      <td>2978</td>\n",
       "      <td>2978</td>\n",
       "      <td>2978</td>\n",
       "      <td>2978</td>\n",
       "      <td>2978</td>\n",
       "      <td>2978</td>\n",
       "      <td>2978</td>\n",
       "    </tr>\n",
       "    <tr>\n",
       "      <th>ITUB4.SA</th>\n",
       "      <td>2978</td>\n",
       "      <td>2978</td>\n",
       "      <td>2978</td>\n",
       "      <td>2978</td>\n",
       "      <td>2978</td>\n",
       "      <td>2978</td>\n",
       "      <td>2978</td>\n",
       "    </tr>\n",
       "    <tr>\n",
       "      <th>LREN3.SA</th>\n",
       "      <td>2978</td>\n",
       "      <td>2978</td>\n",
       "      <td>2978</td>\n",
       "      <td>2978</td>\n",
       "      <td>2978</td>\n",
       "      <td>2978</td>\n",
       "      <td>2978</td>\n",
       "    </tr>\n",
       "    <tr>\n",
       "      <th>PETR4.SA</th>\n",
       "      <td>2978</td>\n",
       "      <td>2978</td>\n",
       "      <td>2978</td>\n",
       "      <td>2978</td>\n",
       "      <td>2978</td>\n",
       "      <td>2978</td>\n",
       "      <td>2978</td>\n",
       "    </tr>\n",
       "    <tr>\n",
       "      <th>PRIO3.SA</th>\n",
       "      <td>2978</td>\n",
       "      <td>2978</td>\n",
       "      <td>2978</td>\n",
       "      <td>2978</td>\n",
       "      <td>2978</td>\n",
       "      <td>2978</td>\n",
       "      <td>2978</td>\n",
       "    </tr>\n",
       "    <tr>\n",
       "      <th>RENT3.SA</th>\n",
       "      <td>2978</td>\n",
       "      <td>2978</td>\n",
       "      <td>2978</td>\n",
       "      <td>2978</td>\n",
       "      <td>2978</td>\n",
       "      <td>2978</td>\n",
       "      <td>2978</td>\n",
       "    </tr>\n",
       "    <tr>\n",
       "      <th>VALE3.SA</th>\n",
       "      <td>2978</td>\n",
       "      <td>2978</td>\n",
       "      <td>2978</td>\n",
       "      <td>2978</td>\n",
       "      <td>2978</td>\n",
       "      <td>2978</td>\n",
       "      <td>2978</td>\n",
       "    </tr>\n",
       "    <tr>\n",
       "      <th>WEGE3.SA</th>\n",
       "      <td>2978</td>\n",
       "      <td>2978</td>\n",
       "      <td>2978</td>\n",
       "      <td>2978</td>\n",
       "      <td>2978</td>\n",
       "      <td>2978</td>\n",
       "      <td>2978</td>\n",
       "    </tr>\n",
       "  </tbody>\n",
       "</table>\n",
       "</div>"
      ]
     },
     "execution_count": 5,
     "metadata": {},
     "output_type": "execute_result"
    }
   ],
   "execution_count": 5
  },
  {
   "metadata": {},
   "cell_type": "markdown",
   "source": "### Normalize Data",
   "id": "6f63ec06e2e7c5f7"
  },
  {
   "metadata": {},
   "cell_type": "markdown",
   "source": "We normalize the data dividing the time series of each stock by its maximum value, so that the dataframe contains values between 0 and 1.",
   "id": "603fe866152dd341"
  },
  {
   "metadata": {
    "ExecuteTime": {
     "end_time": "2024-11-25T13:37:55.427339Z",
     "start_time": "2024-11-25T13:37:55.350662Z"
    }
   },
   "cell_type": "code",
   "source": [
    "portfolio_norm_df = GroupByScaler(by=\"tic\", scaler=MaxAbsScaler).fit_transform(portfolio_raw_df)\n",
    "portfolio_norm_df"
   ],
   "id": "32e980bddb836e4f",
   "outputs": [
    {
     "name": "stderr",
     "output_type": "stream",
     "text": [
      "/Users/zhengshuang/Documents/ProgramingGuide/SourceCode/GithubRepo/everyfine/FinRLLearn/FinRLExamples/.venv/lib/python3.10/site-packages/finrl/meta/preprocessor/preprocessors.py:101: FutureWarning: Setting an item of incompatible dtype is deprecated and will raise an error in a future version of pandas. Value '[0.00200262 0.00114137 0.0010422  ... 0.04565734 0.05214546 0.07760399]' has dtype incompatible with int64, please explicitly cast to a compatible dtype first.\n",
      "  X.loc[select_mask, self.columns] = self.scalers[value].transform(\n",
      "/Users/zhengshuang/Documents/ProgramingGuide/SourceCode/GithubRepo/everyfine/FinRLLearn/FinRLExamples/.venv/lib/python3.10/site-packages/finrl/meta/preprocessor/preprocessors.py:101: FutureWarning: Setting an item of incompatible dtype is deprecated and will raise an error in a future version of pandas. Value '[0.   0.25 0.5  ... 0.25 0.5  0.75]' has dtype incompatible with int32, please explicitly cast to a compatible dtype first.\n",
      "  X.loc[select_mask, self.columns] = self.scalers[value].transform(\n"
     ]
    },
    {
     "data": {
      "text/plain": [
       "             date      open      high       low     close    volume       tic  \\\n",
       "0      2011-01-03  0.273169  0.358065  0.355383  0.353928  0.002003  ABEV3.SA   \n",
       "1      2011-01-03  0.320289  0.569047  0.568771  0.566547  0.014581  BBAS3.SA   \n",
       "2      2011-01-03  0.284472  0.397649  0.397479  0.396939  0.021760  BBDC4.SA   \n",
       "3      2011-01-03  0.328329  0.455228  0.458661  0.466293  0.062331  ITUB4.SA   \n",
       "4      2011-01-03  0.126038  0.155025  0.157120  0.153498  0.072591  LREN3.SA   \n",
       "...           ...       ...       ...       ...       ...       ...       ...   \n",
       "29775  2022-12-29  0.694899  0.649523  0.652514  0.663745  0.082841  PETR4.SA   \n",
       "29776  2022-12-29  0.857373  0.857373  0.844144  0.858295  0.048724  PRIO3.SA   \n",
       "29777  2022-12-29  0.728877  0.720611  0.754746  0.737949  0.097191  RENT3.SA   \n",
       "29778  2022-12-29  0.916710  0.748652  0.746783  0.742905  0.218546  VALE3.SA   \n",
       "29779  2022-12-29  0.859932  0.835267  0.830812  0.835988  0.047379  WEGE3.SA   \n",
       "\n",
       "        day  \n",
       "0      0.00  \n",
       "1      0.00  \n",
       "2      0.00  \n",
       "3      0.00  \n",
       "4      0.00  \n",
       "...     ...  \n",
       "29775  0.75  \n",
       "29776  0.75  \n",
       "29777  0.75  \n",
       "29778  0.75  \n",
       "29779  0.75  \n",
       "\n",
       "[29780 rows x 8 columns]"
      ],
      "text/html": [
       "<div>\n",
       "<style scoped>\n",
       "    .dataframe tbody tr th:only-of-type {\n",
       "        vertical-align: middle;\n",
       "    }\n",
       "\n",
       "    .dataframe tbody tr th {\n",
       "        vertical-align: top;\n",
       "    }\n",
       "\n",
       "    .dataframe thead th {\n",
       "        text-align: right;\n",
       "    }\n",
       "</style>\n",
       "<table border=\"1\" class=\"dataframe\">\n",
       "  <thead>\n",
       "    <tr style=\"text-align: right;\">\n",
       "      <th></th>\n",
       "      <th>date</th>\n",
       "      <th>open</th>\n",
       "      <th>high</th>\n",
       "      <th>low</th>\n",
       "      <th>close</th>\n",
       "      <th>volume</th>\n",
       "      <th>tic</th>\n",
       "      <th>day</th>\n",
       "    </tr>\n",
       "  </thead>\n",
       "  <tbody>\n",
       "    <tr>\n",
       "      <th>0</th>\n",
       "      <td>2011-01-03</td>\n",
       "      <td>0.273169</td>\n",
       "      <td>0.358065</td>\n",
       "      <td>0.355383</td>\n",
       "      <td>0.353928</td>\n",
       "      <td>0.002003</td>\n",
       "      <td>ABEV3.SA</td>\n",
       "      <td>0.00</td>\n",
       "    </tr>\n",
       "    <tr>\n",
       "      <th>1</th>\n",
       "      <td>2011-01-03</td>\n",
       "      <td>0.320289</td>\n",
       "      <td>0.569047</td>\n",
       "      <td>0.568771</td>\n",
       "      <td>0.566547</td>\n",
       "      <td>0.014581</td>\n",
       "      <td>BBAS3.SA</td>\n",
       "      <td>0.00</td>\n",
       "    </tr>\n",
       "    <tr>\n",
       "      <th>2</th>\n",
       "      <td>2011-01-03</td>\n",
       "      <td>0.284472</td>\n",
       "      <td>0.397649</td>\n",
       "      <td>0.397479</td>\n",
       "      <td>0.396939</td>\n",
       "      <td>0.021760</td>\n",
       "      <td>BBDC4.SA</td>\n",
       "      <td>0.00</td>\n",
       "    </tr>\n",
       "    <tr>\n",
       "      <th>3</th>\n",
       "      <td>2011-01-03</td>\n",
       "      <td>0.328329</td>\n",
       "      <td>0.455228</td>\n",
       "      <td>0.458661</td>\n",
       "      <td>0.466293</td>\n",
       "      <td>0.062331</td>\n",
       "      <td>ITUB4.SA</td>\n",
       "      <td>0.00</td>\n",
       "    </tr>\n",
       "    <tr>\n",
       "      <th>4</th>\n",
       "      <td>2011-01-03</td>\n",
       "      <td>0.126038</td>\n",
       "      <td>0.155025</td>\n",
       "      <td>0.157120</td>\n",
       "      <td>0.153498</td>\n",
       "      <td>0.072591</td>\n",
       "      <td>LREN3.SA</td>\n",
       "      <td>0.00</td>\n",
       "    </tr>\n",
       "    <tr>\n",
       "      <th>...</th>\n",
       "      <td>...</td>\n",
       "      <td>...</td>\n",
       "      <td>...</td>\n",
       "      <td>...</td>\n",
       "      <td>...</td>\n",
       "      <td>...</td>\n",
       "      <td>...</td>\n",
       "      <td>...</td>\n",
       "    </tr>\n",
       "    <tr>\n",
       "      <th>29775</th>\n",
       "      <td>2022-12-29</td>\n",
       "      <td>0.694899</td>\n",
       "      <td>0.649523</td>\n",
       "      <td>0.652514</td>\n",
       "      <td>0.663745</td>\n",
       "      <td>0.082841</td>\n",
       "      <td>PETR4.SA</td>\n",
       "      <td>0.75</td>\n",
       "    </tr>\n",
       "    <tr>\n",
       "      <th>29776</th>\n",
       "      <td>2022-12-29</td>\n",
       "      <td>0.857373</td>\n",
       "      <td>0.857373</td>\n",
       "      <td>0.844144</td>\n",
       "      <td>0.858295</td>\n",
       "      <td>0.048724</td>\n",
       "      <td>PRIO3.SA</td>\n",
       "      <td>0.75</td>\n",
       "    </tr>\n",
       "    <tr>\n",
       "      <th>29777</th>\n",
       "      <td>2022-12-29</td>\n",
       "      <td>0.728877</td>\n",
       "      <td>0.720611</td>\n",
       "      <td>0.754746</td>\n",
       "      <td>0.737949</td>\n",
       "      <td>0.097191</td>\n",
       "      <td>RENT3.SA</td>\n",
       "      <td>0.75</td>\n",
       "    </tr>\n",
       "    <tr>\n",
       "      <th>29778</th>\n",
       "      <td>2022-12-29</td>\n",
       "      <td>0.916710</td>\n",
       "      <td>0.748652</td>\n",
       "      <td>0.746783</td>\n",
       "      <td>0.742905</td>\n",
       "      <td>0.218546</td>\n",
       "      <td>VALE3.SA</td>\n",
       "      <td>0.75</td>\n",
       "    </tr>\n",
       "    <tr>\n",
       "      <th>29779</th>\n",
       "      <td>2022-12-29</td>\n",
       "      <td>0.859932</td>\n",
       "      <td>0.835267</td>\n",
       "      <td>0.830812</td>\n",
       "      <td>0.835988</td>\n",
       "      <td>0.047379</td>\n",
       "      <td>WEGE3.SA</td>\n",
       "      <td>0.75</td>\n",
       "    </tr>\n",
       "  </tbody>\n",
       "</table>\n",
       "<p>29780 rows × 8 columns</p>\n",
       "</div>"
      ]
     },
     "execution_count": 6,
     "metadata": {},
     "output_type": "execute_result"
    }
   ],
   "execution_count": 6
  },
  {
   "metadata": {
    "ExecuteTime": {
     "end_time": "2024-11-25T13:38:00.792796Z",
     "start_time": "2024-11-25T13:38:00.775429Z"
    }
   },
   "cell_type": "code",
   "source": [
    "df_portfolio = portfolio_norm_df[[\"date\", \"tic\", \"close\", \"high\", \"low\"]]\n",
    "\n",
    "df_portfolio_train = df_portfolio[(df_portfolio[\"date\"] >= \"2011-01-01\") & (df_portfolio[\"date\"] < \"2019-12-31\")]\n",
    "df_portfolio_2020 = df_portfolio[(df_portfolio[\"date\"] >= \"2020-01-01\") & (df_portfolio[\"date\"] < \"2020-12-31\")]\n",
    "df_portfolio_2021 = df_portfolio[(df_portfolio[\"date\"] >= \"2021-01-01\") & (df_portfolio[\"date\"] < \"2021-12-31\")]\n",
    "df_portfolio_2022 = df_portfolio[(df_portfolio[\"date\"] >= \"2022-01-01\") & (df_portfolio[\"date\"] < \"2022-12-31\")]"
   ],
   "id": "338725bc767bd6f0",
   "outputs": [],
   "execution_count": 7
  },
  {
   "metadata": {},
   "cell_type": "markdown",
   "source": [
    "### Instantiate Environment\n",
    "\n",
    "Using the `PortfolioOptimizationEnv`, it's easy to instantiate a portfolio optimization environment for reinforcement learning agents. In the example below, we use the dataframe created before to start an environment."
   ],
   "id": "9df10b593dd5e6a5"
  },
  {
   "metadata": {
    "ExecuteTime": {
     "end_time": "2024-11-25T13:38:04.036388Z",
     "start_time": "2024-11-25T13:38:03.999239Z"
    }
   },
   "cell_type": "code",
   "source": [
    "environment = PortfolioOptimizationEnv(\n",
    "        df_portfolio_train,\n",
    "        initial_amount=100000,\n",
    "        comission_fee_pct=0.0025,\n",
    "        time_window=50,\n",
    "        features=[\"close\", \"high\", \"low\"],\n",
    "        normalize_df=None\n",
    "    )"
   ],
   "id": "2fd4b81cc53e440a",
   "outputs": [],
   "execution_count": 8
  },
  {
   "metadata": {},
   "cell_type": "markdown",
   "source": [
    "### Instantiate Model\n",
    "\n",
    "Now, we can instantiate the model using FinRL API. In this example, we are going to use the EIIE architecture introduced by Jiang et. al.\n",
    "\n",
    ":exclamation: **Note:** Remember to set the architecture's `time_window` parameter with the same value of the environment's `time_window`."
   ],
   "id": "3453225c39be6f74"
  },
  {
   "metadata": {
    "ExecuteTime": {
     "end_time": "2024-11-25T13:38:07.356561Z",
     "start_time": "2024-11-25T13:38:07.352286Z"
    }
   },
   "cell_type": "code",
   "source": [
    "# set PolicyGradient parameters\n",
    "model_kwargs = {\n",
    "    \"lr\": 0.01,\n",
    "    \"policy\": EIIE,\n",
    "}\n",
    "\n",
    "# here, we can set EIIE's parameters\n",
    "policy_kwargs = {\n",
    "    \"k_size\": 3,\n",
    "    \"time_window\": 50,\n",
    "}\n",
    "\n",
    "model = DRLAgent(environment).get_model(\"pg\", device, model_kwargs, policy_kwargs)"
   ],
   "id": "a40ade5a885c2456",
   "outputs": [],
   "execution_count": 9
  },
  {
   "metadata": {},
   "cell_type": "markdown",
   "source": "### Train Model",
   "id": "e755546b64f4a70e"
  },
  {
   "metadata": {
    "ExecuteTime": {
     "end_time": "2024-11-25T13:38:12.221085Z",
     "start_time": "2024-11-25T13:38:12.219096Z"
    }
   },
   "cell_type": "code",
   "source": "episodes = 100",
   "id": "1e930623c5947fdb",
   "outputs": [],
   "execution_count": 10
  },
  {
   "metadata": {
    "ExecuteTime": {
     "end_time": "2024-11-25T13:55:29.753944Z",
     "start_time": "2024-11-25T13:38:15.339388Z"
    }
   },
   "cell_type": "code",
   "source": "DRLAgent.train_model(model, episodes=episodes)",
   "id": "d78839f9cf78f4b0",
   "outputs": [
    {
     "name": "stderr",
     "output_type": "stream",
     "text": [
      "  0%|          | 0/100 [00:00<?, ?it/s]"
     ]
    },
    {
     "name": "stdout",
     "output_type": "stream",
     "text": [
      "=================================\n",
      "Initial portfolio value:100000\n",
      "Final portfolio value: 289836.03125\n",
      "Final accumulative portfolio value: 2.8983603125\n",
      "Maximum DrawDown: -0.4599906867578206\n",
      "Sharpe ratio: 0.6499955797525391\n",
      "=================================\n"
     ]
    },
    {
     "name": "stderr",
     "output_type": "stream",
     "text": [
      "  1%|          | 1/100 [00:10<17:42, 10.74s/it]"
     ]
    },
    {
     "name": "stdout",
     "output_type": "stream",
     "text": [
      "=================================\n",
      "Initial portfolio value:100000\n",
      "Final portfolio value: 495354.15625\n",
      "Final accumulative portfolio value: 4.9535415625\n",
      "Maximum DrawDown: -0.4954635237800624\n",
      "Sharpe ratio: 0.8881347525464215\n",
      "=================================\n"
     ]
    },
    {
     "name": "stderr",
     "output_type": "stream",
     "text": [
      "  2%|▏         | 2/100 [00:21<17:22, 10.63s/it]"
     ]
    },
    {
     "name": "stdout",
     "output_type": "stream",
     "text": [
      "=================================\n",
      "Initial portfolio value:100000\n",
      "Final portfolio value: 746462.4375\n",
      "Final accumulative portfolio value: 7.464624375\n",
      "Maximum DrawDown: -0.5937176731860812\n",
      "Sharpe ratio: 0.9418089406549494\n",
      "=================================\n"
     ]
    },
    {
     "name": "stderr",
     "output_type": "stream",
     "text": [
      "  3%|▎         | 3/100 [00:32<17:17, 10.69s/it]"
     ]
    },
    {
     "name": "stdout",
     "output_type": "stream",
     "text": [
      "=================================\n",
      "Initial portfolio value:100000\n",
      "Final portfolio value: 861949.5\n",
      "Final accumulative portfolio value: 8.619495\n",
      "Maximum DrawDown: -0.6635008618563316\n",
      "Sharpe ratio: 0.8997681226366392\n",
      "=================================\n"
     ]
    },
    {
     "name": "stderr",
     "output_type": "stream",
     "text": [
      "  4%|▍         | 4/100 [00:42<17:03, 10.67s/it]"
     ]
    },
    {
     "name": "stdout",
     "output_type": "stream",
     "text": [
      "=================================\n",
      "Initial portfolio value:100000\n",
      "Final portfolio value: 1102239.875\n",
      "Final accumulative portfolio value: 11.02239875\n",
      "Maximum DrawDown: -0.7049256322393747\n",
      "Sharpe ratio: 0.89696496970024\n",
      "=================================\n"
     ]
    },
    {
     "name": "stderr",
     "output_type": "stream",
     "text": [
      "  5%|▌         | 5/100 [00:53<16:53, 10.67s/it]"
     ]
    },
    {
     "name": "stdout",
     "output_type": "stream",
     "text": [
      "=================================\n",
      "Initial portfolio value:100000\n",
      "Final portfolio value: 1063058.125\n",
      "Final accumulative portfolio value: 10.63058125\n",
      "Maximum DrawDown: -0.6867059411750456\n",
      "Sharpe ratio: 0.9050083345025652\n",
      "=================================\n"
     ]
    },
    {
     "name": "stderr",
     "output_type": "stream",
     "text": [
      "  6%|▌         | 6/100 [01:04<16:42, 10.67s/it]"
     ]
    },
    {
     "name": "stdout",
     "output_type": "stream",
     "text": [
      "=================================\n",
      "Initial portfolio value:100000\n",
      "Final portfolio value: 1231518.125\n",
      "Final accumulative portfolio value: 12.31518125\n",
      "Maximum DrawDown: -0.7244922933180501\n",
      "Sharpe ratio: 0.8953948305155301\n",
      "=================================\n"
     ]
    },
    {
     "name": "stderr",
     "output_type": "stream",
     "text": [
      "  7%|▋         | 7/100 [01:14<16:28, 10.63s/it]"
     ]
    },
    {
     "name": "stdout",
     "output_type": "stream",
     "text": [
      "=================================\n",
      "Initial portfolio value:100000\n",
      "Final portfolio value: 1256393.5\n",
      "Final accumulative portfolio value: 12.563935\n",
      "Maximum DrawDown: -0.7100551673629167\n",
      "Sharpe ratio: 0.910802866891036\n",
      "=================================\n"
     ]
    },
    {
     "name": "stderr",
     "output_type": "stream",
     "text": [
      "  8%|▊         | 8/100 [01:25<16:16, 10.61s/it]"
     ]
    },
    {
     "name": "stdout",
     "output_type": "stream",
     "text": [
      "=================================\n",
      "Initial portfolio value:100000\n",
      "Final portfolio value: 1298328.5\n",
      "Final accumulative portfolio value: 12.983285\n",
      "Maximum DrawDown: -0.709400220605664\n",
      "Sharpe ratio: 0.9140627592494511\n",
      "=================================\n"
     ]
    },
    {
     "name": "stderr",
     "output_type": "stream",
     "text": [
      "  9%|▉         | 9/100 [01:35<16:07, 10.63s/it]"
     ]
    },
    {
     "name": "stdout",
     "output_type": "stream",
     "text": [
      "=================================\n",
      "Initial portfolio value:100000\n",
      "Final portfolio value: 1333315.625\n",
      "Final accumulative portfolio value: 13.33315625\n",
      "Maximum DrawDown: -0.7019205571511016\n",
      "Sharpe ratio: 0.9219591818723266\n",
      "=================================\n"
     ]
    },
    {
     "name": "stderr",
     "output_type": "stream",
     "text": [
      " 10%|█         | 10/100 [01:46<15:57, 10.64s/it]"
     ]
    },
    {
     "name": "stdout",
     "output_type": "stream",
     "text": [
      "=================================\n",
      "Initial portfolio value:100000\n",
      "Final portfolio value: 1360185.125\n",
      "Final accumulative portfolio value: 13.60185125\n",
      "Maximum DrawDown: -0.6926808515513876\n",
      "Sharpe ratio: 0.9276732536182655\n",
      "=================================\n"
     ]
    },
    {
     "name": "stderr",
     "output_type": "stream",
     "text": [
      " 11%|█         | 11/100 [01:57<15:46, 10.64s/it]"
     ]
    },
    {
     "name": "stdout",
     "output_type": "stream",
     "text": [
      "=================================\n",
      "Initial portfolio value:100000\n",
      "Final portfolio value: 1413660.875\n",
      "Final accumulative portfolio value: 14.13660875\n",
      "Maximum DrawDown: -0.6803050188371393\n",
      "Sharpe ratio: 0.9402262021305469\n",
      "=================================\n"
     ]
    },
    {
     "name": "stderr",
     "output_type": "stream",
     "text": [
      " 12%|█▏        | 12/100 [02:07<15:26, 10.53s/it]"
     ]
    },
    {
     "name": "stdout",
     "output_type": "stream",
     "text": [
      "=================================\n",
      "Initial portfolio value:100000\n",
      "Final portfolio value: 1473716.5\n",
      "Final accumulative portfolio value: 14.737165\n",
      "Maximum DrawDown: -0.6572583908426278\n",
      "Sharpe ratio: 0.9603296694451277\n",
      "=================================\n"
     ]
    },
    {
     "name": "stderr",
     "output_type": "stream",
     "text": [
      " 13%|█▎        | 13/100 [02:17<15:07, 10.44s/it]"
     ]
    },
    {
     "name": "stdout",
     "output_type": "stream",
     "text": [
      "=================================\n",
      "Initial portfolio value:100000\n",
      "Final portfolio value: 1549604.125\n",
      "Final accumulative portfolio value: 15.49604125\n",
      "Maximum DrawDown: -0.6415433401570008\n",
      "Sharpe ratio: 0.9737320228742954\n",
      "=================================\n"
     ]
    },
    {
     "name": "stderr",
     "output_type": "stream",
     "text": [
      " 14%|█▍        | 14/100 [02:27<14:51, 10.37s/it]"
     ]
    },
    {
     "name": "stdout",
     "output_type": "stream",
     "text": [
      "=================================\n",
      "Initial portfolio value:100000\n",
      "Final portfolio value: 1618071.25\n",
      "Final accumulative portfolio value: 16.1807125\n",
      "Maximum DrawDown: -0.6283827680548921\n",
      "Sharpe ratio: 0.9851366247619224\n",
      "=================================\n"
     ]
    },
    {
     "name": "stderr",
     "output_type": "stream",
     "text": [
      " 15%|█▌        | 15/100 [02:38<14:37, 10.33s/it]"
     ]
    },
    {
     "name": "stdout",
     "output_type": "stream",
     "text": [
      "=================================\n",
      "Initial portfolio value:100000\n",
      "Final portfolio value: 1739060.375\n",
      "Final accumulative portfolio value: 17.39060375\n",
      "Maximum DrawDown: -0.5899170732715115\n",
      "Sharpe ratio: 1.0232758285812331\n",
      "=================================\n"
     ]
    },
    {
     "name": "stderr",
     "output_type": "stream",
     "text": [
      " 16%|█▌        | 16/100 [02:48<14:33, 10.39s/it]"
     ]
    },
    {
     "name": "stdout",
     "output_type": "stream",
     "text": [
      "=================================\n",
      "Initial portfolio value:100000\n",
      "Final portfolio value: 1804371.125\n",
      "Final accumulative portfolio value: 18.04371125\n",
      "Maximum DrawDown: -0.6002636240853054\n",
      "Sharpe ratio: 1.0240815681705764\n",
      "=================================\n"
     ]
    },
    {
     "name": "stderr",
     "output_type": "stream",
     "text": [
      " 17%|█▋        | 17/100 [02:58<14:22, 10.39s/it]"
     ]
    },
    {
     "name": "stdout",
     "output_type": "stream",
     "text": [
      "=================================\n",
      "Initial portfolio value:100000\n",
      "Final portfolio value: 1933449.625\n",
      "Final accumulative portfolio value: 19.33449625\n",
      "Maximum DrawDown: -0.594419372862425\n",
      "Sharpe ratio: 1.0341773173195372\n",
      "=================================\n"
     ]
    },
    {
     "name": "stderr",
     "output_type": "stream",
     "text": [
      " 18%|█▊        | 18/100 [03:09<14:13, 10.41s/it]"
     ]
    },
    {
     "name": "stdout",
     "output_type": "stream",
     "text": [
      "=================================\n",
      "Initial portfolio value:100000\n",
      "Final portfolio value: 2165114.75\n",
      "Final accumulative portfolio value: 21.6511475\n",
      "Maximum DrawDown: -0.5234417054459508\n",
      "Sharpe ratio: 1.0978777989308839\n",
      "=================================\n"
     ]
    },
    {
     "name": "stderr",
     "output_type": "stream",
     "text": [
      " 19%|█▉        | 19/100 [03:19<13:59, 10.36s/it]"
     ]
    },
    {
     "name": "stdout",
     "output_type": "stream",
     "text": [
      "=================================\n",
      "Initial portfolio value:100000\n",
      "Final portfolio value: 2255224.5\n",
      "Final accumulative portfolio value: 22.552245\n",
      "Maximum DrawDown: -0.48540232720533616\n",
      "Sharpe ratio: 1.1292209120601013\n",
      "=================================\n"
     ]
    },
    {
     "name": "stderr",
     "output_type": "stream",
     "text": [
      " 20%|██        | 20/100 [03:29<13:46, 10.34s/it]"
     ]
    },
    {
     "name": "stdout",
     "output_type": "stream",
     "text": [
      "=================================\n",
      "Initial portfolio value:100000\n",
      "Final portfolio value: 2133089.25\n",
      "Final accumulative portfolio value: 21.3308925\n",
      "Maximum DrawDown: -0.6114401244534086\n",
      "Sharpe ratio: 1.0328943014812544\n",
      "=================================\n"
     ]
    },
    {
     "name": "stderr",
     "output_type": "stream",
     "text": [
      " 21%|██        | 21/100 [03:40<13:32, 10.29s/it]"
     ]
    },
    {
     "name": "stdout",
     "output_type": "stream",
     "text": [
      "=================================\n",
      "Initial portfolio value:100000\n",
      "Final portfolio value: 3142395.5\n",
      "Final accumulative portfolio value: 31.423955\n",
      "Maximum DrawDown: -0.5017207421046745\n",
      "Sharpe ratio: 1.1937550889057165\n",
      "=================================\n"
     ]
    },
    {
     "name": "stderr",
     "output_type": "stream",
     "text": [
      " 22%|██▏       | 22/100 [03:50<13:20, 10.27s/it]"
     ]
    },
    {
     "name": "stdout",
     "output_type": "stream",
     "text": [
      "=================================\n",
      "Initial portfolio value:100000\n",
      "Final portfolio value: 3753174.0\n",
      "Final accumulative portfolio value: 37.53174\n",
      "Maximum DrawDown: -0.5017452798657951\n",
      "Sharpe ratio: 1.2745973144515539\n",
      "=================================\n"
     ]
    },
    {
     "name": "stderr",
     "output_type": "stream",
     "text": [
      " 23%|██▎       | 23/100 [04:00<13:09, 10.25s/it]"
     ]
    },
    {
     "name": "stdout",
     "output_type": "stream",
     "text": [
      "=================================\n",
      "Initial portfolio value:100000\n",
      "Final portfolio value: 3624069.0\n",
      "Final accumulative portfolio value: 36.24069\n",
      "Maximum DrawDown: -0.5006954009256845\n",
      "Sharpe ratio: 1.2717061777950212\n",
      "=================================\n"
     ]
    },
    {
     "name": "stderr",
     "output_type": "stream",
     "text": [
      " 24%|██▍       | 24/100 [04:10<12:58, 10.25s/it]"
     ]
    },
    {
     "name": "stdout",
     "output_type": "stream",
     "text": [
      "=================================\n",
      "Initial portfolio value:100000\n",
      "Final portfolio value: 3617634.25\n",
      "Final accumulative portfolio value: 36.1763425\n",
      "Maximum DrawDown: -0.5026378070257866\n",
      "Sharpe ratio: 1.2459044040831349\n",
      "=================================\n"
     ]
    },
    {
     "name": "stderr",
     "output_type": "stream",
     "text": [
      " 25%|██▌       | 25/100 [04:21<12:47, 10.24s/it]"
     ]
    },
    {
     "name": "stdout",
     "output_type": "stream",
     "text": [
      "=================================\n",
      "Initial portfolio value:100000\n",
      "Final portfolio value: 4433953.5\n",
      "Final accumulative portfolio value: 44.339535\n",
      "Maximum DrawDown: -0.5086206991650306\n",
      "Sharpe ratio: 1.2922350423772555\n",
      "=================================\n"
     ]
    },
    {
     "name": "stderr",
     "output_type": "stream",
     "text": [
      " 26%|██▌       | 26/100 [04:31<12:39, 10.27s/it]"
     ]
    },
    {
     "name": "stdout",
     "output_type": "stream",
     "text": [
      "=================================\n",
      "Initial portfolio value:100000\n",
      "Final portfolio value: 4170457.5\n",
      "Final accumulative portfolio value: 41.704575\n",
      "Maximum DrawDown: -0.5037725153719643\n",
      "Sharpe ratio: 1.2905525994976503\n",
      "=================================\n"
     ]
    },
    {
     "name": "stderr",
     "output_type": "stream",
     "text": [
      " 27%|██▋       | 27/100 [04:41<12:28, 10.25s/it]"
     ]
    },
    {
     "name": "stdout",
     "output_type": "stream",
     "text": [
      "=================================\n",
      "Initial portfolio value:100000\n",
      "Final portfolio value: 2076708.5\n",
      "Final accumulative portfolio value: 20.767085\n",
      "Maximum DrawDown: -0.43919697389648615\n",
      "Sharpe ratio: 1.1390964715646528\n",
      "=================================\n"
     ]
    },
    {
     "name": "stderr",
     "output_type": "stream",
     "text": [
      " 28%|██▊       | 28/100 [04:51<12:16, 10.23s/it]"
     ]
    },
    {
     "name": "stdout",
     "output_type": "stream",
     "text": [
      "=================================\n",
      "Initial portfolio value:100000\n",
      "Final portfolio value: 1879657.75\n",
      "Final accumulative portfolio value: 18.7965775\n",
      "Maximum DrawDown: -0.5934069817197809\n",
      "Sharpe ratio: 0.9859708213632932\n",
      "=================================\n"
     ]
    },
    {
     "name": "stderr",
     "output_type": "stream",
     "text": [
      " 29%|██▉       | 29/100 [05:01<12:05, 10.22s/it]"
     ]
    },
    {
     "name": "stdout",
     "output_type": "stream",
     "text": [
      "=================================\n",
      "Initial portfolio value:100000\n",
      "Final portfolio value: 2330833.5\n",
      "Final accumulative portfolio value: 23.308335\n",
      "Maximum DrawDown: -0.6160288775977893\n",
      "Sharpe ratio: 1.0143564822934215\n",
      "=================================\n"
     ]
    },
    {
     "name": "stderr",
     "output_type": "stream",
     "text": [
      " 30%|███       | 30/100 [05:12<11:55, 10.22s/it]"
     ]
    },
    {
     "name": "stdout",
     "output_type": "stream",
     "text": [
      "=================================\n",
      "Initial portfolio value:100000\n",
      "Final portfolio value: 3286868.75\n",
      "Final accumulative portfolio value: 32.8686875\n",
      "Maximum DrawDown: -0.5099393075626102\n",
      "Sharpe ratio: 1.1505590311515992\n",
      "=================================\n"
     ]
    },
    {
     "name": "stderr",
     "output_type": "stream",
     "text": [
      " 31%|███       | 31/100 [05:22<11:45, 10.22s/it]"
     ]
    },
    {
     "name": "stdout",
     "output_type": "stream",
     "text": [
      "=================================\n",
      "Initial portfolio value:100000\n",
      "Final portfolio value: 4888323.5\n",
      "Final accumulative portfolio value: 48.883235\n",
      "Maximum DrawDown: -0.5106167724630635\n",
      "Sharpe ratio: 1.272440154304062\n",
      "=================================\n"
     ]
    },
    {
     "name": "stderr",
     "output_type": "stream",
     "text": [
      " 32%|███▏      | 32/100 [05:32<11:34, 10.22s/it]"
     ]
    },
    {
     "name": "stdout",
     "output_type": "stream",
     "text": [
      "=================================\n",
      "Initial portfolio value:100000\n",
      "Final portfolio value: 4500210.0\n",
      "Final accumulative portfolio value: 45.0021\n",
      "Maximum DrawDown: -0.5038421142113874\n",
      "Sharpe ratio: 1.258812169903965\n",
      "=================================\n"
     ]
    },
    {
     "name": "stderr",
     "output_type": "stream",
     "text": [
      " 33%|███▎      | 33/100 [05:42<11:24, 10.22s/it]"
     ]
    },
    {
     "name": "stdout",
     "output_type": "stream",
     "text": [
      "=================================\n",
      "Initial portfolio value:100000\n",
      "Final portfolio value: 921716.0\n",
      "Final accumulative portfolio value: 9.21716\n",
      "Maximum DrawDown: -0.8077702795222494\n",
      "Sharpe ratio: 0.7349947885804826\n",
      "=================================\n"
     ]
    },
    {
     "name": "stderr",
     "output_type": "stream",
     "text": [
      " 34%|███▍      | 34/100 [05:53<11:14, 10.22s/it]"
     ]
    },
    {
     "name": "stdout",
     "output_type": "stream",
     "text": [
      "=================================\n",
      "Initial portfolio value:100000\n",
      "Final portfolio value: 2418426.75\n",
      "Final accumulative portfolio value: 24.1842675\n",
      "Maximum DrawDown: -0.4234236750551208\n",
      "Sharpe ratio: 1.1007803271266237\n",
      "=================================\n"
     ]
    },
    {
     "name": "stderr",
     "output_type": "stream",
     "text": [
      " 35%|███▌      | 35/100 [06:03<11:05, 10.23s/it]"
     ]
    },
    {
     "name": "stdout",
     "output_type": "stream",
     "text": [
      "=================================\n",
      "Initial portfolio value:100000\n",
      "Final portfolio value: 852767.0625\n",
      "Final accumulative portfolio value: 8.527670625\n",
      "Maximum DrawDown: -0.5139923899111658\n",
      "Sharpe ratio: 0.8601177425433769\n",
      "=================================\n"
     ]
    },
    {
     "name": "stderr",
     "output_type": "stream",
     "text": [
      " 36%|███▌      | 36/100 [06:13<10:54, 10.23s/it]"
     ]
    },
    {
     "name": "stdout",
     "output_type": "stream",
     "text": [
      "=================================\n",
      "Initial portfolio value:100000\n",
      "Final portfolio value: 3241300.0\n",
      "Final accumulative portfolio value: 32.413\n",
      "Maximum DrawDown: -0.5083771018412213\n",
      "Sharpe ratio: 1.150069492489499\n",
      "=================================\n"
     ]
    },
    {
     "name": "stderr",
     "output_type": "stream",
     "text": [
      " 37%|███▋      | 37/100 [06:23<10:45, 10.25s/it]"
     ]
    },
    {
     "name": "stdout",
     "output_type": "stream",
     "text": [
      "=================================\n",
      "Initial portfolio value:100000\n",
      "Final portfolio value: 3116601.25\n",
      "Final accumulative portfolio value: 31.1660125\n",
      "Maximum DrawDown: -0.5044080787234608\n",
      "Sharpe ratio: 1.1239912711137836\n",
      "=================================\n"
     ]
    },
    {
     "name": "stderr",
     "output_type": "stream",
     "text": [
      " 38%|███▊      | 38/100 [06:34<10:37, 10.29s/it]"
     ]
    },
    {
     "name": "stdout",
     "output_type": "stream",
     "text": [
      "=================================\n",
      "Initial portfolio value:100000\n",
      "Final portfolio value: 3353230.75\n",
      "Final accumulative portfolio value: 33.5323075\n",
      "Maximum DrawDown: -0.5192190711206818\n",
      "Sharpe ratio: 1.1313496302805046\n",
      "=================================\n"
     ]
    },
    {
     "name": "stderr",
     "output_type": "stream",
     "text": [
      " 39%|███▉      | 39/100 [06:44<10:26, 10.28s/it]"
     ]
    },
    {
     "name": "stdout",
     "output_type": "stream",
     "text": [
      "=================================\n",
      "Initial portfolio value:100000\n",
      "Final portfolio value: 5152701.0\n",
      "Final accumulative portfolio value: 51.52701\n",
      "Maximum DrawDown: -0.511293663108873\n",
      "Sharpe ratio: 1.2737150194025126\n",
      "=================================\n"
     ]
    },
    {
     "name": "stderr",
     "output_type": "stream",
     "text": [
      " 40%|████      | 40/100 [06:54<10:15, 10.26s/it]"
     ]
    },
    {
     "name": "stdout",
     "output_type": "stream",
     "text": [
      "=================================\n",
      "Initial portfolio value:100000\n",
      "Final portfolio value: 6345311.0\n",
      "Final accumulative portfolio value: 63.45311\n",
      "Maximum DrawDown: -0.5110022778310416\n",
      "Sharpe ratio: 1.3301685737578828\n",
      "=================================\n"
     ]
    },
    {
     "name": "stderr",
     "output_type": "stream",
     "text": [
      " 41%|████      | 41/100 [07:04<10:04, 10.25s/it]"
     ]
    },
    {
     "name": "stdout",
     "output_type": "stream",
     "text": [
      "=================================\n",
      "Initial portfolio value:100000\n",
      "Final portfolio value: 2817607.75\n",
      "Final accumulative portfolio value: 28.1760775\n",
      "Maximum DrawDown: -0.40470606441874835\n",
      "Sharpe ratio: 1.1825073196507403\n",
      "=================================\n"
     ]
    },
    {
     "name": "stderr",
     "output_type": "stream",
     "text": [
      " 42%|████▏     | 42/100 [07:15<09:54, 10.24s/it]"
     ]
    },
    {
     "name": "stdout",
     "output_type": "stream",
     "text": [
      "=================================\n",
      "Initial portfolio value:100000\n",
      "Final portfolio value: 6033159.5\n",
      "Final accumulative portfolio value: 60.331595\n",
      "Maximum DrawDown: -0.5087997910757843\n",
      "Sharpe ratio: 1.3302093508695545\n",
      "=================================\n"
     ]
    },
    {
     "name": "stderr",
     "output_type": "stream",
     "text": [
      " 43%|████▎     | 43/100 [07:25<09:43, 10.24s/it]"
     ]
    },
    {
     "name": "stdout",
     "output_type": "stream",
     "text": [
      "=================================\n",
      "Initial portfolio value:100000\n",
      "Final portfolio value: 7235968.0\n",
      "Final accumulative portfolio value: 72.35968\n",
      "Maximum DrawDown: -0.5081283356240118\n",
      "Sharpe ratio: 1.3574357584151906\n",
      "=================================\n"
     ]
    },
    {
     "name": "stderr",
     "output_type": "stream",
     "text": [
      " 44%|████▍     | 44/100 [07:35<09:33, 10.24s/it]"
     ]
    },
    {
     "name": "stdout",
     "output_type": "stream",
     "text": [
      "=================================\n",
      "Initial portfolio value:100000\n",
      "Final portfolio value: 5847390.0\n",
      "Final accumulative portfolio value: 58.4739\n",
      "Maximum DrawDown: -0.5064088726924845\n",
      "Sharpe ratio: 1.2793029189961922\n",
      "=================================\n"
     ]
    },
    {
     "name": "stderr",
     "output_type": "stream",
     "text": [
      " 45%|████▌     | 45/100 [07:45<09:22, 10.23s/it]"
     ]
    },
    {
     "name": "stdout",
     "output_type": "stream",
     "text": [
      "=================================\n",
      "Initial portfolio value:100000\n",
      "Final portfolio value: 1274030.5\n",
      "Final accumulative portfolio value: 12.740305\n",
      "Maximum DrawDown: -0.7977807897799527\n",
      "Sharpe ratio: 0.8094652791246822\n",
      "=================================\n"
     ]
    },
    {
     "name": "stderr",
     "output_type": "stream",
     "text": [
      " 46%|████▌     | 46/100 [07:56<09:12, 10.23s/it]"
     ]
    },
    {
     "name": "stdout",
     "output_type": "stream",
     "text": [
      "=================================\n",
      "Initial portfolio value:100000\n",
      "Final portfolio value: 5832197.0\n",
      "Final accumulative portfolio value: 58.32197\n",
      "Maximum DrawDown: -0.5106864544371674\n",
      "Sharpe ratio: 1.2753286837652527\n",
      "=================================\n"
     ]
    },
    {
     "name": "stderr",
     "output_type": "stream",
     "text": [
      " 47%|████▋     | 47/100 [08:06<09:02, 10.23s/it]"
     ]
    },
    {
     "name": "stdout",
     "output_type": "stream",
     "text": [
      "=================================\n",
      "Initial portfolio value:100000\n",
      "Final portfolio value: 6521445.5\n",
      "Final accumulative portfolio value: 65.214455\n",
      "Maximum DrawDown: -0.5076793161312887\n",
      "Sharpe ratio: 1.296341278890175\n",
      "=================================\n"
     ]
    },
    {
     "name": "stderr",
     "output_type": "stream",
     "text": [
      " 48%|████▊     | 48/100 [08:16<08:51, 10.23s/it]"
     ]
    },
    {
     "name": "stdout",
     "output_type": "stream",
     "text": [
      "=================================\n",
      "Initial portfolio value:100000\n",
      "Final portfolio value: 4248262.0\n",
      "Final accumulative portfolio value: 42.48262\n",
      "Maximum DrawDown: -0.48204104568597694\n",
      "Sharpe ratio: 1.2282997925763464\n",
      "=================================\n"
     ]
    },
    {
     "name": "stderr",
     "output_type": "stream",
     "text": [
      " 49%|████▉     | 49/100 [08:26<08:41, 10.23s/it]"
     ]
    },
    {
     "name": "stdout",
     "output_type": "stream",
     "text": [
      "=================================\n",
      "Initial portfolio value:100000\n",
      "Final portfolio value: 2243932.0\n",
      "Final accumulative portfolio value: 22.43932\n",
      "Maximum DrawDown: -0.4740336568198398\n",
      "Sharpe ratio: 1.078160233035025\n",
      "=================================\n"
     ]
    },
    {
     "name": "stderr",
     "output_type": "stream",
     "text": [
      " 50%|█████     | 50/100 [08:36<08:30, 10.22s/it]"
     ]
    },
    {
     "name": "stdout",
     "output_type": "stream",
     "text": [
      "=================================\n",
      "Initial portfolio value:100000\n",
      "Final portfolio value: 4487073.5\n",
      "Final accumulative portfolio value: 44.870735\n",
      "Maximum DrawDown: -0.5111607520314516\n",
      "Sharpe ratio: 1.1931264201682694\n",
      "=================================\n"
     ]
    },
    {
     "name": "stderr",
     "output_type": "stream",
     "text": [
      " 51%|█████     | 51/100 [08:47<08:20, 10.21s/it]"
     ]
    },
    {
     "name": "stdout",
     "output_type": "stream",
     "text": [
      "=================================\n",
      "Initial portfolio value:100000\n",
      "Final portfolio value: 6579533.5\n",
      "Final accumulative portfolio value: 65.795335\n",
      "Maximum DrawDown: -0.5072891640109862\n",
      "Sharpe ratio: 1.3010692127038959\n",
      "=================================\n"
     ]
    },
    {
     "name": "stderr",
     "output_type": "stream",
     "text": [
      " 52%|█████▏    | 52/100 [08:57<08:13, 10.28s/it]"
     ]
    },
    {
     "name": "stdout",
     "output_type": "stream",
     "text": [
      "=================================\n",
      "Initial portfolio value:100000\n",
      "Final portfolio value: 9149824.0\n",
      "Final accumulative portfolio value: 91.49824\n",
      "Maximum DrawDown: -0.5106388367501361\n",
      "Sharpe ratio: 1.3717426158917236\n",
      "=================================\n"
     ]
    },
    {
     "name": "stderr",
     "output_type": "stream",
     "text": [
      " 53%|█████▎    | 53/100 [09:07<08:02, 10.27s/it]"
     ]
    },
    {
     "name": "stdout",
     "output_type": "stream",
     "text": [
      "=================================\n",
      "Initial portfolio value:100000\n",
      "Final portfolio value: 7813280.0\n",
      "Final accumulative portfolio value: 78.1328\n",
      "Maximum DrawDown: -0.5115494355394927\n",
      "Sharpe ratio: 1.3154248746769532\n",
      "=================================\n"
     ]
    },
    {
     "name": "stderr",
     "output_type": "stream",
     "text": [
      " 54%|█████▍    | 54/100 [09:17<07:51, 10.25s/it]"
     ]
    },
    {
     "name": "stdout",
     "output_type": "stream",
     "text": [
      "=================================\n",
      "Initial portfolio value:100000\n",
      "Final portfolio value: 8194116.5\n",
      "Final accumulative portfolio value: 81.941165\n",
      "Maximum DrawDown: -0.5095651433777264\n",
      "Sharpe ratio: 1.3358985751490093\n",
      "=================================\n"
     ]
    },
    {
     "name": "stderr",
     "output_type": "stream",
     "text": [
      " 55%|█████▌    | 55/100 [09:28<07:40, 10.24s/it]"
     ]
    },
    {
     "name": "stdout",
     "output_type": "stream",
     "text": [
      "=================================\n",
      "Initial portfolio value:100000\n",
      "Final portfolio value: 8881031.0\n",
      "Final accumulative portfolio value: 88.81031\n",
      "Maximum DrawDown: -0.5100218355643626\n",
      "Sharpe ratio: 1.3668138808648116\n",
      "=================================\n"
     ]
    },
    {
     "name": "stderr",
     "output_type": "stream",
     "text": [
      " 56%|█████▌    | 56/100 [09:39<07:41, 10.49s/it]"
     ]
    },
    {
     "name": "stdout",
     "output_type": "stream",
     "text": [
      "=================================\n",
      "Initial portfolio value:100000\n",
      "Final portfolio value: 9343926.0\n",
      "Final accumulative portfolio value: 93.43926\n",
      "Maximum DrawDown: -0.5107106866019182\n",
      "Sharpe ratio: 1.3725039271623514\n",
      "=================================\n"
     ]
    },
    {
     "name": "stderr",
     "output_type": "stream",
     "text": [
      " 57%|█████▋    | 57/100 [09:49<07:28, 10.44s/it]"
     ]
    },
    {
     "name": "stdout",
     "output_type": "stream",
     "text": [
      "=================================\n",
      "Initial portfolio value:100000\n",
      "Final portfolio value: 9344667.0\n",
      "Final accumulative portfolio value: 93.44667\n",
      "Maximum DrawDown: -0.5118208006617657\n",
      "Sharpe ratio: 1.3492849972908052\n",
      "=================================\n"
     ]
    },
    {
     "name": "stderr",
     "output_type": "stream",
     "text": [
      " 58%|█████▊    | 58/100 [09:59<07:16, 10.39s/it]"
     ]
    },
    {
     "name": "stdout",
     "output_type": "stream",
     "text": [
      "=================================\n",
      "Initial portfolio value:100000\n",
      "Final portfolio value: 3481675.25\n",
      "Final accumulative portfolio value: 34.8167525\n",
      "Maximum DrawDown: -0.4512280559539219\n",
      "Sharpe ratio: 1.1683965864244095\n",
      "=================================\n"
     ]
    },
    {
     "name": "stderr",
     "output_type": "stream",
     "text": [
      " 59%|█████▉    | 59/100 [10:10<07:04, 10.35s/it]"
     ]
    },
    {
     "name": "stdout",
     "output_type": "stream",
     "text": [
      "=================================\n",
      "Initial portfolio value:100000\n",
      "Final portfolio value: 8847598.0\n",
      "Final accumulative portfolio value: 88.47598\n",
      "Maximum DrawDown: -0.5089404480847988\n",
      "Sharpe ratio: 1.3733312772564283\n",
      "=================================\n"
     ]
    },
    {
     "name": "stderr",
     "output_type": "stream",
     "text": [
      " 60%|██████    | 60/100 [10:20<06:52, 10.31s/it]"
     ]
    },
    {
     "name": "stdout",
     "output_type": "stream",
     "text": [
      "=================================\n",
      "Initial portfolio value:100000\n",
      "Final portfolio value: 8162783.5\n",
      "Final accumulative portfolio value: 81.627835\n",
      "Maximum DrawDown: -0.506196797341947\n",
      "Sharpe ratio: 1.3441981831752803\n",
      "=================================\n"
     ]
    },
    {
     "name": "stderr",
     "output_type": "stream",
     "text": [
      " 61%|██████    | 61/100 [10:30<06:41, 10.29s/it]"
     ]
    },
    {
     "name": "stdout",
     "output_type": "stream",
     "text": [
      "=================================\n",
      "Initial portfolio value:100000\n",
      "Final portfolio value: 11242919.0\n",
      "Final accumulative portfolio value: 112.42919\n",
      "Maximum DrawDown: -0.5117068660772539\n",
      "Sharpe ratio: 1.394076437551972\n",
      "=================================\n"
     ]
    },
    {
     "name": "stderr",
     "output_type": "stream",
     "text": [
      " 62%|██████▏   | 62/100 [10:40<06:30, 10.28s/it]"
     ]
    },
    {
     "name": "stdout",
     "output_type": "stream",
     "text": [
      "=================================\n",
      "Initial portfolio value:100000\n",
      "Final portfolio value: 8927592.0\n",
      "Final accumulative portfolio value: 89.27592\n",
      "Maximum DrawDown: -0.5113436701375962\n",
      "Sharpe ratio: 1.3504877675612423\n",
      "=================================\n"
     ]
    },
    {
     "name": "stderr",
     "output_type": "stream",
     "text": [
      " 63%|██████▎   | 63/100 [10:51<06:21, 10.31s/it]"
     ]
    },
    {
     "name": "stdout",
     "output_type": "stream",
     "text": [
      "=================================\n",
      "Initial portfolio value:100000\n",
      "Final portfolio value: 11350131.0\n",
      "Final accumulative portfolio value: 113.50131\n",
      "Maximum DrawDown: -0.5119099302907428\n",
      "Sharpe ratio: 1.4011794185465498\n",
      "=================================\n"
     ]
    },
    {
     "name": "stderr",
     "output_type": "stream",
     "text": [
      " 64%|██████▍   | 64/100 [11:01<06:10, 10.29s/it]"
     ]
    },
    {
     "name": "stdout",
     "output_type": "stream",
     "text": [
      "=================================\n",
      "Initial portfolio value:100000\n",
      "Final portfolio value: 7437594.0\n",
      "Final accumulative portfolio value: 74.37594\n",
      "Maximum DrawDown: -0.5119871281887227\n",
      "Sharpe ratio: 1.2970907774758442\n",
      "=================================\n"
     ]
    },
    {
     "name": "stderr",
     "output_type": "stream",
     "text": [
      " 65%|██████▌   | 65/100 [11:11<05:59, 10.27s/it]"
     ]
    },
    {
     "name": "stdout",
     "output_type": "stream",
     "text": [
      "=================================\n",
      "Initial portfolio value:100000\n",
      "Final portfolio value: 6514498.5\n",
      "Final accumulative portfolio value: 65.144985\n",
      "Maximum DrawDown: -0.5110132784939635\n",
      "Sharpe ratio: 1.310976100746353\n",
      "=================================\n"
     ]
    },
    {
     "name": "stderr",
     "output_type": "stream",
     "text": [
      " 66%|██████▌   | 66/100 [11:21<05:48, 10.25s/it]"
     ]
    },
    {
     "name": "stdout",
     "output_type": "stream",
     "text": [
      "=================================\n",
      "Initial portfolio value:100000\n",
      "Final portfolio value: 4210223.0\n",
      "Final accumulative portfolio value: 42.10223\n",
      "Maximum DrawDown: -0.5063625299603487\n",
      "Sharpe ratio: 1.176328818071984\n",
      "=================================\n"
     ]
    },
    {
     "name": "stderr",
     "output_type": "stream",
     "text": [
      " 67%|██████▋   | 67/100 [11:32<05:38, 10.25s/it]"
     ]
    },
    {
     "name": "stdout",
     "output_type": "stream",
     "text": [
      "=================================\n",
      "Initial portfolio value:100000\n",
      "Final portfolio value: 7561461.5\n",
      "Final accumulative portfolio value: 75.614615\n",
      "Maximum DrawDown: -0.5118570848307942\n",
      "Sharpe ratio: 1.2980764353893788\n",
      "=================================\n"
     ]
    },
    {
     "name": "stderr",
     "output_type": "stream",
     "text": [
      " 68%|██████▊   | 68/100 [11:42<05:28, 10.26s/it]"
     ]
    },
    {
     "name": "stdout",
     "output_type": "stream",
     "text": [
      "=================================\n",
      "Initial portfolio value:100000\n",
      "Final portfolio value: 5472479.5\n",
      "Final accumulative portfolio value: 54.724795\n",
      "Maximum DrawDown: -0.4910834690220647\n",
      "Sharpe ratio: 1.2368061226354148\n",
      "=================================\n"
     ]
    },
    {
     "name": "stderr",
     "output_type": "stream",
     "text": [
      " 69%|██████▉   | 69/100 [11:52<05:17, 10.25s/it]"
     ]
    },
    {
     "name": "stdout",
     "output_type": "stream",
     "text": [
      "=================================\n",
      "Initial portfolio value:100000\n",
      "Final portfolio value: 1970689.375\n",
      "Final accumulative portfolio value: 19.70689375\n",
      "Maximum DrawDown: -0.7107867119336212\n",
      "Sharpe ratio: 0.9210199402582322\n",
      "=================================\n"
     ]
    },
    {
     "name": "stderr",
     "output_type": "stream",
     "text": [
      " 70%|███████   | 70/100 [12:03<05:12, 10.41s/it]"
     ]
    },
    {
     "name": "stdout",
     "output_type": "stream",
     "text": [
      "=================================\n",
      "Initial portfolio value:100000\n",
      "Final portfolio value: 5535849.0\n",
      "Final accumulative portfolio value: 55.35849\n",
      "Maximum DrawDown: -0.5119685353913854\n",
      "Sharpe ratio: 1.231067954792259\n",
      "=================================\n"
     ]
    },
    {
     "name": "stderr",
     "output_type": "stream",
     "text": [
      " 71%|███████   | 71/100 [12:14<05:05, 10.52s/it]"
     ]
    },
    {
     "name": "stdout",
     "output_type": "stream",
     "text": [
      "=================================\n",
      "Initial portfolio value:100000\n",
      "Final portfolio value: 4431356.0\n",
      "Final accumulative portfolio value: 44.31356\n",
      "Maximum DrawDown: -0.5488382701004637\n",
      "Sharpe ratio: 1.1313192755938952\n",
      "=================================\n"
     ]
    },
    {
     "name": "stderr",
     "output_type": "stream",
     "text": [
      " 72%|███████▏  | 72/100 [12:24<04:52, 10.45s/it]"
     ]
    },
    {
     "name": "stdout",
     "output_type": "stream",
     "text": [
      "=================================\n",
      "Initial portfolio value:100000\n",
      "Final portfolio value: 6392400.5\n",
      "Final accumulative portfolio value: 63.924005\n",
      "Maximum DrawDown: -0.5060515870921989\n",
      "Sharpe ratio: 1.262964080618495\n",
      "=================================\n"
     ]
    },
    {
     "name": "stderr",
     "output_type": "stream",
     "text": [
      " 73%|███████▎  | 73/100 [12:34<04:40, 10.39s/it]"
     ]
    },
    {
     "name": "stdout",
     "output_type": "stream",
     "text": [
      "=================================\n",
      "Initial portfolio value:100000\n",
      "Final portfolio value: 3485253.0\n",
      "Final accumulative portfolio value: 34.85253\n",
      "Maximum DrawDown: -0.7627936264934245\n",
      "Sharpe ratio: 0.9868054489192802\n",
      "=================================\n"
     ]
    },
    {
     "name": "stderr",
     "output_type": "stream",
     "text": [
      " 74%|███████▍  | 74/100 [12:45<04:29, 10.35s/it]"
     ]
    },
    {
     "name": "stdout",
     "output_type": "stream",
     "text": [
      "=================================\n",
      "Initial portfolio value:100000\n",
      "Final portfolio value: 928380.0\n",
      "Final accumulative portfolio value: 9.2838\n",
      "Maximum DrawDown: -0.8490132354928954\n",
      "Sharpe ratio: 0.7218481553985696\n",
      "=================================\n"
     ]
    },
    {
     "name": "stderr",
     "output_type": "stream",
     "text": [
      " 75%|███████▌  | 75/100 [12:55<04:18, 10.32s/it]"
     ]
    },
    {
     "name": "stdout",
     "output_type": "stream",
     "text": [
      "=================================\n",
      "Initial portfolio value:100000\n",
      "Final portfolio value: 5878424.5\n",
      "Final accumulative portfolio value: 58.784245\n",
      "Maximum DrawDown: -0.5092541996015958\n",
      "Sharpe ratio: 1.2576530883699208\n",
      "=================================\n"
     ]
    },
    {
     "name": "stderr",
     "output_type": "stream",
     "text": [
      " 76%|███████▌  | 76/100 [13:05<04:07, 10.30s/it]"
     ]
    },
    {
     "name": "stdout",
     "output_type": "stream",
     "text": [
      "=================================\n",
      "Initial portfolio value:100000\n",
      "Final portfolio value: 4979882.0\n",
      "Final accumulative portfolio value: 49.79882\n",
      "Maximum DrawDown: -0.5111659795959466\n",
      "Sharpe ratio: 1.2093967284361855\n",
      "=================================\n"
     ]
    },
    {
     "name": "stderr",
     "output_type": "stream",
     "text": [
      " 77%|███████▋  | 77/100 [13:15<03:56, 10.28s/it]"
     ]
    },
    {
     "name": "stdout",
     "output_type": "stream",
     "text": [
      "=================================\n",
      "Initial portfolio value:100000\n",
      "Final portfolio value: 6913146.5\n",
      "Final accumulative portfolio value: 69.131465\n",
      "Maximum DrawDown: -0.5047482517012268\n",
      "Sharpe ratio: 1.2959945531647052\n",
      "=================================\n"
     ]
    },
    {
     "name": "stderr",
     "output_type": "stream",
     "text": [
      " 78%|███████▊  | 78/100 [13:26<03:46, 10.28s/it]"
     ]
    },
    {
     "name": "stdout",
     "output_type": "stream",
     "text": [
      "=================================\n",
      "Initial portfolio value:100000\n",
      "Final portfolio value: 5754350.5\n",
      "Final accumulative portfolio value: 57.543505\n",
      "Maximum DrawDown: -0.5223324251390764\n",
      "Sharpe ratio: 1.2212664916224794\n",
      "=================================\n"
     ]
    },
    {
     "name": "stderr",
     "output_type": "stream",
     "text": [
      " 79%|███████▉  | 79/100 [13:36<03:35, 10.27s/it]"
     ]
    },
    {
     "name": "stdout",
     "output_type": "stream",
     "text": [
      "=================================\n",
      "Initial portfolio value:100000\n",
      "Final portfolio value: 10939071.0\n",
      "Final accumulative portfolio value: 109.39071\n",
      "Maximum DrawDown: -0.5117975378288713\n",
      "Sharpe ratio: 1.4028134347647376\n",
      "=================================\n"
     ]
    },
    {
     "name": "stderr",
     "output_type": "stream",
     "text": [
      " 80%|████████  | 80/100 [13:46<03:25, 10.26s/it]"
     ]
    },
    {
     "name": "stdout",
     "output_type": "stream",
     "text": [
      "=================================\n",
      "Initial portfolio value:100000\n",
      "Final portfolio value: 12946630.0\n",
      "Final accumulative portfolio value: 129.4663\n",
      "Maximum DrawDown: -0.5117785323300408\n",
      "Sharpe ratio: 1.446904417645501\n",
      "=================================\n"
     ]
    },
    {
     "name": "stderr",
     "output_type": "stream",
     "text": [
      " 81%|████████  | 81/100 [13:56<03:14, 10.25s/it]"
     ]
    },
    {
     "name": "stdout",
     "output_type": "stream",
     "text": [
      "=================================\n",
      "Initial portfolio value:100000\n",
      "Final portfolio value: 13255027.0\n",
      "Final accumulative portfolio value: 132.55027\n",
      "Maximum DrawDown: -0.5119776427096587\n",
      "Sharpe ratio: 1.4387944329904019\n",
      "=================================\n"
     ]
    },
    {
     "name": "stderr",
     "output_type": "stream",
     "text": [
      " 82%|████████▏ | 82/100 [14:06<03:04, 10.24s/it]"
     ]
    },
    {
     "name": "stdout",
     "output_type": "stream",
     "text": [
      "=================================\n",
      "Initial portfolio value:100000\n",
      "Final portfolio value: 3662654.75\n",
      "Final accumulative portfolio value: 36.6265475\n",
      "Maximum DrawDown: -0.44796121024564794\n",
      "Sharpe ratio: 1.1638378940918979\n",
      "=================================\n"
     ]
    },
    {
     "name": "stderr",
     "output_type": "stream",
     "text": [
      " 83%|████████▎ | 83/100 [14:17<02:54, 10.25s/it]"
     ]
    },
    {
     "name": "stdout",
     "output_type": "stream",
     "text": [
      "=================================\n",
      "Initial portfolio value:100000\n",
      "Final portfolio value: 12147159.0\n",
      "Final accumulative portfolio value: 121.47159\n",
      "Maximum DrawDown: -0.5116052960792911\n",
      "Sharpe ratio: 1.4424773824925303\n",
      "=================================\n"
     ]
    },
    {
     "name": "stderr",
     "output_type": "stream",
     "text": [
      " 84%|████████▍ | 84/100 [14:27<02:44, 10.26s/it]"
     ]
    },
    {
     "name": "stdout",
     "output_type": "stream",
     "text": [
      "=================================\n",
      "Initial portfolio value:100000\n",
      "Final portfolio value: 13951169.0\n",
      "Final accumulative portfolio value: 139.51169\n",
      "Maximum DrawDown: -0.5119025553397146\n",
      "Sharpe ratio: 1.461447631544817\n",
      "=================================\n"
     ]
    },
    {
     "name": "stderr",
     "output_type": "stream",
     "text": [
      " 85%|████████▌ | 85/100 [14:37<02:33, 10.26s/it]"
     ]
    },
    {
     "name": "stdout",
     "output_type": "stream",
     "text": [
      "=================================\n",
      "Initial portfolio value:100000\n",
      "Final portfolio value: 13911146.0\n",
      "Final accumulative portfolio value: 139.11146\n",
      "Maximum DrawDown: -0.511983774510703\n",
      "Sharpe ratio: 1.4352371869708602\n",
      "=================================\n"
     ]
    },
    {
     "name": "stderr",
     "output_type": "stream",
     "text": [
      " 86%|████████▌ | 86/100 [14:48<02:23, 10.25s/it]"
     ]
    },
    {
     "name": "stdout",
     "output_type": "stream",
     "text": [
      "=================================\n",
      "Initial portfolio value:100000\n",
      "Final portfolio value: 5293196.0\n",
      "Final accumulative portfolio value: 52.93196\n",
      "Maximum DrawDown: -0.4447909066141239\n",
      "Sharpe ratio: 1.2494871204436664\n",
      "=================================\n"
     ]
    },
    {
     "name": "stderr",
     "output_type": "stream",
     "text": [
      " 87%|████████▋ | 87/100 [14:58<02:13, 10.26s/it]"
     ]
    },
    {
     "name": "stdout",
     "output_type": "stream",
     "text": [
      "=================================\n",
      "Initial portfolio value:100000\n",
      "Final portfolio value: 7812297.0\n",
      "Final accumulative portfolio value: 78.12297\n",
      "Maximum DrawDown: -0.568702108970212\n",
      "Sharpe ratio: 1.2466859468376015\n",
      "=================================\n"
     ]
    },
    {
     "name": "stderr",
     "output_type": "stream",
     "text": [
      " 88%|████████▊ | 88/100 [15:08<02:03, 10.26s/it]"
     ]
    },
    {
     "name": "stdout",
     "output_type": "stream",
     "text": [
      "=================================\n",
      "Initial portfolio value:100000\n",
      "Final portfolio value: 1412275.375\n",
      "Final accumulative portfolio value: 14.12275375\n",
      "Maximum DrawDown: -0.5409178116567777\n",
      "Sharpe ratio: 0.9077959369676153\n",
      "=================================\n"
     ]
    },
    {
     "name": "stderr",
     "output_type": "stream",
     "text": [
      " 89%|████████▉ | 89/100 [15:18<01:52, 10.26s/it]"
     ]
    },
    {
     "name": "stdout",
     "output_type": "stream",
     "text": [
      "=================================\n",
      "Initial portfolio value:100000\n",
      "Final portfolio value: 356659.5\n",
      "Final accumulative portfolio value: 3.566595\n",
      "Maximum DrawDown: -0.8134372147733144\n",
      "Sharpe ratio: 0.5511027722554263\n",
      "=================================\n"
     ]
    },
    {
     "name": "stderr",
     "output_type": "stream",
     "text": [
      " 90%|█████████ | 90/100 [15:29<01:42, 10.26s/it]"
     ]
    },
    {
     "name": "stdout",
     "output_type": "stream",
     "text": [
      "=================================\n",
      "Initial portfolio value:100000\n",
      "Final portfolio value: 7783098.5\n",
      "Final accumulative portfolio value: 77.830985\n",
      "Maximum DrawDown: -0.6214961310719934\n",
      "Sharpe ratio: 1.223223180299138\n",
      "=================================\n"
     ]
    },
    {
     "name": "stderr",
     "output_type": "stream",
     "text": [
      " 91%|█████████ | 91/100 [15:39<01:32, 10.26s/it]"
     ]
    },
    {
     "name": "stdout",
     "output_type": "stream",
     "text": [
      "=================================\n",
      "Initial portfolio value:100000\n",
      "Final portfolio value: 2567287.5\n",
      "Final accumulative portfolio value: 25.672875\n",
      "Maximum DrawDown: -0.714938082978055\n",
      "Sharpe ratio: 0.9453035672813888\n",
      "=================================\n"
     ]
    },
    {
     "name": "stderr",
     "output_type": "stream",
     "text": [
      " 92%|█████████▏| 92/100 [15:49<01:22, 10.35s/it]"
     ]
    },
    {
     "name": "stdout",
     "output_type": "stream",
     "text": [
      "=================================\n",
      "Initial portfolio value:100000\n",
      "Final portfolio value: 7484918.5\n",
      "Final accumulative portfolio value: 74.849185\n",
      "Maximum DrawDown: -0.5118716251299403\n",
      "Sharpe ratio: 1.3289794635889904\n",
      "=================================\n"
     ]
    },
    {
     "name": "stderr",
     "output_type": "stream",
     "text": [
      " 93%|█████████▎| 93/100 [16:00<01:12, 10.33s/it]"
     ]
    },
    {
     "name": "stdout",
     "output_type": "stream",
     "text": [
      "=================================\n",
      "Initial portfolio value:100000\n",
      "Final portfolio value: 6933438.0\n",
      "Final accumulative portfolio value: 69.33438\n",
      "Maximum DrawDown: -0.5119102747287916\n",
      "Sharpe ratio: 1.2891314111371037\n",
      "=================================\n"
     ]
    },
    {
     "name": "stderr",
     "output_type": "stream",
     "text": [
      " 94%|█████████▍| 94/100 [16:10<01:01, 10.31s/it]"
     ]
    },
    {
     "name": "stdout",
     "output_type": "stream",
     "text": [
      "=================================\n",
      "Initial portfolio value:100000\n",
      "Final portfolio value: 8647800.0\n",
      "Final accumulative portfolio value: 86.478\n",
      "Maximum DrawDown: -0.5119887863715957\n",
      "Sharpe ratio: 1.3343318217050346\n",
      "=================================\n"
     ]
    },
    {
     "name": "stderr",
     "output_type": "stream",
     "text": [
      " 95%|█████████▌| 95/100 [16:22<00:53, 10.69s/it]"
     ]
    },
    {
     "name": "stdout",
     "output_type": "stream",
     "text": [
      "=================================\n",
      "Initial portfolio value:100000\n",
      "Final portfolio value: 14788228.0\n",
      "Final accumulative portfolio value: 147.88228\n",
      "Maximum DrawDown: -0.5119670646497658\n",
      "Sharpe ratio: 1.4574517753298228\n",
      "=================================\n"
     ]
    },
    {
     "name": "stderr",
     "output_type": "stream",
     "text": [
      " 96%|█████████▌| 96/100 [16:32<00:42, 10.59s/it]"
     ]
    },
    {
     "name": "stdout",
     "output_type": "stream",
     "text": [
      "=================================\n",
      "Initial portfolio value:100000\n",
      "Final portfolio value: 13438203.0\n",
      "Final accumulative portfolio value: 134.38203\n",
      "Maximum DrawDown: -0.5117118932891191\n",
      "Sharpe ratio: 1.416557698564733\n",
      "=================================\n"
     ]
    },
    {
     "name": "stderr",
     "output_type": "stream",
     "text": [
      " 97%|█████████▋| 97/100 [16:43<00:31, 10.62s/it]"
     ]
    },
    {
     "name": "stdout",
     "output_type": "stream",
     "text": [
      "=================================\n",
      "Initial portfolio value:100000\n",
      "Final portfolio value: 8650262.0\n",
      "Final accumulative portfolio value: 86.50262\n",
      "Maximum DrawDown: -0.5022698669726755\n",
      "Sharpe ratio: 1.2936038402150978\n",
      "=================================\n"
     ]
    },
    {
     "name": "stderr",
     "output_type": "stream",
     "text": [
      " 98%|█████████▊| 98/100 [16:53<00:21, 10.54s/it]"
     ]
    },
    {
     "name": "stdout",
     "output_type": "stream",
     "text": [
      "=================================\n",
      "Initial portfolio value:100000\n",
      "Final portfolio value: 804800.6875\n",
      "Final accumulative portfolio value: 8.048006875\n",
      "Maximum DrawDown: -0.9335760435926311\n",
      "Sharpe ratio: 0.6478941687049349\n",
      "=================================\n"
     ]
    },
    {
     "name": "stderr",
     "output_type": "stream",
     "text": [
      " 99%|█████████▉| 99/100 [17:03<00:10, 10.49s/it]"
     ]
    },
    {
     "name": "stdout",
     "output_type": "stream",
     "text": [
      "=================================\n",
      "Initial portfolio value:100000\n",
      "Final portfolio value: 1424595.625\n",
      "Final accumulative portfolio value: 14.24595625\n",
      "Maximum DrawDown: -0.8189950417966887\n",
      "Sharpe ratio: 0.8151379391859778\n",
      "=================================\n"
     ]
    },
    {
     "name": "stderr",
     "output_type": "stream",
     "text": [
      "100%|██████████| 100/100 [17:14<00:00, 10.34s/it]\n"
     ]
    },
    {
     "data": {
      "text/plain": [
       "<finrl.agents.portfolio_optimization.algorithms.PolicyGradient at 0x33acdcc10>"
      ]
     },
     "execution_count": 11,
     "metadata": {},
     "output_type": "execute_result"
    }
   ],
   "execution_count": 11
  },
  {
   "metadata": {},
   "cell_type": "markdown",
   "source": "### 至多允许100个episode之后就没有什么变化了",
   "id": "6ad0f8a5763c5ecb"
  },
  {
   "metadata": {},
   "cell_type": "markdown",
   "source": "### Save Model",
   "id": "bfaf3e31ccc340d2"
  },
  {
   "metadata": {
    "ExecuteTime": {
     "end_time": "2024-11-25T13:55:45.312050Z",
     "start_time": "2024-11-25T13:55:45.307083Z"
    }
   },
   "cell_type": "code",
   "source": [
    "model_name = f\"policy_EIIE_episodes{episodes}.pt\"\n",
    "torch.save(model.train_policy.state_dict(), model_name)"
   ],
   "id": "358408fae6e574c3",
   "outputs": [],
   "execution_count": 12
  },
  {
   "metadata": {},
   "cell_type": "markdown",
   "source": "## Test Model",
   "id": "984b3e726c6b68d1"
  },
  {
   "metadata": {},
   "cell_type": "markdown",
   "source": [
    "### Instantiate different environments\n",
    "\n",
    "Since we have three different periods of time, we need three different environments instantiated to simulate them."
   ],
   "id": "f356c20d4b244d25"
  },
  {
   "metadata": {
    "ExecuteTime": {
     "end_time": "2024-11-25T13:55:56.003092Z",
     "start_time": "2024-11-25T13:55:55.977957Z"
    }
   },
   "cell_type": "code",
   "source": [
    "environment_2020 = PortfolioOptimizationEnv(\n",
    "    df_portfolio_2020,\n",
    "    initial_amount=100000,\n",
    "    comission_fee_pct=0.0025,\n",
    "    time_window=50,\n",
    "    features=[\"close\", \"high\", \"low\"],\n",
    "    normalize_df=None\n",
    ")\n",
    "\n",
    "environment_2021 = PortfolioOptimizationEnv(\n",
    "    df_portfolio_2021,\n",
    "    initial_amount=100000,\n",
    "    comission_fee_pct=0.0025,\n",
    "    time_window=50,\n",
    "    features=[\"close\", \"high\", \"low\"],\n",
    "    normalize_df=None\n",
    ")\n",
    "\n",
    "environment_2022 = PortfolioOptimizationEnv(\n",
    "    df_portfolio_2022,\n",
    "    initial_amount=100000,\n",
    "    comission_fee_pct=0.0025,\n",
    "    time_window=50,\n",
    "    features=[\"close\", \"high\", \"low\"],\n",
    "    normalize_df=None\n",
    ")"
   ],
   "id": "7fc8099ae62ddb22",
   "outputs": [],
   "execution_count": 13
  },
  {
   "metadata": {},
   "cell_type": "markdown",
   "source": [
    "### Test EIIE architecture\n",
    "\n",
    "Now, we can test the EIIE architecture in the three different test periods. It's important no note that, in this code, we load the saved policy even though it's not necessary just to show how to save and load your model."
   ],
   "id": "a6a9563328709832"
  },
  {
   "metadata": {
    "ExecuteTime": {
     "end_time": "2024-11-25T13:56:05.313646Z",
     "start_time": "2024-11-25T13:56:00.495979Z"
    }
   },
   "cell_type": "code",
   "source": [
    "EIIE_results = {\n",
    "    \"training\": environment._asset_memory[\"final\"],\n",
    "    \"2020\": {},\n",
    "    \"2021\": {},\n",
    "    \"2022\": {}\n",
    "}\n",
    "\n",
    "# instantiate an architecture with the same arguments used in training\n",
    "# and load with load_state_dict.\n",
    "policy = EIIE(time_window=50, device=device)\n",
    "policy.load_state_dict(torch.load(model_name))\n",
    "\n",
    "# 2020\n",
    "DRLAgent.DRL_validation(model, environment_2020, policy=policy)\n",
    "EIIE_results[\"2020\"][\"value\"] = environment_2020._asset_memory[\"final\"]\n",
    "\n",
    "# 2021\n",
    "DRLAgent.DRL_validation(model, environment_2021, policy=policy)\n",
    "EIIE_results[\"2021\"][\"value\"] = environment_2021._asset_memory[\"final\"]\n",
    "\n",
    "# 2022\n",
    "DRLAgent.DRL_validation(model, environment_2022, policy=policy)\n",
    "EIIE_results[\"2022\"][\"value\"] = environment_2022._asset_memory[\"final\"]"
   ],
   "id": "65587bb25ff1dbef",
   "outputs": [
    {
     "name": "stderr",
     "output_type": "stream",
     "text": [
      "/var/folders/dv/ly5hp_ms3bd9753868lg6c5w0000gn/T/ipykernel_46538/2957330399.py:11: FutureWarning: You are using `torch.load` with `weights_only=False` (the current default value), which uses the default pickle module implicitly. It is possible to construct malicious pickle data which will execute arbitrary code during unpickling (See https://github.com/pytorch/pytorch/blob/main/SECURITY.md#untrusted-models for more details). In a future release, the default value for `weights_only` will be flipped to `True`. This limits the functions that could be executed during unpickling. Arbitrary objects will no longer be allowed to be loaded via this mode unless they are explicitly allowlisted by the user via `torch.serialization.add_safe_globals`. We recommend you start setting `weights_only=True` for any use case where you don't have full control of the loaded file. Please open an issue on GitHub for any issues related to this experimental feature.\n",
      "  policy.load_state_dict(torch.load(model_name))\n"
     ]
    },
    {
     "name": "stdout",
     "output_type": "stream",
     "text": [
      "=================================\n",
      "Initial portfolio value:100000\n",
      "Final portfolio value: 171978.53125\n",
      "Final accumulative portfolio value: 1.7197853125\n",
      "Maximum DrawDown: -0.4780347265625\n",
      "Sharpe ratio: 1.1690057093693893\n",
      "=================================\n",
      "=================================\n",
      "Initial portfolio value:100000\n",
      "Final portfolio value: 99999.9921875\n",
      "Final accumulative portfolio value: 0.999999921875\n",
      "Maximum DrawDown: -1.5625000004959588e-07\n",
      "Sharpe ratio: 0.0\n",
      "=================================\n",
      "=================================\n",
      "Initial portfolio value:100000\n",
      "Final portfolio value: 99999.9765625\n",
      "Final accumulative portfolio value: 0.999999765625\n",
      "Maximum DrawDown: -7.812495727010926e-07\n",
      "Sharpe ratio: -0.2641118743184138\n",
      "=================================\n"
     ]
    }
   ],
   "execution_count": 14
  },
  {
   "metadata": {
    "ExecuteTime": {
     "end_time": "2024-11-25T13:35:07.855037Z",
     "start_time": "2024-11-25T13:35:07.851066Z"
    }
   },
   "cell_type": "code",
   "source": "EIIE_results[\"2021\"][\"value\"]",
   "id": "abe4a69bebee9e8a",
   "outputs": [
    {
     "data": {
      "text/plain": [
       "[100000,\n",
       " 102859.625,\n",
       " 101975.375,\n",
       " 102306.0,\n",
       " 101329.88,\n",
       " 100625.664,\n",
       " 98848.84,\n",
       " 101217.88,\n",
       " 101996.016,\n",
       " 102298.05,\n",
       " 104819.875,\n",
       " 104568.24,\n",
       " 104012.65,\n",
       " 104689.79,\n",
       " 104198.55,\n",
       " 104556.28,\n",
       " 103314.805,\n",
       " 104027.56,\n",
       " 104411.54,\n",
       " 105413.64,\n",
       " 106201.91,\n",
       " 105768.11,\n",
       " 107277.23,\n",
       " 106368.16,\n",
       " 105919.48,\n",
       " 104240.68,\n",
       " 105062.56,\n",
       " 104525.37,\n",
       " 104381.7,\n",
       " 105583.55,\n",
       " 103588.05,\n",
       " 104362.53,\n",
       " 104084.93,\n",
       " 103565.984,\n",
       " 104783.23,\n",
       " 105592.21,\n",
       " 106984.71,\n",
       " 105547.11,\n",
       " 106319.87,\n",
       " 104756.39,\n",
       " 106874.99,\n",
       " 107051.02,\n",
       " 108668.03,\n",
       " 107975.195,\n",
       " 108535.8,\n",
       " 108982.414,\n",
       " 109109.41,\n",
       " 110753.625,\n",
       " 109947.125,\n",
       " 110753.305,\n",
       " 111276.53,\n",
       " 112799.586,\n",
       " 114289.69,\n",
       " 115134.195,\n",
       " 117093.25,\n",
       " 118226.4,\n",
       " 118358.875,\n",
       " 118190.414,\n",
       " 118245.72,\n",
       " 117677.34,\n",
       " 117785.84,\n",
       " 118151.31,\n",
       " 118213.984,\n",
       " 117550.79,\n",
       " 115061.46,\n",
       " 115333.88,\n",
       " 115739.664,\n",
       " 115190.57,\n",
       " 115453.664,\n",
       " 115172.67,\n",
       " 112812.59,\n",
       " 112440.414,\n",
       " 112106.17,\n",
       " 112331.016,\n",
       " 112499.836,\n",
       " 113235.016,\n",
       " 112882.875,\n",
       " 112522.52,\n",
       " 110878.24,\n",
       " 112307.984,\n",
       " 112433.61,\n",
       " 114516.46,\n",
       " 113402.61,\n",
       " 112959.33,\n",
       " 109429.15,\n",
       " 109198.16,\n",
       " 110695.11,\n",
       " 110828.45,\n",
       " 111151.44,\n",
       " 110322.51,\n",
       " 110563.78,\n",
       " 110987.5,\n",
       " 112357.39,\n",
       " 110619.81,\n",
       " 109947.89,\n",
       " 109314.22,\n",
       " 108756.51,\n",
       " 109127.69,\n",
       " 107755.984,\n",
       " 108147.63,\n",
       " 108985.48,\n",
       " 108022.15,\n",
       " 107827.28,\n",
       " 107714.75,\n",
       " 106688.445,\n",
       " 104317.37,\n",
       " 103898.62,\n",
       " 102057.09,\n",
       " 103819.8,\n",
       " 105807.41,\n",
       " 106280.77,\n",
       " 107085.914,\n",
       " 107103.64,\n",
       " 106071.875,\n",
       " 107695.72,\n",
       " 106899.836,\n",
       " 106304.24,\n",
       " 105463.44,\n",
       " 104282.87,\n",
       " 102762.68,\n",
       " 104865.71,\n",
       " 101902.15,\n",
       " 105130.67,\n",
       " 104451.46,\n",
       " 104615.22,\n",
       " 104628.67,\n",
       " 103611.914,\n",
       " 103515.7,\n",
       " 99046.52,\n",
       " 99715.375,\n",
       " 101810.2,\n",
       " 102046.8,\n",
       " 102386.4,\n",
       " 103554.07,\n",
       " 103800.26,\n",
       " 102391.3,\n",
       " 103120.94,\n",
       " 103233.38,\n",
       " 103201.484,\n",
       " 102275.27,\n",
       " 100947.836,\n",
       " 103387.27,\n",
       " 103431.36,\n",
       " 104723.57,\n",
       " 103963.21,\n",
       " 105123.92,\n",
       " 105101.4,\n",
       " 105639.375,\n",
       " 105335.195,\n",
       " 103597.72,\n",
       " 101465.72,\n",
       " 99791.69,\n",
       " 100218.16,\n",
       " 100677.34,\n",
       " 100178.42,\n",
       " 99431.2,\n",
       " 99413.03,\n",
       " 98459.516,\n",
       " 98125.8,\n",
       " 99840.08,\n",
       " 98875.56,\n",
       " 99527.914,\n",
       " 100120.445,\n",
       " 99253.75,\n",
       " 102047.664,\n",
       " 101115.234,\n",
       " 100691.95,\n",
       " 99717.266,\n",
       " 98440.51,\n",
       " 97400.29,\n",
       " 98223.15,\n",
       " 98159.484,\n",
       " 98416.91,\n",
       " 99899.016,\n",
       " 97755.22,\n",
       " 98808.125,\n",
       " 96667.33,\n",
       " 97807.984,\n",
       " 96414.13,\n",
       " 98760.914,\n",
       " 99889.5,\n",
       " 102159.05,\n",
       " 101028.75,\n",
       " 100340.96,\n",
       " 100488.24,\n",
       " 100335.75,\n",
       " 100174.85,\n",
       " 98825.836,\n",
       " 100088.95,\n",
       " 98381.34,\n",
       " 95962.664,\n",
       " 95642.92,\n",
       " 95382.484,\n",
       " 95351.69,\n",
       " 94755.48,\n",
       " 95812.516,\n",
       " 94811.26,\n",
       " 94232.43]"
      ]
     },
     "execution_count": 28,
     "metadata": {},
     "output_type": "execute_result"
    }
   ],
   "execution_count": 28
  },
  {
   "metadata": {},
   "cell_type": "markdown",
   "source": [
    "### Test Uniform Buy and Hold\n",
    "For comparison, we will also test the performance of a uniform buy and hold strategy. In this strategy, the portfolio has no remaining cash and the same percentage of money is allocated in each asset."
   ],
   "id": "3c064e3b3e46c149"
  },
  {
   "metadata": {
    "ExecuteTime": {
     "end_time": "2024-11-25T13:56:40.028169Z",
     "start_time": "2024-11-25T13:56:27.420362Z"
    }
   },
   "cell_type": "code",
   "source": [
    "UBAH_results = {\n",
    "    \"train\": {},\n",
    "    \"2020\": {},\n",
    "    \"2021\": {},\n",
    "    \"2022\": {}\n",
    "}\n",
    "\n",
    "PORTFOLIO_SIZE = len(TOP_BRL)\n",
    "\n",
    "# train period\n",
    "terminated = False\n",
    "environment.reset()\n",
    "while not terminated:\n",
    "    action = [0] + [1/PORTFOLIO_SIZE] * PORTFOLIO_SIZE\n",
    "    _, _, terminated, _ = environment.step(action)\n",
    "UBAH_results[\"train\"][\"value\"] = environment._asset_memory[\"final\"]\n",
    "\n",
    "# 2020\n",
    "terminated = False\n",
    "environment_2020.reset()\n",
    "while not terminated:\n",
    "    action = [0] + [1/PORTFOLIO_SIZE] * PORTFOLIO_SIZE\n",
    "    _, _, terminated, _ = environment_2020.step(action)\n",
    "UBAH_results[\"2020\"][\"value\"] = environment_2020._asset_memory[\"final\"]\n",
    "\n",
    "# 2021\n",
    "terminated = False\n",
    "environment_2021.reset()\n",
    "while not terminated:\n",
    "    action = [0] + [1/PORTFOLIO_SIZE] * PORTFOLIO_SIZE\n",
    "    _, _, terminated, _ = environment_2021.step(action)\n",
    "UBAH_results[\"2021\"][\"value\"] = environment_2021._asset_memory[\"final\"]\n",
    "\n",
    "# 2022\n",
    "terminated = False\n",
    "environment_2022.reset()\n",
    "while not terminated:\n",
    "    action = [0] + [1/PORTFOLIO_SIZE] * PORTFOLIO_SIZE\n",
    "    _, _, terminated, _ = environment_2022.step(action)\n",
    "UBAH_results[\"2022\"][\"value\"] = environment_2022._asset_memory[\"final\"]"
   ],
   "id": "49685b2321b1ee74",
   "outputs": [
    {
     "name": "stdout",
     "output_type": "stream",
     "text": [
      "=================================\n",
      "Initial portfolio value:100000\n",
      "Final portfolio value: 305207.125\n",
      "Final accumulative portfolio value: 3.05207125\n",
      "Maximum DrawDown: -0.5053701509312757\n",
      "Sharpe ratio: 0.6258359181016153\n",
      "=================================\n",
      "=================================\n",
      "Initial portfolio value:100000\n",
      "Final portfolio value: 165052.671875\n",
      "Final accumulative portfolio value: 1.65052671875\n",
      "Maximum DrawDown: -0.28665109375\n",
      "Sharpe ratio: 1.5639604621704621\n",
      "=================================\n",
      "=================================\n",
      "Initial portfolio value:100000\n",
      "Final portfolio value: 94232.390625\n",
      "Final accumulative portfolio value: 0.94232390625\n",
      "Maximum DrawDown: -0.20386432934124032\n",
      "Sharpe ratio: -0.31032646699394256\n",
      "=================================\n",
      "=================================\n",
      "Initial portfolio value:100000\n",
      "Final portfolio value: 107326.2578125\n",
      "Final accumulative portfolio value: 1.073262578125\n",
      "Maximum DrawDown: -0.1837321269587393\n",
      "Sharpe ratio: 0.48346772521463005\n",
      "=================================\n"
     ]
    }
   ],
   "execution_count": 15
  },
  {
   "metadata": {},
   "cell_type": "markdown",
   "source": "### Plot graphics",
   "id": "26d89eb4914f6d96"
  },
  {
   "metadata": {
    "ExecuteTime": {
     "end_time": "2024-11-25T13:56:44.412443Z",
     "start_time": "2024-11-25T13:56:44.234209Z"
    }
   },
   "cell_type": "code",
   "source": [
    "import matplotlib.pyplot as plt\n",
    "%matplotlib inline \n",
    "\n",
    "plt.plot(UBAH_results[\"train\"][\"value\"], label=\"Buy and Hold\")\n",
    "plt.plot(EIIE_results[\"training\"], label=\"EIIE\")\n",
    "\n",
    "plt.xlabel(\"Days\")\n",
    "plt.ylabel(\"Portfolio Value\")\n",
    "plt.title(\"Performance in training period\")\n",
    "plt.legend()\n",
    "plt.savefig(f\"results/performance_in_training_episode{episodes}.png\")\n",
    "plt.show()"
   ],
   "id": "39327abc1f086053",
   "outputs": [
    {
     "data": {
      "text/plain": [
       "<Figure size 1000x600 with 1 Axes>"
      ],
      "image/png": "[encoded data removed]"
     },
     "metadata": {},
     "output_type": "display_data"
    }
   ],
   "execution_count": 16
  },
  {
   "metadata": {
    "ExecuteTime": {
     "end_time": "2024-11-25T13:56:54.741499Z",
     "start_time": "2024-11-25T13:56:54.547913Z"
    }
   },
   "cell_type": "code",
   "source": [
    "plt.plot(UBAH_results[\"2020\"][\"value\"], label=\"Buy and Hold\")\n",
    "plt.plot(EIIE_results[\"2020\"][\"value\"], label=\"EIIE\")\n",
    "\n",
    "plt.xlabel(\"Days\")\n",
    "plt.ylabel(\"Portfolio Value\")\n",
    "plt.title(\"Performance in 2020\")\n",
    "plt.legend()\n",
    "plt.savefig(f\"results/performance_in_2020_episode{episodes}.png\")\n",
    "plt.show()"
   ],
   "id": "4a9293ec5bb179d0",
   "outputs": [
    {
     "data": {
      "text/plain": [
       "<Figure size 1000x600 with 1 Axes>"
      ],
      "image/png": "[encoded data removed]"
     },
     "metadata": {},
     "output_type": "display_data"
    }
   ],
   "execution_count": 17
  },
  {
   "metadata": {
    "ExecuteTime": {
     "end_time": "2024-11-25T13:57:12.309575Z",
     "start_time": "2024-11-25T13:57:12.131597Z"
    }
   },
   "cell_type": "code",
   "source": [
    "plt.plot(UBAH_results[\"2021\"][\"value\"], label=\"Buy and Hold\")\n",
    "plt.plot(EIIE_results[\"2021\"][\"value\"], label=\"EIIE\")\n",
    "\n",
    "plt.xlabel(\"Days\")\n",
    "plt.ylabel(\"Portfolio Value\")\n",
    "plt.title(\"Performance in 2021\")\n",
    "plt.legend()\n",
    "plt.savefig(f\"results/performance_in_2021_episode{episodes}.png\")\n",
    "plt.show()"
   ],
   "id": "dca25bd109e9a238",
   "outputs": [
    {
     "data": {
      "text/plain": [
       "<Figure size 1000x600 with 1 Axes>"
      ],
      "image/png": "[encoded data removed]"
     },
     "metadata": {},
     "output_type": "display_data"
    }
   ],
   "execution_count": 18
  },
  {
   "metadata": {
    "ExecuteTime": {
     "end_time": "2024-11-25T13:57:20.087160Z",
     "start_time": "2024-11-25T13:57:19.906122Z"
    }
   },
   "cell_type": "code",
   "source": [
    "plt.plot(UBAH_results[\"2022\"][\"value\"], label=\"Buy and Hold\")\n",
    "plt.plot(EIIE_results[\"2022\"][\"value\"], label=\"EIIE\")\n",
    "\n",
    "plt.xlabel(\"Days\")\n",
    "plt.ylabel(\"Portfolio Value\")\n",
    "plt.title(\"Performance in 2022\")\n",
    "plt.legend()\n",
    "plt.savefig(f\"results/performance_in_2022_episode{episodes}.png\")\n",
    "plt.show()"
   ],
   "id": "a13f503f105c8f56",
   "outputs": [
    {
     "data": {
      "text/plain": [
       "<Figure size 1000x600 with 1 Axes>"
      ],
      "image/png": "[encoded data removed]"
     },
     "metadata": {},
     "output_type": "display_data"
    }
   ],
   "execution_count": 19
  },
  {
   "metadata": {},
   "cell_type": "markdown",
   "source": [
    "## Question: 为什么在训练400个episode之后，EIIE的曲线与Buy and Hold的曲线完全重合了呢\n",
    "\n",
    "应该是因为test model的定义没有重新执行，也可能是对于model的定义没有重新执行，但是重新执行之后仍然完全重合呢，需要重启notebook的内核"
   ],
   "id": "3102356493e6f551"
  }
 ],
 "metadata": {
  "kernelspec": {
   "display_name": "Python 3",
   "language": "python",
   "name": "python3"
  },
  "language_info": {
   "codemirror_mode": {
    "name": "ipython",
    "version": 2
   },
   "file_extension": ".py",
   "mimetype": "text/x-python",
   "name": "python",
   "nbconvert_exporter": "python",
   "pygments_lexer": "ipython2",
   "version": "2.7.6"
  }
 },
 "nbformat": 4,
 "nbformat_minor": 5
}
