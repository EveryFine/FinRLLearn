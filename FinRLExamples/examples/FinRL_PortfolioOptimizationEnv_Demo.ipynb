{
 "cells": [
  {
   "metadata": {},
   "cell_type": "markdown",
   "source": [
    "# A guide Portfolio Optimization Environment\n",
    "\n",
    "This notebook aims to provide an example of using PortfolioOptimizationEnv (or POE) to train a reinforcement learning model that learns to solve the portfolio optimization problem.\n",
    "\n",
    "In this document, we will reproduce a famous architecture called EIIE (ensemble of identical independent evaluators), introduced in the following paper:\n",
    "\n",
    "- Zhengyao Jiang, Dixing Xu, & Jinjun Liang. (2017). A Deep Reinforcement Learning Framework for the Financial Portfolio Management Problem. https://doi.org/10.48550/arXiv.1706.10059.\n",
    "\n",
    "It's advisable to read it to understand the algorithm implemented in this notebook.\n",
    "\n",
    "### Note\n",
    "If you're using this environment, consider citing the following paper (in adittion to FinRL references):\n",
    "\n",
    "- Caio Costa, & Anna Costa (2023). POE: A General Portfolio Optimization Environment for FinRL. In *Anais do II Brazilian Workshop on Artificial Intelligence in Finance* (pp. 132–143). SBC. https://doi.org/10.5753/bwaif.2023.231144."
   ],
   "id": "94546ffe4eab6df8"
  },
  {
   "metadata": {},
   "cell_type": "markdown",
   "source": [
    "## Installation and imports\n",
    "\n",
    "To run this notebook in google colab, uncomment the cells below."
   ],
   "id": "54b6b54c25664d96"
  },
  {
   "metadata": {},
   "cell_type": "code",
   "outputs": [],
   "execution_count": null,
   "source": [
    "## install finrl library\n",
    "# !sudo apt install swig\n",
    "# !pip install git+https://github.com/AI4Finance-Foundation/FinRL.git"
   ],
   "id": "c835e7b33fd2ddb4"
  },
  {
   "metadata": {},
   "cell_type": "code",
   "outputs": [],
   "execution_count": null,
   "source": [
    "## We also need to install quantstats, because the environment uses it to plot graphs\n",
    "# !pip install quantstats"
   ],
   "id": "b8e2690e9b9d8750"
  },
  {
   "metadata": {
    "ExecuteTime": {
     "end_time": "2024-11-24T09:42:07.094572Z",
     "start_time": "2024-11-24T09:42:07.090399Z"
    }
   },
   "cell_type": "code",
   "source": [
    "## Hide matplotlib warnings\n",
    "# import warnings\n",
    "# warnings.filterwarnings('ignore')\n",
    "\n",
    "import logging\n",
    "logging.getLogger('matplotlib.font_manager').disabled = True"
   ],
   "id": "8cf4d505ff586bfb",
   "outputs": [],
   "execution_count": 1
  },
  {
   "metadata": {},
   "cell_type": "markdown",
   "source": "#### Import the necessary code libraries",
   "id": "1bad593a86f59833"
  },
  {
   "metadata": {
    "ExecuteTime": {
     "end_time": "2024-11-24T09:42:17.655632Z",
     "start_time": "2024-11-24T09:42:14.051093Z"
    }
   },
   "cell_type": "code",
   "source": [
    "import torch\n",
    "\n",
    "import numpy as np\n",
    "\n",
    "from sklearn.preprocessing import MaxAbsScaler\n",
    "\n",
    "from finrl.meta.preprocessor.yahoodownloader import YahooDownloader\n",
    "from finrl.meta.preprocessor.preprocessors import GroupByScaler\n",
    "from finrl.meta.env_portfolio_optimization.env_portfolio_optimization import PortfolioOptimizationEnv\n",
    "from finrl.agents.portfolio_optimization.models import DRLAgent\n",
    "from finrl.agents.portfolio_optimization.architectures import EIIE\n",
    "\n",
    "device = 'cuda:0' if torch.cuda.is_available() else 'cpu'"
   ],
   "id": "e890b6cc979f5903",
   "outputs": [],
   "execution_count": 2
  },
  {
   "metadata": {},
   "cell_type": "markdown",
   "source": [
    "## Fetch data\n",
    "\n",
    "In his paper, *Jiang et al* creates a portfolio composed by the top-11 cryptocurrencies based on 30-days volume. Since it's not specified when this classification was done, it's difficult to reproduce, so we will use a similar approach in the Brazillian stock market:\n",
    "\n",
    "- We select top-10 stocks from Brazillian stock market;\n",
    "- For simplicity, we disconsider stocks that have missing data for the days in period 2011-01-01 to 2019-12-31 (9 years);"
   ],
   "id": "e0e49c1f7a0d1080"
  },
  {
   "metadata": {
    "ExecuteTime": {
     "end_time": "2024-11-24T09:42:21.404761Z",
     "start_time": "2024-11-24T09:42:21.401956Z"
    }
   },
   "cell_type": "code",
   "source": [
    "TOP_BRL = [\n",
    "    \"VALE3.SA\", \"PETR4.SA\", \"ITUB4.SA\", \"BBDC4.SA\",\n",
    "    \"BBAS3.SA\", \"RENT3.SA\", \"LREN3.SA\", \"PRIO3.SA\",\n",
    "    \"WEGE3.SA\", \"ABEV3.SA\"\n",
    "]"
   ],
   "id": "d24be9fd3795c406",
   "outputs": [],
   "execution_count": 3
  },
  {
   "metadata": {
    "ExecuteTime": {
     "end_time": "2024-11-24T09:42:33.782622Z",
     "start_time": "2024-11-24T09:42:25.353388Z"
    }
   },
   "cell_type": "code",
   "source": [
    "print(len(TOP_BRL))\n",
    "\n",
    "portfolio_raw_df = YahooDownloader(start_date = '2011-01-01',\n",
    "                                end_date = '2022-12-31',\n",
    "                                ticker_list = TOP_BRL).fetch_data()\n",
    "portfolio_raw_df"
   ],
   "id": "98fcc714da5f0b77",
   "outputs": [
    {
     "name": "stdout",
     "output_type": "stream",
     "text": [
      "10\n"
     ]
    },
    {
     "name": "stderr",
     "output_type": "stream",
     "text": [
      "[*********************100%***********************]  1 of 1 completed\n",
      "[*********************100%***********************]  1 of 1 completed\n",
      "[*********************100%***********************]  1 of 1 completed\n",
      "[*********************100%***********************]  1 of 1 completed\n",
      "[*********************100%***********************]  1 of 1 completed\n",
      "[*********************100%***********************]  1 of 1 completed\n",
      "[*********************100%***********************]  1 of 1 completed\n",
      "[*********************100%***********************]  1 of 1 completed\n",
      "[*********************100%***********************]  1 of 1 completed\n",
      "[*********************100%***********************]  1 of 1 completed"
     ]
    },
    {
     "name": "stdout",
     "output_type": "stream",
     "text": [
      "Shape of DataFrame:  (29780, 8)\n"
     ]
    },
    {
     "name": "stderr",
     "output_type": "stream",
     "text": [
      "\n"
     ]
    },
    {
     "data": {
      "text/plain": [
       "             date       open       high        low      close    volume  \\\n",
       "0      2011-01-03   5.221828   8.690246   8.728203   8.632311    576145   \n",
       "1      2011-01-03   6.287580  15.700000  15.900000  15.750000   6626800   \n",
       "2      2011-01-03   6.360589  11.774127  11.927362  11.809763  10862336   \n",
       "3      2011-01-03  10.289105  18.067982  18.250118  18.031555  10014663   \n",
       "4      2011-01-03   6.115661   8.510648   8.629907   8.422694   3652542   \n",
       "...           ...        ...        ...        ...        ...       ...   \n",
       "29775  2022-12-29  16.668446  24.500000  25.049999  24.990000  57901800   \n",
       "29776  2022-12-29  37.150330  37.209999  37.480000  37.250000   7890300   \n",
       "29777  2022-12-29  50.361668  53.025078  55.776001  54.300869   8786791   \n",
       "29778  2022-12-29  77.194092  88.879997  89.949997  89.000000  40110800   \n",
       "29779  2022-12-29  37.281895  38.509998  38.990002  38.840000   6444500   \n",
       "\n",
       "            tic  day  \n",
       "0      ABEV3.SA    0  \n",
       "1      BBAS3.SA    0  \n",
       "2      BBDC4.SA    0  \n",
       "3      ITUB4.SA    0  \n",
       "4      LREN3.SA    0  \n",
       "...         ...  ...  \n",
       "29775  PETR4.SA    3  \n",
       "29776  PRIO3.SA    3  \n",
       "29777  RENT3.SA    3  \n",
       "29778  VALE3.SA    3  \n",
       "29779  WEGE3.SA    3  \n",
       "\n",
       "[29780 rows x 8 columns]"
      ],
      "text/html": [
       "<div>\n",
       "<style scoped>\n",
       "    .dataframe tbody tr th:only-of-type {\n",
       "        vertical-align: middle;\n",
       "    }\n",
       "\n",
       "    .dataframe tbody tr th {\n",
       "        vertical-align: top;\n",
       "    }\n",
       "\n",
       "    .dataframe thead th {\n",
       "        text-align: right;\n",
       "    }\n",
       "</style>\n",
       "<table border=\"1\" class=\"dataframe\">\n",
       "  <thead>\n",
       "    <tr style=\"text-align: right;\">\n",
       "      <th></th>\n",
       "      <th>date</th>\n",
       "      <th>open</th>\n",
       "      <th>high</th>\n",
       "      <th>low</th>\n",
       "      <th>close</th>\n",
       "      <th>volume</th>\n",
       "      <th>tic</th>\n",
       "      <th>day</th>\n",
       "    </tr>\n",
       "  </thead>\n",
       "  <tbody>\n",
       "    <tr>\n",
       "      <th>0</th>\n",
       "      <td>2011-01-03</td>\n",
       "      <td>5.221828</td>\n",
       "      <td>8.690246</td>\n",
       "      <td>8.728203</td>\n",
       "      <td>8.632311</td>\n",
       "      <td>576145</td>\n",
       "      <td>ABEV3.SA</td>\n",
       "      <td>0</td>\n",
       "    </tr>\n",
       "    <tr>\n",
       "      <th>1</th>\n",
       "      <td>2011-01-03</td>\n",
       "      <td>6.287580</td>\n",
       "      <td>15.700000</td>\n",
       "      <td>15.900000</td>\n",
       "      <td>15.750000</td>\n",
       "      <td>6626800</td>\n",
       "      <td>BBAS3.SA</td>\n",
       "      <td>0</td>\n",
       "    </tr>\n",
       "    <tr>\n",
       "      <th>2</th>\n",
       "      <td>2011-01-03</td>\n",
       "      <td>6.360589</td>\n",
       "      <td>11.774127</td>\n",
       "      <td>11.927362</td>\n",
       "      <td>11.809763</td>\n",
       "      <td>10862336</td>\n",
       "      <td>BBDC4.SA</td>\n",
       "      <td>0</td>\n",
       "    </tr>\n",
       "    <tr>\n",
       "      <th>3</th>\n",
       "      <td>2011-01-03</td>\n",
       "      <td>10.289105</td>\n",
       "      <td>18.067982</td>\n",
       "      <td>18.250118</td>\n",
       "      <td>18.031555</td>\n",
       "      <td>10014663</td>\n",
       "      <td>ITUB4.SA</td>\n",
       "      <td>0</td>\n",
       "    </tr>\n",
       "    <tr>\n",
       "      <th>4</th>\n",
       "      <td>2011-01-03</td>\n",
       "      <td>6.115661</td>\n",
       "      <td>8.510648</td>\n",
       "      <td>8.629907</td>\n",
       "      <td>8.422694</td>\n",
       "      <td>3652542</td>\n",
       "      <td>LREN3.SA</td>\n",
       "      <td>0</td>\n",
       "    </tr>\n",
       "    <tr>\n",
       "      <th>...</th>\n",
       "      <td>...</td>\n",
       "      <td>...</td>\n",
       "      <td>...</td>\n",
       "      <td>...</td>\n",
       "      <td>...</td>\n",
       "      <td>...</td>\n",
       "      <td>...</td>\n",
       "      <td>...</td>\n",
       "    </tr>\n",
       "    <tr>\n",
       "      <th>29775</th>\n",
       "      <td>2022-12-29</td>\n",
       "      <td>16.668446</td>\n",
       "      <td>24.500000</td>\n",
       "      <td>25.049999</td>\n",
       "      <td>24.990000</td>\n",
       "      <td>57901800</td>\n",
       "      <td>PETR4.SA</td>\n",
       "      <td>3</td>\n",
       "    </tr>\n",
       "    <tr>\n",
       "      <th>29776</th>\n",
       "      <td>2022-12-29</td>\n",
       "      <td>37.150330</td>\n",
       "      <td>37.209999</td>\n",
       "      <td>37.480000</td>\n",
       "      <td>37.250000</td>\n",
       "      <td>7890300</td>\n",
       "      <td>PRIO3.SA</td>\n",
       "      <td>3</td>\n",
       "    </tr>\n",
       "    <tr>\n",
       "      <th>29777</th>\n",
       "      <td>2022-12-29</td>\n",
       "      <td>50.361668</td>\n",
       "      <td>53.025078</td>\n",
       "      <td>55.776001</td>\n",
       "      <td>54.300869</td>\n",
       "      <td>8786791</td>\n",
       "      <td>RENT3.SA</td>\n",
       "      <td>3</td>\n",
       "    </tr>\n",
       "    <tr>\n",
       "      <th>29778</th>\n",
       "      <td>2022-12-29</td>\n",
       "      <td>77.194092</td>\n",
       "      <td>88.879997</td>\n",
       "      <td>89.949997</td>\n",
       "      <td>89.000000</td>\n",
       "      <td>40110800</td>\n",
       "      <td>VALE3.SA</td>\n",
       "      <td>3</td>\n",
       "    </tr>\n",
       "    <tr>\n",
       "      <th>29779</th>\n",
       "      <td>2022-12-29</td>\n",
       "      <td>37.281895</td>\n",
       "      <td>38.509998</td>\n",
       "      <td>38.990002</td>\n",
       "      <td>38.840000</td>\n",
       "      <td>6444500</td>\n",
       "      <td>WEGE3.SA</td>\n",
       "      <td>3</td>\n",
       "    </tr>\n",
       "  </tbody>\n",
       "</table>\n",
       "<p>29780 rows × 8 columns</p>\n",
       "</div>"
      ]
     },
     "execution_count": 4,
     "metadata": {},
     "output_type": "execute_result"
    }
   ],
   "execution_count": 4
  },
  {
   "metadata": {
    "ExecuteTime": {
     "end_time": "2024-11-24T09:42:39.663752Z",
     "start_time": "2024-11-24T09:42:39.649876Z"
    }
   },
   "cell_type": "code",
   "source": "portfolio_raw_df.groupby(\"tic\").count()",
   "id": "fb00ebd082fc7201",
   "outputs": [
    {
     "data": {
      "text/plain": [
       "          date  open  high   low  close  volume   day\n",
       "tic                                                  \n",
       "ABEV3.SA  2978  2978  2978  2978   2978    2978  2978\n",
       "BBAS3.SA  2978  2978  2978  2978   2978    2978  2978\n",
       "BBDC4.SA  2978  2978  2978  2978   2978    2978  2978\n",
       "ITUB4.SA  2978  2978  2978  2978   2978    2978  2978\n",
       "LREN3.SA  2978  2978  2978  2978   2978    2978  2978\n",
       "PETR4.SA  2978  2978  2978  2978   2978    2978  2978\n",
       "PRIO3.SA  2978  2978  2978  2978   2978    2978  2978\n",
       "RENT3.SA  2978  2978  2978  2978   2978    2978  2978\n",
       "VALE3.SA  2978  2978  2978  2978   2978    2978  2978\n",
       "WEGE3.SA  2978  2978  2978  2978   2978    2978  2978"
      ],
      "text/html": [
       "<div>\n",
       "<style scoped>\n",
       "    .dataframe tbody tr th:only-of-type {\n",
       "        vertical-align: middle;\n",
       "    }\n",
       "\n",
       "    .dataframe tbody tr th {\n",
       "        vertical-align: top;\n",
       "    }\n",
       "\n",
       "    .dataframe thead th {\n",
       "        text-align: right;\n",
       "    }\n",
       "</style>\n",
       "<table border=\"1\" class=\"dataframe\">\n",
       "  <thead>\n",
       "    <tr style=\"text-align: right;\">\n",
       "      <th></th>\n",
       "      <th>date</th>\n",
       "      <th>open</th>\n",
       "      <th>high</th>\n",
       "      <th>low</th>\n",
       "      <th>close</th>\n",
       "      <th>volume</th>\n",
       "      <th>day</th>\n",
       "    </tr>\n",
       "    <tr>\n",
       "      <th>tic</th>\n",
       "      <th></th>\n",
       "      <th></th>\n",
       "      <th></th>\n",
       "      <th></th>\n",
       "      <th></th>\n",
       "      <th></th>\n",
       "      <th></th>\n",
       "    </tr>\n",
       "  </thead>\n",
       "  <tbody>\n",
       "    <tr>\n",
       "      <th>ABEV3.SA</th>\n",
       "      <td>2978</td>\n",
       "      <td>2978</td>\n",
       "      <td>2978</td>\n",
       "      <td>2978</td>\n",
       "      <td>2978</td>\n",
       "      <td>2978</td>\n",
       "      <td>2978</td>\n",
       "    </tr>\n",
       "    <tr>\n",
       "      <th>BBAS3.SA</th>\n",
       "      <td>2978</td>\n",
       "      <td>2978</td>\n",
       "      <td>2978</td>\n",
       "      <td>2978</td>\n",
       "      <td>2978</td>\n",
       "      <td>2978</td>\n",
       "      <td>2978</td>\n",
       "    </tr>\n",
       "    <tr>\n",
       "      <th>BBDC4.SA</th>\n",
       "      <td>2978</td>\n",
       "      <td>2978</td>\n",
       "      <td>2978</td>\n",
       "      <td>2978</td>\n",
       "      <td>2978</td>\n",
       "      <td>2978</td>\n",
       "      <td>2978</td>\n",
       "    </tr>\n",
       "    <tr>\n",
       "      <th>ITUB4.SA</th>\n",
       "      <td>2978</td>\n",
       "      <td>2978</td>\n",
       "      <td>2978</td>\n",
       "      <td>2978</td>\n",
       "      <td>2978</td>\n",
       "      <td>2978</td>\n",
       "      <td>2978</td>\n",
       "    </tr>\n",
       "    <tr>\n",
       "      <th>LREN3.SA</th>\n",
       "      <td>2978</td>\n",
       "      <td>2978</td>\n",
       "      <td>2978</td>\n",
       "      <td>2978</td>\n",
       "      <td>2978</td>\n",
       "      <td>2978</td>\n",
       "      <td>2978</td>\n",
       "    </tr>\n",
       "    <tr>\n",
       "      <th>PETR4.SA</th>\n",
       "      <td>2978</td>\n",
       "      <td>2978</td>\n",
       "      <td>2978</td>\n",
       "      <td>2978</td>\n",
       "      <td>2978</td>\n",
       "      <td>2978</td>\n",
       "      <td>2978</td>\n",
       "    </tr>\n",
       "    <tr>\n",
       "      <th>PRIO3.SA</th>\n",
       "      <td>2978</td>\n",
       "      <td>2978</td>\n",
       "      <td>2978</td>\n",
       "      <td>2978</td>\n",
       "      <td>2978</td>\n",
       "      <td>2978</td>\n",
       "      <td>2978</td>\n",
       "    </tr>\n",
       "    <tr>\n",
       "      <th>RENT3.SA</th>\n",
       "      <td>2978</td>\n",
       "      <td>2978</td>\n",
       "      <td>2978</td>\n",
       "      <td>2978</td>\n",
       "      <td>2978</td>\n",
       "      <td>2978</td>\n",
       "      <td>2978</td>\n",
       "    </tr>\n",
       "    <tr>\n",
       "      <th>VALE3.SA</th>\n",
       "      <td>2978</td>\n",
       "      <td>2978</td>\n",
       "      <td>2978</td>\n",
       "      <td>2978</td>\n",
       "      <td>2978</td>\n",
       "      <td>2978</td>\n",
       "      <td>2978</td>\n",
       "    </tr>\n",
       "    <tr>\n",
       "      <th>WEGE3.SA</th>\n",
       "      <td>2978</td>\n",
       "      <td>2978</td>\n",
       "      <td>2978</td>\n",
       "      <td>2978</td>\n",
       "      <td>2978</td>\n",
       "      <td>2978</td>\n",
       "      <td>2978</td>\n",
       "    </tr>\n",
       "  </tbody>\n",
       "</table>\n",
       "</div>"
      ]
     },
     "execution_count": 5,
     "metadata": {},
     "output_type": "execute_result"
    }
   ],
   "execution_count": 5
  },
  {
   "metadata": {},
   "cell_type": "markdown",
   "source": "### Normalize Data",
   "id": "6f63ec06e2e7c5f7"
  },
  {
   "metadata": {},
   "cell_type": "markdown",
   "source": "We normalize the data dividing the time series of each stock by its maximum value, so that the dataframe contains values between 0 and 1.",
   "id": "603fe866152dd341"
  },
  {
   "metadata": {
    "ExecuteTime": {
     "end_time": "2024-11-24T09:43:10.056619Z",
     "start_time": "2024-11-24T09:43:09.997863Z"
    }
   },
   "cell_type": "code",
   "source": [
    "portfolio_norm_df = GroupByScaler(by=\"tic\", scaler=MaxAbsScaler).fit_transform(portfolio_raw_df)\n",
    "portfolio_norm_df"
   ],
   "id": "32e980bddb836e4f",
   "outputs": [
    {
     "name": "stderr",
     "output_type": "stream",
     "text": [
      "/Users/zhengshuang/Documents/ProgramingGuide/SourceCode/GithubRepo/everyfine/FinRLLearn/FinRLExamples/.venv/lib/python3.10/site-packages/finrl/meta/preprocessor/preprocessors.py:101: FutureWarning: Setting an item of incompatible dtype is deprecated and will raise an error in a future version of pandas. Value '[0.00200262 0.00114137 0.0010422  ... 0.04565734 0.05214546 0.07760399]' has dtype incompatible with int64, please explicitly cast to a compatible dtype first.\n",
      "  X.loc[select_mask, self.columns] = self.scalers[value].transform(\n",
      "/Users/zhengshuang/Documents/ProgramingGuide/SourceCode/GithubRepo/everyfine/FinRLLearn/FinRLExamples/.venv/lib/python3.10/site-packages/finrl/meta/preprocessor/preprocessors.py:101: FutureWarning: Setting an item of incompatible dtype is deprecated and will raise an error in a future version of pandas. Value '[0.   0.25 0.5  ... 0.25 0.5  0.75]' has dtype incompatible with int32, please explicitly cast to a compatible dtype first.\n",
      "  X.loc[select_mask, self.columns] = self.scalers[value].transform(\n"
     ]
    },
    {
     "data": {
      "text/plain": [
       "             date      open      high       low     close    volume       tic  \\\n",
       "0      2011-01-03  0.269795  0.358065  0.355383  0.353928  0.002003  ABEV3.SA   \n",
       "1      2011-01-03  0.320289  0.569047  0.568771  0.566547  0.014581  BBAS3.SA   \n",
       "2      2011-01-03  0.284425  0.397649  0.397479  0.396939  0.021760  BBDC4.SA   \n",
       "3      2011-01-03  0.332196  0.455228  0.458661  0.466293  0.062331  ITUB4.SA   \n",
       "4      2011-01-03  0.126038  0.155025  0.157120  0.153498  0.072591  LREN3.SA   \n",
       "...           ...       ...       ...       ...       ...       ...       ...   \n",
       "29775  2022-12-29  0.694899  0.649523  0.652514  0.663745  0.082841  PETR4.SA   \n",
       "29776  2022-12-29  0.857373  0.857373  0.844144  0.858295  0.048724  PRIO3.SA   \n",
       "29777  2022-12-29  0.728877  0.720611  0.754746  0.737949  0.097191  RENT3.SA   \n",
       "29778  2022-12-29  0.916710  0.748652  0.746783  0.742905  0.218546  VALE3.SA   \n",
       "29779  2022-12-29  0.859932  0.835267  0.830812  0.835988  0.047379  WEGE3.SA   \n",
       "\n",
       "        day  \n",
       "0      0.00  \n",
       "1      0.00  \n",
       "2      0.00  \n",
       "3      0.00  \n",
       "4      0.00  \n",
       "...     ...  \n",
       "29775  0.75  \n",
       "29776  0.75  \n",
       "29777  0.75  \n",
       "29778  0.75  \n",
       "29779  0.75  \n",
       "\n",
       "[29780 rows x 8 columns]"
      ],
      "text/html": [
       "<div>\n",
       "<style scoped>\n",
       "    .dataframe tbody tr th:only-of-type {\n",
       "        vertical-align: middle;\n",
       "    }\n",
       "\n",
       "    .dataframe tbody tr th {\n",
       "        vertical-align: top;\n",
       "    }\n",
       "\n",
       "    .dataframe thead th {\n",
       "        text-align: right;\n",
       "    }\n",
       "</style>\n",
       "<table border=\"1\" class=\"dataframe\">\n",
       "  <thead>\n",
       "    <tr style=\"text-align: right;\">\n",
       "      <th></th>\n",
       "      <th>date</th>\n",
       "      <th>open</th>\n",
       "      <th>high</th>\n",
       "      <th>low</th>\n",
       "      <th>close</th>\n",
       "      <th>volume</th>\n",
       "      <th>tic</th>\n",
       "      <th>day</th>\n",
       "    </tr>\n",
       "  </thead>\n",
       "  <tbody>\n",
       "    <tr>\n",
       "      <th>0</th>\n",
       "      <td>2011-01-03</td>\n",
       "      <td>0.269795</td>\n",
       "      <td>0.358065</td>\n",
       "      <td>0.355383</td>\n",
       "      <td>0.353928</td>\n",
       "      <td>0.002003</td>\n",
       "      <td>ABEV3.SA</td>\n",
       "      <td>0.00</td>\n",
       "    </tr>\n",
       "    <tr>\n",
       "      <th>1</th>\n",
       "      <td>2011-01-03</td>\n",
       "      <td>0.320289</td>\n",
       "      <td>0.569047</td>\n",
       "      <td>0.568771</td>\n",
       "      <td>0.566547</td>\n",
       "      <td>0.014581</td>\n",
       "      <td>BBAS3.SA</td>\n",
       "      <td>0.00</td>\n",
       "    </tr>\n",
       "    <tr>\n",
       "      <th>2</th>\n",
       "      <td>2011-01-03</td>\n",
       "      <td>0.284425</td>\n",
       "      <td>0.397649</td>\n",
       "      <td>0.397479</td>\n",
       "      <td>0.396939</td>\n",
       "      <td>0.021760</td>\n",
       "      <td>BBDC4.SA</td>\n",
       "      <td>0.00</td>\n",
       "    </tr>\n",
       "    <tr>\n",
       "      <th>3</th>\n",
       "      <td>2011-01-03</td>\n",
       "      <td>0.332196</td>\n",
       "      <td>0.455228</td>\n",
       "      <td>0.458661</td>\n",
       "      <td>0.466293</td>\n",
       "      <td>0.062331</td>\n",
       "      <td>ITUB4.SA</td>\n",
       "      <td>0.00</td>\n",
       "    </tr>\n",
       "    <tr>\n",
       "      <th>4</th>\n",
       "      <td>2011-01-03</td>\n",
       "      <td>0.126038</td>\n",
       "      <td>0.155025</td>\n",
       "      <td>0.157120</td>\n",
       "      <td>0.153498</td>\n",
       "      <td>0.072591</td>\n",
       "      <td>LREN3.SA</td>\n",
       "      <td>0.00</td>\n",
       "    </tr>\n",
       "    <tr>\n",
       "      <th>...</th>\n",
       "      <td>...</td>\n",
       "      <td>...</td>\n",
       "      <td>...</td>\n",
       "      <td>...</td>\n",
       "      <td>...</td>\n",
       "      <td>...</td>\n",
       "      <td>...</td>\n",
       "      <td>...</td>\n",
       "    </tr>\n",
       "    <tr>\n",
       "      <th>29775</th>\n",
       "      <td>2022-12-29</td>\n",
       "      <td>0.694899</td>\n",
       "      <td>0.649523</td>\n",
       "      <td>0.652514</td>\n",
       "      <td>0.663745</td>\n",
       "      <td>0.082841</td>\n",
       "      <td>PETR4.SA</td>\n",
       "      <td>0.75</td>\n",
       "    </tr>\n",
       "    <tr>\n",
       "      <th>29776</th>\n",
       "      <td>2022-12-29</td>\n",
       "      <td>0.857373</td>\n",
       "      <td>0.857373</td>\n",
       "      <td>0.844144</td>\n",
       "      <td>0.858295</td>\n",
       "      <td>0.048724</td>\n",
       "      <td>PRIO3.SA</td>\n",
       "      <td>0.75</td>\n",
       "    </tr>\n",
       "    <tr>\n",
       "      <th>29777</th>\n",
       "      <td>2022-12-29</td>\n",
       "      <td>0.728877</td>\n",
       "      <td>0.720611</td>\n",
       "      <td>0.754746</td>\n",
       "      <td>0.737949</td>\n",
       "      <td>0.097191</td>\n",
       "      <td>RENT3.SA</td>\n",
       "      <td>0.75</td>\n",
       "    </tr>\n",
       "    <tr>\n",
       "      <th>29778</th>\n",
       "      <td>2022-12-29</td>\n",
       "      <td>0.916710</td>\n",
       "      <td>0.748652</td>\n",
       "      <td>0.746783</td>\n",
       "      <td>0.742905</td>\n",
       "      <td>0.218546</td>\n",
       "      <td>VALE3.SA</td>\n",
       "      <td>0.75</td>\n",
       "    </tr>\n",
       "    <tr>\n",
       "      <th>29779</th>\n",
       "      <td>2022-12-29</td>\n",
       "      <td>0.859932</td>\n",
       "      <td>0.835267</td>\n",
       "      <td>0.830812</td>\n",
       "      <td>0.835988</td>\n",
       "      <td>0.047379</td>\n",
       "      <td>WEGE3.SA</td>\n",
       "      <td>0.75</td>\n",
       "    </tr>\n",
       "  </tbody>\n",
       "</table>\n",
       "<p>29780 rows × 8 columns</p>\n",
       "</div>"
      ]
     },
     "execution_count": 6,
     "metadata": {},
     "output_type": "execute_result"
    }
   ],
   "execution_count": 6
  },
  {
   "metadata": {
    "ExecuteTime": {
     "end_time": "2024-11-24T09:43:52.703801Z",
     "start_time": "2024-11-24T09:43:52.687847Z"
    }
   },
   "cell_type": "code",
   "source": [
    "df_portfolio = portfolio_norm_df[[\"date\", \"tic\", \"close\", \"high\", \"low\"]]\n",
    "\n",
    "df_portfolio_train = df_portfolio[(df_portfolio[\"date\"] >= \"2011-01-01\") & (df_portfolio[\"date\"] < \"2019-12-31\")]\n",
    "df_portfolio_2020 = df_portfolio[(df_portfolio[\"date\"] >= \"2020-01-01\") & (df_portfolio[\"date\"] < \"2020-12-31\")]\n",
    "df_portfolio_2021 = df_portfolio[(df_portfolio[\"date\"] >= \"2021-01-01\") & (df_portfolio[\"date\"] < \"2021-12-31\")]\n",
    "df_portfolio_2022 = df_portfolio[(df_portfolio[\"date\"] >= \"2022-01-01\") & (df_portfolio[\"date\"] < \"2022-12-31\")]"
   ],
   "id": "338725bc767bd6f0",
   "outputs": [],
   "execution_count": 7
  },
  {
   "metadata": {},
   "cell_type": "markdown",
   "source": [
    "### Instantiate Environment\n",
    "\n",
    "Using the `PortfolioOptimizationEnv`, it's easy to instantiate a portfolio optimization environment for reinforcement learning agents. In the example below, we use the dataframe created before to start an environment."
   ],
   "id": "9df10b593dd5e6a5"
  },
  {
   "metadata": {
    "ExecuteTime": {
     "end_time": "2024-11-24T09:44:33.866666Z",
     "start_time": "2024-11-24T09:44:33.831375Z"
    }
   },
   "cell_type": "code",
   "source": [
    "environment = PortfolioOptimizationEnv(\n",
    "        df_portfolio_train,\n",
    "        initial_amount=100000,\n",
    "        comission_fee_pct=0.0025,\n",
    "        time_window=50,\n",
    "        features=[\"close\", \"high\", \"low\"],\n",
    "        normalize_df=None\n",
    "    )"
   ],
   "id": "2fd4b81cc53e440a",
   "outputs": [],
   "execution_count": 8
  },
  {
   "metadata": {},
   "cell_type": "markdown",
   "source": [
    "### Instantiate Model\n",
    "\n",
    "Now, we can instantiate the model using FinRL API. In this example, we are going to use the EIIE architecture introduced by Jiang et. al.\n",
    "\n",
    ":exclamation: **Note:** Remember to set the architecture's `time_window` parameter with the same value of the environment's `time_window`."
   ],
   "id": "3453225c39be6f74"
  },
  {
   "metadata": {
    "ExecuteTime": {
     "end_time": "2024-11-24T09:44:59.812071Z",
     "start_time": "2024-11-24T09:44:59.807130Z"
    }
   },
   "cell_type": "code",
   "source": [
    "# set PolicyGradient parameters\n",
    "model_kwargs = {\n",
    "    \"lr\": 0.01,\n",
    "    \"policy\": EIIE,\n",
    "}\n",
    "\n",
    "# here, we can set EIIE's parameters\n",
    "policy_kwargs = {\n",
    "    \"k_size\": 3,\n",
    "    \"time_window\": 50,\n",
    "}\n",
    "\n",
    "model = DRLAgent(environment).get_model(\"pg\", device, model_kwargs, policy_kwargs)"
   ],
   "id": "a40ade5a885c2456",
   "outputs": [],
   "execution_count": 9
  },
  {
   "metadata": {},
   "cell_type": "markdown",
   "source": "### Train Model",
   "id": "e755546b64f4a70e"
  },
  {
   "metadata": {
    "ExecuteTime": {
     "end_time": "2024-11-24T11:32:01.763128Z",
     "start_time": "2024-11-24T11:32:01.759082Z"
    }
   },
   "cell_type": "code",
   "source": "episodes = 400",
   "id": "1e930623c5947fdb",
   "outputs": [],
   "execution_count": 39
  },
  {
   "metadata": {
    "ExecuteTime": {
     "end_time": "2024-11-24T13:12:25.364061Z",
     "start_time": "2024-11-24T11:32:05.185310Z"
    }
   },
   "cell_type": "code",
   "source": "DRLAgent.train_model(model, episodes=episodes)",
   "id": "d78839f9cf78f4b0",
   "outputs": [
    {
     "name": "stderr",
     "output_type": "stream",
     "text": [
      "  0%|          | 0/400 [00:00<?, ?it/s]"
     ]
    },
    {
     "name": "stdout",
     "output_type": "stream",
     "text": [
      "=================================\n",
      "Initial portfolio value:100000\n",
      "Final portfolio value: 56067.23046875\n",
      "Final accumulative portfolio value: 0.5606723046875\n",
      "Maximum DrawDown: -0.5525921878681901\n",
      "Sharpe ratio: -0.11396541057552069\n",
      "=================================\n"
     ]
    },
    {
     "name": "stderr",
     "output_type": "stream",
     "text": [
      "  0%|          | 1/400 [00:08<54:00,  8.12s/it]"
     ]
    },
    {
     "name": "stdout",
     "output_type": "stream",
     "text": [
      "=================================\n",
      "Initial portfolio value:100000\n",
      "Final portfolio value: 72574.2734375\n",
      "Final accumulative portfolio value: 0.725742734375\n",
      "Maximum DrawDown: -0.5474985842774074\n",
      "Sharpe ratio: -0.003840950021177772\n",
      "=================================\n"
     ]
    },
    {
     "name": "stderr",
     "output_type": "stream",
     "text": [
      "  0%|          | 2/400 [00:17<57:12,  8.63s/it]"
     ]
    },
    {
     "name": "stdout",
     "output_type": "stream",
     "text": [
      "=================================\n",
      "Initial portfolio value:100000\n",
      "Final portfolio value: 1665395.25\n",
      "Final accumulative portfolio value: 16.6539525\n",
      "Maximum DrawDown: -0.49440806729440867\n",
      "Sharpe ratio: 1.1288946097509673\n",
      "=================================\n"
     ]
    },
    {
     "name": "stderr",
     "output_type": "stream",
     "text": [
      "  1%|          | 3/400 [00:25<55:06,  8.33s/it]"
     ]
    },
    {
     "name": "stdout",
     "output_type": "stream",
     "text": [
      "=================================\n",
      "Initial portfolio value:100000\n",
      "Final portfolio value: 7708814.5\n",
      "Final accumulative portfolio value: 77.088145\n",
      "Maximum DrawDown: -0.4835662210249777\n",
      "Sharpe ratio: 1.4047126545425903\n",
      "=================================\n"
     ]
    },
    {
     "name": "stderr",
     "output_type": "stream",
     "text": [
      "  1%|          | 4/400 [00:33<54:05,  8.19s/it]"
     ]
    },
    {
     "name": "stdout",
     "output_type": "stream",
     "text": [
      "=================================\n",
      "Initial portfolio value:100000\n",
      "Final portfolio value: 3457862.0\n",
      "Final accumulative portfolio value: 34.57862\n",
      "Maximum DrawDown: -0.6903644154450232\n",
      "Sharpe ratio: 1.1454029784450306\n",
      "=================================\n"
     ]
    },
    {
     "name": "stderr",
     "output_type": "stream",
     "text": [
      "  1%|▏         | 5/400 [00:40<53:10,  8.08s/it]"
     ]
    },
    {
     "name": "stdout",
     "output_type": "stream",
     "text": [
      "=================================\n",
      "Initial portfolio value:100000\n",
      "Final portfolio value: 20570890.0\n",
      "Final accumulative portfolio value: 205.7089\n",
      "Maximum DrawDown: -0.40791719886386835\n",
      "Sharpe ratio: 1.7559293633583735\n",
      "=================================\n"
     ]
    },
    {
     "name": "stderr",
     "output_type": "stream",
     "text": [
      "  2%|▏         | 6/400 [00:49<53:04,  8.08s/it]"
     ]
    },
    {
     "name": "stdout",
     "output_type": "stream",
     "text": [
      "=================================\n",
      "Initial portfolio value:100000\n",
      "Final portfolio value: 8337140.5\n",
      "Final accumulative portfolio value: 83.371405\n",
      "Maximum DrawDown: -0.5046385235952309\n",
      "Sharpe ratio: 1.5162543501062482\n",
      "=================================\n"
     ]
    },
    {
     "name": "stderr",
     "output_type": "stream",
     "text": [
      "  2%|▏         | 7/400 [00:56<52:31,  8.02s/it]"
     ]
    },
    {
     "name": "stdout",
     "output_type": "stream",
     "text": [
      "=================================\n",
      "Initial portfolio value:100000\n",
      "Final portfolio value: 779525.1875\n",
      "Final accumulative portfolio value: 7.795251875\n",
      "Maximum DrawDown: -0.7031273997871963\n",
      "Sharpe ratio: 0.7955061696978661\n",
      "=================================\n"
     ]
    },
    {
     "name": "stderr",
     "output_type": "stream",
     "text": [
      "  2%|▏         | 8/400 [01:04<52:03,  7.97s/it]"
     ]
    },
    {
     "name": "stdout",
     "output_type": "stream",
     "text": [
      "=================================\n",
      "Initial portfolio value:100000\n",
      "Final portfolio value: 305180.03125\n",
      "Final accumulative portfolio value: 3.0518003125\n",
      "Maximum DrawDown: -0.5053807880330027\n",
      "Sharpe ratio: 0.6257978849827064\n",
      "=================================\n"
     ]
    },
    {
     "name": "stderr",
     "output_type": "stream",
     "text": [
      "  2%|▏         | 9/400 [01:12<51:33,  7.91s/it]"
     ]
    },
    {
     "name": "stdout",
     "output_type": "stream",
     "text": [
      "=================================\n",
      "Initial portfolio value:100000\n",
      "Final portfolio value: 305212.9375\n",
      "Final accumulative portfolio value: 3.052129375\n",
      "Maximum DrawDown: -0.5053645312274824\n",
      "Sharpe ratio: 0.6258472958493777\n",
      "=================================\n"
     ]
    },
    {
     "name": "stderr",
     "output_type": "stream",
     "text": [
      "  2%|▎         | 10/400 [01:20<51:14,  7.88s/it]"
     ]
    },
    {
     "name": "stdout",
     "output_type": "stream",
     "text": [
      "=================================\n",
      "Initial portfolio value:100000\n",
      "Final portfolio value: 305179.21875\n",
      "Final accumulative portfolio value: 3.0517921875\n",
      "Maximum DrawDown: -0.5053821303203201\n",
      "Sharpe ratio: 0.6257966438996996\n",
      "=================================\n"
     ]
    },
    {
     "name": "stderr",
     "output_type": "stream",
     "text": [
      "  3%|▎         | 11/400 [01:28<51:22,  7.92s/it]"
     ]
    },
    {
     "name": "stdout",
     "output_type": "stream",
     "text": [
      "=================================\n",
      "Initial portfolio value:100000\n",
      "Final portfolio value: 305193.6875\n",
      "Final accumulative portfolio value: 3.051936875\n",
      "Maximum DrawDown: -0.5053749392631677\n",
      "Sharpe ratio: 0.6258173643088489\n",
      "=================================\n"
     ]
    },
    {
     "name": "stderr",
     "output_type": "stream",
     "text": [
      "  3%|▎         | 12/400 [01:36<50:59,  7.88s/it]"
     ]
    },
    {
     "name": "stdout",
     "output_type": "stream",
     "text": [
      "=================================\n",
      "Initial portfolio value:100000\n",
      "Final portfolio value: 305209.5\n",
      "Final accumulative portfolio value: 3.052095\n",
      "Maximum DrawDown: -0.5053687395288954\n",
      "Sharpe ratio: 0.6258416502773453\n",
      "=================================\n"
     ]
    },
    {
     "name": "stderr",
     "output_type": "stream",
     "text": [
      "  3%|▎         | 13/400 [01:43<50:37,  7.85s/it]"
     ]
    },
    {
     "name": "stdout",
     "output_type": "stream",
     "text": [
      "=================================\n",
      "Initial portfolio value:100000\n",
      "Final portfolio value: 305185.3125\n",
      "Final accumulative portfolio value: 3.051853125\n",
      "Maximum DrawDown: -0.5053819985617372\n",
      "Sharpe ratio: 0.6258059561841651\n",
      "=================================\n"
     ]
    },
    {
     "name": "stderr",
     "output_type": "stream",
     "text": [
      "  4%|▎         | 14/400 [01:51<50:26,  7.84s/it]"
     ]
    },
    {
     "name": "stdout",
     "output_type": "stream",
     "text": [
      "=================================\n",
      "Initial portfolio value:100000\n",
      "Final portfolio value: 305202.6875\n",
      "Final accumulative portfolio value: 3.052026875\n",
      "Maximum DrawDown: -0.5053642761563335\n",
      "Sharpe ratio: 0.6258312144401726\n",
      "=================================\n"
     ]
    },
    {
     "name": "stderr",
     "output_type": "stream",
     "text": [
      "  4%|▍         | 15/400 [01:59<50:15,  7.83s/it]"
     ]
    },
    {
     "name": "stdout",
     "output_type": "stream",
     "text": [
      "=================================\n",
      "Initial portfolio value:100000\n",
      "Final portfolio value: 305209.75\n",
      "Final accumulative portfolio value: 3.0520975\n",
      "Maximum DrawDown: -0.5053705381928684\n",
      "Sharpe ratio: 0.6258417134607361\n",
      "=================================\n"
     ]
    },
    {
     "name": "stderr",
     "output_type": "stream",
     "text": [
      "  4%|▍         | 16/400 [02:07<50:04,  7.83s/it]"
     ]
    },
    {
     "name": "stdout",
     "output_type": "stream",
     "text": [
      "=================================\n",
      "Initial portfolio value:100000\n",
      "Final portfolio value: 305172.75\n",
      "Final accumulative portfolio value: 3.0517275\n",
      "Maximum DrawDown: -0.5053813259140079\n",
      "Sharpe ratio: 0.6257881161859481\n",
      "=================================\n"
     ]
    },
    {
     "name": "stderr",
     "output_type": "stream",
     "text": [
      "  4%|▍         | 17/400 [02:15<49:52,  7.81s/it]"
     ]
    },
    {
     "name": "stdout",
     "output_type": "stream",
     "text": [
      "=================================\n",
      "Initial portfolio value:100000\n",
      "Final portfolio value: 305206.0625\n",
      "Final accumulative portfolio value: 3.052060625\n",
      "Maximum DrawDown: -0.5053709815353047\n",
      "Sharpe ratio: 0.625837357346603\n",
      "=================================\n"
     ]
    },
    {
     "name": "stderr",
     "output_type": "stream",
     "text": [
      "  4%|▍         | 18/400 [02:22<49:42,  7.81s/it]"
     ]
    },
    {
     "name": "stdout",
     "output_type": "stream",
     "text": [
      "=================================\n",
      "Initial portfolio value:100000\n",
      "Final portfolio value: 305205.84375\n",
      "Final accumulative portfolio value: 3.0520584375\n",
      "Maximum DrawDown: -0.5053584113079135\n",
      "Sharpe ratio: 0.6258367401460435\n",
      "=================================\n"
     ]
    },
    {
     "name": "stderr",
     "output_type": "stream",
     "text": [
      "  5%|▍         | 19/400 [02:30<49:39,  7.82s/it]"
     ]
    },
    {
     "name": "stdout",
     "output_type": "stream",
     "text": [
      "=================================\n",
      "Initial portfolio value:100000\n",
      "Final portfolio value: 305194.9375\n",
      "Final accumulative portfolio value: 3.051949375\n",
      "Maximum DrawDown: -0.5053709379302751\n",
      "Sharpe ratio: 0.6258206918559839\n",
      "=================================\n"
     ]
    },
    {
     "name": "stderr",
     "output_type": "stream",
     "text": [
      "  5%|▌         | 20/400 [02:38<49:28,  7.81s/it]"
     ]
    },
    {
     "name": "stdout",
     "output_type": "stream",
     "text": [
      "=================================\n",
      "Initial portfolio value:100000\n",
      "Final portfolio value: 305178.09375\n",
      "Final accumulative portfolio value: 3.0517809375\n",
      "Maximum DrawDown: -0.505381935443927\n",
      "Sharpe ratio: 0.6257966196535155\n",
      "=================================\n"
     ]
    },
    {
     "name": "stderr",
     "output_type": "stream",
     "text": [
      "  5%|▌         | 21/400 [02:46<49:36,  7.85s/it]"
     ]
    },
    {
     "name": "stdout",
     "output_type": "stream",
     "text": [
      "=================================\n",
      "Initial portfolio value:100000\n",
      "Final portfolio value: 305184.46875\n",
      "Final accumulative portfolio value: 3.0518446875\n",
      "Maximum DrawDown: -0.5053707663815088\n",
      "Sharpe ratio: 0.6258058882364259\n",
      "=================================\n"
     ]
    },
    {
     "name": "stderr",
     "output_type": "stream",
     "text": [
      "  6%|▌         | 22/400 [02:54<49:24,  7.84s/it]"
     ]
    },
    {
     "name": "stdout",
     "output_type": "stream",
     "text": [
      "=================================\n",
      "Initial portfolio value:100000\n",
      "Final portfolio value: 305201.40625\n",
      "Final accumulative portfolio value: 3.0520140625\n",
      "Maximum DrawDown: -0.5053649708566492\n",
      "Sharpe ratio: 0.6258301069096893\n",
      "=================================\n"
     ]
    },
    {
     "name": "stderr",
     "output_type": "stream",
     "text": [
      "  6%|▌         | 23/400 [03:02<50:10,  7.98s/it]"
     ]
    },
    {
     "name": "stdout",
     "output_type": "stream",
     "text": [
      "=================================\n",
      "Initial portfolio value:100000\n",
      "Final portfolio value: 305188.6875\n",
      "Final accumulative portfolio value: 3.051886875\n",
      "Maximum DrawDown: -0.5053681338551382\n",
      "Sharpe ratio: 0.6258105576710828\n",
      "=================================\n"
     ]
    },
    {
     "name": "stderr",
     "output_type": "stream",
     "text": [
      "  6%|▌         | 24/400 [03:10<49:45,  7.94s/it]"
     ]
    },
    {
     "name": "stdout",
     "output_type": "stream",
     "text": [
      "=================================\n",
      "Initial portfolio value:100000\n",
      "Final portfolio value: 305210.6875\n",
      "Final accumulative portfolio value: 3.052106875\n",
      "Maximum DrawDown: -0.5053641861903899\n",
      "Sharpe ratio: 0.6258430887808736\n",
      "=================================\n"
     ]
    },
    {
     "name": "stderr",
     "output_type": "stream",
     "text": [
      "  6%|▋         | 25/400 [03:18<49:22,  7.90s/it]"
     ]
    },
    {
     "name": "stdout",
     "output_type": "stream",
     "text": [
      "=================================\n",
      "Initial portfolio value:100000\n",
      "Final portfolio value: 305190.84375\n",
      "Final accumulative portfolio value: 3.0519084375\n",
      "Maximum DrawDown: -0.5053674155342944\n",
      "Sharpe ratio: 0.6258149721862463\n",
      "=================================\n"
     ]
    },
    {
     "name": "stderr",
     "output_type": "stream",
     "text": [
      "  6%|▋         | 26/400 [03:26<49:05,  7.88s/it]"
     ]
    },
    {
     "name": "stdout",
     "output_type": "stream",
     "text": [
      "=================================\n",
      "Initial portfolio value:100000\n",
      "Final portfolio value: 305196.375\n",
      "Final accumulative portfolio value: 3.05196375\n",
      "Maximum DrawDown: -0.5053600082827744\n",
      "Sharpe ratio: 0.6258231495199383\n",
      "=================================\n"
     ]
    },
    {
     "name": "stderr",
     "output_type": "stream",
     "text": [
      "  7%|▋         | 27/400 [03:33<48:47,  7.85s/it]"
     ]
    },
    {
     "name": "stdout",
     "output_type": "stream",
     "text": [
      "=================================\n",
      "Initial portfolio value:100000\n",
      "Final portfolio value: 305198.59375\n",
      "Final accumulative portfolio value: 3.0519859375\n",
      "Maximum DrawDown: -0.505363130191854\n",
      "Sharpe ratio: 0.6258266048932849\n",
      "=================================\n"
     ]
    },
    {
     "name": "stderr",
     "output_type": "stream",
     "text": [
      "  7%|▋         | 28/400 [03:41<48:44,  7.86s/it]"
     ]
    },
    {
     "name": "stdout",
     "output_type": "stream",
     "text": [
      "=================================\n",
      "Initial portfolio value:100000\n",
      "Final portfolio value: 305198.5\n",
      "Final accumulative portfolio value: 3.051985\n",
      "Maximum DrawDown: -0.5053688248481778\n",
      "Sharpe ratio: 0.6258255513925265\n",
      "=================================\n"
     ]
    },
    {
     "name": "stderr",
     "output_type": "stream",
     "text": [
      "  7%|▋         | 29/400 [03:49<48:32,  7.85s/it]"
     ]
    },
    {
     "name": "stdout",
     "output_type": "stream",
     "text": [
      "=================================\n",
      "Initial portfolio value:100000\n",
      "Final portfolio value: 305191.0625\n",
      "Final accumulative portfolio value: 3.051910625\n",
      "Maximum DrawDown: -0.5053652664988715\n",
      "Sharpe ratio: 0.6258167178687687\n",
      "=================================\n"
     ]
    },
    {
     "name": "stderr",
     "output_type": "stream",
     "text": [
      "  8%|▊         | 30/400 [03:57<48:16,  7.83s/it]"
     ]
    },
    {
     "name": "stdout",
     "output_type": "stream",
     "text": [
      "=================================\n",
      "Initial portfolio value:100000\n",
      "Final portfolio value: 305193.15625\n",
      "Final accumulative portfolio value: 3.0519315625\n",
      "Maximum DrawDown: -0.5053689336740959\n",
      "Sharpe ratio: 0.6258190710182517\n",
      "=================================\n"
     ]
    },
    {
     "name": "stderr",
     "output_type": "stream",
     "text": [
      "  8%|▊         | 31/400 [04:05<48:11,  7.84s/it]"
     ]
    },
    {
     "name": "stdout",
     "output_type": "stream",
     "text": [
      "=================================\n",
      "Initial portfolio value:100000\n",
      "Final portfolio value: 305198.84375\n",
      "Final accumulative portfolio value: 3.0519884375\n",
      "Maximum DrawDown: -0.5053793650069056\n",
      "Sharpe ratio: 0.625826784135715\n",
      "=================================\n"
     ]
    },
    {
     "name": "stderr",
     "output_type": "stream",
     "text": [
      "  8%|▊         | 32/400 [04:13<48:03,  7.84s/it]"
     ]
    },
    {
     "name": "stdout",
     "output_type": "stream",
     "text": [
      "=================================\n",
      "Initial portfolio value:100000\n",
      "Final portfolio value: 305199.21875\n",
      "Final accumulative portfolio value: 3.0519921875\n",
      "Maximum DrawDown: -0.5053685831329622\n",
      "Sharpe ratio: 0.6258268789524272\n",
      "=================================\n"
     ]
    },
    {
     "name": "stderr",
     "output_type": "stream",
     "text": [
      "  8%|▊         | 33/400 [04:21<48:00,  7.85s/it]"
     ]
    },
    {
     "name": "stdout",
     "output_type": "stream",
     "text": [
      "=================================\n",
      "Initial portfolio value:100000\n",
      "Final portfolio value: 305188.59375\n",
      "Final accumulative portfolio value: 3.0518859375\n",
      "Maximum DrawDown: -0.5053694174898145\n",
      "Sharpe ratio: 0.625812237392193\n",
      "=================================\n"
     ]
    },
    {
     "name": "stderr",
     "output_type": "stream",
     "text": [
      "  8%|▊         | 34/400 [04:29<48:17,  7.92s/it]"
     ]
    },
    {
     "name": "stdout",
     "output_type": "stream",
     "text": [
      "=================================\n",
      "Initial portfolio value:100000\n",
      "Final portfolio value: 305197.5625\n",
      "Final accumulative portfolio value: 3.051975625\n",
      "Maximum DrawDown: -0.5053609261887835\n",
      "Sharpe ratio: 0.6258242546619014\n",
      "=================================\n"
     ]
    },
    {
     "name": "stderr",
     "output_type": "stream",
     "text": [
      "  9%|▉         | 35/400 [04:36<47:58,  7.88s/it]"
     ]
    },
    {
     "name": "stdout",
     "output_type": "stream",
     "text": [
      "=================================\n",
      "Initial portfolio value:100000\n",
      "Final portfolio value: 305208.625\n",
      "Final accumulative portfolio value: 3.05208625\n",
      "Maximum DrawDown: -0.5053680058348765\n",
      "Sharpe ratio: 0.6258423516445959\n",
      "=================================\n"
     ]
    },
    {
     "name": "stderr",
     "output_type": "stream",
     "text": [
      "  9%|▉         | 36/400 [04:44<47:43,  7.87s/it]"
     ]
    },
    {
     "name": "stdout",
     "output_type": "stream",
     "text": [
      "=================================\n",
      "Initial portfolio value:100000\n",
      "Final portfolio value: 305200.59375\n",
      "Final accumulative portfolio value: 3.0520059375\n",
      "Maximum DrawDown: -0.5053701552946301\n",
      "Sharpe ratio: 0.6258297118807875\n",
      "=================================\n"
     ]
    },
    {
     "name": "stderr",
     "output_type": "stream",
     "text": [
      "  9%|▉         | 37/400 [04:52<47:44,  7.89s/it]"
     ]
    },
    {
     "name": "stdout",
     "output_type": "stream",
     "text": [
      "=================================\n",
      "Initial portfolio value:100000\n",
      "Final portfolio value: 305186.65625\n",
      "Final accumulative portfolio value: 3.0518665625\n",
      "Maximum DrawDown: -0.5053726600862489\n",
      "Sharpe ratio: 0.6258102485564921\n",
      "=================================\n"
     ]
    },
    {
     "name": "stderr",
     "output_type": "stream",
     "text": [
      " 10%|▉         | 38/400 [05:00<47:38,  7.90s/it]"
     ]
    },
    {
     "name": "stdout",
     "output_type": "stream",
     "text": [
      "=================================\n",
      "Initial portfolio value:100000\n",
      "Final portfolio value: 305200.4375\n",
      "Final accumulative portfolio value: 3.052004375\n",
      "Maximum DrawDown: -0.5053786134837954\n",
      "Sharpe ratio: 0.6258288298238462\n",
      "=================================\n"
     ]
    },
    {
     "name": "stderr",
     "output_type": "stream",
     "text": [
      " 10%|▉         | 39/400 [05:08<47:28,  7.89s/it]"
     ]
    },
    {
     "name": "stdout",
     "output_type": "stream",
     "text": [
      "=================================\n",
      "Initial portfolio value:100000\n",
      "Final portfolio value: 305194.15625\n",
      "Final accumulative portfolio value: 3.0519415625\n",
      "Maximum DrawDown: -0.5053681590228812\n",
      "Sharpe ratio: 0.6258209865943594\n",
      "=================================\n"
     ]
    },
    {
     "name": "stderr",
     "output_type": "stream",
     "text": [
      " 10%|█         | 40/400 [05:16<47:16,  7.88s/it]"
     ]
    },
    {
     "name": "stdout",
     "output_type": "stream",
     "text": [
      "=================================\n",
      "Initial portfolio value:100000\n",
      "Final portfolio value: 305200.28125\n",
      "Final accumulative portfolio value: 3.0520028125\n",
      "Maximum DrawDown: -0.5053637411189869\n",
      "Sharpe ratio: 0.6258300166527812\n",
      "=================================\n"
     ]
    },
    {
     "name": "stderr",
     "output_type": "stream",
     "text": [
      " 10%|█         | 41/400 [05:24<46:58,  7.85s/it]"
     ]
    },
    {
     "name": "stdout",
     "output_type": "stream",
     "text": [
      "=================================\n",
      "Initial portfolio value:100000\n",
      "Final portfolio value: 305189.625\n",
      "Final accumulative portfolio value: 3.05189625\n",
      "Maximum DrawDown: -0.5053796938895847\n",
      "Sharpe ratio: 0.6258143303096058\n",
      "=================================\n"
     ]
    },
    {
     "name": "stderr",
     "output_type": "stream",
     "text": [
      " 10%|█         | 42/400 [05:31<46:47,  7.84s/it]"
     ]
    },
    {
     "name": "stdout",
     "output_type": "stream",
     "text": [
      "=================================\n",
      "Initial portfolio value:100000\n",
      "Final portfolio value: 305190.65625\n",
      "Final accumulative portfolio value: 3.0519065625\n",
      "Maximum DrawDown: -0.505362906717894\n",
      "Sharpe ratio: 0.6258168167127333\n",
      "=================================\n"
     ]
    },
    {
     "name": "stderr",
     "output_type": "stream",
     "text": [
      " 11%|█         | 43/400 [05:39<46:43,  7.85s/it]"
     ]
    },
    {
     "name": "stdout",
     "output_type": "stream",
     "text": [
      "=================================\n",
      "Initial portfolio value:100000\n",
      "Final portfolio value: 305205.5\n",
      "Final accumulative portfolio value: 3.052055\n",
      "Maximum DrawDown: -0.5053728314155448\n",
      "Sharpe ratio: 0.6258372398558344\n",
      "=================================\n"
     ]
    },
    {
     "name": "stderr",
     "output_type": "stream",
     "text": [
      " 11%|█         | 44/400 [05:47<46:33,  7.85s/it]"
     ]
    },
    {
     "name": "stdout",
     "output_type": "stream",
     "text": [
      "=================================\n",
      "Initial portfolio value:100000\n",
      "Final portfolio value: 305199.15625\n",
      "Final accumulative portfolio value: 3.0519915625\n",
      "Maximum DrawDown: -0.5053670037894518\n",
      "Sharpe ratio: 0.6258293356435769\n",
      "=================================\n"
     ]
    },
    {
     "name": "stderr",
     "output_type": "stream",
     "text": [
      " 11%|█▏        | 45/400 [05:55<46:25,  7.85s/it]"
     ]
    },
    {
     "name": "stdout",
     "output_type": "stream",
     "text": [
      "=================================\n",
      "Initial portfolio value:100000\n",
      "Final portfolio value: 305198.25\n",
      "Final accumulative portfolio value: 3.0519825\n",
      "Maximum DrawDown: -0.5053674505529244\n",
      "Sharpe ratio: 0.6258278022173686\n",
      "=================================\n"
     ]
    },
    {
     "name": "stderr",
     "output_type": "stream",
     "text": [
      " 12%|█▏        | 46/400 [06:03<46:22,  7.86s/it]"
     ]
    },
    {
     "name": "stdout",
     "output_type": "stream",
     "text": [
      "=================================\n",
      "Initial portfolio value:100000\n",
      "Final portfolio value: 305193.0\n",
      "Final accumulative portfolio value: 3.05193\n",
      "Maximum DrawDown: -0.5053626438284616\n",
      "Sharpe ratio: 0.625820384535629\n",
      "=================================\n"
     ]
    },
    {
     "name": "stderr",
     "output_type": "stream",
     "text": [
      " 12%|█▏        | 47/400 [06:11<46:08,  7.84s/it]"
     ]
    },
    {
     "name": "stdout",
     "output_type": "stream",
     "text": [
      "=================================\n",
      "Initial portfolio value:100000\n",
      "Final portfolio value: 305191.0625\n",
      "Final accumulative portfolio value: 3.051910625\n",
      "Maximum DrawDown: -0.5053608272800103\n",
      "Sharpe ratio: 0.6258170240548766\n",
      "=================================\n"
     ]
    },
    {
     "name": "stderr",
     "output_type": "stream",
     "text": [
      " 12%|█▏        | 48/400 [06:18<45:57,  7.83s/it]"
     ]
    },
    {
     "name": "stdout",
     "output_type": "stream",
     "text": [
      "=================================\n",
      "Initial portfolio value:100000\n",
      "Final portfolio value: 305187.0\n",
      "Final accumulative portfolio value: 3.05187\n",
      "Maximum DrawDown: -0.5053641396908146\n",
      "Sharpe ratio: 0.6258106246917656\n",
      "=================================\n"
     ]
    },
    {
     "name": "stderr",
     "output_type": "stream",
     "text": [
      " 12%|█▏        | 49/400 [06:26<45:52,  7.84s/it]"
     ]
    },
    {
     "name": "stdout",
     "output_type": "stream",
     "text": [
      "=================================\n",
      "Initial portfolio value:100000\n",
      "Final portfolio value: 305195.125\n",
      "Final accumulative portfolio value: 3.05195125\n",
      "Maximum DrawDown: -0.5053661565773917\n",
      "Sharpe ratio: 0.6258245535073473\n",
      "=================================\n"
     ]
    },
    {
     "name": "stderr",
     "output_type": "stream",
     "text": [
      " 12%|█▎        | 50/400 [06:34<46:08,  7.91s/it]"
     ]
    },
    {
     "name": "stdout",
     "output_type": "stream",
     "text": [
      "=================================\n",
      "Initial portfolio value:100000\n",
      "Final portfolio value: 305202.5625\n",
      "Final accumulative portfolio value: 3.052025625\n",
      "Maximum DrawDown: -0.5053650646574375\n",
      "Sharpe ratio: 0.6258346219479956\n",
      "=================================\n"
     ]
    },
    {
     "name": "stderr",
     "output_type": "stream",
     "text": [
      " 13%|█▎        | 51/400 [06:42<45:51,  7.89s/it]"
     ]
    },
    {
     "name": "stdout",
     "output_type": "stream",
     "text": [
      "=================================\n",
      "Initial portfolio value:100000\n",
      "Final portfolio value: 305189.625\n",
      "Final accumulative portfolio value: 3.05189625\n",
      "Maximum DrawDown: -0.5053744937134651\n",
      "Sharpe ratio: 0.6258164823098097\n",
      "=================================\n"
     ]
    },
    {
     "name": "stderr",
     "output_type": "stream",
     "text": [
      " 13%|█▎        | 52/400 [06:50<45:41,  7.88s/it]"
     ]
    },
    {
     "name": "stdout",
     "output_type": "stream",
     "text": [
      "=================================\n",
      "Initial portfolio value:100000\n",
      "Final portfolio value: 305196.3125\n",
      "Final accumulative portfolio value: 3.051963125\n",
      "Maximum DrawDown: -0.5053732036205851\n",
      "Sharpe ratio: 0.6258249649048506\n",
      "=================================\n"
     ]
    },
    {
     "name": "stderr",
     "output_type": "stream",
     "text": [
      " 13%|█▎        | 53/400 [06:58<45:33,  7.88s/it]"
     ]
    },
    {
     "name": "stdout",
     "output_type": "stream",
     "text": [
      "=================================\n",
      "Initial portfolio value:100000\n",
      "Final portfolio value: 305190.4375\n",
      "Final accumulative portfolio value: 3.051904375\n",
      "Maximum DrawDown: -0.5053680817991713\n",
      "Sharpe ratio: 0.6258167639369031\n",
      "=================================\n"
     ]
    },
    {
     "name": "stderr",
     "output_type": "stream",
     "text": [
      " 14%|█▎        | 54/400 [07:06<45:22,  7.87s/it]"
     ]
    },
    {
     "name": "stdout",
     "output_type": "stream",
     "text": [
      "=================================\n",
      "Initial portfolio value:100000\n",
      "Final portfolio value: 305191.3125\n",
      "Final accumulative portfolio value: 3.051913125\n",
      "Maximum DrawDown: -0.5053645604388022\n",
      "Sharpe ratio: 0.6258182299185718\n",
      "=================================\n"
     ]
    },
    {
     "name": "stderr",
     "output_type": "stream",
     "text": [
      " 14%|█▍        | 55/400 [07:14<45:12,  7.86s/it]"
     ]
    },
    {
     "name": "stdout",
     "output_type": "stream",
     "text": [
      "=================================\n",
      "Initial portfolio value:100000\n",
      "Final portfolio value: 305192.46875\n",
      "Final accumulative portfolio value: 3.0519246875\n",
      "Maximum DrawDown: -0.5053639719276344\n",
      "Sharpe ratio: 0.6258208472851602\n",
      "=================================\n"
     ]
    },
    {
     "name": "stderr",
     "output_type": "stream",
     "text": [
      " 14%|█▍        | 56/400 [07:21<44:59,  7.85s/it]"
     ]
    },
    {
     "name": "stdout",
     "output_type": "stream",
     "text": [
      "=================================\n",
      "Initial portfolio value:100000\n",
      "Final portfolio value: 305195.40625\n",
      "Final accumulative portfolio value: 3.0519540625\n",
      "Maximum DrawDown: -0.5053604308276018\n",
      "Sharpe ratio: 0.6258252751386978\n",
      "=================================\n"
     ]
    },
    {
     "name": "stderr",
     "output_type": "stream",
     "text": [
      " 14%|█▍        | 57/400 [07:29<44:48,  7.84s/it]"
     ]
    },
    {
     "name": "stdout",
     "output_type": "stream",
     "text": [
      "=================================\n",
      "Initial portfolio value:100000\n",
      "Final portfolio value: 305200.71875\n",
      "Final accumulative portfolio value: 3.0520071875\n",
      "Maximum DrawDown: -0.5053720005084188\n",
      "Sharpe ratio: 0.6258332364373392\n",
      "=================================\n"
     ]
    },
    {
     "name": "stderr",
     "output_type": "stream",
     "text": [
      " 14%|█▍        | 58/400 [07:37<44:39,  7.84s/it]"
     ]
    },
    {
     "name": "stdout",
     "output_type": "stream",
     "text": [
      "=================================\n",
      "Initial portfolio value:100000\n",
      "Final portfolio value: 305196.75\n",
      "Final accumulative portfolio value: 3.0519675\n",
      "Maximum DrawDown: -0.5053620757791012\n",
      "Sharpe ratio: 0.6258272084866264\n",
      "=================================\n"
     ]
    },
    {
     "name": "stderr",
     "output_type": "stream",
     "text": [
      " 15%|█▍        | 59/400 [07:45<44:32,  7.84s/it]"
     ]
    },
    {
     "name": "stdout",
     "output_type": "stream",
     "text": [
      "=================================\n",
      "Initial portfolio value:100000\n",
      "Final portfolio value: 305189.0625\n",
      "Final accumulative portfolio value: 3.051890625\n",
      "Maximum DrawDown: -0.5053757421356411\n",
      "Sharpe ratio: 0.6258163732593169\n",
      "=================================\n"
     ]
    },
    {
     "name": "stderr",
     "output_type": "stream",
     "text": [
      " 15%|█▌        | 60/400 [07:53<44:23,  7.83s/it]"
     ]
    },
    {
     "name": "stdout",
     "output_type": "stream",
     "text": [
      "=================================\n",
      "Initial portfolio value:100000\n",
      "Final portfolio value: 305195.625\n",
      "Final accumulative portfolio value: 3.05195625\n",
      "Maximum DrawDown: -0.5053663309113818\n",
      "Sharpe ratio: 0.6258256231922699\n",
      "=================================\n"
     ]
    },
    {
     "name": "stderr",
     "output_type": "stream",
     "text": [
      " 15%|█▌        | 61/400 [08:01<44:18,  7.84s/it]"
     ]
    },
    {
     "name": "stdout",
     "output_type": "stream",
     "text": [
      "=================================\n",
      "Initial portfolio value:100000\n",
      "Final portfolio value: 305193.125\n",
      "Final accumulative portfolio value: 3.05193125\n",
      "Maximum DrawDown: -0.505364557956098\n",
      "Sharpe ratio: 0.6258234641292125\n",
      "=================================\n"
     ]
    },
    {
     "name": "stderr",
     "output_type": "stream",
     "text": [
      " 16%|█▌        | 62/400 [08:09<44:11,  7.85s/it]"
     ]
    },
    {
     "name": "stdout",
     "output_type": "stream",
     "text": [
      "=================================\n",
      "Initial portfolio value:100000\n",
      "Final portfolio value: 305193.65625\n",
      "Final accumulative portfolio value: 3.0519365625\n",
      "Maximum DrawDown: -0.5053660697628604\n",
      "Sharpe ratio: 0.6258234692565101\n",
      "=================================\n"
     ]
    },
    {
     "name": "stderr",
     "output_type": "stream",
     "text": [
      " 16%|█▌        | 63/400 [08:16<44:01,  7.84s/it]"
     ]
    },
    {
     "name": "stdout",
     "output_type": "stream",
     "text": [
      "=================================\n",
      "Initial portfolio value:100000\n",
      "Final portfolio value: 305193.375\n",
      "Final accumulative portfolio value: 3.05193375\n",
      "Maximum DrawDown: -0.5053657599262904\n",
      "Sharpe ratio: 0.6258226414187331\n",
      "=================================\n"
     ]
    },
    {
     "name": "stderr",
     "output_type": "stream",
     "text": [
      " 16%|█▌        | 64/400 [08:24<43:58,  7.85s/it]"
     ]
    },
    {
     "name": "stdout",
     "output_type": "stream",
     "text": [
      "=================================\n",
      "Initial portfolio value:100000\n",
      "Final portfolio value: 305195.3125\n",
      "Final accumulative portfolio value: 3.051953125\n",
      "Maximum DrawDown: -0.5053618723005835\n",
      "Sharpe ratio: 0.6258258746225975\n",
      "=================================\n"
     ]
    },
    {
     "name": "stderr",
     "output_type": "stream",
     "text": [
      " 16%|█▋        | 65/400 [08:32<43:49,  7.85s/it]"
     ]
    },
    {
     "name": "stdout",
     "output_type": "stream",
     "text": [
      "=================================\n",
      "Initial portfolio value:100000\n",
      "Final portfolio value: 305186.21875\n",
      "Final accumulative portfolio value: 3.0518621875\n",
      "Maximum DrawDown: -0.5053673681649938\n",
      "Sharpe ratio: 0.6258124933600453\n",
      "=================================\n"
     ]
    },
    {
     "name": "stderr",
     "output_type": "stream",
     "text": [
      " 16%|█▋        | 66/400 [08:40<43:46,  7.86s/it]"
     ]
    },
    {
     "name": "stdout",
     "output_type": "stream",
     "text": [
      "=================================\n",
      "Initial portfolio value:100000\n",
      "Final portfolio value: 305192.4375\n",
      "Final accumulative portfolio value: 3.051924375\n",
      "Maximum DrawDown: -0.5053606373045068\n",
      "Sharpe ratio: 0.6258225761756533\n",
      "=================================\n"
     ]
    },
    {
     "name": "stderr",
     "output_type": "stream",
     "text": [
      " 17%|█▋        | 67/400 [08:48<43:33,  7.85s/it]"
     ]
    },
    {
     "name": "stdout",
     "output_type": "stream",
     "text": [
      "=================================\n",
      "Initial portfolio value:100000\n",
      "Final portfolio value: 305191.84375\n",
      "Final accumulative portfolio value: 3.0519184375\n",
      "Maximum DrawDown: -0.5053688535779005\n",
      "Sharpe ratio: 0.6258219918982288\n",
      "=================================\n"
     ]
    },
    {
     "name": "stderr",
     "output_type": "stream",
     "text": [
      " 17%|█▋        | 68/400 [08:56<43:21,  7.84s/it]"
     ]
    },
    {
     "name": "stdout",
     "output_type": "stream",
     "text": [
      "=================================\n",
      "Initial portfolio value:100000\n",
      "Final portfolio value: 305191.59375\n",
      "Final accumulative portfolio value: 3.0519159375\n",
      "Maximum DrawDown: -0.5053669163112082\n",
      "Sharpe ratio: 0.6258224921481114\n",
      "=================================\n"
     ]
    },
    {
     "name": "stderr",
     "output_type": "stream",
     "text": [
      " 17%|█▋        | 69/400 [09:03<43:18,  7.85s/it]"
     ]
    },
    {
     "name": "stdout",
     "output_type": "stream",
     "text": [
      "=================================\n",
      "Initial portfolio value:100000\n",
      "Final portfolio value: 305187.78125\n",
      "Final accumulative portfolio value: 3.0518778125\n",
      "Maximum DrawDown: -0.5053562996839472\n",
      "Sharpe ratio: 0.625816268600595\n",
      "=================================\n"
     ]
    },
    {
     "name": "stderr",
     "output_type": "stream",
     "text": [
      " 18%|█▊        | 70/400 [09:12<43:45,  7.96s/it]"
     ]
    },
    {
     "name": "stdout",
     "output_type": "stream",
     "text": [
      "=================================\n",
      "Initial portfolio value:100000\n",
      "Final portfolio value: 305193.53125\n",
      "Final accumulative portfolio value: 3.0519353125\n",
      "Maximum DrawDown: -0.5053720414107943\n",
      "Sharpe ratio: 0.6258250586331171\n",
      "=================================\n"
     ]
    },
    {
     "name": "stderr",
     "output_type": "stream",
     "text": [
      " 18%|█▊        | 71/400 [09:20<43:29,  7.93s/it]"
     ]
    },
    {
     "name": "stdout",
     "output_type": "stream",
     "text": [
      "=================================\n",
      "Initial portfolio value:100000\n",
      "Final portfolio value: 305197.8125\n",
      "Final accumulative portfolio value: 3.051978125\n",
      "Maximum DrawDown: -0.5053603531463594\n",
      "Sharpe ratio: 0.6258318152711115\n",
      "=================================\n"
     ]
    },
    {
     "name": "stderr",
     "output_type": "stream",
     "text": [
      " 18%|█▊        | 72/400 [09:27<43:09,  7.90s/it]"
     ]
    },
    {
     "name": "stdout",
     "output_type": "stream",
     "text": [
      "=================================\n",
      "Initial portfolio value:100000\n",
      "Final portfolio value: 305194.5\n",
      "Final accumulative portfolio value: 3.051945\n",
      "Maximum DrawDown: -0.505365456752315\n",
      "Sharpe ratio: 0.625826777651829\n",
      "=================================\n"
     ]
    },
    {
     "name": "stderr",
     "output_type": "stream",
     "text": [
      " 18%|█▊        | 73/400 [09:35<42:59,  7.89s/it]"
     ]
    },
    {
     "name": "stdout",
     "output_type": "stream",
     "text": [
      "=================================\n",
      "Initial portfolio value:100000\n",
      "Final portfolio value: 305190.1875\n",
      "Final accumulative portfolio value: 3.051901875\n",
      "Maximum DrawDown: -0.5053669606174742\n",
      "Sharpe ratio: 0.6258201239640917\n",
      "=================================\n"
     ]
    },
    {
     "name": "stderr",
     "output_type": "stream",
     "text": [
      " 18%|█▊        | 74/400 [09:43<42:44,  7.87s/it]"
     ]
    },
    {
     "name": "stdout",
     "output_type": "stream",
     "text": [
      "=================================\n",
      "Initial portfolio value:100000\n",
      "Final portfolio value: 305187.28125\n",
      "Final accumulative portfolio value: 3.0518728125\n",
      "Maximum DrawDown: -0.5053639833025041\n",
      "Sharpe ratio: 0.6258159157361481\n",
      "=================================\n"
     ]
    },
    {
     "name": "stderr",
     "output_type": "stream",
     "text": [
      " 19%|█▉        | 75/400 [09:51<42:32,  7.85s/it]"
     ]
    },
    {
     "name": "stdout",
     "output_type": "stream",
     "text": [
      "=================================\n",
      "Initial portfolio value:100000\n",
      "Final portfolio value: 305191.96875\n",
      "Final accumulative portfolio value: 3.0519196875\n",
      "Maximum DrawDown: -0.5053657279067082\n",
      "Sharpe ratio: 0.6258233650794413\n",
      "=================================\n"
     ]
    },
    {
     "name": "stderr",
     "output_type": "stream",
     "text": [
      " 19%|█▉        | 76/400 [09:59<42:29,  7.87s/it]"
     ]
    },
    {
     "name": "stdout",
     "output_type": "stream",
     "text": [
      "=================================\n",
      "Initial portfolio value:100000\n",
      "Final portfolio value: 305197.0\n",
      "Final accumulative portfolio value: 3.05197\n",
      "Maximum DrawDown: -0.5053689077457442\n",
      "Sharpe ratio: 0.6258312466505479\n",
      "=================================\n"
     ]
    },
    {
     "name": "stderr",
     "output_type": "stream",
     "text": [
      " 19%|█▉        | 77/400 [10:07<42:14,  7.85s/it]"
     ]
    },
    {
     "name": "stdout",
     "output_type": "stream",
     "text": [
      "=================================\n",
      "Initial portfolio value:100000\n",
      "Final portfolio value: 305184.15625\n",
      "Final accumulative portfolio value: 3.0518415625\n",
      "Maximum DrawDown: -0.5053725342209122\n",
      "Sharpe ratio: 0.625811806341438\n",
      "=================================\n"
     ]
    },
    {
     "name": "stderr",
     "output_type": "stream",
     "text": [
      " 20%|█▉        | 78/400 [10:14<42:07,  7.85s/it]"
     ]
    },
    {
     "name": "stdout",
     "output_type": "stream",
     "text": [
      "=================================\n",
      "Initial portfolio value:100000\n",
      "Final portfolio value: 305185.0\n",
      "Final accumulative portfolio value: 3.05185\n",
      "Maximum DrawDown: -0.5053649406058266\n",
      "Sharpe ratio: 0.625814741236839\n",
      "=================================\n"
     ]
    },
    {
     "name": "stderr",
     "output_type": "stream",
     "text": [
      " 20%|█▉        | 79/400 [10:22<41:55,  7.84s/it]"
     ]
    },
    {
     "name": "stdout",
     "output_type": "stream",
     "text": [
      "=================================\n",
      "Initial portfolio value:100000\n",
      "Final portfolio value: 305198.8125\n",
      "Final accumulative portfolio value: 3.051988125\n",
      "Maximum DrawDown: -0.5053567198104274\n",
      "Sharpe ratio: 0.6258346633080227\n",
      "=================================\n"
     ]
    },
    {
     "name": "stderr",
     "output_type": "stream",
     "text": [
      " 20%|██        | 80/400 [10:30<41:46,  7.83s/it]"
     ]
    },
    {
     "name": "stdout",
     "output_type": "stream",
     "text": [
      "=================================\n",
      "Initial portfolio value:100000\n",
      "Final portfolio value: 305189.21875\n",
      "Final accumulative portfolio value: 3.0518921875\n",
      "Maximum DrawDown: -0.5053654174548321\n",
      "Sharpe ratio: 0.6258203908877238\n",
      "=================================\n"
     ]
    },
    {
     "name": "stderr",
     "output_type": "stream",
     "text": [
      " 20%|██        | 81/400 [10:38<41:38,  7.83s/it]"
     ]
    },
    {
     "name": "stdout",
     "output_type": "stream",
     "text": [
      "=================================\n",
      "Initial portfolio value:100000\n",
      "Final portfolio value: 305188.4375\n",
      "Final accumulative portfolio value: 3.051884375\n",
      "Maximum DrawDown: -0.5053638216264036\n",
      "Sharpe ratio: 0.6258193010086773\n",
      "=================================\n"
     ]
    },
    {
     "name": "stderr",
     "output_type": "stream",
     "text": [
      " 20%|██        | 82/400 [10:46<41:28,  7.83s/it]"
     ]
    },
    {
     "name": "stdout",
     "output_type": "stream",
     "text": [
      "=================================\n",
      "Initial portfolio value:100000\n",
      "Final portfolio value: 305189.9375\n",
      "Final accumulative portfolio value: 3.051899375\n",
      "Maximum DrawDown: -0.5053676042665436\n",
      "Sharpe ratio: 0.62582148555486\n",
      "=================================\n"
     ]
    },
    {
     "name": "stderr",
     "output_type": "stream",
     "text": [
      " 21%|██        | 83/400 [10:53<41:16,  7.81s/it]"
     ]
    },
    {
     "name": "stdout",
     "output_type": "stream",
     "text": [
      "=================================\n",
      "Initial portfolio value:100000\n",
      "Final portfolio value: 305188.15625\n",
      "Final accumulative portfolio value: 3.0518815625\n",
      "Maximum DrawDown: -0.50536013074221\n",
      "Sharpe ratio: 0.6258190208483373\n",
      "=================================\n"
     ]
    },
    {
     "name": "stderr",
     "output_type": "stream",
     "text": [
      " 21%|██        | 84/400 [11:01<41:13,  7.83s/it]"
     ]
    },
    {
     "name": "stdout",
     "output_type": "stream",
     "text": [
      "=================================\n",
      "Initial portfolio value:100000\n",
      "Final portfolio value: 305192.0\n",
      "Final accumulative portfolio value: 3.05192\n",
      "Maximum DrawDown: -0.5053626629343888\n",
      "Sharpe ratio: 0.6258241118446944\n",
      "=================================\n"
     ]
    },
    {
     "name": "stderr",
     "output_type": "stream",
     "text": [
      " 21%|██▏       | 85/400 [11:09<41:01,  7.82s/it]"
     ]
    },
    {
     "name": "stdout",
     "output_type": "stream",
     "text": [
      "=================================\n",
      "Initial portfolio value:100000\n",
      "Final portfolio value: 305185.0\n",
      "Final accumulative portfolio value: 3.05185\n",
      "Maximum DrawDown: -0.5053673900341468\n",
      "Sharpe ratio: 0.6258145503514003\n",
      "=================================\n"
     ]
    },
    {
     "name": "stderr",
     "output_type": "stream",
     "text": [
      " 22%|██▏       | 86/400 [11:17<40:55,  7.82s/it]"
     ]
    },
    {
     "name": "stdout",
     "output_type": "stream",
     "text": [
      "=================================\n",
      "Initial portfolio value:100000\n",
      "Final portfolio value: 305192.5\n",
      "Final accumulative portfolio value: 3.051925\n",
      "Maximum DrawDown: -0.5053571178150433\n",
      "Sharpe ratio: 0.6258261008775137\n",
      "=================================\n"
     ]
    },
    {
     "name": "stderr",
     "output_type": "stream",
     "text": [
      " 22%|██▏       | 87/400 [11:25<40:46,  7.82s/it]"
     ]
    },
    {
     "name": "stdout",
     "output_type": "stream",
     "text": [
      "=================================\n",
      "Initial portfolio value:100000\n",
      "Final portfolio value: 305190.5\n",
      "Final accumulative portfolio value: 3.051905\n",
      "Maximum DrawDown: -0.5053613801456849\n",
      "Sharpe ratio: 0.6258239653123956\n",
      "=================================\n"
     ]
    },
    {
     "name": "stderr",
     "output_type": "stream",
     "text": [
      " 22%|██▏       | 88/400 [11:33<40:40,  7.82s/it]"
     ]
    },
    {
     "name": "stdout",
     "output_type": "stream",
     "text": [
      "=================================\n",
      "Initial portfolio value:100000\n",
      "Final portfolio value: 305185.6875\n",
      "Final accumulative portfolio value: 3.051856875\n",
      "Maximum DrawDown: -0.5053619034973735\n",
      "Sharpe ratio: 0.625817737308849\n",
      "=================================\n"
     ]
    },
    {
     "name": "stderr",
     "output_type": "stream",
     "text": [
      " 22%|██▏       | 89/400 [11:40<40:33,  7.82s/it]"
     ]
    },
    {
     "name": "stdout",
     "output_type": "stream",
     "text": [
      "=================================\n",
      "Initial portfolio value:100000\n",
      "Final portfolio value: 305184.0625\n",
      "Final accumulative portfolio value: 3.051840625\n",
      "Maximum DrawDown: -0.505366575378842\n",
      "Sharpe ratio: 0.6258158876455915\n",
      "=================================\n"
     ]
    },
    {
     "name": "stderr",
     "output_type": "stream",
     "text": [
      " 22%|██▎       | 90/400 [11:48<40:29,  7.84s/it]"
     ]
    },
    {
     "name": "stdout",
     "output_type": "stream",
     "text": [
      "=================================\n",
      "Initial portfolio value:100000\n",
      "Final portfolio value: 305183.375\n",
      "Final accumulative portfolio value: 3.05183375\n",
      "Maximum DrawDown: -0.5053569473150591\n",
      "Sharpe ratio: 0.6258133099135424\n",
      "=================================\n"
     ]
    },
    {
     "name": "stderr",
     "output_type": "stream",
     "text": [
      " 23%|██▎       | 91/400 [11:56<40:20,  7.83s/it]"
     ]
    },
    {
     "name": "stdout",
     "output_type": "stream",
     "text": [
      "=================================\n",
      "Initial portfolio value:100000\n",
      "Final portfolio value: 305189.28125\n",
      "Final accumulative portfolio value: 3.0518928125\n",
      "Maximum DrawDown: -0.5053654170546109\n",
      "Sharpe ratio: 0.6258224547632871\n",
      "=================================\n"
     ]
    },
    {
     "name": "stderr",
     "output_type": "stream",
     "text": [
      " 23%|██▎       | 92/400 [12:04<40:16,  7.84s/it]"
     ]
    },
    {
     "name": "stdout",
     "output_type": "stream",
     "text": [
      "=================================\n",
      "Initial portfolio value:100000\n",
      "Final portfolio value: 305191.5\n",
      "Final accumulative portfolio value: 3.051915\n",
      "Maximum DrawDown: -0.5053566100562126\n",
      "Sharpe ratio: 0.6258264460488397\n",
      "=================================\n"
     ]
    },
    {
     "name": "stderr",
     "output_type": "stream",
     "text": [
      " 23%|██▎       | 93/400 [12:12<40:04,  7.83s/it]"
     ]
    },
    {
     "name": "stdout",
     "output_type": "stream",
     "text": [
      "=================================\n",
      "Initial portfolio value:100000\n",
      "Final portfolio value: 305183.375\n",
      "Final accumulative portfolio value: 3.05183375\n",
      "Maximum DrawDown: -0.5053636863552236\n",
      "Sharpe ratio: 0.6258140151775263\n",
      "=================================\n"
     ]
    },
    {
     "name": "stderr",
     "output_type": "stream",
     "text": [
      " 24%|██▎       | 94/400 [12:20<40:28,  7.94s/it]"
     ]
    },
    {
     "name": "stdout",
     "output_type": "stream",
     "text": [
      "=================================\n",
      "Initial portfolio value:100000\n",
      "Final portfolio value: 305182.125\n",
      "Final accumulative portfolio value: 3.05182125\n",
      "Maximum DrawDown: -0.5053566405492118\n",
      "Sharpe ratio: 0.6258128655551336\n",
      "=================================\n"
     ]
    },
    {
     "name": "stderr",
     "output_type": "stream",
     "text": [
      " 24%|██▍       | 95/400 [12:28<40:10,  7.90s/it]"
     ]
    },
    {
     "name": "stdout",
     "output_type": "stream",
     "text": [
      "=================================\n",
      "Initial portfolio value:100000\n",
      "Final portfolio value: 305188.34375\n",
      "Final accumulative portfolio value: 3.0518834375\n",
      "Maximum DrawDown: -0.5053585288195191\n",
      "Sharpe ratio: 0.6258224940623559\n",
      "=================================\n"
     ]
    },
    {
     "name": "stderr",
     "output_type": "stream",
     "text": [
      " 24%|██▍       | 96/400 [12:36<39:55,  7.88s/it]"
     ]
    },
    {
     "name": "stdout",
     "output_type": "stream",
     "text": [
      "=================================\n",
      "Initial portfolio value:100000\n",
      "Final portfolio value: 305189.28125\n",
      "Final accumulative portfolio value: 3.0518928125\n",
      "Maximum DrawDown: -0.5053636506107109\n",
      "Sharpe ratio: 0.6258259202469071\n",
      "=================================\n"
     ]
    },
    {
     "name": "stderr",
     "output_type": "stream",
     "text": [
      " 24%|██▍       | 97/400 [12:43<39:41,  7.86s/it]"
     ]
    },
    {
     "name": "stdout",
     "output_type": "stream",
     "text": [
      "=================================\n",
      "Initial portfolio value:100000\n",
      "Final portfolio value: 305191.0625\n",
      "Final accumulative portfolio value: 3.051910625\n",
      "Maximum DrawDown: -0.5053559144730531\n",
      "Sharpe ratio: 0.6258275651667272\n",
      "=================================\n"
     ]
    },
    {
     "name": "stderr",
     "output_type": "stream",
     "text": [
      " 24%|██▍       | 98/400 [12:51<39:29,  7.85s/it]"
     ]
    },
    {
     "name": "stdout",
     "output_type": "stream",
     "text": [
      "=================================\n",
      "Initial portfolio value:100000\n",
      "Final portfolio value: 305181.21875\n",
      "Final accumulative portfolio value: 3.0518121875\n",
      "Maximum DrawDown: -0.5053586989456704\n",
      "Sharpe ratio: 0.6258133122771775\n",
      "=================================\n"
     ]
    },
    {
     "name": "stderr",
     "output_type": "stream",
     "text": [
      " 25%|██▍       | 99/400 [12:59<39:18,  7.84s/it]"
     ]
    },
    {
     "name": "stdout",
     "output_type": "stream",
     "text": [
      "=================================\n",
      "Initial portfolio value:100000\n",
      "Final portfolio value: 305196.65625\n",
      "Final accumulative portfolio value: 3.0519665625\n",
      "Maximum DrawDown: -0.5053550402781408\n",
      "Sharpe ratio: 0.6258356717862175\n",
      "=================================\n"
     ]
    },
    {
     "name": "stderr",
     "output_type": "stream",
     "text": [
      " 25%|██▌       | 100/400 [13:08<40:09,  8.03s/it]"
     ]
    },
    {
     "name": "stdout",
     "output_type": "stream",
     "text": [
      "=================================\n",
      "Initial portfolio value:100000\n",
      "Final portfolio value: 305186.71875\n",
      "Final accumulative portfolio value: 3.0518671875\n",
      "Maximum DrawDown: -0.5053590100755521\n",
      "Sharpe ratio: 0.6258221734461116\n",
      "=================================\n"
     ]
    },
    {
     "name": "stderr",
     "output_type": "stream",
     "text": [
      " 25%|██▌       | 101/400 [13:16<40:01,  8.03s/it]"
     ]
    },
    {
     "name": "stdout",
     "output_type": "stream",
     "text": [
      "=================================\n",
      "Initial portfolio value:100000\n",
      "Final portfolio value: 305191.0625\n",
      "Final accumulative portfolio value: 3.051910625\n",
      "Maximum DrawDown: -0.5053564302300515\n",
      "Sharpe ratio: 0.6258286524403064\n",
      "=================================\n"
     ]
    },
    {
     "name": "stderr",
     "output_type": "stream",
     "text": [
      " 26%|██▌       | 102/400 [13:49<1:17:15, 15.56s/it]"
     ]
    },
    {
     "name": "stdout",
     "output_type": "stream",
     "text": [
      "=================================\n",
      "Initial portfolio value:100000\n",
      "Final portfolio value: 305179.21875\n",
      "Final accumulative portfolio value: 3.0517921875\n",
      "Maximum DrawDown: -0.5053577098964122\n",
      "Sharpe ratio: 0.6258120294668474\n",
      "=================================\n"
     ]
    },
    {
     "name": "stderr",
     "output_type": "stream",
     "text": [
      " 26%|██▌       | 103/400 [14:24<1:46:32, 21.52s/it]"
     ]
    },
    {
     "name": "stdout",
     "output_type": "stream",
     "text": [
      "=================================\n",
      "Initial portfolio value:100000\n",
      "Final portfolio value: 305188.0625\n",
      "Final accumulative portfolio value: 3.051880625\n",
      "Maximum DrawDown: -0.505356642284172\n",
      "Sharpe ratio: 0.6258252088842465\n",
      "=================================\n"
     ]
    },
    {
     "name": "stderr",
     "output_type": "stream",
     "text": [
      " 26%|██▌       | 104/400 [14:59<2:05:32, 25.45s/it]"
     ]
    },
    {
     "name": "stdout",
     "output_type": "stream",
     "text": [
      "=================================\n",
      "Initial portfolio value:100000\n",
      "Final portfolio value: 305190.15625\n",
      "Final accumulative portfolio value: 3.0519015625\n",
      "Maximum DrawDown: -0.5053534254373938\n",
      "Sharpe ratio: 0.6258283325213607\n",
      "=================================\n"
     ]
    },
    {
     "name": "stderr",
     "output_type": "stream",
     "text": [
      " 26%|██▋       | 105/400 [15:33<2:18:37, 28.20s/it]"
     ]
    },
    {
     "name": "stdout",
     "output_type": "stream",
     "text": [
      "=================================\n",
      "Initial portfolio value:100000\n",
      "Final portfolio value: 305186.21875\n",
      "Final accumulative portfolio value: 3.0518621875\n",
      "Maximum DrawDown: -0.5053535171197675\n",
      "Sharpe ratio: 0.6258226215356525\n",
      "=================================\n"
     ]
    },
    {
     "name": "stderr",
     "output_type": "stream",
     "text": [
      " 26%|██▋       | 106/400 [15:54<2:07:39, 26.05s/it]"
     ]
    },
    {
     "name": "stdout",
     "output_type": "stream",
     "text": [
      "=================================\n",
      "Initial portfolio value:100000\n",
      "Final portfolio value: 305186.875\n",
      "Final accumulative portfolio value: 3.05186875\n",
      "Maximum DrawDown: -0.5053529274030364\n",
      "Sharpe ratio: 0.6258248159949377\n",
      "=================================\n"
     ]
    },
    {
     "name": "stderr",
     "output_type": "stream",
     "text": [
      " 27%|██▋       | 107/400 [16:04<1:43:07, 21.12s/it]"
     ]
    },
    {
     "name": "stdout",
     "output_type": "stream",
     "text": [
      "=================================\n",
      "Initial portfolio value:100000\n",
      "Final portfolio value: 305190.6875\n",
      "Final accumulative portfolio value: 3.051906875\n",
      "Maximum DrawDown: -0.5053492946526075\n",
      "Sharpe ratio: 0.625831576369409\n",
      "=================================\n"
     ]
    },
    {
     "name": "stderr",
     "output_type": "stream",
     "text": [
      " 27%|██▋       | 108/400 [16:12<1:24:10, 17.30s/it]"
     ]
    },
    {
     "name": "stdout",
     "output_type": "stream",
     "text": [
      "=================================\n",
      "Initial portfolio value:100000\n",
      "Final portfolio value: 305181.9375\n",
      "Final accumulative portfolio value: 3.051819375\n",
      "Maximum DrawDown: -0.5053543665483355\n",
      "Sharpe ratio: 0.625817319316762\n",
      "=================================\n"
     ]
    },
    {
     "name": "stderr",
     "output_type": "stream",
     "text": [
      " 27%|██▋       | 109/400 [16:20<1:10:28, 14.53s/it]"
     ]
    },
    {
     "name": "stdout",
     "output_type": "stream",
     "text": [
      "=================================\n",
      "Initial portfolio value:100000\n",
      "Final portfolio value: 305192.3125\n",
      "Final accumulative portfolio value: 3.051923125\n",
      "Maximum DrawDown: -0.5053519640166491\n",
      "Sharpe ratio: 0.6258331366535188\n",
      "=================================\n"
     ]
    },
    {
     "name": "stderr",
     "output_type": "stream",
     "text": [
      " 28%|██▊       | 110/400 [16:29<1:01:21, 12.70s/it]"
     ]
    },
    {
     "name": "stdout",
     "output_type": "stream",
     "text": [
      "=================================\n",
      "Initial portfolio value:100000\n",
      "Final portfolio value: 305175.625\n",
      "Final accumulative portfolio value: 3.05175625\n",
      "Maximum DrawDown: -0.5053565078816404\n",
      "Sharpe ratio: 0.625808795075701\n",
      "=================================\n"
     ]
    },
    {
     "name": "stderr",
     "output_type": "stream",
     "text": [
      " 28%|██▊       | 111/400 [16:37<55:14, 11.47s/it]  "
     ]
    },
    {
     "name": "stdout",
     "output_type": "stream",
     "text": [
      "=================================\n",
      "Initial portfolio value:100000\n",
      "Final portfolio value: 305193.90625\n",
      "Final accumulative portfolio value: 3.0519390625\n",
      "Maximum DrawDown: -0.505351210334738\n",
      "Sharpe ratio: 0.6258358439085792\n",
      "=================================\n"
     ]
    },
    {
     "name": "stderr",
     "output_type": "stream",
     "text": [
      " 28%|██▊       | 112/400 [16:46<50:08, 10.45s/it]"
     ]
    },
    {
     "name": "stdout",
     "output_type": "stream",
     "text": [
      "=================================\n",
      "Initial portfolio value:100000\n",
      "Final portfolio value: 305175.40625\n",
      "Final accumulative portfolio value: 3.0517540625\n",
      "Maximum DrawDown: -0.5053558631670949\n",
      "Sharpe ratio: 0.625808899809268\n",
      "=================================\n"
     ]
    },
    {
     "name": "stderr",
     "output_type": "stream",
     "text": [
      " 28%|██▊       | 113/400 [16:54<46:36,  9.75s/it]"
     ]
    },
    {
     "name": "stdout",
     "output_type": "stream",
     "text": [
      "=================================\n",
      "Initial portfolio value:100000\n",
      "Final portfolio value: 305181.75\n",
      "Final accumulative portfolio value: 3.0518175\n",
      "Maximum DrawDown: -0.505356870593999\n",
      "Sharpe ratio: 0.6258174107866138\n",
      "=================================\n"
     ]
    },
    {
     "name": "stderr",
     "output_type": "stream",
     "text": [
      " 28%|██▊       | 114/400 [17:02<43:47,  9.19s/it]"
     ]
    },
    {
     "name": "stdout",
     "output_type": "stream",
     "text": [
      "=================================\n",
      "Initial portfolio value:100000\n",
      "Final portfolio value: 305198.21875\n",
      "Final accumulative portfolio value: 3.0519821875\n",
      "Maximum DrawDown: -0.5053507331990341\n",
      "Sharpe ratio: 0.6258424337478143\n",
      "=================================\n"
     ]
    },
    {
     "name": "stderr",
     "output_type": "stream",
     "text": [
      " 29%|██▉       | 115/400 [17:10<42:07,  8.87s/it]"
     ]
    },
    {
     "name": "stdout",
     "output_type": "stream",
     "text": [
      "=================================\n",
      "Initial portfolio value:100000\n",
      "Final portfolio value: 305161.1875\n",
      "Final accumulative portfolio value: 3.051611875\n",
      "Maximum DrawDown: -0.5053545206229885\n",
      "Sharpe ratio: 0.6257897192489735\n",
      "=================================\n"
     ]
    },
    {
     "name": "stderr",
     "output_type": "stream",
     "text": [
      " 29%|██▉       | 116/400 [17:18<40:38,  8.59s/it]"
     ]
    },
    {
     "name": "stdout",
     "output_type": "stream",
     "text": [
      "=================================\n",
      "Initial portfolio value:100000\n",
      "Final portfolio value: 305160.875\n",
      "Final accumulative portfolio value: 3.05160875\n",
      "Maximum DrawDown: -0.5053580707827054\n",
      "Sharpe ratio: 0.6257890940000561\n",
      "=================================\n"
     ]
    },
    {
     "name": "stderr",
     "output_type": "stream",
     "text": [
      " 29%|██▉       | 117/400 [17:25<39:23,  8.35s/it]"
     ]
    },
    {
     "name": "stdout",
     "output_type": "stream",
     "text": [
      "=================================\n",
      "Initial portfolio value:100000\n",
      "Final portfolio value: 305184.3125\n",
      "Final accumulative portfolio value: 3.051843125\n",
      "Maximum DrawDown: -0.5053471891061008\n",
      "Sharpe ratio: 0.6258241922189643\n",
      "=================================\n"
     ]
    },
    {
     "name": "stderr",
     "output_type": "stream",
     "text": [
      " 30%|██▉       | 118/400 [17:33<38:28,  8.19s/it]"
     ]
    },
    {
     "name": "stdout",
     "output_type": "stream",
     "text": [
      "=================================\n",
      "Initial portfolio value:100000\n",
      "Final portfolio value: 305186.5625\n",
      "Final accumulative portfolio value: 3.051865625\n",
      "Maximum DrawDown: -0.5053478143663308\n",
      "Sharpe ratio: 0.6258267906518007\n",
      "=================================\n"
     ]
    },
    {
     "name": "stderr",
     "output_type": "stream",
     "text": [
      " 30%|██▉       | 119/400 [17:42<38:31,  8.23s/it]"
     ]
    },
    {
     "name": "stdout",
     "output_type": "stream",
     "text": [
      "=================================\n",
      "Initial portfolio value:100000\n",
      "Final portfolio value: 305187.46875\n",
      "Final accumulative portfolio value: 3.0518746875\n",
      "Maximum DrawDown: -0.505350187187553\n",
      "Sharpe ratio: 0.6258278742273821\n",
      "=================================\n"
     ]
    },
    {
     "name": "stderr",
     "output_type": "stream",
     "text": [
      " 30%|███       | 120/400 [17:49<37:54,  8.12s/it]"
     ]
    },
    {
     "name": "stdout",
     "output_type": "stream",
     "text": [
      "=================================\n",
      "Initial portfolio value:100000\n",
      "Final portfolio value: 305183.25\n",
      "Final accumulative portfolio value: 3.0518325\n",
      "Maximum DrawDown: -0.5053482094698344\n",
      "Sharpe ratio: 0.625822734008166\n",
      "=================================\n"
     ]
    },
    {
     "name": "stderr",
     "output_type": "stream",
     "text": [
      " 30%|███       | 121/400 [17:57<37:18,  8.03s/it]"
     ]
    },
    {
     "name": "stdout",
     "output_type": "stream",
     "text": [
      "=================================\n",
      "Initial portfolio value:100000\n",
      "Final portfolio value: 305178.5625\n",
      "Final accumulative portfolio value: 3.051785625\n",
      "Maximum DrawDown: -0.5053513704711972\n",
      "Sharpe ratio: 0.6258171897919468\n",
      "=================================\n"
     ]
    },
    {
     "name": "stderr",
     "output_type": "stream",
     "text": [
      " 30%|███       | 122/400 [18:05<36:54,  7.97s/it]"
     ]
    },
    {
     "name": "stdout",
     "output_type": "stream",
     "text": [
      "=================================\n",
      "Initial portfolio value:100000\n",
      "Final portfolio value: 305182.09375\n",
      "Final accumulative portfolio value: 3.0518209375\n",
      "Maximum DrawDown: -0.5053544326014843\n",
      "Sharpe ratio: 0.625820871655671\n",
      "=================================\n"
     ]
    },
    {
     "name": "stderr",
     "output_type": "stream",
     "text": [
      " 31%|███       | 123/400 [18:13<36:34,  7.92s/it]"
     ]
    },
    {
     "name": "stdout",
     "output_type": "stream",
     "text": [
      "=================================\n",
      "Initial portfolio value:100000\n",
      "Final portfolio value: 305179.75\n",
      "Final accumulative portfolio value: 3.0517975\n",
      "Maximum DrawDown: -0.5053473416840006\n",
      "Sharpe ratio: 0.6258191781719269\n",
      "=================================\n"
     ]
    },
    {
     "name": "stderr",
     "output_type": "stream",
     "text": [
      " 31%|███       | 124/400 [18:21<36:18,  7.89s/it]"
     ]
    },
    {
     "name": "stdout",
     "output_type": "stream",
     "text": [
      "=================================\n",
      "Initial portfolio value:100000\n",
      "Final portfolio value: 305177.3125\n",
      "Final accumulative portfolio value: 3.051773125\n",
      "Maximum DrawDown: -0.5053485836569745\n",
      "Sharpe ratio: 0.6258154395005101\n",
      "=================================\n"
     ]
    },
    {
     "name": "stderr",
     "output_type": "stream",
     "text": [
      " 31%|███▏      | 125/400 [18:29<36:38,  7.99s/it]"
     ]
    },
    {
     "name": "stdout",
     "output_type": "stream",
     "text": [
      "=================================\n",
      "Initial portfolio value:100000\n",
      "Final portfolio value: 305192.90625\n",
      "Final accumulative portfolio value: 3.0519290625\n",
      "Maximum DrawDown: -0.5053464483779733\n",
      "Sharpe ratio: 0.6258391492218648\n",
      "=================================\n"
     ]
    },
    {
     "name": "stderr",
     "output_type": "stream",
     "text": [
      " 32%|███▏      | 126/400 [18:37<36:20,  7.96s/it]"
     ]
    },
    {
     "name": "stdout",
     "output_type": "stream",
     "text": [
      "=================================\n",
      "Initial portfolio value:100000\n",
      "Final portfolio value: 305170.4375\n",
      "Final accumulative portfolio value: 3.051704375\n",
      "Maximum DrawDown: -0.5053517000353649\n",
      "Sharpe ratio: 0.6258058182930344\n",
      "=================================\n"
     ]
    },
    {
     "name": "stderr",
     "output_type": "stream",
     "text": [
      " 32%|███▏      | 127/400 [18:45<36:10,  7.95s/it]"
     ]
    },
    {
     "name": "stdout",
     "output_type": "stream",
     "text": [
      "=================================\n",
      "Initial portfolio value:100000\n",
      "Final portfolio value: 305189.0625\n",
      "Final accumulative portfolio value: 3.051890625\n",
      "Maximum DrawDown: -0.5053513688218515\n",
      "Sharpe ratio: 0.6258352232770147\n",
      "=================================\n"
     ]
    },
    {
     "name": "stderr",
     "output_type": "stream",
     "text": [
      " 32%|███▏      | 128/400 [18:53<36:53,  8.14s/it]"
     ]
    },
    {
     "name": "stdout",
     "output_type": "stream",
     "text": [
      "=================================\n",
      "Initial portfolio value:100000\n",
      "Final portfolio value: 305178.65625\n",
      "Final accumulative portfolio value: 3.0517865625\n",
      "Maximum DrawDown: -0.5053499933053289\n",
      "Sharpe ratio: 0.6258181989679136\n",
      "=================================\n"
     ]
    },
    {
     "name": "stderr",
     "output_type": "stream",
     "text": [
      " 32%|███▏      | 129/400 [19:01<36:45,  8.14s/it]"
     ]
    },
    {
     "name": "stdout",
     "output_type": "stream",
     "text": [
      "=================================\n",
      "Initial portfolio value:100000\n",
      "Final portfolio value: 305173.71875\n",
      "Final accumulative portfolio value: 3.0517371875\n",
      "Maximum DrawDown: -0.5053488181965742\n",
      "Sharpe ratio: 0.6258111779293698\n",
      "=================================\n"
     ]
    },
    {
     "name": "stderr",
     "output_type": "stream",
     "text": [
      " 32%|███▎      | 130/400 [19:10<36:50,  8.19s/it]"
     ]
    },
    {
     "name": "stdout",
     "output_type": "stream",
     "text": [
      "=================================\n",
      "Initial portfolio value:100000\n",
      "Final portfolio value: 305175.28125\n",
      "Final accumulative portfolio value: 3.0517528125\n",
      "Maximum DrawDown: -0.5053486466664796\n",
      "Sharpe ratio: 0.6258132047726706\n",
      "=================================\n"
     ]
    },
    {
     "name": "stderr",
     "output_type": "stream",
     "text": [
      " 33%|███▎      | 131/400 [19:18<36:45,  8.20s/it]"
     ]
    },
    {
     "name": "stdout",
     "output_type": "stream",
     "text": [
      "=================================\n",
      "Initial portfolio value:100000\n",
      "Final portfolio value: 305185.5\n",
      "Final accumulative portfolio value: 3.051855\n",
      "Maximum DrawDown: -0.5053501636415336\n",
      "Sharpe ratio: 0.6258282590102472\n",
      "=================================\n"
     ]
    },
    {
     "name": "stderr",
     "output_type": "stream",
     "text": [
      " 33%|███▎      | 132/400 [19:26<36:34,  8.19s/it]"
     ]
    },
    {
     "name": "stdout",
     "output_type": "stream",
     "text": [
      "=================================\n",
      "Initial portfolio value:100000\n",
      "Final portfolio value: 305166.03125\n",
      "Final accumulative portfolio value: 3.0516603125\n",
      "Maximum DrawDown: -0.5053450252255711\n",
      "Sharpe ratio: 0.6258009987407123\n",
      "=================================\n"
     ]
    },
    {
     "name": "stderr",
     "output_type": "stream",
     "text": [
      " 33%|███▎      | 133/400 [19:34<36:40,  8.24s/it]"
     ]
    },
    {
     "name": "stdout",
     "output_type": "stream",
     "text": [
      "=================================\n",
      "Initial portfolio value:100000\n",
      "Final portfolio value: 305173.3125\n",
      "Final accumulative portfolio value: 3.051733125\n",
      "Maximum DrawDown: -0.5053472188241079\n",
      "Sharpe ratio: 0.6258125463664435\n",
      "=================================\n"
     ]
    },
    {
     "name": "stderr",
     "output_type": "stream",
     "text": [
      " 34%|███▎      | 134/400 [19:42<36:07,  8.15s/it]"
     ]
    },
    {
     "name": "stdout",
     "output_type": "stream",
     "text": [
      "=================================\n",
      "Initial portfolio value:100000\n",
      "Final portfolio value: 305180.71875\n",
      "Final accumulative portfolio value: 3.0518071875\n",
      "Maximum DrawDown: -0.5053478867660781\n",
      "Sharpe ratio: 0.6258220274620224\n",
      "=================================\n"
     ]
    },
    {
     "name": "stderr",
     "output_type": "stream",
     "text": [
      " 34%|███▍      | 135/400 [19:50<35:38,  8.07s/it]"
     ]
    },
    {
     "name": "stdout",
     "output_type": "stream",
     "text": [
      "=================================\n",
      "Initial portfolio value:100000\n",
      "Final portfolio value: 305190.5\n",
      "Final accumulative portfolio value: 3.051905\n",
      "Maximum DrawDown: -0.5053458891262834\n",
      "Sharpe ratio: 0.6258372266680666\n",
      "=================================\n"
     ]
    },
    {
     "name": "stderr",
     "output_type": "stream",
     "text": [
      " 34%|███▍      | 136/400 [19:58<35:31,  8.07s/it]"
     ]
    },
    {
     "name": "stdout",
     "output_type": "stream",
     "text": [
      "=================================\n",
      "Initial portfolio value:100000\n",
      "Final portfolio value: 305179.1875\n",
      "Final accumulative portfolio value: 3.051791875\n",
      "Maximum DrawDown: -0.5053498994066292\n",
      "Sharpe ratio: 0.6258205349348047\n",
      "=================================\n"
     ]
    },
    {
     "name": "stderr",
     "output_type": "stream",
     "text": [
      " 34%|███▍      | 137/400 [20:07<35:43,  8.15s/it]"
     ]
    },
    {
     "name": "stdout",
     "output_type": "stream",
     "text": [
      "=================================\n",
      "Initial portfolio value:100000\n",
      "Final portfolio value: 305194.59375\n",
      "Final accumulative portfolio value: 3.0519459375\n",
      "Maximum DrawDown: -0.5053400308335041\n",
      "Sharpe ratio: 0.6258434557510189\n",
      "=================================\n"
     ]
    },
    {
     "name": "stderr",
     "output_type": "stream",
     "text": [
      " 34%|███▍      | 138/400 [20:15<36:05,  8.26s/it]"
     ]
    },
    {
     "name": "stdout",
     "output_type": "stream",
     "text": [
      "=================================\n",
      "Initial portfolio value:100000\n",
      "Final portfolio value: 305177.34375\n",
      "Final accumulative portfolio value: 3.0517734375\n",
      "Maximum DrawDown: -0.5053461753033488\n",
      "Sharpe ratio: 0.6258182518826548\n",
      "=================================\n"
     ]
    },
    {
     "name": "stderr",
     "output_type": "stream",
     "text": [
      " 35%|███▍      | 139/400 [20:24<36:17,  8.34s/it]"
     ]
    },
    {
     "name": "stdout",
     "output_type": "stream",
     "text": [
      "=================================\n",
      "Initial portfolio value:100000\n",
      "Final portfolio value: 305186.15625\n",
      "Final accumulative portfolio value: 3.0518615625\n",
      "Maximum DrawDown: -0.5053473135656977\n",
      "Sharpe ratio: 0.6258314867008004\n",
      "=================================\n"
     ]
    },
    {
     "name": "stderr",
     "output_type": "stream",
     "text": [
      " 35%|███▌      | 140/400 [20:32<36:09,  8.34s/it]"
     ]
    },
    {
     "name": "stdout",
     "output_type": "stream",
     "text": [
      "=================================\n",
      "Initial portfolio value:100000\n",
      "Final portfolio value: 305188.15625\n",
      "Final accumulative portfolio value: 3.0518815625\n",
      "Maximum DrawDown: -0.5053446770890537\n",
      "Sharpe ratio: 0.6258347057216319\n",
      "=================================\n"
     ]
    },
    {
     "name": "stderr",
     "output_type": "stream",
     "text": [
      " 35%|███▌      | 141/400 [20:40<35:39,  8.26s/it]"
     ]
    },
    {
     "name": "stdout",
     "output_type": "stream",
     "text": [
      "=================================\n",
      "Initial portfolio value:100000\n",
      "Final portfolio value: 305176.5625\n",
      "Final accumulative portfolio value: 3.051765625\n",
      "Maximum DrawDown: -0.5053474896721271\n",
      "Sharpe ratio: 0.6258174091746459\n",
      "=================================\n"
     ]
    },
    {
     "name": "stderr",
     "output_type": "stream",
     "text": [
      " 36%|███▌      | 142/400 [20:48<34:56,  8.12s/it]"
     ]
    },
    {
     "name": "stdout",
     "output_type": "stream",
     "text": [
      "=================================\n",
      "Initial portfolio value:100000\n",
      "Final portfolio value: 305170.5\n",
      "Final accumulative portfolio value: 3.051705\n",
      "Maximum DrawDown: -0.5053464647131465\n",
      "Sharpe ratio: 0.6258096011778157\n",
      "=================================\n"
     ]
    },
    {
     "name": "stderr",
     "output_type": "stream",
     "text": [
      " 36%|███▌      | 143/400 [20:56<34:27,  8.04s/it]"
     ]
    },
    {
     "name": "stdout",
     "output_type": "stream",
     "text": [
      "=================================\n",
      "Initial portfolio value:100000\n",
      "Final portfolio value: 305188.625\n",
      "Final accumulative portfolio value: 3.05188625\n",
      "Maximum DrawDown: -0.5053457902349445\n",
      "Sharpe ratio: 0.6258354663776791\n",
      "=================================\n"
     ]
    },
    {
     "name": "stderr",
     "output_type": "stream",
     "text": [
      " 36%|███▌      | 144/400 [21:04<34:02,  7.98s/it]"
     ]
    },
    {
     "name": "stdout",
     "output_type": "stream",
     "text": [
      "=================================\n",
      "Initial portfolio value:100000\n",
      "Final portfolio value: 305186.65625\n",
      "Final accumulative portfolio value: 3.0518665625\n",
      "Maximum DrawDown: -0.5053458695869788\n",
      "Sharpe ratio: 0.625833892817003\n",
      "=================================\n"
     ]
    },
    {
     "name": "stderr",
     "output_type": "stream",
     "text": [
      " 36%|███▋      | 145/400 [21:11<33:42,  7.93s/it]"
     ]
    },
    {
     "name": "stdout",
     "output_type": "stream",
     "text": [
      "=================================\n",
      "Initial portfolio value:100000\n",
      "Final portfolio value: 305168.0\n",
      "Final accumulative portfolio value: 3.05168\n",
      "Maximum DrawDown: -0.5053487246906725\n",
      "Sharpe ratio: 0.6258057159619337\n",
      "=================================\n"
     ]
    },
    {
     "name": "stderr",
     "output_type": "stream",
     "text": [
      " 36%|███▋      | 146/400 [21:19<33:30,  7.92s/it]"
     ]
    },
    {
     "name": "stdout",
     "output_type": "stream",
     "text": [
      "=================================\n",
      "Initial portfolio value:100000\n",
      "Final portfolio value: 305185.9375\n",
      "Final accumulative portfolio value: 3.051859375\n",
      "Maximum DrawDown: -0.5053401772738944\n",
      "Sharpe ratio: 0.6258324691668797\n",
      "=================================\n"
     ]
    },
    {
     "name": "stderr",
     "output_type": "stream",
     "text": [
      " 37%|███▋      | 147/400 [21:27<33:17,  7.89s/it]"
     ]
    },
    {
     "name": "stdout",
     "output_type": "stream",
     "text": [
      "=================================\n",
      "Initial portfolio value:100000\n",
      "Final portfolio value: 305175.0625\n",
      "Final accumulative portfolio value: 3.051750625\n",
      "Maximum DrawDown: -0.5053458035306151\n",
      "Sharpe ratio: 0.6258162767204296\n",
      "=================================\n"
     ]
    },
    {
     "name": "stderr",
     "output_type": "stream",
     "text": [
      " 37%|███▋      | 148/400 [21:35<33:02,  7.87s/it]"
     ]
    },
    {
     "name": "stdout",
     "output_type": "stream",
     "text": [
      "=================================\n",
      "Initial portfolio value:100000\n",
      "Final portfolio value: 305182.6875\n",
      "Final accumulative portfolio value: 3.051826875\n",
      "Maximum DrawDown: -0.5053431585938533\n",
      "Sharpe ratio: 0.6258276211040048\n",
      "=================================\n"
     ]
    },
    {
     "name": "stderr",
     "output_type": "stream",
     "text": [
      " 37%|███▋      | 149/400 [21:43<32:55,  7.87s/it]"
     ]
    },
    {
     "name": "stdout",
     "output_type": "stream",
     "text": [
      "=================================\n",
      "Initial portfolio value:100000\n",
      "Final portfolio value: 305173.78125\n",
      "Final accumulative portfolio value: 3.0517378125\n",
      "Maximum DrawDown: -0.5053444652271291\n",
      "Sharpe ratio: 0.6258146465593468\n",
      "=================================\n"
     ]
    },
    {
     "name": "stderr",
     "output_type": "stream",
     "text": [
      " 38%|███▊      | 150/400 [21:51<32:50,  7.88s/it]"
     ]
    },
    {
     "name": "stdout",
     "output_type": "stream",
     "text": [
      "=================================\n",
      "Initial portfolio value:100000\n",
      "Final portfolio value: 305169.59375\n",
      "Final accumulative portfolio value: 3.0516959375\n",
      "Maximum DrawDown: -0.5053423797864779\n",
      "Sharpe ratio: 0.625809687577301\n",
      "=================================\n"
     ]
    },
    {
     "name": "stderr",
     "output_type": "stream",
     "text": [
      " 38%|███▊      | 151/400 [21:59<32:54,  7.93s/it]"
     ]
    },
    {
     "name": "stdout",
     "output_type": "stream",
     "text": [
      "=================================\n",
      "Initial portfolio value:100000\n",
      "Final portfolio value: 305173.84375\n",
      "Final accumulative portfolio value: 3.0517384375\n",
      "Maximum DrawDown: -0.5053433505335816\n",
      "Sharpe ratio: 0.6258161380940627\n",
      "=================================\n"
     ]
    },
    {
     "name": "stderr",
     "output_type": "stream",
     "text": [
      " 38%|███▊      | 152/400 [22:07<33:07,  8.01s/it]"
     ]
    },
    {
     "name": "stdout",
     "output_type": "stream",
     "text": [
      "=================================\n",
      "Initial portfolio value:100000\n",
      "Final portfolio value: 305167.6875\n",
      "Final accumulative portfolio value: 3.051676875\n",
      "Maximum DrawDown: -0.5053556816189826\n",
      "Sharpe ratio: 0.6258059888795324\n",
      "=================================\n"
     ]
    },
    {
     "name": "stderr",
     "output_type": "stream",
     "text": [
      " 38%|███▊      | 153/400 [22:15<32:46,  7.96s/it]"
     ]
    },
    {
     "name": "stdout",
     "output_type": "stream",
     "text": [
      "=================================\n",
      "Initial portfolio value:100000\n",
      "Final portfolio value: 305190.6875\n",
      "Final accumulative portfolio value: 3.051906875\n",
      "Maximum DrawDown: -0.505343561443889\n",
      "Sharpe ratio: 0.6258403483248909\n",
      "=================================\n"
     ]
    },
    {
     "name": "stderr",
     "output_type": "stream",
     "text": [
      " 38%|███▊      | 154/400 [22:23<32:27,  7.91s/it]"
     ]
    },
    {
     "name": "stdout",
     "output_type": "stream",
     "text": [
      "=================================\n",
      "Initial portfolio value:100000\n",
      "Final portfolio value: 305183.1875\n",
      "Final accumulative portfolio value: 3.051831875\n",
      "Maximum DrawDown: -0.505345249110039\n",
      "Sharpe ratio: 0.6258289088432192\n",
      "=================================\n"
     ]
    },
    {
     "name": "stderr",
     "output_type": "stream",
     "text": [
      " 39%|███▉      | 155/400 [22:31<32:14,  7.90s/it]"
     ]
    },
    {
     "name": "stdout",
     "output_type": "stream",
     "text": [
      "=================================\n",
      "Initial portfolio value:100000\n",
      "Final portfolio value: 305186.125\n",
      "Final accumulative portfolio value: 3.05186125\n",
      "Maximum DrawDown: -0.5053442465453015\n",
      "Sharpe ratio: 0.6258339856421277\n",
      "=================================\n"
     ]
    },
    {
     "name": "stderr",
     "output_type": "stream",
     "text": [
      " 39%|███▉      | 156/400 [22:38<32:06,  7.90s/it]"
     ]
    },
    {
     "name": "stdout",
     "output_type": "stream",
     "text": [
      "=================================\n",
      "Initial portfolio value:100000\n",
      "Final portfolio value: 305173.15625\n",
      "Final accumulative portfolio value: 3.0517315625\n",
      "Maximum DrawDown: -0.5053388964336294\n",
      "Sharpe ratio: 0.6258147431371112\n",
      "=================================\n"
     ]
    },
    {
     "name": "stderr",
     "output_type": "stream",
     "text": [
      " 39%|███▉      | 157/400 [22:46<31:54,  7.88s/it]"
     ]
    },
    {
     "name": "stdout",
     "output_type": "stream",
     "text": [
      "=================================\n",
      "Initial portfolio value:100000\n",
      "Final portfolio value: 305178.03125\n",
      "Final accumulative portfolio value: 3.0517803125\n",
      "Maximum DrawDown: -0.5053447791907444\n",
      "Sharpe ratio: 0.6258208010068376\n",
      "=================================\n"
     ]
    },
    {
     "name": "stderr",
     "output_type": "stream",
     "text": [
      " 40%|███▉      | 158/400 [22:54<31:49,  7.89s/it]"
     ]
    },
    {
     "name": "stdout",
     "output_type": "stream",
     "text": [
      "=================================\n",
      "Initial portfolio value:100000\n",
      "Final portfolio value: 305179.875\n",
      "Final accumulative portfolio value: 3.05179875\n",
      "Maximum DrawDown: -0.5053392534466137\n",
      "Sharpe ratio: 0.6258251037260032\n",
      "=================================\n"
     ]
    },
    {
     "name": "stderr",
     "output_type": "stream",
     "text": [
      " 40%|███▉      | 159/400 [23:02<31:37,  7.87s/it]"
     ]
    },
    {
     "name": "stdout",
     "output_type": "stream",
     "text": [
      "=================================\n",
      "Initial portfolio value:100000\n",
      "Final portfolio value: 305179.5625\n",
      "Final accumulative portfolio value: 3.051795625\n",
      "Maximum DrawDown: -0.5053476037546496\n",
      "Sharpe ratio: 0.6258245715805528\n",
      "=================================\n"
     ]
    },
    {
     "name": "stderr",
     "output_type": "stream",
     "text": [
      " 40%|████      | 160/400 [23:10<31:25,  7.86s/it]"
     ]
    },
    {
     "name": "stdout",
     "output_type": "stream",
     "text": [
      "=================================\n",
      "Initial portfolio value:100000\n",
      "Final portfolio value: 305181.125\n",
      "Final accumulative portfolio value: 3.05181125\n",
      "Maximum DrawDown: -0.505350046746895\n",
      "Sharpe ratio: 0.625825847725325\n",
      "=================================\n"
     ]
    },
    {
     "name": "stderr",
     "output_type": "stream",
     "text": [
      " 40%|████      | 161/400 [23:18<31:18,  7.86s/it]"
     ]
    },
    {
     "name": "stdout",
     "output_type": "stream",
     "text": [
      "=================================\n",
      "Initial portfolio value:100000\n",
      "Final portfolio value: 305165.59375\n",
      "Final accumulative portfolio value: 3.0516559375\n",
      "Maximum DrawDown: -0.5053490190450246\n",
      "Sharpe ratio: 0.6258027755100343\n",
      "=================================\n"
     ]
    },
    {
     "name": "stderr",
     "output_type": "stream",
     "text": [
      " 40%|████      | 162/400 [23:26<31:46,  8.01s/it]"
     ]
    },
    {
     "name": "stdout",
     "output_type": "stream",
     "text": [
      "=================================\n",
      "Initial portfolio value:100000\n",
      "Final portfolio value: 305180.875\n",
      "Final accumulative portfolio value: 3.05180875\n",
      "Maximum DrawDown: -0.5053395544592933\n",
      "Sharpe ratio: 0.625825721334293\n",
      "=================================\n"
     ]
    },
    {
     "name": "stderr",
     "output_type": "stream",
     "text": [
      " 41%|████      | 163/400 [23:34<31:26,  7.96s/it]"
     ]
    },
    {
     "name": "stdout",
     "output_type": "stream",
     "text": [
      "=================================\n",
      "Initial portfolio value:100000\n",
      "Final portfolio value: 305180.34375\n",
      "Final accumulative portfolio value: 3.0518034375\n",
      "Maximum DrawDown: -0.5053467337777936\n",
      "Sharpe ratio: 0.6258237347058264\n",
      "=================================\n"
     ]
    },
    {
     "name": "stderr",
     "output_type": "stream",
     "text": [
      " 41%|████      | 164/400 [23:42<31:08,  7.92s/it]"
     ]
    },
    {
     "name": "stdout",
     "output_type": "stream",
     "text": [
      "=================================\n",
      "Initial portfolio value:100000\n",
      "Final portfolio value: 305174.0\n",
      "Final accumulative portfolio value: 3.05174\n",
      "Maximum DrawDown: -0.5053441156508279\n",
      "Sharpe ratio: 0.6258154428398616\n",
      "=================================\n"
     ]
    },
    {
     "name": "stderr",
     "output_type": "stream",
     "text": [
      " 41%|████▏     | 165/400 [23:50<31:00,  7.92s/it]"
     ]
    },
    {
     "name": "stdout",
     "output_type": "stream",
     "text": [
      "=================================\n",
      "Initial portfolio value:100000\n",
      "Final portfolio value: 305193.8125\n",
      "Final accumulative portfolio value: 3.051938125\n",
      "Maximum DrawDown: -0.5053464677277775\n",
      "Sharpe ratio: 0.6258443823377937\n",
      "=================================\n"
     ]
    },
    {
     "name": "stderr",
     "output_type": "stream",
     "text": [
      " 42%|████▏     | 166/400 [23:57<30:46,  7.89s/it]"
     ]
    },
    {
     "name": "stdout",
     "output_type": "stream",
     "text": [
      "=================================\n",
      "Initial portfolio value:100000\n",
      "Final portfolio value: 305185.875\n",
      "Final accumulative portfolio value: 3.05185875\n",
      "Maximum DrawDown: -0.5053458003905322\n",
      "Sharpe ratio: 0.6258332603623148\n",
      "=================================\n"
     ]
    },
    {
     "name": "stderr",
     "output_type": "stream",
     "text": [
      " 42%|████▏     | 167/400 [24:05<30:35,  7.88s/it]"
     ]
    },
    {
     "name": "stdout",
     "output_type": "stream",
     "text": [
      "=================================\n",
      "Initial portfolio value:100000\n",
      "Final portfolio value: 305180.0625\n",
      "Final accumulative portfolio value: 3.051800625\n",
      "Maximum DrawDown: -0.5053386572461358\n",
      "Sharpe ratio: 0.6258239731898784\n",
      "=================================\n"
     ]
    },
    {
     "name": "stderr",
     "output_type": "stream",
     "text": [
      " 42%|████▏     | 168/400 [24:13<30:23,  7.86s/it]"
     ]
    },
    {
     "name": "stdout",
     "output_type": "stream",
     "text": [
      "=================================\n",
      "Initial portfolio value:100000\n",
      "Final portfolio value: 305178.8125\n",
      "Final accumulative portfolio value: 3.051788125\n",
      "Maximum DrawDown: -0.505343748440535\n",
      "Sharpe ratio: 0.6258214702182326\n",
      "=================================\n"
     ]
    },
    {
     "name": "stderr",
     "output_type": "stream",
     "text": [
      " 42%|████▏     | 169/400 [24:21<30:12,  7.85s/it]"
     ]
    },
    {
     "name": "stdout",
     "output_type": "stream",
     "text": [
      "=================================\n",
      "Initial portfolio value:100000\n",
      "Final portfolio value: 305187.75\n",
      "Final accumulative portfolio value: 3.0518775\n",
      "Maximum DrawDown: -0.5053467293907244\n",
      "Sharpe ratio: 0.6258359806198613\n",
      "=================================\n"
     ]
    },
    {
     "name": "stderr",
     "output_type": "stream",
     "text": [
      " 42%|████▎     | 170/400 [24:29<30:04,  7.85s/it]"
     ]
    },
    {
     "name": "stdout",
     "output_type": "stream",
     "text": [
      "=================================\n",
      "Initial portfolio value:100000\n",
      "Final portfolio value: 305183.75\n",
      "Final accumulative portfolio value: 3.0518375\n",
      "Maximum DrawDown: -0.5053470482886604\n",
      "Sharpe ratio: 0.6258291488347353\n",
      "=================================\n"
     ]
    },
    {
     "name": "stderr",
     "output_type": "stream",
     "text": [
      " 43%|████▎     | 171/400 [24:37<29:58,  7.85s/it]"
     ]
    },
    {
     "name": "stdout",
     "output_type": "stream",
     "text": [
      "=================================\n",
      "Initial portfolio value:100000\n",
      "Final portfolio value: 305183.625\n",
      "Final accumulative portfolio value: 3.05183625\n",
      "Maximum DrawDown: -0.5053441037405817\n",
      "Sharpe ratio: 0.6258301217802316\n",
      "=================================\n"
     ]
    },
    {
     "name": "stderr",
     "output_type": "stream",
     "text": [
      " 43%|████▎     | 172/400 [24:45<29:51,  7.86s/it]"
     ]
    },
    {
     "name": "stdout",
     "output_type": "stream",
     "text": [
      "=================================\n",
      "Initial portfolio value:100000\n",
      "Final portfolio value: 305193.40625\n",
      "Final accumulative portfolio value: 3.0519340625\n",
      "Maximum DrawDown: -0.5053398680685826\n",
      "Sharpe ratio: 0.6258446241922991\n",
      "=================================\n"
     ]
    },
    {
     "name": "stderr",
     "output_type": "stream",
     "text": [
      " 43%|████▎     | 173/400 [24:52<29:42,  7.85s/it]"
     ]
    },
    {
     "name": "stdout",
     "output_type": "stream",
     "text": [
      "=================================\n",
      "Initial portfolio value:100000\n",
      "Final portfolio value: 305172.65625\n",
      "Final accumulative portfolio value: 3.0517265625\n",
      "Maximum DrawDown: -0.5053433434184582\n",
      "Sharpe ratio: 0.6258132146269039\n",
      "=================================\n"
     ]
    },
    {
     "name": "stderr",
     "output_type": "stream",
     "text": [
      " 44%|████▎     | 174/400 [25:00<29:32,  7.84s/it]"
     ]
    },
    {
     "name": "stdout",
     "output_type": "stream",
     "text": [
      "=================================\n",
      "Initial portfolio value:100000\n",
      "Final portfolio value: 305172.15625\n",
      "Final accumulative portfolio value: 3.0517215625\n",
      "Maximum DrawDown: -0.5053450819487483\n",
      "Sharpe ratio: 0.6258129168089227\n",
      "=================================\n"
     ]
    },
    {
     "name": "stderr",
     "output_type": "stream",
     "text": [
      " 44%|████▍     | 175/400 [25:08<29:23,  7.84s/it]"
     ]
    },
    {
     "name": "stdout",
     "output_type": "stream",
     "text": [
      "=================================\n",
      "Initial portfolio value:100000\n",
      "Final portfolio value: 305184.3125\n",
      "Final accumulative portfolio value: 3.051843125\n",
      "Maximum DrawDown: -0.5053392823789657\n",
      "Sharpe ratio: 0.6258302537659327\n",
      "=================================\n"
     ]
    },
    {
     "name": "stderr",
     "output_type": "stream",
     "text": [
      " 44%|████▍     | 176/400 [25:16<29:16,  7.84s/it]"
     ]
    },
    {
     "name": "stdout",
     "output_type": "stream",
     "text": [
      "=================================\n",
      "Initial portfolio value:100000\n",
      "Final portfolio value: 305172.5\n",
      "Final accumulative portfolio value: 3.051725\n",
      "Maximum DrawDown: -0.505344741057064\n",
      "Sharpe ratio: 0.6258127914284135\n",
      "=================================\n"
     ]
    },
    {
     "name": "stderr",
     "output_type": "stream",
     "text": [
      " 44%|████▍     | 177/400 [25:24<29:07,  7.84s/it]"
     ]
    },
    {
     "name": "stdout",
     "output_type": "stream",
     "text": [
      "=================================\n",
      "Initial portfolio value:100000\n",
      "Final portfolio value: 305178.125\n",
      "Final accumulative portfolio value: 3.05178125\n",
      "Maximum DrawDown: -0.5053481653996841\n",
      "Sharpe ratio: 0.6258213388462697\n",
      "=================================\n"
     ]
    },
    {
     "name": "stderr",
     "output_type": "stream",
     "text": [
      " 44%|████▍     | 178/400 [25:32<28:59,  7.83s/it]"
     ]
    },
    {
     "name": "stdout",
     "output_type": "stream",
     "text": [
      "=================================\n",
      "Initial portfolio value:100000\n",
      "Final portfolio value: 305178.03125\n",
      "Final accumulative portfolio value: 3.0517803125\n",
      "Maximum DrawDown: -0.505345114278741\n",
      "Sharpe ratio: 0.6258201339796385\n",
      "=================================\n"
     ]
    },
    {
     "name": "stderr",
     "output_type": "stream",
     "text": [
      " 45%|████▍     | 179/400 [25:39<28:49,  7.83s/it]"
     ]
    },
    {
     "name": "stdout",
     "output_type": "stream",
     "text": [
      "=================================\n",
      "Initial portfolio value:100000\n",
      "Final portfolio value: 305182.78125\n",
      "Final accumulative portfolio value: 3.0518278125\n",
      "Maximum DrawDown: -0.5053458087394479\n",
      "Sharpe ratio: 0.6258271948378712\n",
      "=================================\n"
     ]
    },
    {
     "name": "stderr",
     "output_type": "stream",
     "text": [
      " 45%|████▌     | 180/400 [25:47<28:43,  7.83s/it]"
     ]
    },
    {
     "name": "stdout",
     "output_type": "stream",
     "text": [
      "=================================\n",
      "Initial portfolio value:100000\n",
      "Final portfolio value: 305178.96875\n",
      "Final accumulative portfolio value: 3.0517896875\n",
      "Maximum DrawDown: -0.5053504941204201\n",
      "Sharpe ratio: 0.6258221340587024\n",
      "=================================\n"
     ]
    },
    {
     "name": "stderr",
     "output_type": "stream",
     "text": [
      " 45%|████▌     | 181/400 [25:55<28:45,  7.88s/it]"
     ]
    },
    {
     "name": "stdout",
     "output_type": "stream",
     "text": [
      "=================================\n",
      "Initial portfolio value:100000\n",
      "Final portfolio value: 305194.59375\n",
      "Final accumulative portfolio value: 3.0519459375\n",
      "Maximum DrawDown: -0.5053468101811525\n",
      "Sharpe ratio: 0.625844564442684\n",
      "=================================\n"
     ]
    },
    {
     "name": "stderr",
     "output_type": "stream",
     "text": [
      " 46%|████▌     | 182/400 [26:03<28:33,  7.86s/it]"
     ]
    },
    {
     "name": "stdout",
     "output_type": "stream",
     "text": [
      "=================================\n",
      "Initial portfolio value:100000\n",
      "Final portfolio value: 305171.6875\n",
      "Final accumulative portfolio value: 3.051716875\n",
      "Maximum DrawDown: -0.5053434869082929\n",
      "Sharpe ratio: 0.6258099064646832\n",
      "=================================\n"
     ]
    },
    {
     "name": "stderr",
     "output_type": "stream",
     "text": [
      " 46%|████▌     | 183/400 [26:11<28:24,  7.86s/it]"
     ]
    },
    {
     "name": "stdout",
     "output_type": "stream",
     "text": [
      "=================================\n",
      "Initial portfolio value:100000\n",
      "Final portfolio value: 305184.84375\n",
      "Final accumulative portfolio value: 3.0518484375\n",
      "Maximum DrawDown: -0.5053416810300747\n",
      "Sharpe ratio: 0.6258303357647205\n",
      "=================================\n"
     ]
    },
    {
     "name": "stderr",
     "output_type": "stream",
     "text": [
      " 46%|████▌     | 184/400 [26:19<28:19,  7.87s/it]"
     ]
    },
    {
     "name": "stdout",
     "output_type": "stream",
     "text": [
      "=================================\n",
      "Initial portfolio value:100000\n",
      "Final portfolio value: 305192.5\n",
      "Final accumulative portfolio value: 3.051925\n",
      "Maximum DrawDown: -0.5053444557029707\n",
      "Sharpe ratio: 0.6258408708401957\n",
      "=================================\n"
     ]
    },
    {
     "name": "stderr",
     "output_type": "stream",
     "text": [
      " 46%|████▋     | 185/400 [26:27<28:09,  7.86s/it]"
     ]
    },
    {
     "name": "stdout",
     "output_type": "stream",
     "text": [
      "=================================\n",
      "Initial portfolio value:100000\n",
      "Final portfolio value: 305193.25\n",
      "Final accumulative portfolio value: 3.0519325\n",
      "Maximum DrawDown: -0.5053439181104697\n",
      "Sharpe ratio: 0.6258417976918574\n",
      "=================================\n"
     ]
    },
    {
     "name": "stderr",
     "output_type": "stream",
     "text": [
      " 46%|████▋     | 186/400 [26:34<27:59,  7.85s/it]"
     ]
    },
    {
     "name": "stdout",
     "output_type": "stream",
     "text": [
      "=================================\n",
      "Initial portfolio value:100000\n",
      "Final portfolio value: 305163.4375\n",
      "Final accumulative portfolio value: 3.051634375\n",
      "Maximum DrawDown: -0.5053496134867237\n",
      "Sharpe ratio: 0.6257997164221505\n",
      "=================================\n"
     ]
    },
    {
     "name": "stderr",
     "output_type": "stream",
     "text": [
      " 47%|████▋     | 187/400 [26:42<27:52,  7.85s/it]"
     ]
    },
    {
     "name": "stdout",
     "output_type": "stream",
     "text": [
      "=================================\n",
      "Initial portfolio value:100000\n",
      "Final portfolio value: 305183.5\n",
      "Final accumulative portfolio value: 3.051835\n",
      "Maximum DrawDown: -0.5053489735589134\n",
      "Sharpe ratio: 0.6258281468122483\n",
      "=================================\n"
     ]
    },
    {
     "name": "stderr",
     "output_type": "stream",
     "text": [
      " 47%|████▋     | 188/400 [26:50<27:43,  7.85s/it]"
     ]
    },
    {
     "name": "stdout",
     "output_type": "stream",
     "text": [
      "=================================\n",
      "Initial portfolio value:100000\n",
      "Final portfolio value: 305174.96875\n",
      "Final accumulative portfolio value: 3.0517496875\n",
      "Maximum DrawDown: -0.5053487061142445\n",
      "Sharpe ratio: 0.6258153849619609\n",
      "=================================\n"
     ]
    },
    {
     "name": "stderr",
     "output_type": "stream",
     "text": [
      " 47%|████▋     | 189/400 [26:58<27:35,  7.84s/it]"
     ]
    },
    {
     "name": "stdout",
     "output_type": "stream",
     "text": [
      "=================================\n",
      "Initial portfolio value:100000\n",
      "Final portfolio value: 305187.0\n",
      "Final accumulative portfolio value: 3.05187\n",
      "Maximum DrawDown: -0.5053447265650495\n",
      "Sharpe ratio: 0.6258341832104566\n",
      "=================================\n"
     ]
    },
    {
     "name": "stderr",
     "output_type": "stream",
     "text": [
      " 48%|████▊     | 190/400 [27:06<27:27,  7.85s/it]"
     ]
    },
    {
     "name": "stdout",
     "output_type": "stream",
     "text": [
      "=================================\n",
      "Initial portfolio value:100000\n",
      "Final portfolio value: 305181.15625\n",
      "Final accumulative portfolio value: 3.0518115625\n",
      "Maximum DrawDown: -0.5053500190284893\n",
      "Sharpe ratio: 0.6258248109286941\n",
      "=================================\n"
     ]
    },
    {
     "name": "stderr",
     "output_type": "stream",
     "text": [
      " 48%|████▊     | 191/400 [27:14<27:18,  7.84s/it]"
     ]
    },
    {
     "name": "stdout",
     "output_type": "stream",
     "text": [
      "=================================\n",
      "Initial portfolio value:100000\n",
      "Final portfolio value: 305188.5625\n",
      "Final accumulative portfolio value: 3.051885625\n",
      "Maximum DrawDown: -0.5053449358083324\n",
      "Sharpe ratio: 0.6258368598386764\n",
      "=================================\n"
     ]
    },
    {
     "name": "stderr",
     "output_type": "stream",
     "text": [
      " 48%|████▊     | 192/400 [27:21<27:09,  7.83s/it]"
     ]
    },
    {
     "name": "stdout",
     "output_type": "stream",
     "text": [
      "=================================\n",
      "Initial portfolio value:100000\n",
      "Final portfolio value: 305174.875\n",
      "Final accumulative portfolio value: 3.05174875\n",
      "Maximum DrawDown: -0.5053525392644986\n",
      "Sharpe ratio: 0.625815586832071\n",
      "=================================\n"
     ]
    },
    {
     "name": "stderr",
     "output_type": "stream",
     "text": [
      " 48%|████▊     | 193/400 [27:29<26:59,  7.82s/it]"
     ]
    },
    {
     "name": "stdout",
     "output_type": "stream",
     "text": [
      "=================================\n",
      "Initial portfolio value:100000\n",
      "Final portfolio value: 305186.5\n",
      "Final accumulative portfolio value: 3.051865\n",
      "Maximum DrawDown: -0.5053400710229222\n",
      "Sharpe ratio: 0.6258320555927496\n",
      "=================================\n"
     ]
    },
    {
     "name": "stderr",
     "output_type": "stream",
     "text": [
      " 48%|████▊     | 194/400 [27:37<26:51,  7.82s/it]"
     ]
    },
    {
     "name": "stdout",
     "output_type": "stream",
     "text": [
      "=================================\n",
      "Initial portfolio value:100000\n",
      "Final portfolio value: 305193.25\n",
      "Final accumulative portfolio value: 3.0519325\n",
      "Maximum DrawDown: -0.5053433923318995\n",
      "Sharpe ratio: 0.6258413928644116\n",
      "=================================\n"
     ]
    },
    {
     "name": "stderr",
     "output_type": "stream",
     "text": [
      " 49%|████▉     | 195/400 [27:45<26:44,  7.83s/it]"
     ]
    },
    {
     "name": "stdout",
     "output_type": "stream",
     "text": [
      "=================================\n",
      "Initial portfolio value:100000\n",
      "Final portfolio value: 305197.25\n",
      "Final accumulative portfolio value: 3.0519725\n",
      "Maximum DrawDown: -0.5053482204274936\n",
      "Sharpe ratio: 0.6258480644005568\n",
      "=================================\n"
     ]
    },
    {
     "name": "stderr",
     "output_type": "stream",
     "text": [
      " 49%|████▉     | 196/400 [27:53<26:42,  7.86s/it]"
     ]
    },
    {
     "name": "stdout",
     "output_type": "stream",
     "text": [
      "=================================\n",
      "Initial portfolio value:100000\n",
      "Final portfolio value: 305182.375\n",
      "Final accumulative portfolio value: 3.05182375\n",
      "Maximum DrawDown: -0.5053523662231052\n",
      "Sharpe ratio: 0.6258264810615718\n",
      "=================================\n"
     ]
    },
    {
     "name": "stderr",
     "output_type": "stream",
     "text": [
      " 49%|████▉     | 197/400 [28:01<26:33,  7.85s/it]"
     ]
    },
    {
     "name": "stdout",
     "output_type": "stream",
     "text": [
      "=================================\n",
      "Initial portfolio value:100000\n",
      "Final portfolio value: 305180.6875\n",
      "Final accumulative portfolio value: 3.051806875\n",
      "Maximum DrawDown: -0.5053484011487719\n",
      "Sharpe ratio: 0.625823085369777\n",
      "=================================\n"
     ]
    },
    {
     "name": "stderr",
     "output_type": "stream",
     "text": [
      " 50%|████▉     | 198/400 [28:08<26:25,  7.85s/it]"
     ]
    },
    {
     "name": "stdout",
     "output_type": "stream",
     "text": [
      "=================================\n",
      "Initial portfolio value:100000\n",
      "Final portfolio value: 305194.6875\n",
      "Final accumulative portfolio value: 3.051946875\n",
      "Maximum DrawDown: -0.505343516347267\n",
      "Sharpe ratio: 0.6258438393015187\n",
      "=================================\n"
     ]
    },
    {
     "name": "stderr",
     "output_type": "stream",
     "text": [
      " 50%|████▉     | 199/400 [28:16<26:15,  7.84s/it]"
     ]
    },
    {
     "name": "stdout",
     "output_type": "stream",
     "text": [
      "=================================\n",
      "Initial portfolio value:100000\n",
      "Final portfolio value: 305189.5\n",
      "Final accumulative portfolio value: 3.051895\n",
      "Maximum DrawDown: -0.5053391809864349\n",
      "Sharpe ratio: 0.6258371941446313\n",
      "=================================\n"
     ]
    },
    {
     "name": "stderr",
     "output_type": "stream",
     "text": [
      " 50%|█████     | 200/400 [28:24<26:10,  7.85s/it]"
     ]
    },
    {
     "name": "stdout",
     "output_type": "stream",
     "text": [
      "=================================\n",
      "Initial portfolio value:100000\n",
      "Final portfolio value: 305186.6875\n",
      "Final accumulative portfolio value: 3.051866875\n",
      "Maximum DrawDown: -0.5053420725603488\n",
      "Sharpe ratio: 0.6258317471964858\n",
      "=================================\n"
     ]
    },
    {
     "name": "stderr",
     "output_type": "stream",
     "text": [
      " 50%|█████     | 201/400 [28:32<26:05,  7.86s/it]"
     ]
    },
    {
     "name": "stdout",
     "output_type": "stream",
     "text": [
      "=================================\n",
      "Initial portfolio value:100000\n",
      "Final portfolio value: 305188.5625\n",
      "Final accumulative portfolio value: 3.051885625\n",
      "Maximum DrawDown: -0.5053436805061022\n",
      "Sharpe ratio: 0.6258349740642074\n",
      "=================================\n"
     ]
    },
    {
     "name": "stderr",
     "output_type": "stream",
     "text": [
      " 50%|█████     | 202/400 [28:40<25:54,  7.85s/it]"
     ]
    },
    {
     "name": "stdout",
     "output_type": "stream",
     "text": [
      "=================================\n",
      "Initial portfolio value:100000\n",
      "Final portfolio value: 305186.96875\n",
      "Final accumulative portfolio value: 3.0518696875\n",
      "Maximum DrawDown: -0.5053446922386996\n",
      "Sharpe ratio: 0.6258322739276807\n",
      "=================================\n"
     ]
    },
    {
     "name": "stderr",
     "output_type": "stream",
     "text": [
      " 51%|█████     | 203/400 [28:48<25:45,  7.84s/it]"
     ]
    },
    {
     "name": "stdout",
     "output_type": "stream",
     "text": [
      "=================================\n",
      "Initial portfolio value:100000\n",
      "Final portfolio value: 305178.625\n",
      "Final accumulative portfolio value: 3.05178625\n",
      "Maximum DrawDown: -0.5053484615732333\n",
      "Sharpe ratio: 0.625820945127503\n",
      "=================================\n"
     ]
    },
    {
     "name": "stderr",
     "output_type": "stream",
     "text": [
      " 51%|█████     | 204/400 [28:56<25:37,  7.85s/it]"
     ]
    },
    {
     "name": "stdout",
     "output_type": "stream",
     "text": [
      "=================================\n",
      "Initial portfolio value:100000\n",
      "Final portfolio value: 305180.0\n",
      "Final accumulative portfolio value: 3.0518\n",
      "Maximum DrawDown: -0.5053494308821679\n",
      "Sharpe ratio: 0.6258216822237648\n",
      "=================================\n"
     ]
    },
    {
     "name": "stderr",
     "output_type": "stream",
     "text": [
      " 51%|█████▏    | 205/400 [29:03<25:29,  7.84s/it]"
     ]
    },
    {
     "name": "stdout",
     "output_type": "stream",
     "text": [
      "=================================\n",
      "Initial portfolio value:100000\n",
      "Final portfolio value: 305176.125\n",
      "Final accumulative portfolio value: 3.05176125\n",
      "Maximum DrawDown: -0.5053486745947953\n",
      "Sharpe ratio: 0.625816505432948\n",
      "=================================\n"
     ]
    },
    {
     "name": "stderr",
     "output_type": "stream",
     "text": [
      " 52%|█████▏    | 206/400 [29:11<25:20,  7.84s/it]"
     ]
    },
    {
     "name": "stdout",
     "output_type": "stream",
     "text": [
      "=================================\n",
      "Initial portfolio value:100000\n",
      "Final portfolio value: 305181.90625\n",
      "Final accumulative portfolio value: 3.0518190625\n",
      "Maximum DrawDown: -0.5053470062217824\n",
      "Sharpe ratio: 0.625824069835292\n",
      "=================================\n"
     ]
    },
    {
     "name": "stderr",
     "output_type": "stream",
     "text": [
      " 52%|█████▏    | 207/400 [29:19<25:11,  7.83s/it]"
     ]
    },
    {
     "name": "stdout",
     "output_type": "stream",
     "text": [
      "=================================\n",
      "Initial portfolio value:100000\n",
      "Final portfolio value: 305185.59375\n",
      "Final accumulative portfolio value: 3.0518559375\n",
      "Maximum DrawDown: -0.505342826453432\n",
      "Sharpe ratio: 0.6258310424485735\n",
      "=================================\n"
     ]
    },
    {
     "name": "stderr",
     "output_type": "stream",
     "text": [
      " 52%|█████▏    | 208/400 [29:27<25:38,  8.02s/it]"
     ]
    },
    {
     "name": "stdout",
     "output_type": "stream",
     "text": [
      "=================================\n",
      "Initial portfolio value:100000\n",
      "Final portfolio value: 305187.46875\n",
      "Final accumulative portfolio value: 3.0518746875\n",
      "Maximum DrawDown: -0.5053431988480039\n",
      "Sharpe ratio: 0.6258329481341439\n",
      "=================================\n"
     ]
    },
    {
     "name": "stderr",
     "output_type": "stream",
     "text": [
      " 52%|█████▏    | 209/400 [29:35<25:21,  7.97s/it]"
     ]
    },
    {
     "name": "stdout",
     "output_type": "stream",
     "text": [
      "=================================\n",
      "Initial portfolio value:100000\n",
      "Final portfolio value: 305176.9375\n",
      "Final accumulative portfolio value: 3.051769375\n",
      "Maximum DrawDown: -0.5053411382294302\n",
      "Sharpe ratio: 0.625816430218228\n",
      "=================================\n"
     ]
    },
    {
     "name": "stderr",
     "output_type": "stream",
     "text": [
      " 52%|█████▎    | 210/400 [29:43<25:06,  7.93s/it]"
     ]
    },
    {
     "name": "stdout",
     "output_type": "stream",
     "text": [
      "=================================\n",
      "Initial portfolio value:100000\n",
      "Final portfolio value: 305179.03125\n",
      "Final accumulative portfolio value: 3.0517903125\n",
      "Maximum DrawDown: -0.5053479699428491\n",
      "Sharpe ratio: 0.6258194595720188\n",
      "=================================\n"
     ]
    },
    {
     "name": "stderr",
     "output_type": "stream",
     "text": [
      " 53%|█████▎    | 211/400 [29:51<24:54,  7.91s/it]"
     ]
    },
    {
     "name": "stdout",
     "output_type": "stream",
     "text": [
      "=================================\n",
      "Initial portfolio value:100000\n",
      "Final portfolio value: 305184.40625\n",
      "Final accumulative portfolio value: 3.0518440625\n",
      "Maximum DrawDown: -0.5053504238784078\n",
      "Sharpe ratio: 0.6258262444302499\n",
      "=================================\n"
     ]
    },
    {
     "name": "stderr",
     "output_type": "stream",
     "text": [
      " 53%|█████▎    | 212/400 [29:59<24:42,  7.88s/it]"
     ]
    },
    {
     "name": "stdout",
     "output_type": "stream",
     "text": [
      "=================================\n",
      "Initial portfolio value:100000\n",
      "Final portfolio value: 305179.75\n",
      "Final accumulative portfolio value: 3.0517975\n",
      "Maximum DrawDown: -0.5053507057468394\n",
      "Sharpe ratio: 0.6258199601570678\n",
      "=================================\n"
     ]
    },
    {
     "name": "stderr",
     "output_type": "stream",
     "text": [
      " 53%|█████▎    | 213/400 [30:07<24:32,  7.87s/it]"
     ]
    },
    {
     "name": "stdout",
     "output_type": "stream",
     "text": [
      "=================================\n",
      "Initial portfolio value:100000\n",
      "Final portfolio value: 305176.40625\n",
      "Final accumulative portfolio value: 3.0517640625\n",
      "Maximum DrawDown: -0.5053505258701122\n",
      "Sharpe ratio: 0.6258152655104634\n",
      "=================================\n"
     ]
    },
    {
     "name": "stderr",
     "output_type": "stream",
     "text": [
      " 54%|█████▎    | 214/400 [30:15<24:20,  7.85s/it]"
     ]
    },
    {
     "name": "stdout",
     "output_type": "stream",
     "text": [
      "=================================\n",
      "Initial portfolio value:100000\n",
      "Final portfolio value: 305184.46875\n",
      "Final accumulative portfolio value: 3.0518446875\n",
      "Maximum DrawDown: -0.5053461455834437\n",
      "Sharpe ratio: 0.6258254966087149\n",
      "=================================\n"
     ]
    },
    {
     "name": "stderr",
     "output_type": "stream",
     "text": [
      " 54%|█████▍    | 215/400 [30:22<24:10,  7.84s/it]"
     ]
    },
    {
     "name": "stdout",
     "output_type": "stream",
     "text": [
      "=================================\n",
      "Initial portfolio value:100000\n",
      "Final portfolio value: 305176.0\n",
      "Final accumulative portfolio value: 3.05176\n",
      "Maximum DrawDown: -0.5053517457156569\n",
      "Sharpe ratio: 0.6258134574641797\n",
      "=================================\n"
     ]
    },
    {
     "name": "stderr",
     "output_type": "stream",
     "text": [
      " 54%|█████▍    | 216/400 [30:30<24:02,  7.84s/it]"
     ]
    },
    {
     "name": "stdout",
     "output_type": "stream",
     "text": [
      "=================================\n",
      "Initial portfolio value:100000\n",
      "Final portfolio value: 305177.0\n",
      "Final accumulative portfolio value: 3.05177\n",
      "Maximum DrawDown: -0.5053517903687914\n",
      "Sharpe ratio: 0.625814975328481\n",
      "=================================\n"
     ]
    },
    {
     "name": "stderr",
     "output_type": "stream",
     "text": [
      " 54%|█████▍    | 217/400 [30:38<23:53,  7.83s/it]"
     ]
    },
    {
     "name": "stdout",
     "output_type": "stream",
     "text": [
      "=================================\n",
      "Initial portfolio value:100000\n",
      "Final portfolio value: 305189.6875\n",
      "Final accumulative portfolio value: 3.051896875\n",
      "Maximum DrawDown: -0.505348210853197\n",
      "Sharpe ratio: 0.625833950398663\n",
      "=================================\n"
     ]
    },
    {
     "name": "stderr",
     "output_type": "stream",
     "text": [
      " 55%|█████▍    | 218/400 [30:46<23:45,  7.83s/it]"
     ]
    },
    {
     "name": "stdout",
     "output_type": "stream",
     "text": [
      "=================================\n",
      "Initial portfolio value:100000\n",
      "Final portfolio value: 305187.28125\n",
      "Final accumulative portfolio value: 3.0518728125\n",
      "Maximum DrawDown: -0.5053480830304511\n",
      "Sharpe ratio: 0.6258289450598854\n",
      "=================================\n"
     ]
    },
    {
     "name": "stderr",
     "output_type": "stream",
     "text": [
      " 55%|█████▍    | 219/400 [30:54<23:37,  7.83s/it]"
     ]
    },
    {
     "name": "stdout",
     "output_type": "stream",
     "text": [
      "=================================\n",
      "Initial portfolio value:100000\n",
      "Final portfolio value: 305178.875\n",
      "Final accumulative portfolio value: 3.05178875\n",
      "Maximum DrawDown: -0.5053556999960614\n",
      "Sharpe ratio: 0.625817142534034\n",
      "=================================\n"
     ]
    },
    {
     "name": "stderr",
     "output_type": "stream",
     "text": [
      " 55%|█████▌    | 220/400 [31:01<23:29,  7.83s/it]"
     ]
    },
    {
     "name": "stdout",
     "output_type": "stream",
     "text": [
      "=================================\n",
      "Initial portfolio value:100000\n",
      "Final portfolio value: 305178.15625\n",
      "Final accumulative portfolio value: 3.0517815625\n",
      "Maximum DrawDown: -0.5053486247373913\n",
      "Sharpe ratio: 0.625816340825156\n",
      "=================================\n"
     ]
    },
    {
     "name": "stderr",
     "output_type": "stream",
     "text": [
      " 55%|█████▌    | 221/400 [31:09<23:22,  7.84s/it]"
     ]
    },
    {
     "name": "stdout",
     "output_type": "stream",
     "text": [
      "=================================\n",
      "Initial portfolio value:100000\n",
      "Final portfolio value: 305180.625\n",
      "Final accumulative portfolio value: 3.05180625\n",
      "Maximum DrawDown: -0.5053471023378658\n",
      "Sharpe ratio: 0.625820045157872\n",
      "=================================\n"
     ]
    },
    {
     "name": "stderr",
     "output_type": "stream",
     "text": [
      " 56%|█████▌    | 222/400 [31:17<23:13,  7.83s/it]"
     ]
    },
    {
     "name": "stdout",
     "output_type": "stream",
     "text": [
      "=================================\n",
      "Initial portfolio value:100000\n",
      "Final portfolio value: 305188.15625\n",
      "Final accumulative portfolio value: 3.0518815625\n",
      "Maximum DrawDown: -0.5053514180926013\n",
      "Sharpe ratio: 0.6258306537678968\n",
      "=================================\n"
     ]
    },
    {
     "name": "stderr",
     "output_type": "stream",
     "text": [
      " 56%|█████▌    | 223/400 [31:25<23:03,  7.82s/it]"
     ]
    },
    {
     "name": "stdout",
     "output_type": "stream",
     "text": [
      "=================================\n",
      "Initial portfolio value:100000\n",
      "Final portfolio value: 305183.5625\n",
      "Final accumulative portfolio value: 3.051835625\n",
      "Maximum DrawDown: -0.5053469830719461\n",
      "Sharpe ratio: 0.6258241666642248\n",
      "=================================\n"
     ]
    },
    {
     "name": "stderr",
     "output_type": "stream",
     "text": [
      " 56%|█████▌    | 224/400 [31:33<22:57,  7.83s/it]"
     ]
    },
    {
     "name": "stdout",
     "output_type": "stream",
     "text": [
      "=================================\n",
      "Initial portfolio value:100000\n",
      "Final portfolio value: 305183.125\n",
      "Final accumulative portfolio value: 3.05183125\n",
      "Maximum DrawDown: -0.5053496031844305\n",
      "Sharpe ratio: 0.6258237990550599\n",
      "=================================\n"
     ]
    },
    {
     "name": "stderr",
     "output_type": "stream",
     "text": [
      " 56%|█████▋    | 225/400 [31:41<22:51,  7.84s/it]"
     ]
    },
    {
     "name": "stdout",
     "output_type": "stream",
     "text": [
      "=================================\n",
      "Initial portfolio value:100000\n",
      "Final portfolio value: 305193.5625\n",
      "Final accumulative portfolio value: 3.051935625\n",
      "Maximum DrawDown: -0.5053489328241079\n",
      "Sharpe ratio: 0.6258381961489682\n",
      "=================================\n"
     ]
    },
    {
     "name": "stderr",
     "output_type": "stream",
     "text": [
      " 56%|█████▋    | 226/400 [31:48<22:43,  7.84s/it]"
     ]
    },
    {
     "name": "stdout",
     "output_type": "stream",
     "text": [
      "=================================\n",
      "Initial portfolio value:100000\n",
      "Final portfolio value: 305182.21875\n",
      "Final accumulative portfolio value: 3.0518221875\n",
      "Maximum DrawDown: -0.5053519724612696\n",
      "Sharpe ratio: 0.6258209713005549\n",
      "=================================\n"
     ]
    },
    {
     "name": "stderr",
     "output_type": "stream",
     "text": [
      " 57%|█████▋    | 227/400 [31:56<22:38,  7.85s/it]"
     ]
    },
    {
     "name": "stdout",
     "output_type": "stream",
     "text": [
      "=================================\n",
      "Initial portfolio value:100000\n",
      "Final portfolio value: 305181.78125\n",
      "Final accumulative portfolio value: 3.0518178125\n",
      "Maximum DrawDown: -0.5053495962431649\n",
      "Sharpe ratio: 0.6258206340894042\n",
      "=================================\n"
     ]
    },
    {
     "name": "stderr",
     "output_type": "stream",
     "text": [
      " 57%|█████▋    | 228/400 [32:04<22:28,  7.84s/it]"
     ]
    },
    {
     "name": "stdout",
     "output_type": "stream",
     "text": [
      "=================================\n",
      "Initial portfolio value:100000\n",
      "Final portfolio value: 305187.40625\n",
      "Final accumulative portfolio value: 3.0518740625\n",
      "Maximum DrawDown: -0.5053538148480912\n",
      "Sharpe ratio: 0.6258278825065338\n",
      "=================================\n"
     ]
    },
    {
     "name": "stderr",
     "output_type": "stream",
     "text": [
      " 57%|█████▋    | 229/400 [32:13<22:59,  8.07s/it]"
     ]
    },
    {
     "name": "stdout",
     "output_type": "stream",
     "text": [
      "=================================\n",
      "Initial portfolio value:100000\n",
      "Final portfolio value: 305182.5\n",
      "Final accumulative portfolio value: 3.051825\n",
      "Maximum DrawDown: -0.5053530034316152\n",
      "Sharpe ratio: 0.6258206890404909\n",
      "=================================\n"
     ]
    },
    {
     "name": "stderr",
     "output_type": "stream",
     "text": [
      " 57%|█████▊    | 230/400 [32:21<22:49,  8.06s/it]"
     ]
    },
    {
     "name": "stdout",
     "output_type": "stream",
     "text": [
      "=================================\n",
      "Initial portfolio value:100000\n",
      "Final portfolio value: 305172.625\n",
      "Final accumulative portfolio value: 3.05172625\n",
      "Maximum DrawDown: -0.5053514397551828\n",
      "Sharpe ratio: 0.6258068304302185\n",
      "=================================\n"
     ]
    },
    {
     "name": "stderr",
     "output_type": "stream",
     "text": [
      " 58%|█████▊    | 231/400 [32:56<45:21, 16.10s/it]"
     ]
    },
    {
     "name": "stdout",
     "output_type": "stream",
     "text": [
      "=================================\n",
      "Initial portfolio value:100000\n",
      "Final portfolio value: 305190.84375\n",
      "Final accumulative portfolio value: 3.0519084375\n",
      "Maximum DrawDown: -0.5053539315286639\n",
      "Sharpe ratio: 0.6258338546292793\n",
      "=================================\n"
     ]
    },
    {
     "name": "stderr",
     "output_type": "stream",
     "text": [
      " 58%|█████▊    | 232/400 [33:29<59:17, 21.18s/it]"
     ]
    },
    {
     "name": "stdout",
     "output_type": "stream",
     "text": [
      "=================================\n",
      "Initial portfolio value:100000\n",
      "Final portfolio value: 305178.8125\n",
      "Final accumulative portfolio value: 3.051788125\n",
      "Maximum DrawDown: -0.5053572699316624\n",
      "Sharpe ratio: 0.6258154936780387\n",
      "=================================\n"
     ]
    },
    {
     "name": "stderr",
     "output_type": "stream",
     "text": [
      " 58%|█████▊    | 233/400 [33:37<47:55, 17.22s/it]"
     ]
    },
    {
     "name": "stdout",
     "output_type": "stream",
     "text": [
      "=================================\n",
      "Initial portfolio value:100000\n",
      "Final portfolio value: 305181.78125\n",
      "Final accumulative portfolio value: 3.0518178125\n",
      "Maximum DrawDown: -0.5053542026781866\n",
      "Sharpe ratio: 0.6258190527501476\n",
      "=================================\n"
     ]
    },
    {
     "name": "stderr",
     "output_type": "stream",
     "text": [
      " 58%|█████▊    | 234/400 [33:45<39:56, 14.44s/it]"
     ]
    },
    {
     "name": "stdout",
     "output_type": "stream",
     "text": [
      "=================================\n",
      "Initial portfolio value:100000\n",
      "Final portfolio value: 305180.28125\n",
      "Final accumulative portfolio value: 3.0518028125\n",
      "Maximum DrawDown: -0.5053607421054622\n",
      "Sharpe ratio: 0.6258167740236137\n",
      "=================================\n"
     ]
    },
    {
     "name": "stderr",
     "output_type": "stream",
     "text": [
      " 59%|█████▉    | 235/400 [33:52<34:15, 12.45s/it]"
     ]
    },
    {
     "name": "stdout",
     "output_type": "stream",
     "text": [
      "=================================\n",
      "Initial portfolio value:100000\n",
      "Final portfolio value: 305185.90625\n",
      "Final accumulative portfolio value: 3.0518590625\n",
      "Maximum DrawDown: -0.5053495112744743\n",
      "Sharpe ratio: 0.6258248999500822\n",
      "=================================\n"
     ]
    },
    {
     "name": "stderr",
     "output_type": "stream",
     "text": [
      " 59%|█████▉    | 236/400 [34:00<30:20, 11.10s/it]"
     ]
    },
    {
     "name": "stdout",
     "output_type": "stream",
     "text": [
      "=================================\n",
      "Initial portfolio value:100000\n",
      "Final portfolio value: 305189.59375\n",
      "Final accumulative portfolio value: 3.0518959375\n",
      "Maximum DrawDown: -0.5053446657472954\n",
      "Sharpe ratio: 0.6258304545230349\n",
      "=================================\n"
     ]
    },
    {
     "name": "stderr",
     "output_type": "stream",
     "text": [
      " 59%|█████▉    | 237/400 [34:08<27:35, 10.16s/it]"
     ]
    },
    {
     "name": "stdout",
     "output_type": "stream",
     "text": [
      "=================================\n",
      "Initial portfolio value:100000\n",
      "Final portfolio value: 305184.40625\n",
      "Final accumulative portfolio value: 3.0518440625\n",
      "Maximum DrawDown: -0.5053588334299548\n",
      "Sharpe ratio: 0.6258210918848969\n",
      "=================================\n"
     ]
    },
    {
     "name": "stderr",
     "output_type": "stream",
     "text": [
      " 60%|█████▉    | 238/400 [34:16<25:38,  9.50s/it]"
     ]
    },
    {
     "name": "stdout",
     "output_type": "stream",
     "text": [
      "=================================\n",
      "Initial portfolio value:100000\n",
      "Final portfolio value: 305185.8125\n",
      "Final accumulative portfolio value: 3.051858125\n",
      "Maximum DrawDown: -0.5053522697028034\n",
      "Sharpe ratio: 0.6258236160793209\n",
      "=================================\n"
     ]
    },
    {
     "name": "stderr",
     "output_type": "stream",
     "text": [
      " 60%|█████▉    | 239/400 [34:24<24:17,  9.05s/it]"
     ]
    },
    {
     "name": "stdout",
     "output_type": "stream",
     "text": [
      "=================================\n",
      "Initial portfolio value:100000\n",
      "Final portfolio value: 305199.03125\n",
      "Final accumulative portfolio value: 3.0519903125\n",
      "Maximum DrawDown: -0.5053532424687313\n",
      "Sharpe ratio: 0.6258433495466693\n",
      "=================================\n"
     ]
    },
    {
     "name": "stderr",
     "output_type": "stream",
     "text": [
      " 60%|██████    | 240/400 [34:32<23:12,  8.70s/it]"
     ]
    },
    {
     "name": "stdout",
     "output_type": "stream",
     "text": [
      "=================================\n",
      "Initial portfolio value:100000\n",
      "Final portfolio value: 305182.21875\n",
      "Final accumulative portfolio value: 3.0518221875\n",
      "Maximum DrawDown: -0.5053509299250094\n",
      "Sharpe ratio: 0.625818925227653\n",
      "=================================\n"
     ]
    },
    {
     "name": "stderr",
     "output_type": "stream",
     "text": [
      " 60%|██████    | 241/400 [34:40<22:26,  8.47s/it]"
     ]
    },
    {
     "name": "stdout",
     "output_type": "stream",
     "text": [
      "=================================\n",
      "Initial portfolio value:100000\n",
      "Final portfolio value: 305191.34375\n",
      "Final accumulative portfolio value: 3.0519134375\n",
      "Maximum DrawDown: -0.5053520137957486\n",
      "Sharpe ratio: 0.6258314701672159\n",
      "=================================\n"
     ]
    },
    {
     "name": "stderr",
     "output_type": "stream",
     "text": [
      " 60%|██████    | 242/400 [34:48<21:48,  8.28s/it]"
     ]
    },
    {
     "name": "stdout",
     "output_type": "stream",
     "text": [
      "=================================\n",
      "Initial portfolio value:100000\n",
      "Final portfolio value: 305185.6875\n",
      "Final accumulative portfolio value: 3.051856875\n",
      "Maximum DrawDown: -0.5053496297348334\n",
      "Sharpe ratio: 0.6258228164651737\n",
      "=================================\n"
     ]
    },
    {
     "name": "stderr",
     "output_type": "stream",
     "text": [
      " 61%|██████    | 243/400 [34:56<21:20,  8.16s/it]"
     ]
    },
    {
     "name": "stdout",
     "output_type": "stream",
     "text": [
      "=================================\n",
      "Initial portfolio value:100000\n",
      "Final portfolio value: 305187.03125\n",
      "Final accumulative portfolio value: 3.0518703125\n",
      "Maximum DrawDown: -0.5053514711827793\n",
      "Sharpe ratio: 0.6258251717279081\n",
      "=================================\n"
     ]
    },
    {
     "name": "stderr",
     "output_type": "stream",
     "text": [
      " 61%|██████    | 244/400 [35:04<21:00,  8.08s/it]"
     ]
    },
    {
     "name": "stdout",
     "output_type": "stream",
     "text": [
      "=================================\n",
      "Initial portfolio value:100000\n",
      "Final portfolio value: 305191.125\n",
      "Final accumulative portfolio value: 3.05191125\n",
      "Maximum DrawDown: -0.5053448364601181\n",
      "Sharpe ratio: 0.6258324571932952\n",
      "=================================\n"
     ]
    },
    {
     "name": "stderr",
     "output_type": "stream",
     "text": [
      " 61%|██████▏   | 245/400 [35:12<20:40,  8.01s/it]"
     ]
    },
    {
     "name": "stdout",
     "output_type": "stream",
     "text": [
      "=================================\n",
      "Initial portfolio value:100000\n",
      "Final portfolio value: 305195.21875\n",
      "Final accumulative portfolio value: 3.0519521875\n",
      "Maximum DrawDown: -0.5053504135805733\n",
      "Sharpe ratio: 0.6258371544142973\n",
      "=================================\n"
     ]
    },
    {
     "name": "stderr",
     "output_type": "stream",
     "text": [
      " 62%|██████▏   | 246/400 [35:19<20:25,  7.96s/it]"
     ]
    },
    {
     "name": "stdout",
     "output_type": "stream",
     "text": [
      "=================================\n",
      "Initial portfolio value:100000\n",
      "Final portfolio value: 305182.15625\n",
      "Final accumulative portfolio value: 3.0518215625\n",
      "Maximum DrawDown: -0.5053517065935531\n",
      "Sharpe ratio: 0.6258190908394438\n",
      "=================================\n"
     ]
    },
    {
     "name": "stderr",
     "output_type": "stream",
     "text": [
      " 62%|██████▏   | 247/400 [35:27<20:10,  7.91s/it]"
     ]
    },
    {
     "name": "stdout",
     "output_type": "stream",
     "text": [
      "=================================\n",
      "Initial portfolio value:100000\n",
      "Final portfolio value: 305178.9375\n",
      "Final accumulative portfolio value: 3.051789375\n",
      "Maximum DrawDown: -0.505363574152621\n",
      "Sharpe ratio: 0.6258134861212693\n",
      "=================================\n"
     ]
    },
    {
     "name": "stderr",
     "output_type": "stream",
     "text": [
      " 62%|██████▏   | 248/400 [35:35<20:00,  7.90s/it]"
     ]
    },
    {
     "name": "stdout",
     "output_type": "stream",
     "text": [
      "=================================\n",
      "Initial portfolio value:100000\n",
      "Final portfolio value: 305185.6875\n",
      "Final accumulative portfolio value: 3.051856875\n",
      "Maximum DrawDown: -0.5053549395735248\n",
      "Sharpe ratio: 0.6258227609827608\n",
      "=================================\n"
     ]
    },
    {
     "name": "stderr",
     "output_type": "stream",
     "text": [
      " 62%|██████▏   | 249/400 [35:43<19:50,  7.88s/it]"
     ]
    },
    {
     "name": "stdout",
     "output_type": "stream",
     "text": [
      "=================================\n",
      "Initial portfolio value:100000\n",
      "Final portfolio value: 305193.28125\n",
      "Final accumulative portfolio value: 3.0519328125\n",
      "Maximum DrawDown: -0.5053541847675607\n",
      "Sharpe ratio: 0.6258336156439959\n",
      "=================================\n"
     ]
    },
    {
     "name": "stderr",
     "output_type": "stream",
     "text": [
      " 62%|██████▎   | 250/400 [35:51<19:39,  7.86s/it]"
     ]
    },
    {
     "name": "stdout",
     "output_type": "stream",
     "text": [
      "=================================\n",
      "Initial portfolio value:100000\n",
      "Final portfolio value: 305187.75\n",
      "Final accumulative portfolio value: 3.0518775\n",
      "Maximum DrawDown: -0.5053503694602868\n",
      "Sharpe ratio: 0.6258270250806891\n",
      "=================================\n"
     ]
    },
    {
     "name": "stderr",
     "output_type": "stream",
     "text": [
      " 63%|██████▎   | 251/400 [35:59<19:31,  7.86s/it]"
     ]
    },
    {
     "name": "stdout",
     "output_type": "stream",
     "text": [
      "=================================\n",
      "Initial portfolio value:100000\n",
      "Final portfolio value: 305179.71875\n",
      "Final accumulative portfolio value: 3.0517971875\n",
      "Maximum DrawDown: -0.5053534026756421\n",
      "Sharpe ratio: 0.6258155921219465\n",
      "=================================\n"
     ]
    },
    {
     "name": "stderr",
     "output_type": "stream",
     "text": [
      " 63%|██████▎   | 252/400 [36:06<19:21,  7.85s/it]"
     ]
    },
    {
     "name": "stdout",
     "output_type": "stream",
     "text": [
      "=================================\n",
      "Initial portfolio value:100000\n",
      "Final portfolio value: 305179.40625\n",
      "Final accumulative portfolio value: 3.0517940625\n",
      "Maximum DrawDown: -0.5053541056560126\n",
      "Sharpe ratio: 0.6258143637692527\n",
      "=================================\n"
     ]
    },
    {
     "name": "stderr",
     "output_type": "stream",
     "text": [
      " 63%|██████▎   | 253/400 [36:14<19:13,  7.84s/it]"
     ]
    },
    {
     "name": "stdout",
     "output_type": "stream",
     "text": [
      "=================================\n",
      "Initial portfolio value:100000\n",
      "Final portfolio value: 305180.28125\n",
      "Final accumulative portfolio value: 3.0518028125\n",
      "Maximum DrawDown: -0.5053535081760359\n",
      "Sharpe ratio: 0.6258146794767052\n",
      "=================================\n"
     ]
    },
    {
     "name": "stderr",
     "output_type": "stream",
     "text": [
      " 64%|██████▎   | 254/400 [36:22<19:05,  7.85s/it]"
     ]
    },
    {
     "name": "stdout",
     "output_type": "stream",
     "text": [
      "=================================\n",
      "Initial portfolio value:100000\n",
      "Final portfolio value: 305178.40625\n",
      "Final accumulative portfolio value: 3.0517840625\n",
      "Maximum DrawDown: -0.5053569886078908\n",
      "Sharpe ratio: 0.6258116909776075\n",
      "=================================\n"
     ]
    },
    {
     "name": "stderr",
     "output_type": "stream",
     "text": [
      " 64%|██████▍   | 255/400 [36:30<18:57,  7.85s/it]"
     ]
    },
    {
     "name": "stdout",
     "output_type": "stream",
     "text": [
      "=================================\n",
      "Initial portfolio value:100000\n",
      "Final portfolio value: 305187.09375\n",
      "Final accumulative portfolio value: 3.0518709375\n",
      "Maximum DrawDown: -0.505357499036637\n",
      "Sharpe ratio: 0.6258244537361665\n",
      "=================================\n"
     ]
    },
    {
     "name": "stderr",
     "output_type": "stream",
     "text": [
      " 64%|██████▍   | 256/400 [36:38<18:50,  7.85s/it]"
     ]
    },
    {
     "name": "stdout",
     "output_type": "stream",
     "text": [
      "=================================\n",
      "Initial portfolio value:100000\n",
      "Final portfolio value: 305184.375\n",
      "Final accumulative portfolio value: 3.05184375\n",
      "Maximum DrawDown: -0.5053530154106751\n",
      "Sharpe ratio: 0.6258210855708902\n",
      "=================================\n"
     ]
    },
    {
     "name": "stderr",
     "output_type": "stream",
     "text": [
      " 64%|██████▍   | 257/400 [36:46<18:43,  7.85s/it]"
     ]
    },
    {
     "name": "stdout",
     "output_type": "stream",
     "text": [
      "=================================\n",
      "Initial portfolio value:100000\n",
      "Final portfolio value: 305191.6875\n",
      "Final accumulative portfolio value: 3.051916875\n",
      "Maximum DrawDown: -0.5053501293205884\n",
      "Sharpe ratio: 0.6258313765173938\n",
      "=================================\n"
     ]
    },
    {
     "name": "stderr",
     "output_type": "stream",
     "text": [
      " 64%|██████▍   | 258/400 [36:54<18:33,  7.84s/it]"
     ]
    },
    {
     "name": "stdout",
     "output_type": "stream",
     "text": [
      "=================================\n",
      "Initial portfolio value:100000\n",
      "Final portfolio value: 305188.28125\n",
      "Final accumulative portfolio value: 3.0518828125\n",
      "Maximum DrawDown: -0.5053509832346377\n",
      "Sharpe ratio: 0.6258265330421514\n",
      "=================================\n"
     ]
    },
    {
     "name": "stderr",
     "output_type": "stream",
     "text": [
      " 65%|██████▍   | 259/400 [37:01<18:25,  7.84s/it]"
     ]
    },
    {
     "name": "stdout",
     "output_type": "stream",
     "text": [
      "=================================\n",
      "Initial portfolio value:100000\n",
      "Final portfolio value: 305192.03125\n",
      "Final accumulative portfolio value: 3.0519203125\n",
      "Maximum DrawDown: -0.5053593510581751\n",
      "Sharpe ratio: 0.6258311516645194\n",
      "=================================\n"
     ]
    },
    {
     "name": "stderr",
     "output_type": "stream",
     "text": [
      " 65%|██████▌   | 260/400 [37:09<18:15,  7.82s/it]"
     ]
    },
    {
     "name": "stdout",
     "output_type": "stream",
     "text": [
      "=================================\n",
      "Initial portfolio value:100000\n",
      "Final portfolio value: 305179.0\n",
      "Final accumulative portfolio value: 3.05179\n",
      "Maximum DrawDown: -0.5053574057986776\n",
      "Sharpe ratio: 0.6258121461740541\n",
      "=================================\n"
     ]
    },
    {
     "name": "stderr",
     "output_type": "stream",
     "text": [
      " 65%|██████▌   | 261/400 [37:17<18:08,  7.83s/it]"
     ]
    },
    {
     "name": "stdout",
     "output_type": "stream",
     "text": [
      "=================================\n",
      "Initial portfolio value:100000\n",
      "Final portfolio value: 305182.5\n",
      "Final accumulative portfolio value: 3.051825\n",
      "Maximum DrawDown: -0.5053584377146652\n",
      "Sharpe ratio: 0.625816741320837\n",
      "=================================\n"
     ]
    },
    {
     "name": "stderr",
     "output_type": "stream",
     "text": [
      " 66%|██████▌   | 262/400 [37:25<18:03,  7.85s/it]"
     ]
    },
    {
     "name": "stdout",
     "output_type": "stream",
     "text": [
      "=================================\n",
      "Initial portfolio value:100000\n",
      "Final portfolio value: 305184.8125\n",
      "Final accumulative portfolio value: 3.051848125\n",
      "Maximum DrawDown: -0.5053602792417555\n",
      "Sharpe ratio: 0.6258197591417993\n",
      "=================================\n"
     ]
    },
    {
     "name": "stderr",
     "output_type": "stream",
     "text": [
      " 66%|██████▌   | 263/400 [37:33<17:59,  7.88s/it]"
     ]
    },
    {
     "name": "stdout",
     "output_type": "stream",
     "text": [
      "=================================\n",
      "Initial portfolio value:100000\n",
      "Final portfolio value: 305180.1875\n",
      "Final accumulative portfolio value: 3.051801875\n",
      "Maximum DrawDown: -0.5053599253521421\n",
      "Sharpe ratio: 0.6258126952192166\n",
      "=================================\n"
     ]
    },
    {
     "name": "stderr",
     "output_type": "stream",
     "text": [
      " 66%|██████▌   | 264/400 [37:41<18:21,  8.10s/it]"
     ]
    },
    {
     "name": "stdout",
     "output_type": "stream",
     "text": [
      "=================================\n",
      "Initial portfolio value:100000\n",
      "Final portfolio value: 305194.15625\n",
      "Final accumulative portfolio value: 3.0519415625\n",
      "Maximum DrawDown: -0.5053579375274778\n",
      "Sharpe ratio: 0.6258338075833175\n",
      "=================================\n"
     ]
    },
    {
     "name": "stderr",
     "output_type": "stream",
     "text": [
      " 66%|██████▋   | 265/400 [37:49<18:02,  8.02s/it]"
     ]
    },
    {
     "name": "stdout",
     "output_type": "stream",
     "text": [
      "=================================\n",
      "Initial portfolio value:100000\n",
      "Final portfolio value: 305177.6875\n",
      "Final accumulative portfolio value: 3.051776875\n",
      "Maximum DrawDown: -0.505360338130104\n",
      "Sharpe ratio: 0.6258085891204722\n",
      "=================================\n"
     ]
    },
    {
     "name": "stderr",
     "output_type": "stream",
     "text": [
      " 66%|██████▋   | 266/400 [37:57<17:49,  7.98s/it]"
     ]
    },
    {
     "name": "stdout",
     "output_type": "stream",
     "text": [
      "=================================\n",
      "Initial portfolio value:100000\n",
      "Final portfolio value: 305193.90625\n",
      "Final accumulative portfolio value: 3.0519390625\n",
      "Maximum DrawDown: -0.5053560793807745\n",
      "Sharpe ratio: 0.6258329660237759\n",
      "=================================\n"
     ]
    },
    {
     "name": "stderr",
     "output_type": "stream",
     "text": [
      " 67%|██████▋   | 267/400 [38:05<17:35,  7.93s/it]"
     ]
    },
    {
     "name": "stdout",
     "output_type": "stream",
     "text": [
      "=================================\n",
      "Initial portfolio value:100000\n",
      "Final portfolio value: 305186.6875\n",
      "Final accumulative portfolio value: 3.051866875\n",
      "Maximum DrawDown: -0.5053607939054745\n",
      "Sharpe ratio: 0.6258215508353019\n",
      "=================================\n"
     ]
    },
    {
     "name": "stderr",
     "output_type": "stream",
     "text": [
      " 67%|██████▋   | 268/400 [38:13<17:23,  7.90s/it]"
     ]
    },
    {
     "name": "stdout",
     "output_type": "stream",
     "text": [
      "=================================\n",
      "Initial portfolio value:100000\n",
      "Final portfolio value: 305190.0\n",
      "Final accumulative portfolio value: 3.0519\n",
      "Maximum DrawDown: -0.5053587108720345\n",
      "Sharpe ratio: 0.6258265026757481\n",
      "=================================\n"
     ]
    },
    {
     "name": "stderr",
     "output_type": "stream",
     "text": [
      " 67%|██████▋   | 269/400 [38:21<17:13,  7.89s/it]"
     ]
    },
    {
     "name": "stdout",
     "output_type": "stream",
     "text": [
      "=================================\n",
      "Initial portfolio value:100000\n",
      "Final portfolio value: 305181.125\n",
      "Final accumulative portfolio value: 3.05181125\n",
      "Maximum DrawDown: -0.5053618899978771\n",
      "Sharpe ratio: 0.6258126648373904\n",
      "=================================\n"
     ]
    },
    {
     "name": "stderr",
     "output_type": "stream",
     "text": [
      " 68%|██████▊   | 270/400 [38:29<17:05,  7.89s/it]"
     ]
    },
    {
     "name": "stdout",
     "output_type": "stream",
     "text": [
      "=================================\n",
      "Initial portfolio value:100000\n",
      "Final portfolio value: 305182.21875\n",
      "Final accumulative portfolio value: 3.0518221875\n",
      "Maximum DrawDown: -0.5053662106151604\n",
      "Sharpe ratio: 0.6258139043328181\n",
      "=================================\n"
     ]
    },
    {
     "name": "stderr",
     "output_type": "stream",
     "text": [
      " 68%|██████▊   | 271/400 [38:36<16:58,  7.89s/it]"
     ]
    },
    {
     "name": "stdout",
     "output_type": "stream",
     "text": [
      "=================================\n",
      "Initial portfolio value:100000\n",
      "Final portfolio value: 305182.84375\n",
      "Final accumulative portfolio value: 3.0518284375\n",
      "Maximum DrawDown: -0.5053562167001057\n",
      "Sharpe ratio: 0.6258155465805739\n",
      "=================================\n"
     ]
    },
    {
     "name": "stderr",
     "output_type": "stream",
     "text": [
      " 68%|██████▊   | 272/400 [38:44<16:48,  7.88s/it]"
     ]
    },
    {
     "name": "stdout",
     "output_type": "stream",
     "text": [
      "=================================\n",
      "Initial portfolio value:100000\n",
      "Final portfolio value: 305182.71875\n",
      "Final accumulative portfolio value: 3.0518271875\n",
      "Maximum DrawDown: -0.5053656154690609\n",
      "Sharpe ratio: 0.6258161179812705\n",
      "=================================\n"
     ]
    },
    {
     "name": "stderr",
     "output_type": "stream",
     "text": [
      " 68%|██████▊   | 273/400 [38:52<16:38,  7.86s/it]"
     ]
    },
    {
     "name": "stdout",
     "output_type": "stream",
     "text": [
      "=================================\n",
      "Initial portfolio value:100000\n",
      "Final portfolio value: 305179.1875\n",
      "Final accumulative portfolio value: 3.051791875\n",
      "Maximum DrawDown: -0.5053633220961381\n",
      "Sharpe ratio: 0.6258097179734795\n",
      "=================================\n"
     ]
    },
    {
     "name": "stderr",
     "output_type": "stream",
     "text": [
      " 68%|██████▊   | 274/400 [39:00<16:29,  7.85s/it]"
     ]
    },
    {
     "name": "stdout",
     "output_type": "stream",
     "text": [
      "=================================\n",
      "Initial portfolio value:100000\n",
      "Final portfolio value: 305189.75\n",
      "Final accumulative portfolio value: 3.0518975\n",
      "Maximum DrawDown: -0.505360362342786\n",
      "Sharpe ratio: 0.6258244634330304\n",
      "=================================\n"
     ]
    },
    {
     "name": "stderr",
     "output_type": "stream",
     "text": [
      " 69%|██████▉   | 275/400 [39:08<16:20,  7.84s/it]"
     ]
    },
    {
     "name": "stdout",
     "output_type": "stream",
     "text": [
      "=================================\n",
      "Initial portfolio value:100000\n",
      "Final portfolio value: 305188.15625\n",
      "Final accumulative portfolio value: 3.0518815625\n",
      "Maximum DrawDown: -0.5053611227745004\n",
      "Sharpe ratio: 0.6258230535817878\n",
      "=================================\n"
     ]
    },
    {
     "name": "stderr",
     "output_type": "stream",
     "text": [
      " 69%|██████▉   | 276/400 [39:16<16:11,  7.83s/it]"
     ]
    },
    {
     "name": "stdout",
     "output_type": "stream",
     "text": [
      "=================================\n",
      "Initial portfolio value:100000\n",
      "Final portfolio value: 305197.59375\n",
      "Final accumulative portfolio value: 3.0519759375\n",
      "Maximum DrawDown: -0.505359798097911\n",
      "Sharpe ratio: 0.625836340672474\n",
      "=================================\n"
     ]
    },
    {
     "name": "stderr",
     "output_type": "stream",
     "text": [
      " 69%|██████▉   | 277/400 [39:23<16:06,  7.85s/it]"
     ]
    },
    {
     "name": "stdout",
     "output_type": "stream",
     "text": [
      "=================================\n",
      "Initial portfolio value:100000\n",
      "Final portfolio value: 305193.09375\n",
      "Final accumulative portfolio value: 3.0519309375\n",
      "Maximum DrawDown: -0.5053563348610365\n",
      "Sharpe ratio: 0.6258293380829634\n",
      "=================================\n"
     ]
    },
    {
     "name": "stderr",
     "output_type": "stream",
     "text": [
      " 70%|██████▉   | 278/400 [39:31<15:56,  7.84s/it]"
     ]
    },
    {
     "name": "stdout",
     "output_type": "stream",
     "text": [
      "=================================\n",
      "Initial portfolio value:100000\n",
      "Final portfolio value: 305189.8125\n",
      "Final accumulative portfolio value: 3.051898125\n",
      "Maximum DrawDown: -0.5053576351737221\n",
      "Sharpe ratio: 0.6258240966438501\n",
      "=================================\n"
     ]
    },
    {
     "name": "stderr",
     "output_type": "stream",
     "text": [
      " 70%|██████▉   | 279/400 [39:39<15:47,  7.83s/it]"
     ]
    },
    {
     "name": "stdout",
     "output_type": "stream",
     "text": [
      "=================================\n",
      "Initial portfolio value:100000\n",
      "Final portfolio value: 305201.3125\n",
      "Final accumulative portfolio value: 3.052013125\n",
      "Maximum DrawDown: -0.5053585153531581\n",
      "Sharpe ratio: 0.6258406234033982\n",
      "=================================\n"
     ]
    },
    {
     "name": "stderr",
     "output_type": "stream",
     "text": [
      " 70%|███████   | 280/400 [39:47<15:38,  7.82s/it]"
     ]
    },
    {
     "name": "stdout",
     "output_type": "stream",
     "text": [
      "=================================\n",
      "Initial portfolio value:100000\n",
      "Final portfolio value: 305192.5625\n",
      "Final accumulative portfolio value: 3.051925625\n",
      "Maximum DrawDown: -0.5053615343255757\n",
      "Sharpe ratio: 0.6258279553541117\n",
      "=================================\n"
     ]
    },
    {
     "name": "stderr",
     "output_type": "stream",
     "text": [
      " 70%|███████   | 281/400 [39:55<15:30,  7.82s/it]"
     ]
    },
    {
     "name": "stdout",
     "output_type": "stream",
     "text": [
      "=================================\n",
      "Initial portfolio value:100000\n",
      "Final portfolio value: 305195.5\n",
      "Final accumulative portfolio value: 3.051955\n",
      "Maximum DrawDown: -0.5053572455531203\n",
      "Sharpe ratio: 0.6258329679155297\n",
      "=================================\n"
     ]
    },
    {
     "name": "stderr",
     "output_type": "stream",
     "text": [
      " 70%|███████   | 282/400 [40:03<15:23,  7.83s/it]"
     ]
    },
    {
     "name": "stdout",
     "output_type": "stream",
     "text": [
      "=================================\n",
      "Initial portfolio value:100000\n",
      "Final portfolio value: 305194.40625\n",
      "Final accumulative portfolio value: 3.0519440625\n",
      "Maximum DrawDown: -0.505359720191314\n",
      "Sharpe ratio: 0.6258304997221956\n",
      "=================================\n"
     ]
    },
    {
     "name": "stderr",
     "output_type": "stream",
     "text": [
      " 71%|███████   | 283/400 [40:10<15:15,  7.83s/it]"
     ]
    },
    {
     "name": "stdout",
     "output_type": "stream",
     "text": [
      "=================================\n",
      "Initial portfolio value:100000\n",
      "Final portfolio value: 305184.5\n",
      "Final accumulative portfolio value: 3.051845\n",
      "Maximum DrawDown: -0.5053663845512335\n",
      "Sharpe ratio: 0.625815634999484\n",
      "=================================\n"
     ]
    },
    {
     "name": "stderr",
     "output_type": "stream",
     "text": [
      " 71%|███████   | 284/400 [40:18<15:09,  7.84s/it]"
     ]
    },
    {
     "name": "stdout",
     "output_type": "stream",
     "text": [
      "=================================\n",
      "Initial portfolio value:100000\n",
      "Final portfolio value: 305192.6875\n",
      "Final accumulative portfolio value: 3.051926875\n",
      "Maximum DrawDown: -0.5053601398757886\n",
      "Sharpe ratio: 0.6258272806607188\n",
      "=================================\n"
     ]
    },
    {
     "name": "stderr",
     "output_type": "stream",
     "text": [
      " 71%|███████▏  | 285/400 [40:26<15:01,  7.84s/it]"
     ]
    },
    {
     "name": "stdout",
     "output_type": "stream",
     "text": [
      "=================================\n",
      "Initial portfolio value:100000\n",
      "Final portfolio value: 305193.25\n",
      "Final accumulative portfolio value: 3.0519325\n",
      "Maximum DrawDown: -0.5053562822611606\n",
      "Sharpe ratio: 0.6258281451309473\n",
      "=================================\n"
     ]
    },
    {
     "name": "stderr",
     "output_type": "stream",
     "text": [
      " 72%|███████▏  | 286/400 [40:34<14:55,  7.85s/it]"
     ]
    },
    {
     "name": "stdout",
     "output_type": "stream",
     "text": [
      "=================================\n",
      "Initial portfolio value:100000\n",
      "Final portfolio value: 305190.3125\n",
      "Final accumulative portfolio value: 3.051903125\n",
      "Maximum DrawDown: -0.50536227776058\n",
      "Sharpe ratio: 0.6258240933370866\n",
      "=================================\n"
     ]
    },
    {
     "name": "stderr",
     "output_type": "stream",
     "text": [
      " 72%|███████▏  | 287/400 [40:42<14:51,  7.89s/it]"
     ]
    },
    {
     "name": "stdout",
     "output_type": "stream",
     "text": [
      "=================================\n",
      "Initial portfolio value:100000\n",
      "Final portfolio value: 305185.28125\n",
      "Final accumulative portfolio value: 3.0518528125\n",
      "Maximum DrawDown: -0.5053475640644352\n",
      "Sharpe ratio: 0.6258166942701701\n",
      "=================================\n"
     ]
    },
    {
     "name": "stderr",
     "output_type": "stream",
     "text": [
      " 72%|███████▏  | 288/400 [40:50<14:42,  7.88s/it]"
     ]
    },
    {
     "name": "stdout",
     "output_type": "stream",
     "text": [
      "=================================\n",
      "Initial portfolio value:100000\n",
      "Final portfolio value: 305189.34375\n",
      "Final accumulative portfolio value: 3.0518934375\n",
      "Maximum DrawDown: -0.5053659126418935\n",
      "Sharpe ratio: 0.6258210638381903\n",
      "=================================\n"
     ]
    },
    {
     "name": "stderr",
     "output_type": "stream",
     "text": [
      " 72%|███████▏  | 289/400 [40:58<14:35,  7.89s/it]"
     ]
    },
    {
     "name": "stdout",
     "output_type": "stream",
     "text": [
      "=================================\n",
      "Initial portfolio value:100000\n",
      "Final portfolio value: 305186.4375\n",
      "Final accumulative portfolio value: 3.051864375\n",
      "Maximum DrawDown: -0.505362855206639\n",
      "Sharpe ratio: 0.62581722514147\n",
      "=================================\n"
     ]
    },
    {
     "name": "stderr",
     "output_type": "stream",
     "text": [
      " 72%|███████▎  | 290/400 [41:06<14:26,  7.87s/it]"
     ]
    },
    {
     "name": "stdout",
     "output_type": "stream",
     "text": [
      "=================================\n",
      "Initial portfolio value:100000\n",
      "Final portfolio value: 305197.90625\n",
      "Final accumulative portfolio value: 3.0519790625\n",
      "Maximum DrawDown: -0.5053595938576194\n",
      "Sharpe ratio: 0.6258346119257238\n",
      "=================================\n"
     ]
    },
    {
     "name": "stderr",
     "output_type": "stream",
     "text": [
      " 73%|███████▎  | 291/400 [41:13<14:16,  7.86s/it]"
     ]
    },
    {
     "name": "stdout",
     "output_type": "stream",
     "text": [
      "=================================\n",
      "Initial portfolio value:100000\n",
      "Final portfolio value: 305191.34375\n",
      "Final accumulative portfolio value: 3.0519134375\n",
      "Maximum DrawDown: -0.5053663879608516\n",
      "Sharpe ratio: 0.6258237762486047\n",
      "=================================\n"
     ]
    },
    {
     "name": "stderr",
     "output_type": "stream",
     "text": [
      " 73%|███████▎  | 292/400 [41:21<14:09,  7.87s/it]"
     ]
    },
    {
     "name": "stdout",
     "output_type": "stream",
     "text": [
      "=================================\n",
      "Initial portfolio value:100000\n",
      "Final portfolio value: 305191.4375\n",
      "Final accumulative portfolio value: 3.051914375\n",
      "Maximum DrawDown: -0.5053608586862209\n",
      "Sharpe ratio: 0.6258238933337097\n",
      "=================================\n"
     ]
    },
    {
     "name": "stderr",
     "output_type": "stream",
     "text": [
      " 73%|███████▎  | 293/400 [41:29<14:00,  7.86s/it]"
     ]
    },
    {
     "name": "stdout",
     "output_type": "stream",
     "text": [
      "=================================\n",
      "Initial portfolio value:100000\n",
      "Final portfolio value: 305189.0625\n",
      "Final accumulative portfolio value: 3.051890625\n",
      "Maximum DrawDown: -0.5053620551825965\n",
      "Sharpe ratio: 0.6258207970804688\n",
      "=================================\n"
     ]
    },
    {
     "name": "stderr",
     "output_type": "stream",
     "text": [
      " 74%|███████▎  | 294/400 [41:37<13:52,  7.85s/it]"
     ]
    },
    {
     "name": "stdout",
     "output_type": "stream",
     "text": [
      "=================================\n",
      "Initial portfolio value:100000\n",
      "Final portfolio value: 305181.75\n",
      "Final accumulative portfolio value: 3.0518175\n",
      "Maximum DrawDown: -0.5053632003847832\n",
      "Sharpe ratio: 0.6258100350230812\n",
      "=================================\n"
     ]
    },
    {
     "name": "stderr",
     "output_type": "stream",
     "text": [
      " 74%|███████▍  | 295/400 [41:45<13:43,  7.84s/it]"
     ]
    },
    {
     "name": "stdout",
     "output_type": "stream",
     "text": [
      "=================================\n",
      "Initial portfolio value:100000\n",
      "Final portfolio value: 305196.71875\n",
      "Final accumulative portfolio value: 3.0519671875\n",
      "Maximum DrawDown: -0.5053661230962478\n",
      "Sharpe ratio: 0.6258323112552803\n",
      "=================================\n"
     ]
    },
    {
     "name": "stderr",
     "output_type": "stream",
     "text": [
      " 74%|███████▍  | 296/400 [41:53<13:35,  7.84s/it]"
     ]
    },
    {
     "name": "stdout",
     "output_type": "stream",
     "text": [
      "=================================\n",
      "Initial portfolio value:100000\n",
      "Final portfolio value: 305190.65625\n",
      "Final accumulative portfolio value: 3.0519065625\n",
      "Maximum DrawDown: -0.5053639309739759\n",
      "Sharpe ratio: 0.6258224884048084\n",
      "=================================\n"
     ]
    },
    {
     "name": "stderr",
     "output_type": "stream",
     "text": [
      " 74%|███████▍  | 297/400 [42:00<13:28,  7.85s/it]"
     ]
    },
    {
     "name": "stdout",
     "output_type": "stream",
     "text": [
      "=================================\n",
      "Initial portfolio value:100000\n",
      "Final portfolio value: 305198.1875\n",
      "Final accumulative portfolio value: 3.051981875\n",
      "Maximum DrawDown: -0.5053637289411017\n",
      "Sharpe ratio: 0.6258330232440094\n",
      "=================================\n"
     ]
    },
    {
     "name": "stderr",
     "output_type": "stream",
     "text": [
      " 74%|███████▍  | 298/400 [42:08<13:21,  7.86s/it]"
     ]
    },
    {
     "name": "stdout",
     "output_type": "stream",
     "text": [
      "=================================\n",
      "Initial portfolio value:100000\n",
      "Final portfolio value: 305183.5\n",
      "Final accumulative portfolio value: 3.051835\n",
      "Maximum DrawDown: -0.5053577569262466\n",
      "Sharpe ratio: 0.6258106530328776\n",
      "=================================\n"
     ]
    },
    {
     "name": "stderr",
     "output_type": "stream",
     "text": [
      " 75%|███████▍  | 299/400 [42:16<13:12,  7.84s/it]"
     ]
    },
    {
     "name": "stdout",
     "output_type": "stream",
     "text": [
      "=================================\n",
      "Initial portfolio value:100000\n",
      "Final portfolio value: 305205.0\n",
      "Final accumulative portfolio value: 3.05205\n",
      "Maximum DrawDown: -0.5053578692018578\n",
      "Sharpe ratio: 0.6258431941254678\n",
      "=================================\n"
     ]
    },
    {
     "name": "stderr",
     "output_type": "stream",
     "text": [
      " 75%|███████▌  | 300/400 [42:24<13:04,  7.85s/it]"
     ]
    },
    {
     "name": "stdout",
     "output_type": "stream",
     "text": [
      "=================================\n",
      "Initial portfolio value:100000\n",
      "Final portfolio value: 305195.40625\n",
      "Final accumulative portfolio value: 3.0519540625\n",
      "Maximum DrawDown: -0.5053619748907734\n",
      "Sharpe ratio: 0.6258287073819025\n",
      "=================================\n"
     ]
    },
    {
     "name": "stderr",
     "output_type": "stream",
     "text": [
      " 75%|███████▌  | 301/400 [42:32<12:57,  7.85s/it]"
     ]
    },
    {
     "name": "stdout",
     "output_type": "stream",
     "text": [
      "=================================\n",
      "Initial portfolio value:100000\n",
      "Final portfolio value: 305193.5\n",
      "Final accumulative portfolio value: 3.051935\n",
      "Maximum DrawDown: -0.5053597280720494\n",
      "Sharpe ratio: 0.6258255564341585\n",
      "=================================\n"
     ]
    },
    {
     "name": "stderr",
     "output_type": "stream",
     "text": [
      " 76%|███████▌  | 302/400 [42:40<12:50,  7.86s/it]"
     ]
    },
    {
     "name": "stdout",
     "output_type": "stream",
     "text": [
      "=================================\n",
      "Initial portfolio value:100000\n",
      "Final portfolio value: 305192.625\n",
      "Final accumulative portfolio value: 3.05192625\n",
      "Maximum DrawDown: -0.5053595282275474\n",
      "Sharpe ratio: 0.6258240438929239\n",
      "=================================\n"
     ]
    },
    {
     "name": "stderr",
     "output_type": "stream",
     "text": [
      " 76%|███████▌  | 303/400 [42:48<12:42,  7.86s/it]"
     ]
    },
    {
     "name": "stdout",
     "output_type": "stream",
     "text": [
      "=================================\n",
      "Initial portfolio value:100000\n",
      "Final portfolio value: 305197.59375\n",
      "Final accumulative portfolio value: 3.0519759375\n",
      "Maximum DrawDown: -0.5053621034757823\n",
      "Sharpe ratio: 0.6258305993682641\n",
      "=================================\n"
     ]
    },
    {
     "name": "stderr",
     "output_type": "stream",
     "text": [
      " 76%|███████▌  | 304/400 [42:55<12:33,  7.85s/it]"
     ]
    },
    {
     "name": "stdout",
     "output_type": "stream",
     "text": [
      "=================================\n",
      "Initial portfolio value:100000\n",
      "Final portfolio value: 305199.75\n",
      "Final accumulative portfolio value: 3.0519975\n",
      "Maximum DrawDown: -0.5053620559825364\n",
      "Sharpe ratio: 0.625835543432597\n",
      "=================================\n"
     ]
    },
    {
     "name": "stderr",
     "output_type": "stream",
     "text": [
      " 76%|███████▋  | 305/400 [43:03<12:24,  7.83s/it]"
     ]
    },
    {
     "name": "stdout",
     "output_type": "stream",
     "text": [
      "=================================\n",
      "Initial portfolio value:100000\n",
      "Final portfolio value: 305197.78125\n",
      "Final accumulative portfolio value: 3.0519778125\n",
      "Maximum DrawDown: -0.5053644466314875\n",
      "Sharpe ratio: 0.6258311667923558\n",
      "=================================\n"
     ]
    },
    {
     "name": "stderr",
     "output_type": "stream",
     "text": [
      " 76%|███████▋  | 306/400 [43:11<12:16,  7.84s/it]"
     ]
    },
    {
     "name": "stdout",
     "output_type": "stream",
     "text": [
      "=================================\n",
      "Initial portfolio value:100000\n",
      "Final portfolio value: 305190.1875\n",
      "Final accumulative portfolio value: 3.051901875\n",
      "Maximum DrawDown: -0.5053636766163944\n",
      "Sharpe ratio: 0.6258207773551482\n",
      "=================================\n"
     ]
    },
    {
     "name": "stderr",
     "output_type": "stream",
     "text": [
      " 77%|███████▋  | 307/400 [43:19<12:09,  7.84s/it]"
     ]
    },
    {
     "name": "stdout",
     "output_type": "stream",
     "text": [
      "=================================\n",
      "Initial portfolio value:100000\n",
      "Final portfolio value: 305204.125\n",
      "Final accumulative portfolio value: 3.05204125\n",
      "Maximum DrawDown: -0.5053662443793382\n",
      "Sharpe ratio: 0.6258403078907375\n",
      "=================================\n"
     ]
    },
    {
     "name": "stderr",
     "output_type": "stream",
     "text": [
      " 77%|███████▋  | 308/400 [43:27<12:16,  8.01s/it]"
     ]
    },
    {
     "name": "stdout",
     "output_type": "stream",
     "text": [
      "=================================\n",
      "Initial portfolio value:100000\n",
      "Final portfolio value: 305186.09375\n",
      "Final accumulative portfolio value: 3.0518609375\n",
      "Maximum DrawDown: -0.5053645503530753\n",
      "Sharpe ratio: 0.6258134578762246\n",
      "=================================\n"
     ]
    },
    {
     "name": "stderr",
     "output_type": "stream",
     "text": [
      " 77%|███████▋  | 309/400 [43:35<12:11,  8.03s/it]"
     ]
    },
    {
     "name": "stdout",
     "output_type": "stream",
     "text": [
      "=================================\n",
      "Initial portfolio value:100000\n",
      "Final portfolio value: 305204.0\n",
      "Final accumulative portfolio value: 3.05204\n",
      "Maximum DrawDown: -0.5053678384688253\n",
      "Sharpe ratio: 0.6258389745739598\n",
      "=================================\n"
     ]
    },
    {
     "name": "stderr",
     "output_type": "stream",
     "text": [
      " 78%|███████▊  | 310/400 [45:07<49:38, 33.09s/it]"
     ]
    },
    {
     "name": "stdout",
     "output_type": "stream",
     "text": [
      "=================================\n",
      "Initial portfolio value:100000\n",
      "Final portfolio value: 305199.9375\n",
      "Final accumulative portfolio value: 3.051999375\n",
      "Maximum DrawDown: -0.505361832207289\n",
      "Sharpe ratio: 0.6258339543525069\n",
      "=================================\n"
     ]
    },
    {
     "name": "stderr",
     "output_type": "stream",
     "text": [
      " 78%|███████▊  | 311/400 [1:00:14<7:18:03, 295.33s/it]"
     ]
    },
    {
     "name": "stdout",
     "output_type": "stream",
     "text": [
      "=================================\n",
      "Initial portfolio value:100000\n",
      "Final portfolio value: 305198.28125\n",
      "Final accumulative portfolio value: 3.0519828125\n",
      "Maximum DrawDown: -0.5053630837858576\n",
      "Sharpe ratio: 0.6258313795060072\n",
      "=================================\n"
     ]
    },
    {
     "name": "stderr",
     "output_type": "stream",
     "text": [
      " 78%|███████▊  | 312/400 [1:00:22<5:06:43, 209.13s/it]"
     ]
    },
    {
     "name": "stdout",
     "output_type": "stream",
     "text": [
      "=================================\n",
      "Initial portfolio value:100000\n",
      "Final portfolio value: 305197.03125\n",
      "Final accumulative portfolio value: 3.0519703125\n",
      "Maximum DrawDown: -0.5053622336645516\n",
      "Sharpe ratio: 0.6258303281135239\n",
      "=================================\n"
     ]
    },
    {
     "name": "stderr",
     "output_type": "stream",
     "text": [
      " 78%|███████▊  | 313/400 [1:00:30<3:35:41, 148.75s/it]"
     ]
    },
    {
     "name": "stdout",
     "output_type": "stream",
     "text": [
      "=================================\n",
      "Initial portfolio value:100000\n",
      "Final portfolio value: 305191.6875\n",
      "Final accumulative portfolio value: 3.051916875\n",
      "Maximum DrawDown: -0.5053636939080486\n",
      "Sharpe ratio: 0.6258216208738968\n",
      "=================================\n"
     ]
    },
    {
     "name": "stderr",
     "output_type": "stream",
     "text": [
      " 78%|███████▊  | 314/400 [1:00:38<2:32:35, 106.46s/it]"
     ]
    },
    {
     "name": "stdout",
     "output_type": "stream",
     "text": [
      "=================================\n",
      "Initial portfolio value:100000\n",
      "Final portfolio value: 305197.5625\n",
      "Final accumulative portfolio value: 3.051975625\n",
      "Maximum DrawDown: -0.5053610058740234\n",
      "Sharpe ratio: 0.6258308293710045\n",
      "=================================\n"
     ]
    },
    {
     "name": "stderr",
     "output_type": "stream",
     "text": [
      " 79%|███████▉  | 315/400 [1:00:46<1:48:53, 76.86s/it] "
     ]
    },
    {
     "name": "stdout",
     "output_type": "stream",
     "text": [
      "=================================\n",
      "Initial portfolio value:100000\n",
      "Final portfolio value: 305203.625\n",
      "Final accumulative portfolio value: 3.05203625\n",
      "Maximum DrawDown: -0.5053614818433905\n",
      "Sharpe ratio: 0.6258394151401984\n",
      "=================================\n"
     ]
    },
    {
     "name": "stderr",
     "output_type": "stream",
     "text": [
      " 79%|███████▉  | 316/400 [1:00:54<1:18:44, 56.24s/it]"
     ]
    },
    {
     "name": "stdout",
     "output_type": "stream",
     "text": [
      "=================================\n",
      "Initial portfolio value:100000\n",
      "Final portfolio value: 305210.75\n",
      "Final accumulative portfolio value: 3.0521075\n",
      "Maximum DrawDown: -0.5053603039660051\n",
      "Sharpe ratio: 0.6258499723275387\n",
      "=================================\n"
     ]
    },
    {
     "name": "stderr",
     "output_type": "stream",
     "text": [
      " 79%|███████▉  | 317/400 [1:16:28<7:22:02, 319.55s/it]"
     ]
    },
    {
     "name": "stdout",
     "output_type": "stream",
     "text": [
      "=================================\n",
      "Initial portfolio value:100000\n",
      "Final portfolio value: 305197.15625\n",
      "Final accumulative portfolio value: 3.0519715625\n",
      "Maximum DrawDown: -0.505359986638636\n",
      "Sharpe ratio: 0.6258295559414875\n",
      "=================================\n"
     ]
    },
    {
     "name": "stderr",
     "output_type": "stream",
     "text": [
      " 80%|███████▉  | 318/400 [1:17:01<5:19:18, 233.64s/it]"
     ]
    },
    {
     "name": "stdout",
     "output_type": "stream",
     "text": [
      "=================================\n",
      "Initial portfolio value:100000\n",
      "Final portfolio value: 305187.75\n",
      "Final accumulative portfolio value: 3.0518775\n",
      "Maximum DrawDown: -0.505370608539178\n",
      "Sharpe ratio: 0.6258156054372228\n",
      "=================================\n"
     ]
    },
    {
     "name": "stderr",
     "output_type": "stream",
     "text": [
      " 80%|███████▉  | 319/400 [1:17:34<3:54:10, 173.46s/it]"
     ]
    },
    {
     "name": "stdout",
     "output_type": "stream",
     "text": [
      "=================================\n",
      "Initial portfolio value:100000\n",
      "Final portfolio value: 305195.1875\n",
      "Final accumulative portfolio value: 3.051951875\n",
      "Maximum DrawDown: -0.5053603307551919\n",
      "Sharpe ratio: 0.625826408179522\n",
      "=================================\n"
     ]
    },
    {
     "name": "stderr",
     "output_type": "stream",
     "text": [
      " 80%|████████  | 320/400 [1:17:42<2:44:59, 123.74s/it]"
     ]
    },
    {
     "name": "stdout",
     "output_type": "stream",
     "text": [
      "=================================\n",
      "Initial portfolio value:100000\n",
      "Final portfolio value: 305189.78125\n",
      "Final accumulative portfolio value: 3.0518978125\n",
      "Maximum DrawDown: -0.505366999850813\n",
      "Sharpe ratio: 0.6258164150592622\n",
      "=================================\n"
     ]
    },
    {
     "name": "stderr",
     "output_type": "stream",
     "text": [
      " 80%|████████  | 321/400 [1:18:15<2:07:05, 96.53s/it] "
     ]
    },
    {
     "name": "stdout",
     "output_type": "stream",
     "text": [
      "=================================\n",
      "Initial portfolio value:100000\n",
      "Final portfolio value: 305195.40625\n",
      "Final accumulative portfolio value: 3.0519540625\n",
      "Maximum DrawDown: -0.505367814313704\n",
      "Sharpe ratio: 0.625826268424865\n",
      "=================================\n"
     ]
    },
    {
     "name": "stderr",
     "output_type": "stream",
     "text": [
      " 80%|████████  | 322/400 [1:18:48<1:40:43, 77.48s/it]"
     ]
    },
    {
     "name": "stdout",
     "output_type": "stream",
     "text": [
      "=================================\n",
      "Initial portfolio value:100000\n",
      "Final portfolio value: 305201.84375\n",
      "Final accumulative portfolio value: 3.0520184375\n",
      "Maximum DrawDown: -0.5053639794729007\n",
      "Sharpe ratio: 0.6258359867429159\n",
      "=================================\n"
     ]
    },
    {
     "name": "stderr",
     "output_type": "stream",
     "text": [
      " 81%|████████  | 323/400 [1:19:21<1:22:20, 64.16s/it]"
     ]
    },
    {
     "name": "stdout",
     "output_type": "stream",
     "text": [
      "=================================\n",
      "Initial portfolio value:100000\n",
      "Final portfolio value: 305194.15625\n",
      "Final accumulative portfolio value: 3.0519415625\n",
      "Maximum DrawDown: -0.5053700979697423\n",
      "Sharpe ratio: 0.6258239274959075\n",
      "=================================\n"
     ]
    },
    {
     "name": "stderr",
     "output_type": "stream",
     "text": [
      " 81%|████████  | 324/400 [1:19:54<1:09:25, 54.81s/it]"
     ]
    },
    {
     "name": "stdout",
     "output_type": "stream",
     "text": [
      "=================================\n",
      "Initial portfolio value:100000\n",
      "Final portfolio value: 305197.21875\n",
      "Final accumulative portfolio value: 3.0519721875\n",
      "Maximum DrawDown: -0.5053655074817396\n",
      "Sharpe ratio: 0.6258283470072181\n",
      "=================================\n"
     ]
    },
    {
     "name": "stderr",
     "output_type": "stream",
     "text": [
      " 81%|████████▏ | 325/400 [1:20:27<1:00:25, 48.34s/it]"
     ]
    },
    {
     "name": "stdout",
     "output_type": "stream",
     "text": [
      "=================================\n",
      "Initial portfolio value:100000\n",
      "Final portfolio value: 305183.34375\n",
      "Final accumulative portfolio value: 3.0518334375\n",
      "Maximum DrawDown: -0.5053657897253434\n",
      "Sharpe ratio: 0.6258088944667174\n",
      "=================================\n"
     ]
    },
    {
     "name": "stderr",
     "output_type": "stream",
     "text": [
      " 82%|████████▏ | 326/400 [1:20:35<44:35, 36.16s/it]  "
     ]
    },
    {
     "name": "stdout",
     "output_type": "stream",
     "text": [
      "=================================\n",
      "Initial portfolio value:100000\n",
      "Final portfolio value: 305186.59375\n",
      "Final accumulative portfolio value: 3.0518659375\n",
      "Maximum DrawDown: -0.5053694964237421\n",
      "Sharpe ratio: 0.6258125732056028\n",
      "=================================\n"
     ]
    },
    {
     "name": "stderr",
     "output_type": "stream",
     "text": [
      " 82%|████████▏ | 327/400 [1:21:08<42:51, 35.22s/it]"
     ]
    },
    {
     "name": "stdout",
     "output_type": "stream",
     "text": [
      "=================================\n",
      "Initial portfolio value:100000\n",
      "Final portfolio value: 305194.6875\n",
      "Final accumulative portfolio value: 3.051946875\n",
      "Maximum DrawDown: -0.5053677904081166\n",
      "Sharpe ratio: 0.625825038317072\n",
      "=================================\n"
     ]
    },
    {
     "name": "stderr",
     "output_type": "stream",
     "text": [
      " 82%|████████▏ | 328/400 [1:21:41<41:29, 34.58s/it]"
     ]
    },
    {
     "name": "stdout",
     "output_type": "stream",
     "text": [
      "=================================\n",
      "Initial portfolio value:100000\n",
      "Final portfolio value: 305182.0625\n",
      "Final accumulative portfolio value: 3.051820625\n",
      "Maximum DrawDown: -0.5053693531011499\n",
      "Sharpe ratio: 0.6258057518218115\n",
      "=================================\n"
     ]
    },
    {
     "name": "stderr",
     "output_type": "stream",
     "text": [
      " 82%|████████▏ | 329/400 [1:30:40<3:39:57, 185.87s/it]"
     ]
    },
    {
     "name": "stdout",
     "output_type": "stream",
     "text": [
      "=================================\n",
      "Initial portfolio value:100000\n",
      "Final portfolio value: 305195.75\n",
      "Final accumulative portfolio value: 3.0519575\n",
      "Maximum DrawDown: -0.5053573772888527\n",
      "Sharpe ratio: 0.6258248755625802\n",
      "=================================\n"
     ]
    },
    {
     "name": "stderr",
     "output_type": "stream",
     "text": [
      " 82%|████████▎ | 330/400 [1:30:49<2:34:58, 132.84s/it]"
     ]
    },
    {
     "name": "stdout",
     "output_type": "stream",
     "text": [
      "=================================\n",
      "Initial portfolio value:100000\n",
      "Final portfolio value: 305195.5625\n",
      "Final accumulative portfolio value: 3.051955625\n",
      "Maximum DrawDown: -0.5053583873525782\n",
      "Sharpe ratio: 0.6258253088885193\n",
      "=================================\n"
     ]
    },
    {
     "name": "stderr",
     "output_type": "stream",
     "text": [
      " 83%|████████▎ | 331/400 [1:30:58<1:50:03, 95.70s/it] "
     ]
    },
    {
     "name": "stdout",
     "output_type": "stream",
     "text": [
      "=================================\n",
      "Initial portfolio value:100000\n",
      "Final portfolio value: 305186.84375\n",
      "Final accumulative portfolio value: 3.0518684375\n",
      "Maximum DrawDown: -0.5053748550073289\n",
      "Sharpe ratio: 0.6258128663300524\n",
      "=================================\n"
     ]
    },
    {
     "name": "stderr",
     "output_type": "stream",
     "text": [
      " 83%|████████▎ | 332/400 [1:31:08<1:19:25, 70.08s/it]"
     ]
    },
    {
     "name": "stdout",
     "output_type": "stream",
     "text": [
      "=================================\n",
      "Initial portfolio value:100000\n",
      "Final portfolio value: 305196.625\n",
      "Final accumulative portfolio value: 3.05196625\n",
      "Maximum DrawDown: -0.505364772292096\n",
      "Sharpe ratio: 0.6258273761262941\n",
      "=================================\n"
     ]
    },
    {
     "name": "stderr",
     "output_type": "stream",
     "text": [
      " 83%|████████▎ | 333/400 [1:31:17<57:41, 51.67s/it]  "
     ]
    },
    {
     "name": "stdout",
     "output_type": "stream",
     "text": [
      "=================================\n",
      "Initial portfolio value:100000\n",
      "Final portfolio value: 305203.6875\n",
      "Final accumulative portfolio value: 3.052036875\n",
      "Maximum DrawDown: -0.5053585205493063\n",
      "Sharpe ratio: 0.6258356109748312\n",
      "=================================\n"
     ]
    },
    {
     "name": "stderr",
     "output_type": "stream",
     "text": [
      " 84%|████████▎ | 334/400 [1:31:25<42:36, 38.74s/it]"
     ]
    },
    {
     "name": "stdout",
     "output_type": "stream",
     "text": [
      "=================================\n",
      "Initial portfolio value:100000\n",
      "Final portfolio value: 305202.1875\n",
      "Final accumulative portfolio value: 3.052021875\n",
      "Maximum DrawDown: -0.5053679901609909\n",
      "Sharpe ratio: 0.6258350364057156\n",
      "=================================\n"
     ]
    },
    {
     "name": "stderr",
     "output_type": "stream",
     "text": [
      " 84%|████████▍ | 335/400 [1:31:34<31:59, 29.53s/it]"
     ]
    },
    {
     "name": "stdout",
     "output_type": "stream",
     "text": [
      "=================================\n",
      "Initial portfolio value:100000\n",
      "Final portfolio value: 305197.8125\n",
      "Final accumulative portfolio value: 3.051978125\n",
      "Maximum DrawDown: -0.5053667553200416\n",
      "Sharpe ratio: 0.6258290900489698\n",
      "=================================\n"
     ]
    },
    {
     "name": "stderr",
     "output_type": "stream",
     "text": [
      " 84%|████████▍ | 336/400 [1:31:42<24:37, 23.09s/it]"
     ]
    },
    {
     "name": "stdout",
     "output_type": "stream",
     "text": [
      "=================================\n",
      "Initial portfolio value:100000\n",
      "Final portfolio value: 305195.25\n",
      "Final accumulative portfolio value: 3.0519525\n",
      "Maximum DrawDown: -0.5053672021387056\n",
      "Sharpe ratio: 0.6258260167356909\n",
      "=================================\n"
     ]
    },
    {
     "name": "stderr",
     "output_type": "stream",
     "text": [
      " 84%|████████▍ | 337/400 [1:31:50<19:32, 18.61s/it]"
     ]
    },
    {
     "name": "stdout",
     "output_type": "stream",
     "text": [
      "=================================\n",
      "Initial portfolio value:100000\n",
      "Final portfolio value: 305200.6875\n",
      "Final accumulative portfolio value: 3.052006875\n",
      "Maximum DrawDown: -0.5053608085931672\n",
      "Sharpe ratio: 0.6258338975663782\n",
      "=================================\n"
     ]
    },
    {
     "name": "stderr",
     "output_type": "stream",
     "text": [
      " 84%|████████▍ | 338/400 [1:31:58<15:57, 15.45s/it]"
     ]
    },
    {
     "name": "stdout",
     "output_type": "stream",
     "text": [
      "=================================\n",
      "Initial portfolio value:100000\n",
      "Final portfolio value: 305198.8125\n",
      "Final accumulative portfolio value: 3.051988125\n",
      "Maximum DrawDown: -0.5053559845299489\n",
      "Sharpe ratio: 0.6258300905374814\n",
      "=================================\n"
     ]
    },
    {
     "name": "stderr",
     "output_type": "stream",
     "text": [
      " 85%|████████▍ | 339/400 [1:32:06<13:26, 13.22s/it]"
     ]
    },
    {
     "name": "stdout",
     "output_type": "stream",
     "text": [
      "=================================\n",
      "Initial portfolio value:100000\n",
      "Final portfolio value: 305191.71875\n",
      "Final accumulative portfolio value: 3.0519171875\n",
      "Maximum DrawDown: -0.5053752360211303\n",
      "Sharpe ratio: 0.6258206359636004\n",
      "=================================\n"
     ]
    },
    {
     "name": "stderr",
     "output_type": "stream",
     "text": [
      " 85%|████████▌ | 340/400 [1:32:14<11:38, 11.64s/it]"
     ]
    },
    {
     "name": "stdout",
     "output_type": "stream",
     "text": [
      "=================================\n",
      "Initial portfolio value:100000\n",
      "Final portfolio value: 305202.40625\n",
      "Final accumulative portfolio value: 3.0520240625\n",
      "Maximum DrawDown: -0.5053634469276543\n",
      "Sharpe ratio: 0.6258343730062297\n",
      "=================================\n"
     ]
    },
    {
     "name": "stderr",
     "output_type": "stream",
     "text": [
      " 85%|████████▌ | 341/400 [1:32:22<10:26, 10.61s/it]"
     ]
    },
    {
     "name": "stdout",
     "output_type": "stream",
     "text": [
      "=================================\n",
      "Initial portfolio value:100000\n",
      "Final portfolio value: 305193.5\n",
      "Final accumulative portfolio value: 3.051935\n",
      "Maximum DrawDown: -0.5053604770312103\n",
      "Sharpe ratio: 0.6258209810661515\n",
      "=================================\n"
     ]
    },
    {
     "name": "stderr",
     "output_type": "stream",
     "text": [
      " 86%|████████▌ | 342/400 [1:32:30<09:33,  9.89s/it]"
     ]
    },
    {
     "name": "stdout",
     "output_type": "stream",
     "text": [
      "=================================\n",
      "Initial portfolio value:100000\n",
      "Final portfolio value: 305206.5625\n",
      "Final accumulative portfolio value: 3.052065625\n",
      "Maximum DrawDown: -0.5053569378594314\n",
      "Sharpe ratio: 0.6258410092111794\n",
      "=================================\n"
     ]
    },
    {
     "name": "stderr",
     "output_type": "stream",
     "text": [
      " 86%|████████▌ | 343/400 [1:32:38<08:51,  9.33s/it]"
     ]
    },
    {
     "name": "stdout",
     "output_type": "stream",
     "text": [
      "=================================\n",
      "Initial portfolio value:100000\n",
      "Final portfolio value: 305205.375\n",
      "Final accumulative portfolio value: 3.05205375\n",
      "Maximum DrawDown: -0.5053659176620272\n",
      "Sharpe ratio: 0.6258400071481629\n",
      "=================================\n"
     ]
    },
    {
     "name": "stderr",
     "output_type": "stream",
     "text": [
      " 86%|████████▌ | 344/400 [1:32:46<08:20,  8.94s/it]"
     ]
    },
    {
     "name": "stdout",
     "output_type": "stream",
     "text": [
      "=================================\n",
      "Initial portfolio value:100000\n",
      "Final portfolio value: 305202.8125\n",
      "Final accumulative portfolio value: 3.052028125\n",
      "Maximum DrawDown: -0.5053640951317854\n",
      "Sharpe ratio: 0.625836754274517\n",
      "=================================\n"
     ]
    },
    {
     "name": "stderr",
     "output_type": "stream",
     "text": [
      " 86%|████████▋ | 345/400 [1:32:54<07:56,  8.66s/it]"
     ]
    },
    {
     "name": "stdout",
     "output_type": "stream",
     "text": [
      "=================================\n",
      "Initial portfolio value:100000\n",
      "Final portfolio value: 305189.75\n",
      "Final accumulative portfolio value: 3.0518975\n",
      "Maximum DrawDown: -0.5053648257555199\n",
      "Sharpe ratio: 0.6258171728051031\n",
      "=================================\n"
     ]
    },
    {
     "name": "stderr",
     "output_type": "stream",
     "text": [
      " 86%|████████▋ | 346/400 [1:33:02<07:36,  8.45s/it]"
     ]
    },
    {
     "name": "stdout",
     "output_type": "stream",
     "text": [
      "=================================\n",
      "Initial portfolio value:100000\n",
      "Final portfolio value: 305189.40625\n",
      "Final accumulative portfolio value: 3.0518940625\n",
      "Maximum DrawDown: -0.5053736551223283\n",
      "Sharpe ratio: 0.6258153211770201\n",
      "=================================\n"
     ]
    },
    {
     "name": "stderr",
     "output_type": "stream",
     "text": [
      " 87%|████████▋ | 347/400 [1:33:10<07:19,  8.30s/it]"
     ]
    },
    {
     "name": "stdout",
     "output_type": "stream",
     "text": [
      "=================================\n",
      "Initial portfolio value:100000\n",
      "Final portfolio value: 305207.5625\n",
      "Final accumulative portfolio value: 3.052075625\n",
      "Maximum DrawDown: -0.505367271526205\n",
      "Sharpe ratio: 0.6258423901143543\n",
      "=================================\n"
     ]
    },
    {
     "name": "stderr",
     "output_type": "stream",
     "text": [
      " 87%|████████▋ | 348/400 [1:33:18<07:06,  8.20s/it]"
     ]
    },
    {
     "name": "stdout",
     "output_type": "stream",
     "text": [
      "=================================\n",
      "Initial portfolio value:100000\n",
      "Final portfolio value: 305193.28125\n",
      "Final accumulative portfolio value: 3.0519328125\n",
      "Maximum DrawDown: -0.5053777846138148\n",
      "Sharpe ratio: 0.6258211433204839\n",
      "=================================\n"
     ]
    },
    {
     "name": "stderr",
     "output_type": "stream",
     "text": [
      " 87%|████████▋ | 349/400 [1:33:26<06:54,  8.13s/it]"
     ]
    },
    {
     "name": "stdout",
     "output_type": "stream",
     "text": [
      "=================================\n",
      "Initial portfolio value:100000\n",
      "Final portfolio value: 305200.28125\n",
      "Final accumulative portfolio value: 3.0520028125\n",
      "Maximum DrawDown: -0.5053657203021136\n",
      "Sharpe ratio: 0.62583153625093\n",
      "=================================\n"
     ]
    },
    {
     "name": "stderr",
     "output_type": "stream",
     "text": [
      " 88%|████████▊ | 350/400 [1:33:34<06:49,  8.19s/it]"
     ]
    },
    {
     "name": "stdout",
     "output_type": "stream",
     "text": [
      "=================================\n",
      "Initial portfolio value:100000\n",
      "Final portfolio value: 305198.25\n",
      "Final accumulative portfolio value: 3.0519825\n",
      "Maximum DrawDown: -0.5053676988792501\n",
      "Sharpe ratio: 0.6258272688260538\n",
      "=================================\n"
     ]
    },
    {
     "name": "stderr",
     "output_type": "stream",
     "text": [
      " 88%|████████▊ | 351/400 [1:33:43<06:40,  8.17s/it]"
     ]
    },
    {
     "name": "stdout",
     "output_type": "stream",
     "text": [
      "=================================\n",
      "Initial portfolio value:100000\n",
      "Final portfolio value: 305188.5\n",
      "Final accumulative portfolio value: 3.051885\n",
      "Maximum DrawDown: -0.5053642838243784\n",
      "Sharpe ratio: 0.6258135300697164\n",
      "=================================\n"
     ]
    },
    {
     "name": "stderr",
     "output_type": "stream",
     "text": [
      " 88%|████████▊ | 352/400 [1:33:51<06:33,  8.19s/it]"
     ]
    },
    {
     "name": "stdout",
     "output_type": "stream",
     "text": [
      "=================================\n",
      "Initial portfolio value:100000\n",
      "Final portfolio value: 305196.03125\n",
      "Final accumulative portfolio value: 3.0519603125\n",
      "Maximum DrawDown: -0.5053757176798299\n",
      "Sharpe ratio: 0.6258250363565365\n",
      "=================================\n"
     ]
    },
    {
     "name": "stderr",
     "output_type": "stream",
     "text": [
      " 88%|████████▊ | 353/400 [1:33:59<06:26,  8.22s/it]"
     ]
    },
    {
     "name": "stdout",
     "output_type": "stream",
     "text": [
      "=================================\n",
      "Initial portfolio value:100000\n",
      "Final portfolio value: 305196.71875\n",
      "Final accumulative portfolio value: 3.0519671875\n",
      "Maximum DrawDown: -0.5053648902652018\n",
      "Sharpe ratio: 0.6258244454846202\n",
      "=================================\n"
     ]
    },
    {
     "name": "stderr",
     "output_type": "stream",
     "text": [
      " 88%|████████▊ | 354/400 [1:34:07<06:18,  8.23s/it]"
     ]
    },
    {
     "name": "stdout",
     "output_type": "stream",
     "text": [
      "=================================\n",
      "Initial portfolio value:100000\n",
      "Final portfolio value: 305197.96875\n",
      "Final accumulative portfolio value: 3.0519796875\n",
      "Maximum DrawDown: -0.505368427593268\n",
      "Sharpe ratio: 0.6258273536022849\n",
      "=================================\n"
     ]
    },
    {
     "name": "stderr",
     "output_type": "stream",
     "text": [
      " 89%|████████▉ | 355/400 [1:34:16<06:12,  8.28s/it]"
     ]
    },
    {
     "name": "stdout",
     "output_type": "stream",
     "text": [
      "=================================\n",
      "Initial portfolio value:100000\n",
      "Final portfolio value: 305188.375\n",
      "Final accumulative portfolio value: 3.05188375\n",
      "Maximum DrawDown: -0.5053753105996506\n",
      "Sharpe ratio: 0.6258124531715026\n",
      "=================================\n"
     ]
    },
    {
     "name": "stderr",
     "output_type": "stream",
     "text": [
      " 89%|████████▉ | 356/400 [1:34:24<06:01,  8.21s/it]"
     ]
    },
    {
     "name": "stdout",
     "output_type": "stream",
     "text": [
      "=================================\n",
      "Initial portfolio value:100000\n",
      "Final portfolio value: 305206.03125\n",
      "Final accumulative portfolio value: 3.0520603125\n",
      "Maximum DrawDown: -0.5053738946371895\n",
      "Sharpe ratio: 0.6258399950116903\n",
      "=================================\n"
     ]
    },
    {
     "name": "stderr",
     "output_type": "stream",
     "text": [
      " 89%|████████▉ | 357/400 [1:34:32<05:50,  8.14s/it]"
     ]
    },
    {
     "name": "stdout",
     "output_type": "stream",
     "text": [
      "=================================\n",
      "Initial portfolio value:100000\n",
      "Final portfolio value: 305195.40625\n",
      "Final accumulative portfolio value: 3.0519540625\n",
      "Maximum DrawDown: -0.5053734317436209\n",
      "Sharpe ratio: 0.6258228082706794\n",
      "=================================\n"
     ]
    },
    {
     "name": "stderr",
     "output_type": "stream",
     "text": [
      " 90%|████████▉ | 358/400 [1:34:40<05:40,  8.11s/it]"
     ]
    },
    {
     "name": "stdout",
     "output_type": "stream",
     "text": [
      "=================================\n",
      "Initial portfolio value:100000\n",
      "Final portfolio value: 305196.71875\n",
      "Final accumulative portfolio value: 3.0519671875\n",
      "Maximum DrawDown: -0.5053699102422854\n",
      "Sharpe ratio: 0.6258243775679782\n",
      "=================================\n"
     ]
    },
    {
     "name": "stderr",
     "output_type": "stream",
     "text": [
      " 90%|████████▉ | 359/400 [1:34:48<05:32,  8.10s/it]"
     ]
    },
    {
     "name": "stdout",
     "output_type": "stream",
     "text": [
      "=================================\n",
      "Initial portfolio value:100000\n",
      "Final portfolio value: 305200.34375\n",
      "Final accumulative portfolio value: 3.0520034375\n",
      "Maximum DrawDown: -0.5053717738960208\n",
      "Sharpe ratio: 0.6258302968818472\n",
      "=================================\n"
     ]
    },
    {
     "name": "stderr",
     "output_type": "stream",
     "text": [
      " 90%|█████████ | 360/400 [1:34:56<05:24,  8.11s/it]"
     ]
    },
    {
     "name": "stdout",
     "output_type": "stream",
     "text": [
      "=================================\n",
      "Initial portfolio value:100000\n",
      "Final portfolio value: 305195.8125\n",
      "Final accumulative portfolio value: 3.051958125\n",
      "Maximum DrawDown: -0.5053701408739829\n",
      "Sharpe ratio: 0.6258231916056839\n",
      "=================================\n"
     ]
    },
    {
     "name": "stderr",
     "output_type": "stream",
     "text": [
      " 90%|█████████ | 361/400 [1:35:04<05:14,  8.08s/it]"
     ]
    },
    {
     "name": "stdout",
     "output_type": "stream",
     "text": [
      "=================================\n",
      "Initial portfolio value:100000\n",
      "Final portfolio value: 305186.125\n",
      "Final accumulative portfolio value: 3.05186125\n",
      "Maximum DrawDown: -0.5053730720039313\n",
      "Sharpe ratio: 0.6258088394496666\n",
      "=================================\n"
     ]
    },
    {
     "name": "stderr",
     "output_type": "stream",
     "text": [
      " 90%|█████████ | 362/400 [1:35:12<05:05,  8.05s/it]"
     ]
    },
    {
     "name": "stdout",
     "output_type": "stream",
     "text": [
      "=================================\n",
      "Initial portfolio value:100000\n",
      "Final portfolio value: 305209.65625\n",
      "Final accumulative portfolio value: 3.0520965625\n",
      "Maximum DrawDown: -0.5053709991259305\n",
      "Sharpe ratio: 0.625842713883497\n",
      "=================================\n"
     ]
    },
    {
     "name": "stderr",
     "output_type": "stream",
     "text": [
      " 91%|█████████ | 363/400 [1:35:20<04:57,  8.03s/it]"
     ]
    },
    {
     "name": "stdout",
     "output_type": "stream",
     "text": [
      "=================================\n",
      "Initial portfolio value:100000\n",
      "Final portfolio value: 305199.46875\n",
      "Final accumulative portfolio value: 3.0519946875\n",
      "Maximum DrawDown: -0.5053763067888908\n",
      "Sharpe ratio: 0.6258288131035358\n",
      "=================================\n"
     ]
    },
    {
     "name": "stderr",
     "output_type": "stream",
     "text": [
      " 91%|█████████ | 364/400 [1:35:28<04:48,  8.02s/it]"
     ]
    },
    {
     "name": "stdout",
     "output_type": "stream",
     "text": [
      "=================================\n",
      "Initial portfolio value:100000\n",
      "Final portfolio value: 305197.9375\n",
      "Final accumulative portfolio value: 3.051979375\n",
      "Maximum DrawDown: -0.5053736101909163\n",
      "Sharpe ratio: 0.6258261835289359\n",
      "=================================\n"
     ]
    },
    {
     "name": "stderr",
     "output_type": "stream",
     "text": [
      " 91%|█████████▏| 365/400 [1:35:36<04:40,  8.01s/it]"
     ]
    },
    {
     "name": "stdout",
     "output_type": "stream",
     "text": [
      "=================================\n",
      "Initial portfolio value:100000\n",
      "Final portfolio value: 305218.75\n",
      "Final accumulative portfolio value: 3.0521875\n",
      "Maximum DrawDown: -0.5053759723332387\n",
      "Sharpe ratio: 0.6258557790561733\n",
      "=================================\n"
     ]
    },
    {
     "name": "stderr",
     "output_type": "stream",
     "text": [
      " 92%|█████████▏| 366/400 [1:35:44<04:32,  8.02s/it]"
     ]
    },
    {
     "name": "stdout",
     "output_type": "stream",
     "text": [
      "=================================\n",
      "Initial portfolio value:100000\n",
      "Final portfolio value: 305197.0\n",
      "Final accumulative portfolio value: 3.05197\n",
      "Maximum DrawDown: -0.5053565226524335\n",
      "Sharpe ratio: 0.6258244061018409\n",
      "=================================\n"
     ]
    },
    {
     "name": "stderr",
     "output_type": "stream",
     "text": [
      " 92%|█████████▏| 367/400 [1:35:52<04:24,  8.01s/it]"
     ]
    },
    {
     "name": "stdout",
     "output_type": "stream",
     "text": [
      "=================================\n",
      "Initial portfolio value:100000\n",
      "Final portfolio value: 305203.15625\n",
      "Final accumulative portfolio value: 3.0520315625\n",
      "Maximum DrawDown: -0.5053745169655535\n",
      "Sharpe ratio: 0.6258339079193619\n",
      "=================================\n"
     ]
    },
    {
     "name": "stderr",
     "output_type": "stream",
     "text": [
      " 92%|█████████▏| 368/400 [1:36:00<04:16,  8.01s/it]"
     ]
    },
    {
     "name": "stdout",
     "output_type": "stream",
     "text": [
      "=================================\n",
      "Initial portfolio value:100000\n",
      "Final portfolio value: 305199.6875\n",
      "Final accumulative portfolio value: 3.051996875\n",
      "Maximum DrawDown: -0.5053729882389728\n",
      "Sharpe ratio: 0.6258286305211345\n",
      "=================================\n"
     ]
    },
    {
     "name": "stderr",
     "output_type": "stream",
     "text": [
      " 92%|█████████▏| 369/400 [1:36:08<04:08,  8.00s/it]"
     ]
    },
    {
     "name": "stdout",
     "output_type": "stream",
     "text": [
      "=================================\n",
      "Initial portfolio value:100000\n",
      "Final portfolio value: 305203.28125\n",
      "Final accumulative portfolio value: 3.0520328125\n",
      "Maximum DrawDown: -0.5053663691471201\n",
      "Sharpe ratio: 0.6258325854306539\n",
      "=================================\n"
     ]
    },
    {
     "name": "stderr",
     "output_type": "stream",
     "text": [
      " 92%|█████████▎| 370/400 [1:36:16<04:00,  8.01s/it]"
     ]
    },
    {
     "name": "stdout",
     "output_type": "stream",
     "text": [
      "=================================\n",
      "Initial portfolio value:100000\n",
      "Final portfolio value: 305195.21875\n",
      "Final accumulative portfolio value: 3.0519521875\n",
      "Maximum DrawDown: -0.5053687844873204\n",
      "Sharpe ratio: 0.625821085573059\n",
      "=================================\n"
     ]
    },
    {
     "name": "stderr",
     "output_type": "stream",
     "text": [
      " 93%|█████████▎| 371/400 [1:36:24<03:52,  8.01s/it]"
     ]
    },
    {
     "name": "stdout",
     "output_type": "stream",
     "text": [
      "=================================\n",
      "Initial portfolio value:100000\n",
      "Final portfolio value: 305204.1875\n",
      "Final accumulative portfolio value: 3.052041875\n",
      "Maximum DrawDown: -0.5053639759288326\n",
      "Sharpe ratio: 0.6258348035150332\n",
      "=================================\n"
     ]
    },
    {
     "name": "stderr",
     "output_type": "stream",
     "text": [
      " 93%|█████████▎| 372/400 [1:36:32<03:44,  8.02s/it]"
     ]
    },
    {
     "name": "stdout",
     "output_type": "stream",
     "text": [
      "=================================\n",
      "Initial portfolio value:100000\n",
      "Final portfolio value: 305193.40625\n",
      "Final accumulative portfolio value: 3.0519340625\n",
      "Maximum DrawDown: -0.5053687403298448\n",
      "Sharpe ratio: 0.6258186317765048\n",
      "=================================\n"
     ]
    },
    {
     "name": "stderr",
     "output_type": "stream",
     "text": [
      " 93%|█████████▎| 373/400 [1:36:40<03:37,  8.05s/it]"
     ]
    },
    {
     "name": "stdout",
     "output_type": "stream",
     "text": [
      "=================================\n",
      "Initial portfolio value:100000\n",
      "Final portfolio value: 305196.40625\n",
      "Final accumulative portfolio value: 3.0519640625\n",
      "Maximum DrawDown: -0.505370177726902\n",
      "Sharpe ratio: 0.6258237960916537\n",
      "=================================\n"
     ]
    },
    {
     "name": "stderr",
     "output_type": "stream",
     "text": [
      " 94%|█████████▎| 374/400 [1:36:48<03:29,  8.05s/it]"
     ]
    },
    {
     "name": "stdout",
     "output_type": "stream",
     "text": [
      "=================================\n",
      "Initial portfolio value:100000\n",
      "Final portfolio value: 305200.84375\n",
      "Final accumulative portfolio value: 3.0520084375\n",
      "Maximum DrawDown: -0.5053689112984827\n",
      "Sharpe ratio: 0.6258297474815737\n",
      "=================================\n"
     ]
    },
    {
     "name": "stderr",
     "output_type": "stream",
     "text": [
      " 94%|█████████▍| 375/400 [1:36:56<03:21,  8.07s/it]"
     ]
    },
    {
     "name": "stdout",
     "output_type": "stream",
     "text": [
      "=================================\n",
      "Initial portfolio value:100000\n",
      "Final portfolio value: 305196.8125\n",
      "Final accumulative portfolio value: 3.051968125\n",
      "Maximum DrawDown: -0.5053701043355656\n",
      "Sharpe ratio: 0.6258233805275976\n",
      "=================================\n"
     ]
    },
    {
     "name": "stderr",
     "output_type": "stream",
     "text": [
      " 94%|█████████▍| 376/400 [1:37:04<03:13,  8.05s/it]"
     ]
    },
    {
     "name": "stdout",
     "output_type": "stream",
     "text": [
      "=================================\n",
      "Initial portfolio value:100000\n",
      "Final portfolio value: 305206.8125\n",
      "Final accumulative portfolio value: 3.052068125\n",
      "Maximum DrawDown: -0.5053700152782177\n",
      "Sharpe ratio: 0.6258386145594478\n",
      "=================================\n"
     ]
    },
    {
     "name": "stderr",
     "output_type": "stream",
     "text": [
      " 94%|█████████▍| 377/400 [1:37:12<03:04,  8.04s/it]"
     ]
    },
    {
     "name": "stdout",
     "output_type": "stream",
     "text": [
      "=================================\n",
      "Initial portfolio value:100000\n",
      "Final portfolio value: 305200.25\n",
      "Final accumulative portfolio value: 3.0520025\n",
      "Maximum DrawDown: -0.5053644053339643\n",
      "Sharpe ratio: 0.6258289575927402\n",
      "=================================\n"
     ]
    },
    {
     "name": "stderr",
     "output_type": "stream",
     "text": [
      " 94%|█████████▍| 378/400 [1:37:20<02:56,  8.03s/it]"
     ]
    },
    {
     "name": "stdout",
     "output_type": "stream",
     "text": [
      "=================================\n",
      "Initial portfolio value:100000\n",
      "Final portfolio value: 305208.1875\n",
      "Final accumulative portfolio value: 3.052081875\n",
      "Maximum DrawDown: -0.5053706939866189\n",
      "Sharpe ratio: 0.6258407260622343\n",
      "=================================\n"
     ]
    },
    {
     "name": "stderr",
     "output_type": "stream",
     "text": [
      " 95%|█████████▍| 379/400 [1:37:28<02:48,  8.03s/it]"
     ]
    },
    {
     "name": "stdout",
     "output_type": "stream",
     "text": [
      "=================================\n",
      "Initial portfolio value:100000\n",
      "Final portfolio value: 305193.875\n",
      "Final accumulative portfolio value: 3.05193875\n",
      "Maximum DrawDown: -0.5053734774575322\n",
      "Sharpe ratio: 0.6258191630876798\n",
      "=================================\n"
     ]
    },
    {
     "name": "stderr",
     "output_type": "stream",
     "text": [
      " 95%|█████████▌| 380/400 [1:37:36<02:40,  8.04s/it]"
     ]
    },
    {
     "name": "stdout",
     "output_type": "stream",
     "text": [
      "=================================\n",
      "Initial portfolio value:100000\n",
      "Final portfolio value: 305202.09375\n",
      "Final accumulative portfolio value: 3.0520209375\n",
      "Maximum DrawDown: -0.5053790238062381\n",
      "Sharpe ratio: 0.6258313277427587\n",
      "=================================\n"
     ]
    },
    {
     "name": "stderr",
     "output_type": "stream",
     "text": [
      " 95%|█████████▌| 381/400 [1:37:44<02:32,  8.03s/it]"
     ]
    },
    {
     "name": "stdout",
     "output_type": "stream",
     "text": [
      "=================================\n",
      "Initial portfolio value:100000\n",
      "Final portfolio value: 305185.71875\n",
      "Final accumulative portfolio value: 3.0518571875\n",
      "Maximum DrawDown: -0.5053670803852515\n",
      "Sharpe ratio: 0.6258069659696593\n",
      "=================================\n"
     ]
    },
    {
     "name": "stderr",
     "output_type": "stream",
     "text": [
      " 96%|█████████▌| 382/400 [1:37:53<02:24,  8.04s/it]"
     ]
    },
    {
     "name": "stdout",
     "output_type": "stream",
     "text": [
      "=================================\n",
      "Initial portfolio value:100000\n",
      "Final portfolio value: 305204.125\n",
      "Final accumulative portfolio value: 3.05204125\n",
      "Maximum DrawDown: -0.5053775972941983\n",
      "Sharpe ratio: 0.6258345230574889\n",
      "=================================\n"
     ]
    },
    {
     "name": "stderr",
     "output_type": "stream",
     "text": [
      " 96%|█████████▌| 383/400 [1:38:01<02:16,  8.03s/it]"
     ]
    },
    {
     "name": "stdout",
     "output_type": "stream",
     "text": [
      "=================================\n",
      "Initial portfolio value:100000\n",
      "Final portfolio value: 305206.0625\n",
      "Final accumulative portfolio value: 3.052060625\n",
      "Maximum DrawDown: -0.5053694258365282\n",
      "Sharpe ratio: 0.6258375274901806\n",
      "=================================\n"
     ]
    },
    {
     "name": "stderr",
     "output_type": "stream",
     "text": [
      " 96%|█████████▌| 384/400 [1:38:09<02:08,  8.02s/it]"
     ]
    },
    {
     "name": "stdout",
     "output_type": "stream",
     "text": [
      "=================================\n",
      "Initial portfolio value:100000\n",
      "Final portfolio value: 305197.46875\n",
      "Final accumulative portfolio value: 3.0519746875\n",
      "Maximum DrawDown: -0.5053704291882695\n",
      "Sharpe ratio: 0.6258246039932561\n",
      "=================================\n"
     ]
    },
    {
     "name": "stderr",
     "output_type": "stream",
     "text": [
      " 96%|█████████▋| 385/400 [1:38:17<02:00,  8.03s/it]"
     ]
    },
    {
     "name": "stdout",
     "output_type": "stream",
     "text": [
      "=================================\n",
      "Initial portfolio value:100000\n",
      "Final portfolio value: 305198.375\n",
      "Final accumulative portfolio value: 3.05198375\n",
      "Maximum DrawDown: -0.505373136978088\n",
      "Sharpe ratio: 0.625826054969847\n",
      "=================================\n"
     ]
    },
    {
     "name": "stderr",
     "output_type": "stream",
     "text": [
      " 96%|█████████▋| 386/400 [1:38:25<01:52,  8.03s/it]"
     ]
    },
    {
     "name": "stdout",
     "output_type": "stream",
     "text": [
      "=================================\n",
      "Initial portfolio value:100000\n",
      "Final portfolio value: 305193.625\n",
      "Final accumulative portfolio value: 3.05193625\n",
      "Maximum DrawDown: -0.5053730808667225\n",
      "Sharpe ratio: 0.6258199192678539\n",
      "=================================\n"
     ]
    },
    {
     "name": "stderr",
     "output_type": "stream",
     "text": [
      " 97%|█████████▋| 387/400 [1:38:33<01:45,  8.14s/it]"
     ]
    },
    {
     "name": "stdout",
     "output_type": "stream",
     "text": [
      "=================================\n",
      "Initial portfolio value:100000\n",
      "Final portfolio value: 305211.5\n",
      "Final accumulative portfolio value: 3.052115\n",
      "Maximum DrawDown: -0.5053612984760356\n",
      "Sharpe ratio: 0.625844539707627\n",
      "=================================\n"
     ]
    },
    {
     "name": "stderr",
     "output_type": "stream",
     "text": [
      " 97%|█████████▋| 388/400 [1:38:41<01:38,  8.22s/it]"
     ]
    },
    {
     "name": "stdout",
     "output_type": "stream",
     "text": [
      "=================================\n",
      "Initial portfolio value:100000\n",
      "Final portfolio value: 305205.03125\n",
      "Final accumulative portfolio value: 3.0520503125\n",
      "Maximum DrawDown: -0.5053607555176229\n",
      "Sharpe ratio: 0.6258355895645763\n",
      "=================================\n"
     ]
    },
    {
     "name": "stderr",
     "output_type": "stream",
     "text": [
      " 97%|█████████▋| 389/400 [1:38:50<01:30,  8.20s/it]"
     ]
    },
    {
     "name": "stdout",
     "output_type": "stream",
     "text": [
      "=================================\n",
      "Initial portfolio value:100000\n",
      "Final portfolio value: 305197.84375\n",
      "Final accumulative portfolio value: 3.0519784375\n",
      "Maximum DrawDown: -0.505372148490166\n",
      "Sharpe ratio: 0.6258248508269686\n",
      "=================================\n"
     ]
    },
    {
     "name": "stderr",
     "output_type": "stream",
     "text": [
      " 98%|█████████▊| 390/400 [1:38:58<01:22,  8.20s/it]"
     ]
    },
    {
     "name": "stdout",
     "output_type": "stream",
     "text": [
      "=================================\n",
      "Initial portfolio value:100000\n",
      "Final portfolio value: 305206.8125\n",
      "Final accumulative portfolio value: 3.052068125\n",
      "Maximum DrawDown: -0.5053632358631046\n",
      "Sharpe ratio: 0.6258379331469942\n",
      "=================================\n"
     ]
    },
    {
     "name": "stderr",
     "output_type": "stream",
     "text": [
      " 98%|█████████▊| 391/400 [1:39:06<01:13,  8.17s/it]"
     ]
    },
    {
     "name": "stdout",
     "output_type": "stream",
     "text": [
      "=================================\n",
      "Initial portfolio value:100000\n",
      "Final portfolio value: 305190.53125\n",
      "Final accumulative portfolio value: 3.0519053125\n",
      "Maximum DrawDown: -0.5053630827097731\n",
      "Sharpe ratio: 0.6258138020367671\n",
      "=================================\n"
     ]
    },
    {
     "name": "stderr",
     "output_type": "stream",
     "text": [
      " 98%|█████████▊| 392/400 [1:39:14<01:04,  8.12s/it]"
     ]
    },
    {
     "name": "stdout",
     "output_type": "stream",
     "text": [
      "=================================\n",
      "Initial portfolio value:100000\n",
      "Final portfolio value: 305200.53125\n",
      "Final accumulative portfolio value: 3.0520053125\n",
      "Maximum DrawDown: -0.5053772977469488\n",
      "Sharpe ratio: 0.625828927011568\n",
      "=================================\n"
     ]
    },
    {
     "name": "stderr",
     "output_type": "stream",
     "text": [
      " 98%|█████████▊| 393/400 [1:39:22<00:56,  8.07s/it]"
     ]
    },
    {
     "name": "stdout",
     "output_type": "stream",
     "text": [
      "=================================\n",
      "Initial portfolio value:100000\n",
      "Final portfolio value: 305185.0\n",
      "Final accumulative portfolio value: 3.05185\n",
      "Maximum DrawDown: -0.5053736554672121\n",
      "Sharpe ratio: 0.6258052562021695\n",
      "=================================\n"
     ]
    },
    {
     "name": "stderr",
     "output_type": "stream",
     "text": [
      " 98%|█████████▊| 394/400 [1:39:30<00:48,  8.07s/it]"
     ]
    },
    {
     "name": "stdout",
     "output_type": "stream",
     "text": [
      "=================================\n",
      "Initial portfolio value:100000\n",
      "Final portfolio value: 305215.71875\n",
      "Final accumulative portfolio value: 3.0521571875\n",
      "Maximum DrawDown: -0.5053733998210757\n",
      "Sharpe ratio: 0.6258501156528927\n",
      "=================================\n"
     ]
    },
    {
     "name": "stderr",
     "output_type": "stream",
     "text": [
      " 99%|█████████▉| 395/400 [1:39:38<00:40,  8.07s/it]"
     ]
    },
    {
     "name": "stdout",
     "output_type": "stream",
     "text": [
      "=================================\n",
      "Initial portfolio value:100000\n",
      "Final portfolio value: 305191.5625\n",
      "Final accumulative portfolio value: 3.051915625\n",
      "Maximum DrawDown: -0.505373643460582\n",
      "Sharpe ratio: 0.6258162820724941\n",
      "=================================\n"
     ]
    },
    {
     "name": "stderr",
     "output_type": "stream",
     "text": [
      " 99%|█████████▉| 396/400 [1:39:46<00:32,  8.14s/it]"
     ]
    },
    {
     "name": "stdout",
     "output_type": "stream",
     "text": [
      "=================================\n",
      "Initial portfolio value:100000\n",
      "Final portfolio value: 305196.78125\n",
      "Final accumulative portfolio value: 3.0519678125\n",
      "Maximum DrawDown: -0.5053725061682617\n",
      "Sharpe ratio: 0.625822606412412\n",
      "=================================\n"
     ]
    },
    {
     "name": "stderr",
     "output_type": "stream",
     "text": [
      " 99%|█████████▉| 397/400 [1:39:55<00:24,  8.29s/it]"
     ]
    },
    {
     "name": "stdout",
     "output_type": "stream",
     "text": [
      "=================================\n",
      "Initial portfolio value:100000\n",
      "Final portfolio value: 305202.90625\n",
      "Final accumulative portfolio value: 3.0520290625\n",
      "Maximum DrawDown: -0.5053638132242024\n",
      "Sharpe ratio: 0.6258324647037334\n",
      "=================================\n"
     ]
    },
    {
     "name": "stderr",
     "output_type": "stream",
     "text": [
      "100%|█████████▉| 398/400 [1:40:03<00:16,  8.29s/it]"
     ]
    },
    {
     "name": "stdout",
     "output_type": "stream",
     "text": [
      "=================================\n",
      "Initial portfolio value:100000\n",
      "Final portfolio value: 305209.625\n",
      "Final accumulative portfolio value: 3.05209625\n",
      "Maximum DrawDown: -0.5053653542206417\n",
      "Sharpe ratio: 0.6258408494064746\n",
      "=================================\n"
     ]
    },
    {
     "name": "stderr",
     "output_type": "stream",
     "text": [
      "100%|█████████▉| 399/400 [1:40:11<00:08,  8.24s/it]"
     ]
    },
    {
     "name": "stdout",
     "output_type": "stream",
     "text": [
      "=================================\n",
      "Initial portfolio value:100000\n",
      "Final portfolio value: 305213.03125\n",
      "Final accumulative portfolio value: 3.0521303125\n",
      "Maximum DrawDown: -0.5053659078004895\n",
      "Sharpe ratio: 0.6258473751700533\n",
      "=================================\n"
     ]
    },
    {
     "name": "stderr",
     "output_type": "stream",
     "text": [
      "100%|██████████| 400/400 [1:40:20<00:00, 15.05s/it]\n"
     ]
    },
    {
     "data": {
      "text/plain": [
       "<finrl.agents.portfolio_optimization.algorithms.PolicyGradient at 0x33b6fb7f0>"
      ]
     },
     "execution_count": 40,
     "metadata": {},
     "output_type": "execute_result"
    }
   ],
   "execution_count": 40
  },
  {
   "metadata": {},
   "cell_type": "markdown",
   "source": "### 至多允许100个episode之后就没有什么变化了",
   "id": "6ad0f8a5763c5ecb"
  },
  {
   "metadata": {},
   "cell_type": "markdown",
   "source": "### Save Model",
   "id": "bfaf3e31ccc340d2"
  },
  {
   "metadata": {
    "ExecuteTime": {
     "end_time": "2024-11-24T13:13:20.505874Z",
     "start_time": "2024-11-24T13:13:20.502854Z"
    }
   },
   "cell_type": "code",
   "source": [
    "model_name = f\"policy_EIIE_episodes{episodes}.pt\"\n",
    "torch.save(model.train_policy.state_dict(), model_name)"
   ],
   "id": "358408fae6e574c3",
   "outputs": [],
   "execution_count": 41
  },
  {
   "metadata": {},
   "cell_type": "markdown",
   "source": "## Test Model",
   "id": "984b3e726c6b68d1"
  },
  {
   "metadata": {},
   "cell_type": "markdown",
   "source": [
    "### Instantiate different environments\n",
    "\n",
    "Since we have three different periods of time, we need three different environments instantiated to simulate them."
   ],
   "id": "f356c20d4b244d25"
  },
  {
   "metadata": {
    "ExecuteTime": {
     "end_time": "2024-11-24T13:13:38.096926Z",
     "start_time": "2024-11-24T13:13:38.070288Z"
    }
   },
   "cell_type": "code",
   "source": [
    "environment_2020 = PortfolioOptimizationEnv(\n",
    "    df_portfolio_2020,\n",
    "    initial_amount=100000,\n",
    "    comission_fee_pct=0.0025,\n",
    "    time_window=50,\n",
    "    features=[\"close\", \"high\", \"low\"],\n",
    "    normalize_df=None\n",
    ")\n",
    "\n",
    "environment_2021 = PortfolioOptimizationEnv(\n",
    "    df_portfolio_2021,\n",
    "    initial_amount=100000,\n",
    "    comission_fee_pct=0.0025,\n",
    "    time_window=50,\n",
    "    features=[\"close\", \"high\", \"low\"],\n",
    "    normalize_df=None\n",
    ")\n",
    "\n",
    "environment_2022 = PortfolioOptimizationEnv(\n",
    "    df_portfolio_2022,\n",
    "    initial_amount=100000,\n",
    "    comission_fee_pct=0.0025,\n",
    "    time_window=50,\n",
    "    features=[\"close\", \"high\", \"low\"],\n",
    "    normalize_df=None\n",
    ")"
   ],
   "id": "7fc8099ae62ddb22",
   "outputs": [],
   "execution_count": 42
  },
  {
   "metadata": {},
   "cell_type": "markdown",
   "source": [
    "### Test EIIE architecture\n",
    "\n",
    "Now, we can test the EIIE architecture in the three different test periods. It's important no note that, in this code, we load the saved policy even though it's not necessary just to show how to save and load your model."
   ],
   "id": "a6a9563328709832"
  },
  {
   "metadata": {
    "ExecuteTime": {
     "end_time": "2024-11-24T13:13:48.663212Z",
     "start_time": "2024-11-24T13:13:44.604569Z"
    }
   },
   "cell_type": "code",
   "source": [
    "EIIE_results = {\n",
    "    \"training\": environment._asset_memory[\"final\"],\n",
    "    \"2020\": {},\n",
    "    \"2021\": {},\n",
    "    \"2022\": {}\n",
    "}\n",
    "\n",
    "# instantiate an architecture with the same arguments used in training\n",
    "# and load with load_state_dict.\n",
    "policy = EIIE(time_window=50, device=device)\n",
    "policy.load_state_dict(torch.load(model_name))\n",
    "\n",
    "# 2020\n",
    "DRLAgent.DRL_validation(model, environment_2020, policy=policy)\n",
    "EIIE_results[\"2020\"][\"value\"] = environment_2020._asset_memory[\"final\"]\n",
    "\n",
    "# 2021\n",
    "DRLAgent.DRL_validation(model, environment_2021, policy=policy)\n",
    "EIIE_results[\"2021\"][\"value\"] = environment_2021._asset_memory[\"final\"]\n",
    "\n",
    "# 2022\n",
    "DRLAgent.DRL_validation(model, environment_2022, policy=policy)\n",
    "EIIE_results[\"2022\"][\"value\"] = environment_2022._asset_memory[\"final\"]"
   ],
   "id": "65587bb25ff1dbef",
   "outputs": [
    {
     "name": "stderr",
     "output_type": "stream",
     "text": [
      "/var/folders/dv/ly5hp_ms3bd9753868lg6c5w0000gn/T/ipykernel_767/2957330399.py:11: FutureWarning: You are using `torch.load` with `weights_only=False` (the current default value), which uses the default pickle module implicitly. It is possible to construct malicious pickle data which will execute arbitrary code during unpickling (See https://github.com/pytorch/pytorch/blob/main/SECURITY.md#untrusted-models for more details). In a future release, the default value for `weights_only` will be flipped to `True`. This limits the functions that could be executed during unpickling. Arbitrary objects will no longer be allowed to be loaded via this mode unless they are explicitly allowlisted by the user via `torch.serialization.add_safe_globals`. We recommend you start setting `weights_only=True` for any use case where you don't have full control of the loaded file. Please open an issue on GitHub for any issues related to this experimental feature.\n",
      "  policy.load_state_dict(torch.load(model_name))\n"
     ]
    },
    {
     "name": "stdout",
     "output_type": "stream",
     "text": [
      "=================================\n",
      "Initial portfolio value:100000\n",
      "Final portfolio value: 165052.203125\n",
      "Final accumulative portfolio value: 1.65052203125\n",
      "Maximum DrawDown: -0.28664984375\n",
      "Sharpe ratio: 1.5639572683412548\n",
      "=================================\n",
      "=================================\n",
      "Initial portfolio value:100000\n",
      "Final portfolio value: 94232.4375\n",
      "Final accumulative portfolio value: 0.942324375\n",
      "Maximum DrawDown: -0.20386293487950702\n",
      "Sharpe ratio: -0.31032254767151934\n",
      "=================================\n",
      "=================================\n",
      "Initial portfolio value:100000\n",
      "Final portfolio value: 107326.5625\n",
      "Final accumulative portfolio value: 1.073265625\n",
      "Maximum DrawDown: -0.18373010410310553\n",
      "Sharpe ratio: 0.4834838535662146\n",
      "=================================\n"
     ]
    }
   ],
   "execution_count": 43
  },
  {
   "metadata": {
    "ExecuteTime": {
     "end_time": "2024-11-24T10:23:00.566701Z",
     "start_time": "2024-11-24T10:23:00.561869Z"
    }
   },
   "cell_type": "code",
   "source": "EIIE_results[\"2021\"][\"value\"]",
   "id": "abe4a69bebee9e8a",
   "outputs": [
    {
     "data": {
      "text/plain": [
       "[100000,\n",
       " 101793.266,\n",
       " 100945.14,\n",
       " 101491.56,\n",
       " 100757.55,\n",
       " 100572.164,\n",
       " 98145.97,\n",
       " 99337.16,\n",
       " 100691.39,\n",
       " 100046.445,\n",
       " 105261.59,\n",
       " 104966.914,\n",
       " 106375.6,\n",
       " 107727.64,\n",
       " 107505.78,\n",
       " 106333.43,\n",
       " 105821.98,\n",
       " 105650.08,\n",
       " 105349.164,\n",
       " 105396.34,\n",
       " 106035.664,\n",
       " 107070.99,\n",
       " 106982.75,\n",
       " 103954.516,\n",
       " 104243.516,\n",
       " 102254.766,\n",
       " 104550.95,\n",
       " 103410.43,\n",
       " 105397.266,\n",
       " 102874.29,\n",
       " 100699.72,\n",
       " 100294.02,\n",
       " 98698.75,\n",
       " 101073.46,\n",
       " 100968.83,\n",
       " 105016.45,\n",
       " 107906.305,\n",
       " 102784.36,\n",
       " 106257.84,\n",
       " 100881.125,\n",
       " 100231.11,\n",
       " 100360.34,\n",
       " 103066.36,\n",
       " 100998.03,\n",
       " 100512.74,\n",
       " 100816.88,\n",
       " 99892.42,\n",
       " 102225.56,\n",
       " 101543.53,\n",
       " 101528.18,\n",
       " 100207.41,\n",
       " 102533.625,\n",
       " 104155.17,\n",
       " 104851.31,\n",
       " 104722.59,\n",
       " 105321.06,\n",
       " 105408.125,\n",
       " 103499.52,\n",
       " 105340.74,\n",
       " 106321.914,\n",
       " 107659.09,\n",
       " 106741.52,\n",
       " 104923.57,\n",
       " 101580.04,\n",
       " 100824.01,\n",
       " 101509.32,\n",
       " 104272.51,\n",
       " 105891.32,\n",
       " 105241.76,\n",
       " 105128.3,\n",
       " 106672.21,\n",
       " 104192.31,\n",
       " 105340.555,\n",
       " 106810.54,\n",
       " 105480.17,\n",
       " 107258.64,\n",
       " 106880.586,\n",
       " 108103.45,\n",
       " 105492.57,\n",
       " 108588.29,\n",
       " 108389.51,\n",
       " 109482.66,\n",
       " 108300.734,\n",
       " 108635.305,\n",
       " 105486.086,\n",
       " 105619.164,\n",
       " 106198.15,\n",
       " 106966.4,\n",
       " 107156.5,\n",
       " 107780.96,\n",
       " 108645.984,\n",
       " 108444.54,\n",
       " 109209.71,\n",
       " 106554.48,\n",
       " 104167.76,\n",
       " 103142.87,\n",
       " 105174.84,\n",
       " 102971.77,\n",
       " 103085.67,\n",
       " 101726.11,\n",
       " 102446.086,\n",
       " 103451.71,\n",
       " 102573.484,\n",
       " 103025.016,\n",
       " 100779.51,\n",
       " 101525.84,\n",
       " 99315.02,\n",
       " 93060.07,\n",
       " 93906.44,\n",
       " 95810.53,\n",
       " 95507.95,\n",
       " 95852.6,\n",
       " 95976.31,\n",
       " 94357.18,\n",
       " 96460.766,\n",
       " 94831.09,\n",
       " 94008.016,\n",
       " 93256.945,\n",
       " 94132.695,\n",
       " 91147.4,\n",
       " 91213.766,\n",
       " 89766.34,\n",
       " 90073.52,\n",
       " 89259.29,\n",
       " 89677.38,\n",
       " 88472.484,\n",
       " 85458.9,\n",
       " 84290.414,\n",
       " 81472.125,\n",
       " 81867.37,\n",
       " 84686.8,\n",
       " 77173.81,\n",
       " 76183.91,\n",
       " 76232.98,\n",
       " 75244.23,\n",
       " 74033.25,\n",
       " 74475.09,\n",
       " 74124.67,\n",
       " 72327.65,\n",
       " 71943.83,\n",
       " 70679.02,\n",
       " 73860.266,\n",
       " 76503.945,\n",
       " 76944.734,\n",
       " 75899.695,\n",
       " 75163.87,\n",
       " 74693.055,\n",
       " 75086.12,\n",
       " 74905.76,\n",
       " 73636.266,\n",
       " 70041.59,\n",
       " 69693.38,\n",
       " 71591.08,\n",
       " 71472.16,\n",
       " 71684.36,\n",
       " 70364.74,\n",
       " 69901.03,\n",
       " 69368.57,\n",
       " 69104.21,\n",
       " 70389.59,\n",
       " 69892.25,\n",
       " 68902.36,\n",
       " 68606.39,\n",
       " 68715.57,\n",
       " 70537.24,\n",
       " 72879.33,\n",
       " 71521.52,\n",
       " 70988.24,\n",
       " 71317.664,\n",
       " 72335.82,\n",
       " 73873.805,\n",
       " 73605.766,\n",
       " 73489.73,\n",
       " 74185.03,\n",
       " 73277.35,\n",
       " 73280.75,\n",
       " 71684.086,\n",
       " 72328.64,\n",
       " 71740.3,\n",
       " 72142.586,\n",
       " 72509.09,\n",
       " 73992.555,\n",
       " 74874.945,\n",
       " 75835.836,\n",
       " 77850.54,\n",
       " 76042.22,\n",
       " 77233.73,\n",
       " 74930.97,\n",
       " 76310.01,\n",
       " 75334.74,\n",
       " 72255.7,\n",
       " 72256.23,\n",
       " 72577.84,\n",
       " 72050.03,\n",
       " 71258.61,\n",
       " 71325.65,\n",
       " 71223.766,\n",
       " 70570.805]"
      ]
     },
     "execution_count": 33,
     "metadata": {},
     "output_type": "execute_result"
    }
   ],
   "execution_count": 33
  },
  {
   "metadata": {},
   "cell_type": "markdown",
   "source": [
    "### Test Uniform Buy and Hold\n",
    "For comparison, we will also test the performance of a uniform buy and hold strategy. In this strategy, the portfolio has no remaining cash and the same percentage of money is allocated in each asset."
   ],
   "id": "3c064e3b3e46c149"
  },
  {
   "metadata": {
    "ExecuteTime": {
     "end_time": "2024-11-24T13:14:24.316538Z",
     "start_time": "2024-11-24T13:14:13.601690Z"
    }
   },
   "cell_type": "code",
   "source": [
    "UBAH_results = {\n",
    "    \"train\": {},\n",
    "    \"2020\": {},\n",
    "    \"2021\": {},\n",
    "    \"2022\": {}\n",
    "}\n",
    "\n",
    "PORTFOLIO_SIZE = len(TOP_BRL)\n",
    "\n",
    "# train period\n",
    "terminated = False\n",
    "environment.reset()\n",
    "while not terminated:\n",
    "    action = [0] + [1/PORTFOLIO_SIZE] * PORTFOLIO_SIZE\n",
    "    _, _, terminated, _ = environment.step(action)\n",
    "UBAH_results[\"train\"][\"value\"] = environment._asset_memory[\"final\"]\n",
    "\n",
    "# 2020\n",
    "terminated = False\n",
    "environment_2020.reset()\n",
    "while not terminated:\n",
    "    action = [0] + [1/PORTFOLIO_SIZE] * PORTFOLIO_SIZE\n",
    "    _, _, terminated, _ = environment_2020.step(action)\n",
    "UBAH_results[\"2020\"][\"value\"] = environment_2020._asset_memory[\"final\"]\n",
    "\n",
    "# 2021\n",
    "terminated = False\n",
    "environment_2021.reset()\n",
    "while not terminated:\n",
    "    action = [0] + [1/PORTFOLIO_SIZE] * PORTFOLIO_SIZE\n",
    "    _, _, terminated, _ = environment_2021.step(action)\n",
    "UBAH_results[\"2021\"][\"value\"] = environment_2021._asset_memory[\"final\"]\n",
    "\n",
    "# 2022\n",
    "terminated = False\n",
    "environment_2022.reset()\n",
    "while not terminated:\n",
    "    action = [0] + [1/PORTFOLIO_SIZE] * PORTFOLIO_SIZE\n",
    "    _, _, terminated, _ = environment_2022.step(action)\n",
    "UBAH_results[\"2022\"][\"value\"] = environment_2022._asset_memory[\"final\"]"
   ],
   "id": "49685b2321b1ee74",
   "outputs": [
    {
     "name": "stdout",
     "output_type": "stream",
     "text": [
      "=================================\n",
      "Initial portfolio value:100000\n",
      "Final portfolio value: 305207.125\n",
      "Final accumulative portfolio value: 3.05207125\n",
      "Maximum DrawDown: -0.5053701509312757\n",
      "Sharpe ratio: 0.6258359181016153\n",
      "=================================\n",
      "=================================\n",
      "Initial portfolio value:100000\n",
      "Final portfolio value: 165052.671875\n",
      "Final accumulative portfolio value: 1.65052671875\n",
      "Maximum DrawDown: -0.28665109375\n",
      "Sharpe ratio: 1.5639604621704621\n",
      "=================================\n",
      "=================================\n",
      "Initial portfolio value:100000\n",
      "Final portfolio value: 94232.390625\n",
      "Final accumulative portfolio value: 0.94232390625\n",
      "Maximum DrawDown: -0.20386432934124032\n",
      "Sharpe ratio: -0.31032646699394256\n",
      "=================================\n",
      "=================================\n",
      "Initial portfolio value:100000\n",
      "Final portfolio value: 107326.2578125\n",
      "Final accumulative portfolio value: 1.073262578125\n",
      "Maximum DrawDown: -0.1837321269587393\n",
      "Sharpe ratio: 0.48346772521463005\n",
      "=================================\n"
     ]
    }
   ],
   "execution_count": 44
  },
  {
   "metadata": {},
   "cell_type": "markdown",
   "source": "### Plot graphics",
   "id": "26d89eb4914f6d96"
  },
  {
   "metadata": {
    "ExecuteTime": {
     "end_time": "2024-11-24T13:15:22.506075Z",
     "start_time": "2024-11-24T13:15:22.328983Z"
    }
   },
   "cell_type": "code",
   "source": [
    "import matplotlib.pyplot as plt\n",
    "%matplotlib inline \n",
    "\n",
    "plt.plot(UBAH_results[\"train\"][\"value\"], label=\"Buy and Hold\")\n",
    "plt.plot(EIIE_results[\"training\"], label=\"EIIE\")\n",
    "\n",
    "plt.xlabel(\"Days\")\n",
    "plt.ylabel(\"Portfolio Value\")\n",
    "plt.title(\"Performance in training period\")\n",
    "plt.legend()\n",
    "plt.savefig(f\"results/performance_in_training_episode{episodes}.png\")\n",
    "plt.show()"
   ],
   "id": "39327abc1f086053",
   "outputs": [
    {
     "data": {
      "text/plain": [
       "<Figure size 1000x600 with 1 Axes>"
      ],
      "image/png": "[encoded data removed]"
     },
     "metadata": {},
     "output_type": "display_data"
    }
   ],
   "execution_count": 48
  },
  {
   "metadata": {
    "ExecuteTime": {
     "end_time": "2024-11-24T13:15:28.921422Z",
     "start_time": "2024-11-24T13:15:28.736605Z"
    }
   },
   "cell_type": "code",
   "source": [
    "plt.plot(UBAH_results[\"2020\"][\"value\"], label=\"Buy and Hold\")\n",
    "plt.plot(EIIE_results[\"2020\"][\"value\"], label=\"EIIE\")\n",
    "\n",
    "plt.xlabel(\"Days\")\n",
    "plt.ylabel(\"Portfolio Value\")\n",
    "plt.title(\"Performance in 2020\")\n",
    "plt.legend()\n",
    "plt.savefig(f\"results/performance_in_2020_episode{episodes}.png\")\n",
    "plt.show()"
   ],
   "id": "4a9293ec5bb179d0",
   "outputs": [
    {
     "data": {
      "text/plain": [
       "<Figure size 1000x600 with 1 Axes>"
      ],
      "image/png": "[encoded data removed]"
     },
     "metadata": {},
     "output_type": "display_data"
    }
   ],
   "execution_count": 49
  },
  {
   "metadata": {
    "ExecuteTime": {
     "end_time": "2024-11-24T13:15:36.047947Z",
     "start_time": "2024-11-24T13:15:35.867932Z"
    }
   },
   "cell_type": "code",
   "source": [
    "plt.plot(UBAH_results[\"2021\"][\"value\"], label=\"Buy and Hold\")\n",
    "plt.plot(EIIE_results[\"2021\"][\"value\"], label=\"EIIE\")\n",
    "\n",
    "plt.xlabel(\"Days\")\n",
    "plt.ylabel(\"Portfolio Value\")\n",
    "plt.title(\"Performance in 2021\")\n",
    "plt.legend()\n",
    "plt.savefig(f\"results/performance_in_2021_episode{episodes}.png\")\n",
    "plt.show()"
   ],
   "id": "dca25bd109e9a238",
   "outputs": [
    {
     "data": {
      "text/plain": [
       "<Figure size 1000x600 with 1 Axes>"
      ],
      "image/png": "[encoded data removed]"
     },
     "metadata": {},
     "output_type": "display_data"
    }
   ],
   "execution_count": 50
  },
  {
   "metadata": {
    "ExecuteTime": {
     "end_time": "2024-11-24T13:15:46.695787Z",
     "start_time": "2024-11-24T13:15:46.509586Z"
    }
   },
   "cell_type": "code",
   "source": [
    "plt.plot(UBAH_results[\"2022\"][\"value\"], label=\"Buy and Hold\")\n",
    "plt.plot(EIIE_results[\"2022\"][\"value\"], label=\"EIIE\")\n",
    "\n",
    "plt.xlabel(\"Days\")\n",
    "plt.ylabel(\"Portfolio Value\")\n",
    "plt.title(\"Performance in 2022\")\n",
    "plt.legend()\n",
    "plt.savefig(f\"results/performance_in_2022_episode{episodes}.png\")\n",
    "plt.show()"
   ],
   "id": "a13f503f105c8f56",
   "outputs": [
    {
     "data": {
      "text/plain": [
       "<Figure size 1000x600 with 1 Axes>"
      ],
      "image/png": "[encoded data removed]"
     },
     "metadata": {},
     "output_type": "display_data"
    }
   ],
   "execution_count": 51
  },
  {
   "metadata": {},
   "cell_type": "markdown",
   "source": "## Question: 为什么在训练400个episode之后，EIIE的曲线与Buy and Hold的曲线完全重合了呢",
   "id": "3102356493e6f551"
  }
 ],
 "metadata": {
  "kernelspec": {
   "display_name": "Python 3",
   "language": "python",
   "name": "python3"
  },
  "language_info": {
   "codemirror_mode": {
    "name": "ipython",
    "version": 2
   },
   "file_extension": ".py",
   "mimetype": "text/x-python",
   "name": "python",
   "nbconvert_exporter": "python",
   "pygments_lexer": "ipython2",
   "version": "2.7.6"
  }
 },
 "nbformat": 4,
 "nbformat_minor": 5
}
