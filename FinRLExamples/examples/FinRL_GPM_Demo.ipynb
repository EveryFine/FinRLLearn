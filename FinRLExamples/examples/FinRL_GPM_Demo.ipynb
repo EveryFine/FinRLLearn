{
 "cells": [
  {
   "metadata": {},
   "cell_type": "markdown",
   "source": [
    "# GPM: A graph convolutional network based reinforcement learning framework for portfolio management\n",
    "\n",
    "In this document, we will make use of a graph neural network architecture called GPM, introduced in the following paper:\n",
    "\n",
    "- Si Shi, Jianjun Li, Guohui Li, Peng Pan, Qi Chen & Qing Sun. (2022). GPM: A graph convolutional network based reinforcement learning framework for portfolio management. https://doi.org/10.1016/j.neucom.2022.04.105.\n"
   ],
   "id": "36da3ffc610dbdc9"
  },
  {
   "metadata": {},
   "cell_type": "markdown",
   "source": [
    "## Installation and imports\n",
    "\n",
    "To run this notebook in google colab, uncomment the cells below."
   ],
   "id": "cb1d983a961679a9"
  },
  {
   "metadata": {
    "ExecuteTime": {
     "end_time": "2024-11-24T07:47:18.693973Z",
     "start_time": "2024-11-24T07:45:30.447696Z"
    }
   },
   "cell_type": "code",
   "source": [
    "## install finrl library\n",
    "!pip install swig\n",
    "!pip install wrds\n",
    "!pip install git+https://github.com/AI4Finance-Foundation/FinRL.git"
   ],
   "id": "bba8e57cbe9a2762",
   "outputs": [
    {
     "name": "stdout",
     "output_type": "stream",
     "text": [
      "Collecting swig\r\n",
      "  Obtaining dependency information for swig from https://files.pythonhosted.org/packages/e1/79/316f515d463aa028a51ad116eb826b5215ae4cac75c782bc9e5f5fd63344/swig-4.3.0-py2.py3-none-macosx_10_9_universal2.whl.metadata\r\n",
      "  Downloading swig-4.3.0-py2.py3-none-macosx_10_9_universal2.whl.metadata (3.5 kB)\r\n",
      "Downloading swig-4.3.0-py2.py3-none-macosx_10_9_universal2.whl (2.6 MB)\r\n",
      "\u001B[2K   \u001B[90m━━━━━━━━━━━━━━━━━━━━━━━━━━━━━━━━━━━━━━━━\u001B[0m \u001B[32m2.6/2.6 MB\u001B[0m \u001B[31m1.3 MB/s\u001B[0m eta \u001B[36m0:00:00\u001B[0m00:01\u001B[0m00:01\u001B[0m0m\r\n",
      "\u001B[?25hInstalling collected packages: swig\r\n",
      "Successfully installed swig-4.3.0\r\n",
      "\r\n",
      "\u001B[1m[\u001B[0m\u001B[34;49mnotice\u001B[0m\u001B[1;39;49m]\u001B[0m\u001B[39;49m A new release of pip is available: \u001B[0m\u001B[31;49m23.2.1\u001B[0m\u001B[39;49m -> \u001B[0m\u001B[32;49m24.3.1\u001B[0m\r\n",
      "\u001B[1m[\u001B[0m\u001B[34;49mnotice\u001B[0m\u001B[1;39;49m]\u001B[0m\u001B[39;49m To update, run: \u001B[0m\u001B[32;49mpip install --upgrade pip\u001B[0m\r\n",
      "Collecting wrds\r\n",
      "  Obtaining dependency information for wrds from https://files.pythonhosted.org/packages/47/8c/3cce877628950ccb3a0a8d3c77ca6c28d2f5068c20ac3f0c1b44a1db3d7c/wrds-3.2.0-py3-none-any.whl.metadata\r\n",
      "  Using cached wrds-3.2.0-py3-none-any.whl.metadata (5.8 kB)\r\n",
      "Collecting numpy<1.27,>=1.26 (from wrds)\r\n",
      "  Obtaining dependency information for numpy<1.27,>=1.26 from https://files.pythonhosted.org/packages/20/f7/b24208eba89f9d1b58c1668bc6c8c4fd472b20c45573cb767f59d49fb0f6/numpy-1.26.4-cp310-cp310-macosx_11_0_arm64.whl.metadata\r\n",
      "  Using cached numpy-1.26.4-cp310-cp310-macosx_11_0_arm64.whl.metadata (61 kB)\r\n",
      "Collecting packaging<23.3 (from wrds)\r\n",
      "  Obtaining dependency information for packaging<23.3 from https://files.pythonhosted.org/packages/ec/1a/610693ac4ee14fcdf2d9bf3c493370e4f2ef7ae2e19217d7a237ff42367d/packaging-23.2-py3-none-any.whl.metadata\r\n",
      "  Using cached packaging-23.2-py3-none-any.whl.metadata (3.2 kB)\r\n",
      "Collecting pandas<2.3,>=2.2 (from wrds)\r\n",
      "  Obtaining dependency information for pandas<2.3,>=2.2 from https://files.pythonhosted.org/packages/99/f2/c4527768739ffa4469b2b4fff05aa3768a478aed89a2f271a79a40eee984/pandas-2.2.3-cp310-cp310-macosx_11_0_arm64.whl.metadata\r\n",
      "  Using cached pandas-2.2.3-cp310-cp310-macosx_11_0_arm64.whl.metadata (89 kB)\r\n",
      "Collecting psycopg2-binary<2.10,>=2.9 (from wrds)\r\n",
      "  Obtaining dependency information for psycopg2-binary<2.10,>=2.9 from https://files.pythonhosted.org/packages/e7/9a/7f4f2f031010bbfe6a02b4a15c01e12eb6b9b7b358ab33229f28baadbfc1/psycopg2_binary-2.9.10-cp310-cp310-macosx_14_0_arm64.whl.metadata\r\n",
      "  Using cached psycopg2_binary-2.9.10-cp310-cp310-macosx_14_0_arm64.whl.metadata (4.9 kB)\r\n",
      "Collecting scipy<1.13,>=1.12 (from wrds)\r\n",
      "  Obtaining dependency information for scipy<1.13,>=1.12 from https://files.pythonhosted.org/packages/dd/14/549fd7066a112c4bdf1cc11228d11284bc784ea09124fc4d663f28815564/scipy-1.12.0-cp310-cp310-macosx_12_0_arm64.whl.metadata\r\n",
      "  Using cached scipy-1.12.0-cp310-cp310-macosx_12_0_arm64.whl.metadata (112 kB)\r\n",
      "Collecting sqlalchemy<2.1,>=2 (from wrds)\r\n",
      "  Obtaining dependency information for sqlalchemy<2.1,>=2 from https://files.pythonhosted.org/packages/1e/59/333fcbca58b79f5b8b61853d6137530198823392151fa8fd9425f367519e/SQLAlchemy-2.0.36-cp310-cp310-macosx_11_0_arm64.whl.metadata\r\n",
      "  Using cached SQLAlchemy-2.0.36-cp310-cp310-macosx_11_0_arm64.whl.metadata (9.7 kB)\r\n",
      "Requirement already satisfied: python-dateutil>=2.8.2 in /Users/zhengshuang/Documents/ProgramingGuide/SourceCode/GithubRepo/everyfine/FinRLLearn/FinRLExamples/.venv/lib/python3.10/site-packages (from pandas<2.3,>=2.2->wrds) (2.9.0.post0)\r\n",
      "Collecting pytz>=2020.1 (from pandas<2.3,>=2.2->wrds)\r\n",
      "  Obtaining dependency information for pytz>=2020.1 from https://files.pythonhosted.org/packages/11/c3/005fcca25ce078d2cc29fd559379817424e94885510568bc1bc53d7d5846/pytz-2024.2-py2.py3-none-any.whl.metadata\r\n",
      "  Using cached pytz-2024.2-py2.py3-none-any.whl.metadata (22 kB)\r\n",
      "Collecting tzdata>=2022.7 (from pandas<2.3,>=2.2->wrds)\r\n",
      "  Obtaining dependency information for tzdata>=2022.7 from https://files.pythonhosted.org/packages/a6/ab/7e5f53c3b9d14972843a647d8d7a853969a58aecc7559cb3267302c94774/tzdata-2024.2-py2.py3-none-any.whl.metadata\r\n",
      "  Using cached tzdata-2024.2-py2.py3-none-any.whl.metadata (1.4 kB)\r\n",
      "Requirement already satisfied: typing-extensions>=4.6.0 in /Users/zhengshuang/Documents/ProgramingGuide/SourceCode/GithubRepo/everyfine/FinRLLearn/FinRLExamples/.venv/lib/python3.10/site-packages (from sqlalchemy<2.1,>=2->wrds) (4.12.2)\r\n",
      "Requirement already satisfied: six>=1.5 in /Users/zhengshuang/Documents/ProgramingGuide/SourceCode/GithubRepo/everyfine/FinRLLearn/FinRLExamples/.venv/lib/python3.10/site-packages (from python-dateutil>=2.8.2->pandas<2.3,>=2.2->wrds) (1.16.0)\r\n",
      "Using cached wrds-3.2.0-py3-none-any.whl (13 kB)\r\n",
      "Using cached numpy-1.26.4-cp310-cp310-macosx_11_0_arm64.whl (14.0 MB)\r\n",
      "Using cached packaging-23.2-py3-none-any.whl (53 kB)\r\n",
      "Using cached pandas-2.2.3-cp310-cp310-macosx_11_0_arm64.whl (11.3 MB)\r\n",
      "Using cached psycopg2_binary-2.9.10-cp310-cp310-macosx_14_0_arm64.whl (3.3 MB)\r\n",
      "Using cached scipy-1.12.0-cp310-cp310-macosx_12_0_arm64.whl (31.4 MB)\r\n",
      "Using cached SQLAlchemy-2.0.36-cp310-cp310-macosx_11_0_arm64.whl (2.1 MB)\r\n",
      "Using cached pytz-2024.2-py2.py3-none-any.whl (508 kB)\r\n",
      "Using cached tzdata-2024.2-py2.py3-none-any.whl (346 kB)\r\n",
      "Installing collected packages: pytz, tzdata, sqlalchemy, psycopg2-binary, packaging, numpy, scipy, pandas, wrds\r\n",
      "  Attempting uninstall: packaging\r\n",
      "    Found existing installation: packaging 24.2\r\n",
      "    Uninstalling packaging-24.2:\r\n",
      "      Successfully uninstalled packaging-24.2\r\n",
      "Successfully installed numpy-1.26.4 packaging-23.2 pandas-2.2.3 psycopg2-binary-2.9.10 pytz-2024.2 scipy-1.12.0 sqlalchemy-2.0.36 tzdata-2024.2 wrds-3.2.0\r\n",
      "\r\n",
      "\u001B[1m[\u001B[0m\u001B[34;49mnotice\u001B[0m\u001B[1;39;49m]\u001B[0m\u001B[39;49m A new release of pip is available: \u001B[0m\u001B[31;49m23.2.1\u001B[0m\u001B[39;49m -> \u001B[0m\u001B[32;49m24.3.1\u001B[0m\r\n",
      "\u001B[1m[\u001B[0m\u001B[34;49mnotice\u001B[0m\u001B[1;39;49m]\u001B[0m\u001B[39;49m To update, run: \u001B[0m\u001B[32;49mpip install --upgrade pip\u001B[0m\r\n",
      "Collecting git+https://github.com/AI4Finance-Foundation/FinRL.git\r\n",
      "  Cloning https://github.com/AI4Finance-Foundation/FinRL.git to /private/var/folders/dv/ly5hp_ms3bd9753868lg6c5w0000gn/T/pip-req-build-5ttxshm1\r\n",
      "  Running command git clone --filter=blob:none --quiet https://github.com/AI4Finance-Foundation/FinRL.git /private/var/folders/dv/ly5hp_ms3bd9753868lg6c5w0000gn/T/pip-req-build-5ttxshm1\r\n",
      "  Resolved https://github.com/AI4Finance-Foundation/FinRL.git to commit 083192a2abbdcaa195bd945b35853212cd8b00d8\r\n",
      "  Installing build dependencies ... \u001B[?25ldone\r\n",
      "\u001B[?25h  Getting requirements to build wheel ... \u001B[?25ldone\r\n",
      "\u001B[?25h  Preparing metadata (pyproject.toml) ... \u001B[?25ldone\r\n",
      "\u001B[?25hCollecting elegantrl@ git+https://github.com/AI4Finance-Foundation/ElegantRL.git#egg=elegantrl (from finrl==0.3.6)\r\n",
      "  Cloning https://github.com/AI4Finance-Foundation/ElegantRL.git to /private/var/folders/dv/ly5hp_ms3bd9753868lg6c5w0000gn/T/pip-install-t0zpn3t0/elegantrl_ef31d78dc3a940ffb6b1c5d862c5e22a\r\n",
      "  Running command git clone --filter=blob:none --quiet https://github.com/AI4Finance-Foundation/ElegantRL.git /private/var/folders/dv/ly5hp_ms3bd9753868lg6c5w0000gn/T/pip-install-t0zpn3t0/elegantrl_ef31d78dc3a940ffb6b1c5d862c5e22a\r\n",
      "  Resolved https://github.com/AI4Finance-Foundation/ElegantRL.git to commit c2939fefe0e3ec55601ded49e39fdf9d7d781ea0\r\n",
      "  Preparing metadata (setup.py) ... \u001B[?25ldone\r\n",
      "\u001B[?25hCollecting alpaca-trade-api<4,>=3 (from finrl==0.3.6)\r\n",
      "  Obtaining dependency information for alpaca-trade-api<4,>=3 from https://files.pythonhosted.org/packages/0b/b2/4557d0a4c837b020bc5c8971e8fde8b976e332d5c225476699e0b5e30b41/alpaca_trade_api-3.2.0-py3-none-any.whl.metadata\r\n",
      "  Using cached alpaca_trade_api-3.2.0-py3-none-any.whl.metadata (29 kB)\r\n",
      "Collecting ccxt<4,>=3 (from finrl==0.3.6)\r\n",
      "  Obtaining dependency information for ccxt<4,>=3 from https://files.pythonhosted.org/packages/c6/c3/5082649cf584dae9ee18d7d90895475e8f382b52e9c8588320f477639e04/ccxt-3.1.60-py2.py3-none-any.whl.metadata\r\n",
      "  Using cached ccxt-3.1.60-py2.py3-none-any.whl.metadata (108 kB)\r\n",
      "Collecting exchange-calendars<5,>=4 (from finrl==0.3.6)\r\n",
      "  Obtaining dependency information for exchange-calendars<5,>=4 from https://files.pythonhosted.org/packages/77/c7/e25600c1c2e696690b2a97ae489f44414f1640786ae4444f62da267591b9/exchange_calendars-4.6-py3-none-any.whl.metadata\r\n",
      "  Downloading exchange_calendars-4.6-py3-none-any.whl.metadata (37 kB)\r\n",
      "Collecting jqdatasdk<2,>=1 (from finrl==0.3.6)\r\n",
      "  Obtaining dependency information for jqdatasdk<2,>=1 from https://files.pythonhosted.org/packages/8a/41/2fd0ed3bd938f84ac4f226b47fa93cca2b4af5571a4144b000c0d3dc1988/jqdatasdk-1.9.6-py3-none-any.whl.metadata\r\n",
      "  Using cached jqdatasdk-1.9.6-py3-none-any.whl.metadata (5.8 kB)\r\n",
      "Collecting pyfolio<0.10,>=0.9 (from finrl==0.3.6)\r\n",
      "  Using cached pyfolio-0.9.2-py3-none-any.whl\r\n",
      "Collecting pyportfolioopt<2,>=1 (from finrl==0.3.6)\r\n",
      "  Obtaining dependency information for pyportfolioopt<2,>=1 from https://files.pythonhosted.org/packages/e3/7d/4930adde3743e4d3bf4e30a19af14c3d9f622e8e7b4e6bb7dfb68f98ce8f/pyportfolioopt-1.5.5-py3-none-any.whl.metadata\r\n",
      "  Using cached pyportfolioopt-1.5.5-py3-none-any.whl.metadata (23 kB)\r\n",
      "Collecting ray[default,tune]<3,>=2 (from finrl==0.3.6)\r\n",
      "  Obtaining dependency information for ray[default,tune]<3,>=2 from https://files.pythonhosted.org/packages/6d/20/5c5046798812c2d5569869ed7508adadf0397ea709003c58a245352296eb/ray-2.39.0-cp310-cp310-macosx_11_0_arm64.whl.metadata\r\n",
      "  Using cached ray-2.39.0-cp310-cp310-macosx_11_0_arm64.whl.metadata (17 kB)\r\n",
      "Collecting scikit-learn<2,>=1 (from finrl==0.3.6)\r\n",
      "  Obtaining dependency information for scikit-learn<2,>=1 from https://files.pythonhosted.org/packages/bf/e0/3b6d777d375f3b685f433c93384cdb724fb078e1dc8f8ff0950467e56c30/scikit_learn-1.5.2-cp310-cp310-macosx_12_0_arm64.whl.metadata\r\n",
      "  Using cached scikit_learn-1.5.2-cp310-cp310-macosx_12_0_arm64.whl.metadata (13 kB)\r\n",
      "Collecting stable-baselines3[extra]>=2.0.0a5 (from finrl==0.3.6)\r\n",
      "  Obtaining dependency information for stable-baselines3[extra]>=2.0.0a5 from https://files.pythonhosted.org/packages/87/ce/d6f16ca82055faa45c6986bc35bdb04a80c4e1dd1e23c8b6b719059107d0/stable_baselines3-2.5.0a0-py3-none-any.whl.metadata\r\n",
      "  Downloading stable_baselines3-2.5.0a0-py3-none-any.whl.metadata (4.5 kB)\r\n",
      "Collecting stockstats<0.6,>=0.5 (from finrl==0.3.6)\r\n",
      "  Obtaining dependency information for stockstats<0.6,>=0.5 from https://files.pythonhosted.org/packages/89/c3/82708cf1d219d762d6bb1a05428d918ad3f68c26b7f6e10a7449942a12c8/stockstats-0.5.4-py2.py3-none-any.whl.metadata\r\n",
      "  Using cached stockstats-0.5.4-py2.py3-none-any.whl.metadata (26 kB)\r\n",
      "Requirement already satisfied: wrds<4,>=3 in /Users/zhengshuang/Documents/ProgramingGuide/SourceCode/GithubRepo/everyfine/FinRLLearn/FinRLExamples/.venv/lib/python3.10/site-packages (from finrl==0.3.6) (3.2.0)\r\n",
      "Collecting yfinance<0.3,>=0.2 (from finrl==0.3.6)\r\n",
      "  Obtaining dependency information for yfinance<0.3,>=0.2 from https://files.pythonhosted.org/packages/c5/98/6fd94db428a9670d638d4469cedfea51671de0126b8f50de1b06e2245c97/yfinance-0.2.50-py2.py3-none-any.whl.metadata\r\n",
      "  Using cached yfinance-0.2.50-py2.py3-none-any.whl.metadata (5.5 kB)\r\n",
      "Requirement already satisfied: pandas>=0.18.1 in /Users/zhengshuang/Documents/ProgramingGuide/SourceCode/GithubRepo/everyfine/FinRLLearn/FinRLExamples/.venv/lib/python3.10/site-packages (from alpaca-trade-api<4,>=3->finrl==0.3.6) (2.2.3)\r\n",
      "Requirement already satisfied: numpy>=1.11.1 in /Users/zhengshuang/Documents/ProgramingGuide/SourceCode/GithubRepo/everyfine/FinRLLearn/FinRLExamples/.venv/lib/python3.10/site-packages (from alpaca-trade-api<4,>=3->finrl==0.3.6) (1.26.4)\r\n",
      "Requirement already satisfied: requests<3,>2 in /Users/zhengshuang/Documents/ProgramingGuide/SourceCode/GithubRepo/everyfine/FinRLLearn/FinRLExamples/.venv/lib/python3.10/site-packages (from alpaca-trade-api<4,>=3->finrl==0.3.6) (2.32.3)\r\n",
      "Collecting urllib3<2,>1.24 (from alpaca-trade-api<4,>=3->finrl==0.3.6)\r\n",
      "  Obtaining dependency information for urllib3<2,>1.24 from https://files.pythonhosted.org/packages/33/cf/8435d5a7159e2a9c83a95896ed596f68cf798005fe107cc655b5c5c14704/urllib3-1.26.20-py2.py3-none-any.whl.metadata\r\n",
      "  Using cached urllib3-1.26.20-py2.py3-none-any.whl.metadata (50 kB)\r\n",
      "Requirement already satisfied: websocket-client<2,>=0.56.0 in /Users/zhengshuang/Documents/ProgramingGuide/SourceCode/GithubRepo/everyfine/FinRLLearn/FinRLExamples/.venv/lib/python3.10/site-packages (from alpaca-trade-api<4,>=3->finrl==0.3.6) (1.8.0)\r\n",
      "Collecting websockets<11,>=9.0 (from alpaca-trade-api<4,>=3->finrl==0.3.6)\r\n",
      "  Obtaining dependency information for websockets<11,>=9.0 from https://files.pythonhosted.org/packages/20/7a/bd0ce7ac1cfafc76c84d6e8051bcbd0f7def8e45207230833bd6ff77a41d/websockets-10.4-cp310-cp310-macosx_11_0_arm64.whl.metadata\r\n",
      "  Using cached websockets-10.4-cp310-cp310-macosx_11_0_arm64.whl.metadata (6.4 kB)\r\n",
      "Collecting msgpack==1.0.3 (from alpaca-trade-api<4,>=3->finrl==0.3.6)\r\n",
      "  Obtaining dependency information for msgpack==1.0.3 from https://files.pythonhosted.org/packages/4f/e9/837b5c2209d41ddaf99cc7247598191d6f9f776c017b95abb5ada761ef93/msgpack-1.0.3-cp310-cp310-macosx_10_9_universal2.whl.metadata\r\n",
      "  Using cached msgpack-1.0.3-cp310-cp310-macosx_10_9_universal2.whl.metadata (8.7 kB)\r\n",
      "Collecting aiohttp<4,>=3.8.3 (from alpaca-trade-api<4,>=3->finrl==0.3.6)\r\n",
      "  Obtaining dependency information for aiohttp<4,>=3.8.3 from https://files.pythonhosted.org/packages/ed/7e/e385e54fa3d9360f9d1ea502a5627f2f4bdd141dd227a1f8785335c4fca9/aiohttp-3.11.7-cp310-cp310-macosx_11_0_arm64.whl.metadata\r\n",
      "  Downloading aiohttp-3.11.7-cp310-cp310-macosx_11_0_arm64.whl.metadata (7.7 kB)\r\n",
      "Collecting PyYAML==6.0.1 (from alpaca-trade-api<4,>=3->finrl==0.3.6)\r\n",
      "  Obtaining dependency information for PyYAML==6.0.1 from https://files.pythonhosted.org/packages/5b/07/10033a403b23405a8fc48975444463d3d10a5c2736b7eb2550b07b367429/PyYAML-6.0.1-cp310-cp310-macosx_11_0_arm64.whl.metadata\r\n",
      "  Using cached PyYAML-6.0.1-cp310-cp310-macosx_11_0_arm64.whl.metadata (2.1 kB)\r\n",
      "Collecting deprecation==2.1.0 (from alpaca-trade-api<4,>=3->finrl==0.3.6)\r\n",
      "  Obtaining dependency information for deprecation==2.1.0 from https://files.pythonhosted.org/packages/02/c3/253a89ee03fc9b9682f1541728eb66db7db22148cd94f89ab22528cd1e1b/deprecation-2.1.0-py2.py3-none-any.whl.metadata\r\n",
      "  Using cached deprecation-2.1.0-py2.py3-none-any.whl.metadata (4.6 kB)\r\n",
      "Requirement already satisfied: packaging in /Users/zhengshuang/Documents/ProgramingGuide/SourceCode/GithubRepo/everyfine/FinRLLearn/FinRLExamples/.venv/lib/python3.10/site-packages (from deprecation==2.1.0->alpaca-trade-api<4,>=3->finrl==0.3.6) (23.2)\r\n",
      "Requirement already satisfied: setuptools>=60.9.0 in /Users/zhengshuang/Documents/ProgramingGuide/SourceCode/GithubRepo/everyfine/FinRLLearn/FinRLExamples/.venv/lib/python3.10/site-packages (from ccxt<4,>=3->finrl==0.3.6) (68.2.0)\r\n",
      "Requirement already satisfied: certifi>=2018.1.18 in /Users/zhengshuang/Documents/ProgramingGuide/SourceCode/GithubRepo/everyfine/FinRLLearn/FinRLExamples/.venv/lib/python3.10/site-packages (from ccxt<4,>=3->finrl==0.3.6) (2024.8.30)\r\n",
      "Collecting cryptography>=2.6.1 (from ccxt<4,>=3->finrl==0.3.6)\r\n",
      "  Obtaining dependency information for cryptography>=2.6.1 from https://files.pythonhosted.org/packages/30/d5/c8b32c047e2e81dd172138f772e81d852c51f0f2ad2ae8a24f1122e9e9a7/cryptography-43.0.3-cp39-abi3-macosx_10_9_universal2.whl.metadata\r\n",
      "  Using cached cryptography-43.0.3-cp39-abi3-macosx_10_9_universal2.whl.metadata (5.4 kB)\r\n",
      "Collecting aiodns>=1.1.1 (from ccxt<4,>=3->finrl==0.3.6)\r\n",
      "  Obtaining dependency information for aiodns>=1.1.1 from https://files.pythonhosted.org/packages/15/14/13c65b1bd59f7e707e0cc0964fbab45c003f90292ed267d159eeeeaa2224/aiodns-3.2.0-py3-none-any.whl.metadata\r\n",
      "  Using cached aiodns-3.2.0-py3-none-any.whl.metadata (4.0 kB)\r\n",
      "Collecting yarl>=1.7.2 (from ccxt<4,>=3->finrl==0.3.6)\r\n",
      "  Obtaining dependency information for yarl>=1.7.2 from https://files.pythonhosted.org/packages/12/9d/7d39082baae943f138df1bb96914f8d53fd65eb131b9d0965917b009b35d/yarl-1.18.0-cp310-cp310-macosx_11_0_arm64.whl.metadata\r\n",
      "  Downloading yarl-1.18.0-cp310-cp310-macosx_11_0_arm64.whl.metadata (67 kB)\r\n",
      "\u001B[2K     \u001B[90m━━━━━━━━━━━━━━━━━━━━━━━━━━━━━━━━━━━━━━━\u001B[0m \u001B[32m67.7/67.7 kB\u001B[0m \u001B[31m997.6 kB/s\u001B[0m eta \u001B[36m0:00:00\u001B[0m \u001B[36m0:00:01\u001B[0m\r\n",
      "\u001B[?25hCollecting pyluach (from exchange-calendars<5,>=4->finrl==0.3.6)\r\n",
      "  Obtaining dependency information for pyluach from https://files.pythonhosted.org/packages/4f/83/2e585d06d49e0320050b3d7d8ae0dfbd1459e976ff9f4b4d8bcca983d474/pyluach-2.2.0-py3-none-any.whl.metadata\r\n",
      "  Using cached pyluach-2.2.0-py3-none-any.whl.metadata (4.3 kB)\r\n",
      "Collecting toolz (from exchange-calendars<5,>=4->finrl==0.3.6)\r\n",
      "  Obtaining dependency information for toolz from https://files.pythonhosted.org/packages/03/98/eb27cc78ad3af8e302c9d8ff4977f5026676e130d28dd7578132a457170c/toolz-1.0.0-py3-none-any.whl.metadata\r\n",
      "  Using cached toolz-1.0.0-py3-none-any.whl.metadata (5.1 kB)\r\n",
      "Requirement already satisfied: tzdata in /Users/zhengshuang/Documents/ProgramingGuide/SourceCode/GithubRepo/everyfine/FinRLLearn/FinRLExamples/.venv/lib/python3.10/site-packages (from exchange-calendars<5,>=4->finrl==0.3.6) (2024.2)\r\n",
      "Collecting korean_lunar_calendar (from exchange-calendars<5,>=4->finrl==0.3.6)\r\n",
      "  Obtaining dependency information for korean_lunar_calendar from https://files.pythonhosted.org/packages/9c/96/30f3fe51b336bb6da4714f4fdad7bbdce8f13af79af2eb75e22908f3f9f4/korean_lunar_calendar-0.3.1-py3-none-any.whl.metadata\r\n",
      "  Using cached korean_lunar_calendar-0.3.1-py3-none-any.whl.metadata (2.8 kB)\r\n",
      "Requirement already satisfied: six in /Users/zhengshuang/Documents/ProgramingGuide/SourceCode/GithubRepo/everyfine/FinRLLearn/FinRLExamples/.venv/lib/python3.10/site-packages (from jqdatasdk<2,>=1->finrl==0.3.6) (1.16.0)\r\n",
      "Requirement already satisfied: SQLAlchemy>=1.2.8 in /Users/zhengshuang/Documents/ProgramingGuide/SourceCode/GithubRepo/everyfine/FinRLLearn/FinRLExamples/.venv/lib/python3.10/site-packages (from jqdatasdk<2,>=1->finrl==0.3.6) (2.0.36)\r\n",
      "Collecting pymysql>=0.7.6 (from jqdatasdk<2,>=1->finrl==0.3.6)\r\n",
      "  Obtaining dependency information for pymysql>=0.7.6 from https://files.pythonhosted.org/packages/0c/94/e4181a1f6286f545507528c78016e00065ea913276888db2262507693ce5/PyMySQL-1.1.1-py3-none-any.whl.metadata\r\n",
      "  Using cached PyMySQL-1.1.1-py3-none-any.whl.metadata (4.4 kB)\r\n",
      "Collecting thriftpy2!=0.5.1,>=0.3.9 (from jqdatasdk<2,>=1->finrl==0.3.6)\r\n",
      "  Using cached thriftpy2-0.5.2-cp310-cp310-macosx_14_0_arm64.whl\r\n",
      "Requirement already satisfied: ipython>=3.2.3 in /Users/zhengshuang/Documents/ProgramingGuide/SourceCode/GithubRepo/everyfine/FinRLLearn/FinRLExamples/.venv/lib/python3.10/site-packages (from pyfolio<0.10,>=0.9->finrl==0.3.6) (8.29.0)\r\n",
      "Collecting matplotlib>=1.4.0 (from pyfolio<0.10,>=0.9->finrl==0.3.6)\r\n",
      "  Obtaining dependency information for matplotlib>=1.4.0 from https://files.pythonhosted.org/packages/36/98/cbacbd30241369d099f9c13a2b6bc3b7068d85214f5b5795e583ac3d8aba/matplotlib-3.9.2-cp310-cp310-macosx_11_0_arm64.whl.metadata\r\n",
      "  Using cached matplotlib-3.9.2-cp310-cp310-macosx_11_0_arm64.whl.metadata (11 kB)\r\n",
      "Requirement already satisfied: pytz>=2014.10 in /Users/zhengshuang/Documents/ProgramingGuide/SourceCode/GithubRepo/everyfine/FinRLLearn/FinRLExamples/.venv/lib/python3.10/site-packages (from pyfolio<0.10,>=0.9->finrl==0.3.6) (2024.2)\r\n",
      "Requirement already satisfied: scipy>=0.14.0 in /Users/zhengshuang/Documents/ProgramingGuide/SourceCode/GithubRepo/everyfine/FinRLLearn/FinRLExamples/.venv/lib/python3.10/site-packages (from pyfolio<0.10,>=0.9->finrl==0.3.6) (1.12.0)\r\n",
      "Collecting seaborn>=0.7.1 (from pyfolio<0.10,>=0.9->finrl==0.3.6)\r\n",
      "  Obtaining dependency information for seaborn>=0.7.1 from https://files.pythonhosted.org/packages/83/11/00d3c3dfc25ad54e731d91449895a79e4bf2384dc3ac01809010ba88f6d5/seaborn-0.13.2-py3-none-any.whl.metadata\r\n",
      "  Using cached seaborn-0.13.2-py3-none-any.whl.metadata (5.4 kB)\r\n",
      "Collecting empyrical>=0.5.0 (from pyfolio<0.10,>=0.9->finrl==0.3.6)\r\n",
      "  Using cached empyrical-0.5.5-py3-none-any.whl\r\n",
      "Collecting cvxpy<2.0.0,>=1.1.19 (from pyportfolioopt<2,>=1->finrl==0.3.6)\r\n",
      "  Obtaining dependency information for cvxpy<2.0.0,>=1.1.19 from https://files.pythonhosted.org/packages/fb/6d/000d81398eec413c21c36077ffceeeae6ac36ebf698070555a074459c6e2/cvxpy-1.6.0-cp310-cp310-macosx_10_9_universal2.whl.metadata\r\n",
      "  Using cached cvxpy-1.6.0-cp310-cp310-macosx_10_9_universal2.whl.metadata (9.2 kB)\r\n",
      "Collecting click>=7.0 (from ray[default,tune]<3,>=2->finrl==0.3.6)\r\n",
      "  Obtaining dependency information for click>=7.0 from https://files.pythonhosted.org/packages/00/2e/d53fa4befbf2cfa713304affc7ca780ce4fc1fd8710527771b58311a3229/click-8.1.7-py3-none-any.whl.metadata\r\n",
      "  Using cached click-8.1.7-py3-none-any.whl.metadata (3.0 kB)\r\n",
      "Collecting filelock (from ray[default,tune]<3,>=2->finrl==0.3.6)\r\n",
      "  Obtaining dependency information for filelock from https://files.pythonhosted.org/packages/b9/f8/feced7779d755758a52d1f6635d990b8d98dc0a29fa568bbe0625f18fdf3/filelock-3.16.1-py3-none-any.whl.metadata\r\n",
      "  Using cached filelock-3.16.1-py3-none-any.whl.metadata (2.9 kB)\r\n",
      "Requirement already satisfied: jsonschema in /Users/zhengshuang/Documents/ProgramingGuide/SourceCode/GithubRepo/everyfine/FinRLLearn/FinRLExamples/.venv/lib/python3.10/site-packages (from ray[default,tune]<3,>=2->finrl==0.3.6) (4.23.0)\r\n",
      "Collecting protobuf!=3.19.5,>=3.15.3 (from ray[default,tune]<3,>=2->finrl==0.3.6)\r\n",
      "  Obtaining dependency information for protobuf!=3.19.5,>=3.15.3 from https://files.pythonhosted.org/packages/1c/f2/baf397f3dd1d3e4af7e3f5a0382b868d25ac068eefe1ebde05132333436c/protobuf-5.28.3-cp38-abi3-macosx_10_9_universal2.whl.metadata\r\n",
      "  Using cached protobuf-5.28.3-cp38-abi3-macosx_10_9_universal2.whl.metadata (592 bytes)\r\n",
      "Collecting aiosignal (from ray[default,tune]<3,>=2->finrl==0.3.6)\r\n",
      "  Obtaining dependency information for aiosignal from https://files.pythonhosted.org/packages/76/ac/a7305707cb852b7e16ff80eaf5692309bde30e2b1100a1fcacdc8f731d97/aiosignal-1.3.1-py3-none-any.whl.metadata\r\n",
      "  Using cached aiosignal-1.3.1-py3-none-any.whl.metadata (4.0 kB)\r\n",
      "Collecting frozenlist (from ray[default,tune]<3,>=2->finrl==0.3.6)\r\n",
      "  Obtaining dependency information for frozenlist from https://files.pythonhosted.org/packages/8d/60/107a38c1e54176d12e06e9d4b5d755b677d71d1219217cee063911b1384f/frozenlist-1.5.0-cp310-cp310-macosx_11_0_arm64.whl.metadata\r\n",
      "  Using cached frozenlist-1.5.0-cp310-cp310-macosx_11_0_arm64.whl.metadata (13 kB)\r\n",
      "Collecting tensorboardX>=1.9 (from ray[default,tune]<3,>=2->finrl==0.3.6)\r\n",
      "  Obtaining dependency information for tensorboardX>=1.9 from https://files.pythonhosted.org/packages/44/71/f3e7c9b2ab67e28c572ab4e9d5fa3499e0d252650f96d8a3a03e26677f53/tensorboardX-2.6.2.2-py2.py3-none-any.whl.metadata\r\n",
      "  Using cached tensorboardX-2.6.2.2-py2.py3-none-any.whl.metadata (5.8 kB)\r\n",
      "Collecting pyarrow>=6.0.1 (from ray[default,tune]<3,>=2->finrl==0.3.6)\r\n",
      "  Obtaining dependency information for pyarrow>=6.0.1 from https://files.pythonhosted.org/packages/9e/de/f11a218ecc75e7af307058cb68cecff52b261d00cb59abf3ecdb51863cf1/pyarrow-18.0.0-cp310-cp310-macosx_12_0_arm64.whl.metadata\r\n",
      "  Using cached pyarrow-18.0.0-cp310-cp310-macosx_12_0_arm64.whl.metadata (3.3 kB)\r\n",
      "Collecting fsspec (from ray[default,tune]<3,>=2->finrl==0.3.6)\r\n",
      "  Obtaining dependency information for fsspec from https://files.pythonhosted.org/packages/c6/b2/454d6e7f0158951d8a78c2e1eb4f69ae81beb8dca5fee9809c6c99e9d0d0/fsspec-2024.10.0-py3-none-any.whl.metadata\r\n",
      "  Using cached fsspec-2024.10.0-py3-none-any.whl.metadata (11 kB)\r\n",
      "Collecting aiohttp-cors (from ray[default,tune]<3,>=2->finrl==0.3.6)\r\n",
      "  Obtaining dependency information for aiohttp-cors from https://files.pythonhosted.org/packages/13/e7/e436a0c0eb5127d8b491a9b83ecd2391c6ff7dcd5548dfaec2080a2340fd/aiohttp_cors-0.7.0-py3-none-any.whl.metadata\r\n",
      "  Using cached aiohttp_cors-0.7.0-py3-none-any.whl.metadata (20 kB)\r\n",
      "Collecting colorful (from ray[default,tune]<3,>=2->finrl==0.3.6)\r\n",
      "  Obtaining dependency information for colorful from https://files.pythonhosted.org/packages/b3/61/39e7db0cb326c9c8f6a49fad4fc9c2f1241f05a4e10f0643fc31ce26a7e0/colorful-0.5.6-py2.py3-none-any.whl.metadata\r\n",
      "  Using cached colorful-0.5.6-py2.py3-none-any.whl.metadata (16 kB)\r\n",
      "Collecting py-spy>=0.2.0 (from ray[default,tune]<3,>=2->finrl==0.3.6)\r\n",
      "  Obtaining dependency information for py-spy>=0.2.0 from https://files.pythonhosted.org/packages/65/7c/d9e26cc4c8e91f96a3a65de04d2e2e4131fbcaf6830d10917d4fab9d6788/py_spy-0.4.0-py2.py3-none-macosx_11_0_arm64.whl.metadata\r\n",
      "  Using cached py_spy-0.4.0-py2.py3-none-macosx_11_0_arm64.whl.metadata (16 kB)\r\n",
      "Collecting opencensus (from ray[default,tune]<3,>=2->finrl==0.3.6)\r\n",
      "  Obtaining dependency information for opencensus from https://files.pythonhosted.org/packages/b5/ed/9fbdeb23a09e430d87b7d72d430484b88184633dc50f6bfb792354b6f661/opencensus-0.11.4-py2.py3-none-any.whl.metadata\r\n",
      "  Using cached opencensus-0.11.4-py2.py3-none-any.whl.metadata (12 kB)\r\n",
      "Collecting pydantic!=2.0.*,!=2.1.*,!=2.2.*,!=2.3.*,!=2.4.*,<3 (from ray[default,tune]<3,>=2->finrl==0.3.6)\r\n",
      "  Obtaining dependency information for pydantic!=2.0.*,!=2.1.*,!=2.2.*,!=2.3.*,!=2.4.*,<3 from https://files.pythonhosted.org/packages/e0/fc/fda48d347bd50a788dd2a0f318a52160f911b86fc2d8b4c86f4d7c9bceea/pydantic-2.10.1-py3-none-any.whl.metadata\r\n",
      "  Downloading pydantic-2.10.1-py3-none-any.whl.metadata (169 kB)\r\n",
      "\u001B[2K     \u001B[90m━━━━━━━━━━━━━━━━━━━━━━━━━━━━━━━━━━━━━━━\u001B[0m \u001B[32m169.7/169.7 kB\u001B[0m \u001B[31m1.0 MB/s\u001B[0m eta \u001B[36m0:00:00\u001B[0ma \u001B[36m0:00:01\u001B[0m\r\n",
      "\u001B[?25hRequirement already satisfied: prometheus-client>=0.7.1 in /Users/zhengshuang/Documents/ProgramingGuide/SourceCode/GithubRepo/everyfine/FinRLLearn/FinRLExamples/.venv/lib/python3.10/site-packages (from ray[default,tune]<3,>=2->finrl==0.3.6) (0.21.0)\r\n",
      "Collecting smart-open (from ray[default,tune]<3,>=2->finrl==0.3.6)\r\n",
      "  Obtaining dependency information for smart-open from https://files.pythonhosted.org/packages/06/bc/706838af28a542458bffe74a5d0772ca7f207b5495cd9fccfce61ef71f2a/smart_open-7.0.5-py3-none-any.whl.metadata\r\n",
      "  Using cached smart_open-7.0.5-py3-none-any.whl.metadata (24 kB)\r\n",
      "Collecting virtualenv!=20.21.1,>=20.0.24 (from ray[default,tune]<3,>=2->finrl==0.3.6)\r\n",
      "  Obtaining dependency information for virtualenv!=20.21.1,>=20.0.24 from https://files.pythonhosted.org/packages/ae/92/78324ff89391e00c8f4cf6b8526c41c6ef36b4ea2d2c132250b1a6fc2b8d/virtualenv-20.27.1-py3-none-any.whl.metadata\r\n",
      "  Using cached virtualenv-20.27.1-py3-none-any.whl.metadata (4.5 kB)\r\n",
      "Collecting grpcio>=1.42.0 (from ray[default,tune]<3,>=2->finrl==0.3.6)\r\n",
      "  Obtaining dependency information for grpcio>=1.42.0 from https://files.pythonhosted.org/packages/0a/7b/caed06de43176982308404aff36141c0af03d279990baad45195254069cf/grpcio-1.68.0-cp310-cp310-macosx_12_0_universal2.whl.metadata\r\n",
      "  Using cached grpcio-1.68.0-cp310-cp310-macosx_12_0_universal2.whl.metadata (3.9 kB)\r\n",
      "Collecting memray (from ray[default,tune]<3,>=2->finrl==0.3.6)\r\n",
      "  Obtaining dependency information for memray from https://files.pythonhosted.org/packages/e5/bf/90411ec60b705c4416a6f90dc7621129713c4cf59e60d3fab5526187e7d3/memray-1.14.0-cp310-cp310-macosx_11_0_arm64.whl.metadata\r\n",
      "  Using cached memray-1.14.0-cp310-cp310-macosx_11_0_arm64.whl.metadata (19 kB)\r\n",
      "Collecting joblib>=1.2.0 (from scikit-learn<2,>=1->finrl==0.3.6)\r\n",
      "  Obtaining dependency information for joblib>=1.2.0 from https://files.pythonhosted.org/packages/91/29/df4b9b42f2be0b623cbd5e2140cafcaa2bef0759a00b7b70104dcfe2fb51/joblib-1.4.2-py3-none-any.whl.metadata\r\n",
      "  Using cached joblib-1.4.2-py3-none-any.whl.metadata (5.4 kB)\r\n",
      "Collecting threadpoolctl>=3.1.0 (from scikit-learn<2,>=1->finrl==0.3.6)\r\n",
      "  Obtaining dependency information for threadpoolctl>=3.1.0 from https://files.pythonhosted.org/packages/4b/2c/ffbf7a134b9ab11a67b0cf0726453cedd9c5043a4fe7a35d1cefa9a1bcfb/threadpoolctl-3.5.0-py3-none-any.whl.metadata\r\n",
      "  Using cached threadpoolctl-3.5.0-py3-none-any.whl.metadata (13 kB)\r\n",
      "Collecting gymnasium<1.1.0,>=0.29.1 (from stable-baselines3[extra]>=2.0.0a5->finrl==0.3.6)\r\n",
      "  Obtaining dependency information for gymnasium<1.1.0,>=0.29.1 from https://files.pythonhosted.org/packages/de/85/f5039ce2df5f0789ff1240f08a59f3e8c92e4c5f99543b7aad7388532f7c/gymnasium-1.0.0-py3-none-any.whl.metadata\r\n",
      "  Using cached gymnasium-1.0.0-py3-none-any.whl.metadata (9.5 kB)\r\n",
      "Collecting torch<3.0,>=2.3 (from stable-baselines3[extra]>=2.0.0a5->finrl==0.3.6)\r\n",
      "  Obtaining dependency information for torch<3.0,>=2.3 from https://files.pythonhosted.org/packages/a9/9d/e0860474ee0ff8f6ef2c50ec8f71a250f38d78a9b9df9fd241ad3397a65b/torch-2.5.1-cp310-none-macosx_11_0_arm64.whl.metadata\r\n",
      "  Using cached torch-2.5.1-cp310-none-macosx_11_0_arm64.whl.metadata (28 kB)\r\n",
      "Collecting cloudpickle (from stable-baselines3[extra]>=2.0.0a5->finrl==0.3.6)\r\n",
      "  Obtaining dependency information for cloudpickle from https://files.pythonhosted.org/packages/48/41/e1d85ca3cab0b674e277c8c4f678cf66a91cd2cecf93df94353a606fe0db/cloudpickle-3.1.0-py3-none-any.whl.metadata\r\n",
      "  Using cached cloudpickle-3.1.0-py3-none-any.whl.metadata (7.0 kB)\r\n",
      "Collecting opencv-python (from stable-baselines3[extra]>=2.0.0a5->finrl==0.3.6)\r\n",
      "  Obtaining dependency information for opencv-python from https://files.pythonhosted.org/packages/66/82/564168a349148298aca281e342551404ef5521f33fba17b388ead0a84dc5/opencv_python-4.10.0.84-cp37-abi3-macosx_11_0_arm64.whl.metadata\r\n",
      "  Using cached opencv_python-4.10.0.84-cp37-abi3-macosx_11_0_arm64.whl.metadata (20 kB)\r\n",
      "Collecting pygame (from stable-baselines3[extra]>=2.0.0a5->finrl==0.3.6)\r\n",
      "  Obtaining dependency information for pygame from https://files.pythonhosted.org/packages/dc/48/f8b1069788d1bd42e63a960d74d3355242480b750173a42b2749687578ca/pygame-2.6.1-cp310-cp310-macosx_11_0_arm64.whl.metadata\r\n",
      "  Using cached pygame-2.6.1-cp310-cp310-macosx_11_0_arm64.whl.metadata (12 kB)\r\n",
      "Collecting tensorboard>=2.9.1 (from stable-baselines3[extra]>=2.0.0a5->finrl==0.3.6)\r\n",
      "  Obtaining dependency information for tensorboard>=2.9.1 from https://files.pythonhosted.org/packages/b1/de/021c1d407befb505791764ad2cbd56ceaaa53a746baed01d2e2143f05f18/tensorboard-2.18.0-py3-none-any.whl.metadata\r\n",
      "  Using cached tensorboard-2.18.0-py3-none-any.whl.metadata (1.6 kB)\r\n",
      "Requirement already satisfied: psutil in /Users/zhengshuang/Documents/ProgramingGuide/SourceCode/GithubRepo/everyfine/FinRLLearn/FinRLExamples/.venv/lib/python3.10/site-packages (from stable-baselines3[extra]>=2.0.0a5->finrl==0.3.6) (6.1.0)\r\n",
      "Collecting tqdm (from stable-baselines3[extra]>=2.0.0a5->finrl==0.3.6)\r\n",
      "  Obtaining dependency information for tqdm from https://files.pythonhosted.org/packages/2b/78/57043611a16c655c8350b4c01b8d6abfb38cc2acb475238b62c2146186d7/tqdm-4.67.0-py3-none-any.whl.metadata\r\n",
      "  Using cached tqdm-4.67.0-py3-none-any.whl.metadata (57 kB)\r\n",
      "Collecting rich (from stable-baselines3[extra]>=2.0.0a5->finrl==0.3.6)\r\n",
      "  Obtaining dependency information for rich from https://files.pythonhosted.org/packages/19/71/39c7c0d87f8d4e6c020a393182060eaefeeae6c01dab6a84ec346f2567df/rich-13.9.4-py3-none-any.whl.metadata\r\n",
      "  Using cached rich-13.9.4-py3-none-any.whl.metadata (18 kB)\r\n",
      "Collecting ale-py>=0.9.0 (from stable-baselines3[extra]>=2.0.0a5->finrl==0.3.6)\r\n",
      "  Obtaining dependency information for ale-py>=0.9.0 from https://files.pythonhosted.org/packages/ed/d3/2d7c9386032b205cb1de6f0ee852627e9b910b561b4f655879e3c4a768c2/ale_py-0.10.1-cp310-cp310-macosx_11_0_arm64.whl.metadata\r\n",
      "  Using cached ale_py-0.10.1-cp310-cp310-macosx_11_0_arm64.whl.metadata (7.6 kB)\r\n",
      "Collecting pillow (from stable-baselines3[extra]>=2.0.0a5->finrl==0.3.6)\r\n",
      "  Obtaining dependency information for pillow from https://files.pythonhosted.org/packages/6a/1d/1f51e6e912d8ff316bb3935a8cda617c801783e0b998bf7a894e91d3bd4c/pillow-11.0.0-cp310-cp310-macosx_11_0_arm64.whl.metadata\r\n",
      "  Using cached pillow-11.0.0-cp310-cp310-macosx_11_0_arm64.whl.metadata (9.1 kB)\r\n",
      "Requirement already satisfied: psycopg2-binary<2.10,>=2.9 in /Users/zhengshuang/Documents/ProgramingGuide/SourceCode/GithubRepo/everyfine/FinRLLearn/FinRLExamples/.venv/lib/python3.10/site-packages (from wrds<4,>=3->finrl==0.3.6) (2.9.10)\r\n",
      "Collecting multitasking>=0.0.7 (from yfinance<0.3,>=0.2->finrl==0.3.6)\r\n",
      "  Obtaining dependency information for multitasking>=0.0.7 from https://files.pythonhosted.org/packages/3e/8a/bb3160e76e844db9e69a413f055818969c8acade64e1a9ac5ce9dfdcf6c1/multitasking-0.0.11-py3-none-any.whl.metadata\r\n",
      "  Using cached multitasking-0.0.11-py3-none-any.whl.metadata (5.5 kB)\r\n",
      "Collecting lxml>=4.9.1 (from yfinance<0.3,>=0.2->finrl==0.3.6)\r\n",
      "  Obtaining dependency information for lxml>=4.9.1 from https://files.pythonhosted.org/packages/a1/ce/2789e39eddf2b13fac29878bfa465f0910eb6b0096e29090e5176bc8cf43/lxml-5.3.0-cp310-cp310-macosx_10_9_universal2.whl.metadata\r\n",
      "  Using cached lxml-5.3.0-cp310-cp310-macosx_10_9_universal2.whl.metadata (3.8 kB)\r\n",
      "Requirement already satisfied: platformdirs>=2.0.0 in /Users/zhengshuang/Documents/ProgramingGuide/SourceCode/GithubRepo/everyfine/FinRLLearn/FinRLExamples/.venv/lib/python3.10/site-packages (from yfinance<0.3,>=0.2->finrl==0.3.6) (4.3.6)\r\n",
      "Collecting frozendict>=2.3.4 (from yfinance<0.3,>=0.2->finrl==0.3.6)\r\n",
      "  Obtaining dependency information for frozendict>=2.3.4 from https://files.pythonhosted.org/packages/29/98/27e145ff7e8e63caa95fb8ee4fc56c68acb208bef01a89c3678a66f9a34d/frozendict-2.4.6-cp310-cp310-macosx_11_0_arm64.whl.metadata\r\n",
      "  Using cached frozendict-2.4.6-cp310-cp310-macosx_11_0_arm64.whl.metadata (23 kB)\r\n",
      "Collecting peewee>=3.16.2 (from yfinance<0.3,>=0.2->finrl==0.3.6)\r\n",
      "  Using cached peewee-3.17.8-cp310-cp310-macosx_14_0_arm64.whl\r\n",
      "Requirement already satisfied: beautifulsoup4>=4.11.1 in /Users/zhengshuang/Documents/ProgramingGuide/SourceCode/GithubRepo/everyfine/FinRLLearn/FinRLExamples/.venv/lib/python3.10/site-packages (from yfinance<0.3,>=0.2->finrl==0.3.6) (4.12.3)\r\n",
      "Collecting html5lib>=1.1 (from yfinance<0.3,>=0.2->finrl==0.3.6)\r\n",
      "  Obtaining dependency information for html5lib>=1.1 from https://files.pythonhosted.org/packages/6c/dd/a834df6482147d48e225a49515aabc28974ad5a4ca3215c18a882565b028/html5lib-1.1-py2.py3-none-any.whl.metadata\r\n",
      "  Using cached html5lib-1.1-py2.py3-none-any.whl.metadata (16 kB)\r\n",
      "Collecting th (from elegantrl@ git+https://github.com/AI4Finance-Foundation/ElegantRL.git#egg=elegantrl->finrl==0.3.6)\r\n",
      "  Obtaining dependency information for th from https://files.pythonhosted.org/packages/2f/29/969d96eeb98abf22915ce59079ac77e0e7d1cdcf5750aa0b46e4b057233f/th-0.4.1-py3-none-any.whl.metadata\r\n",
      "  Using cached th-0.4.1-py3-none-any.whl.metadata (3.4 kB)\r\n",
      "Collecting pycares>=4.0.0 (from aiodns>=1.1.1->ccxt<4,>=3->finrl==0.3.6)\r\n",
      "  Obtaining dependency information for pycares>=4.0.0 from https://files.pythonhosted.org/packages/55/cb/33b0630643cbb3d31db068d5b5beb94ff3040675d1e01fc8d82806bd9c08/pycares-4.4.0-cp310-cp310-macosx_10_9_universal2.whl.metadata\r\n",
      "  Using cached pycares-4.4.0-cp310-cp310-macosx_10_9_universal2.whl.metadata (4.1 kB)\r\n",
      "Collecting aiohappyeyeballs>=2.3.0 (from aiohttp<4,>=3.8.3->alpaca-trade-api<4,>=3->finrl==0.3.6)\r\n",
      "  Obtaining dependency information for aiohappyeyeballs>=2.3.0 from https://files.pythonhosted.org/packages/f7/d8/120cd0fe3e8530df0539e71ba9683eade12cae103dd7543e50d15f737917/aiohappyeyeballs-2.4.3-py3-none-any.whl.metadata\r\n",
      "  Using cached aiohappyeyeballs-2.4.3-py3-none-any.whl.metadata (6.1 kB)\r\n",
      "Collecting async-timeout<6.0,>=4.0 (from aiohttp<4,>=3.8.3->alpaca-trade-api<4,>=3->finrl==0.3.6)\r\n",
      "  Obtaining dependency information for async-timeout<6.0,>=4.0 from https://files.pythonhosted.org/packages/fe/ba/e2081de779ca30d473f21f5b30e0e737c438205440784c7dfc81efc2b029/async_timeout-5.0.1-py3-none-any.whl.metadata\r\n",
      "  Using cached async_timeout-5.0.1-py3-none-any.whl.metadata (5.1 kB)\r\n",
      "Requirement already satisfied: attrs>=17.3.0 in /Users/zhengshuang/Documents/ProgramingGuide/SourceCode/GithubRepo/everyfine/FinRLLearn/FinRLExamples/.venv/lib/python3.10/site-packages (from aiohttp<4,>=3.8.3->alpaca-trade-api<4,>=3->finrl==0.3.6) (24.2.0)\r\n",
      "Collecting multidict<7.0,>=4.5 (from aiohttp<4,>=3.8.3->alpaca-trade-api<4,>=3->finrl==0.3.6)\r\n",
      "  Obtaining dependency information for multidict<7.0,>=4.5 from https://files.pythonhosted.org/packages/ff/10/71f1379b05b196dae749b5ac062e87273e3f11634f447ebac12a571d90ae/multidict-6.1.0-cp310-cp310-macosx_11_0_arm64.whl.metadata\r\n",
      "  Using cached multidict-6.1.0-cp310-cp310-macosx_11_0_arm64.whl.metadata (5.0 kB)\r\n",
      "Collecting propcache>=0.2.0 (from aiohttp<4,>=3.8.3->alpaca-trade-api<4,>=3->finrl==0.3.6)\r\n",
      "  Obtaining dependency information for propcache>=0.2.0 from https://files.pythonhosted.org/packages/33/a2/6b1978c2e0d80a678e2c483f45e5443c15fe5d32c483902e92a073314ef1/propcache-0.2.0-cp310-cp310-macosx_11_0_arm64.whl.metadata\r\n",
      "  Using cached propcache-0.2.0-cp310-cp310-macosx_11_0_arm64.whl.metadata (7.7 kB)\r\n",
      "Requirement already satisfied: typing-extensions in /Users/zhengshuang/Documents/ProgramingGuide/SourceCode/GithubRepo/everyfine/FinRLLearn/FinRLExamples/.venv/lib/python3.10/site-packages (from ale-py>=0.9.0->stable-baselines3[extra]>=2.0.0a5->finrl==0.3.6) (4.12.2)\r\n",
      "Requirement already satisfied: soupsieve>1.2 in /Users/zhengshuang/Documents/ProgramingGuide/SourceCode/GithubRepo/everyfine/FinRLLearn/FinRLExamples/.venv/lib/python3.10/site-packages (from beautifulsoup4>=4.11.1->yfinance<0.3,>=0.2->finrl==0.3.6) (2.6)\r\n",
      "Requirement already satisfied: cffi>=1.12 in /Users/zhengshuang/Documents/ProgramingGuide/SourceCode/GithubRepo/everyfine/FinRLLearn/FinRLExamples/.venv/lib/python3.10/site-packages (from cryptography>=2.6.1->ccxt<4,>=3->finrl==0.3.6) (1.17.1)\r\n",
      "Collecting osqp>=0.6.2 (from cvxpy<2.0.0,>=1.1.19->pyportfolioopt<2,>=1->finrl==0.3.6)\r\n",
      "  Obtaining dependency information for osqp>=0.6.2 from https://files.pythonhosted.org/packages/d6/4d/99baf07fe2ef99c0ccca4c936bcf86911ac1e01274ed932ffbe1d3ef1b13/osqp-0.6.7.post3-cp310-cp310-macosx_11_0_arm64.whl.metadata\r\n",
      "  Using cached osqp-0.6.7.post3-cp310-cp310-macosx_11_0_arm64.whl.metadata (1.9 kB)\r\n",
      "Collecting clarabel>=0.5.0 (from cvxpy<2.0.0,>=1.1.19->pyportfolioopt<2,>=1->finrl==0.3.6)\r\n",
      "  Obtaining dependency information for clarabel>=0.5.0 from https://files.pythonhosted.org/packages/8b/b9/e41f5316a2d4261c340d9fa6aa1694dd57d12cc45f1e5dfc5773d2b53d39/clarabel-0.9.0-cp37-abi3-macosx_10_12_x86_64.macosx_11_0_arm64.macosx_10_12_universal2.whl.metadata\r\n",
      "  Using cached clarabel-0.9.0-cp37-abi3-macosx_10_12_x86_64.macosx_11_0_arm64.macosx_10_12_universal2.whl.metadata (4.8 kB)\r\n",
      "Collecting scs>=3.2.4.post1 (from cvxpy<2.0.0,>=1.1.19->pyportfolioopt<2,>=1->finrl==0.3.6)\r\n",
      "  Obtaining dependency information for scs>=3.2.4.post1 from https://files.pythonhosted.org/packages/8d/ca/b7c16fb48159e7f209d517b3381cc8174f2e2896fb75095fd63e9935c995/scs-3.2.7-cp310-cp310-macosx_11_0_arm64.whl.metadata\r\n",
      "  Using cached scs-3.2.7-cp310-cp310-macosx_11_0_arm64.whl.metadata (2.1 kB)\r\n",
      "Collecting pandas-datareader>=0.2 (from empyrical>=0.5.0->pyfolio<0.10,>=0.9->finrl==0.3.6)\r\n",
      "  Obtaining dependency information for pandas-datareader>=0.2 from https://files.pythonhosted.org/packages/3f/16/56c9d648b503619ebe96f726b5f642b68e299b34162ed2d6faa9d7966b7d/pandas_datareader-0.10.0-py3-none-any.whl.metadata\r\n",
      "  Using cached pandas_datareader-0.10.0-py3-none-any.whl.metadata (2.9 kB)\r\n",
      "Collecting farama-notifications>=0.0.1 (from gymnasium<1.1.0,>=0.29.1->stable-baselines3[extra]>=2.0.0a5->finrl==0.3.6)\r\n",
      "  Obtaining dependency information for farama-notifications>=0.0.1 from https://files.pythonhosted.org/packages/05/2c/ffc08c54c05cdce6fbed2aeebc46348dbe180c6d2c541c7af7ba0aa5f5f8/Farama_Notifications-0.0.4-py3-none-any.whl.metadata\r\n",
      "  Using cached Farama_Notifications-0.0.4-py3-none-any.whl.metadata (558 bytes)\r\n",
      "Requirement already satisfied: webencodings in /Users/zhengshuang/Documents/ProgramingGuide/SourceCode/GithubRepo/everyfine/FinRLLearn/FinRLExamples/.venv/lib/python3.10/site-packages (from html5lib>=1.1->yfinance<0.3,>=0.2->finrl==0.3.6) (0.5.1)\r\n",
      "Requirement already satisfied: decorator in /Users/zhengshuang/Documents/ProgramingGuide/SourceCode/GithubRepo/everyfine/FinRLLearn/FinRLExamples/.venv/lib/python3.10/site-packages (from ipython>=3.2.3->pyfolio<0.10,>=0.9->finrl==0.3.6) (5.1.1)\r\n",
      "Requirement already satisfied: jedi>=0.16 in /Users/zhengshuang/Documents/ProgramingGuide/SourceCode/GithubRepo/everyfine/FinRLLearn/FinRLExamples/.venv/lib/python3.10/site-packages (from ipython>=3.2.3->pyfolio<0.10,>=0.9->finrl==0.3.6) (0.19.2)\r\n",
      "Requirement already satisfied: matplotlib-inline in /Users/zhengshuang/Documents/ProgramingGuide/SourceCode/GithubRepo/everyfine/FinRLLearn/FinRLExamples/.venv/lib/python3.10/site-packages (from ipython>=3.2.3->pyfolio<0.10,>=0.9->finrl==0.3.6) (0.1.7)\r\n",
      "Requirement already satisfied: prompt-toolkit<3.1.0,>=3.0.41 in /Users/zhengshuang/Documents/ProgramingGuide/SourceCode/GithubRepo/everyfine/FinRLLearn/FinRLExamples/.venv/lib/python3.10/site-packages (from ipython>=3.2.3->pyfolio<0.10,>=0.9->finrl==0.3.6) (3.0.48)\r\n",
      "Requirement already satisfied: pygments>=2.4.0 in /Users/zhengshuang/Documents/ProgramingGuide/SourceCode/GithubRepo/everyfine/FinRLLearn/FinRLExamples/.venv/lib/python3.10/site-packages (from ipython>=3.2.3->pyfolio<0.10,>=0.9->finrl==0.3.6) (2.18.0)\r\n",
      "Requirement already satisfied: stack-data in /Users/zhengshuang/Documents/ProgramingGuide/SourceCode/GithubRepo/everyfine/FinRLLearn/FinRLExamples/.venv/lib/python3.10/site-packages (from ipython>=3.2.3->pyfolio<0.10,>=0.9->finrl==0.3.6) (0.6.3)\r\n",
      "Requirement already satisfied: traitlets>=5.13.0 in /Users/zhengshuang/Documents/ProgramingGuide/SourceCode/GithubRepo/everyfine/FinRLLearn/FinRLExamples/.venv/lib/python3.10/site-packages (from ipython>=3.2.3->pyfolio<0.10,>=0.9->finrl==0.3.6) (5.14.3)\r\n",
      "Requirement already satisfied: exceptiongroup in /Users/zhengshuang/Documents/ProgramingGuide/SourceCode/GithubRepo/everyfine/FinRLLearn/FinRLExamples/.venv/lib/python3.10/site-packages (from ipython>=3.2.3->pyfolio<0.10,>=0.9->finrl==0.3.6) (1.2.2)\r\n",
      "Requirement already satisfied: pexpect>4.3 in /Users/zhengshuang/Documents/ProgramingGuide/SourceCode/GithubRepo/everyfine/FinRLLearn/FinRLExamples/.venv/lib/python3.10/site-packages (from ipython>=3.2.3->pyfolio<0.10,>=0.9->finrl==0.3.6) (4.9.0)\r\n",
      "Collecting contourpy>=1.0.1 (from matplotlib>=1.4.0->pyfolio<0.10,>=0.9->finrl==0.3.6)\r\n",
      "  Obtaining dependency information for contourpy>=1.0.1 from https://files.pythonhosted.org/packages/82/1d/e3eaebb4aa2d7311528c048350ca8e99cdacfafd99da87bc0a5f8d81f2c2/contourpy-1.3.1-cp310-cp310-macosx_11_0_arm64.whl.metadata\r\n",
      "  Using cached contourpy-1.3.1-cp310-cp310-macosx_11_0_arm64.whl.metadata (5.4 kB)\r\n",
      "Collecting cycler>=0.10 (from matplotlib>=1.4.0->pyfolio<0.10,>=0.9->finrl==0.3.6)\r\n",
      "  Obtaining dependency information for cycler>=0.10 from https://files.pythonhosted.org/packages/e7/05/c19819d5e3d95294a6f5947fb9b9629efb316b96de511b418c53d245aae6/cycler-0.12.1-py3-none-any.whl.metadata\r\n",
      "  Using cached cycler-0.12.1-py3-none-any.whl.metadata (3.8 kB)\r\n",
      "Collecting fonttools>=4.22.0 (from matplotlib>=1.4.0->pyfolio<0.10,>=0.9->finrl==0.3.6)\r\n",
      "  Obtaining dependency information for fonttools>=4.22.0 from https://files.pythonhosted.org/packages/d8/8c/57600ebff0b2119b725bc11eeea32b17b0220f3fae71b5fff082a1891270/fonttools-4.55.0-cp310-cp310-macosx_10_9_universal2.whl.metadata\r\n",
      "  Using cached fonttools-4.55.0-cp310-cp310-macosx_10_9_universal2.whl.metadata (164 kB)\r\n",
      "Collecting kiwisolver>=1.3.1 (from matplotlib>=1.4.0->pyfolio<0.10,>=0.9->finrl==0.3.6)\r\n",
      "  Obtaining dependency information for kiwisolver>=1.3.1 from https://files.pythonhosted.org/packages/ef/fa/65de49c85838681fc9cb05de2a68067a683717321e01ddafb5b8024286f0/kiwisolver-1.4.7-cp310-cp310-macosx_11_0_arm64.whl.metadata\r\n",
      "  Using cached kiwisolver-1.4.7-cp310-cp310-macosx_11_0_arm64.whl.metadata (6.3 kB)\r\n",
      "Collecting pyparsing>=2.3.1 (from matplotlib>=1.4.0->pyfolio<0.10,>=0.9->finrl==0.3.6)\r\n",
      "  Obtaining dependency information for pyparsing>=2.3.1 from https://files.pythonhosted.org/packages/be/ec/2eb3cd785efd67806c46c13a17339708ddc346cbb684eade7a6e6f79536a/pyparsing-3.2.0-py3-none-any.whl.metadata\r\n",
      "  Using cached pyparsing-3.2.0-py3-none-any.whl.metadata (5.0 kB)\r\n",
      "Requirement already satisfied: python-dateutil>=2.7 in /Users/zhengshuang/Documents/ProgramingGuide/SourceCode/GithubRepo/everyfine/FinRLLearn/FinRLExamples/.venv/lib/python3.10/site-packages (from matplotlib>=1.4.0->pyfolio<0.10,>=0.9->finrl==0.3.6) (2.9.0.post0)\r\n",
      "Collecting annotated-types>=0.6.0 (from pydantic!=2.0.*,!=2.1.*,!=2.2.*,!=2.3.*,!=2.4.*,<3->ray[default,tune]<3,>=2->finrl==0.3.6)\r\n",
      "  Obtaining dependency information for annotated-types>=0.6.0 from https://files.pythonhosted.org/packages/78/b6/6307fbef88d9b5ee7421e68d78a9f162e0da4900bc5f5793f6d3d0e34fb8/annotated_types-0.7.0-py3-none-any.whl.metadata\r\n",
      "  Using cached annotated_types-0.7.0-py3-none-any.whl.metadata (15 kB)\r\n",
      "Collecting pydantic-core==2.27.1 (from pydantic!=2.0.*,!=2.1.*,!=2.2.*,!=2.3.*,!=2.4.*,<3->ray[default,tune]<3,>=2->finrl==0.3.6)\r\n",
      "  Obtaining dependency information for pydantic-core==2.27.1 from https://files.pythonhosted.org/packages/fd/b9/84623d6b6be98cc209b06687d9bca5a7b966ffed008d15225dd0d20cce2e/pydantic_core-2.27.1-cp310-cp310-macosx_11_0_arm64.whl.metadata\r\n",
      "  Downloading pydantic_core-2.27.1-cp310-cp310-macosx_11_0_arm64.whl.metadata (6.6 kB)\r\n",
      "Requirement already satisfied: charset-normalizer<4,>=2 in /Users/zhengshuang/Documents/ProgramingGuide/SourceCode/GithubRepo/everyfine/FinRLLearn/FinRLExamples/.venv/lib/python3.10/site-packages (from requests<3,>2->alpaca-trade-api<4,>=3->finrl==0.3.6) (3.4.0)\r\n",
      "Requirement already satisfied: idna<4,>=2.5 in /Users/zhengshuang/Documents/ProgramingGuide/SourceCode/GithubRepo/everyfine/FinRLLearn/FinRLExamples/.venv/lib/python3.10/site-packages (from requests<3,>2->alpaca-trade-api<4,>=3->finrl==0.3.6) (3.10)\r\n",
      "Collecting absl-py>=0.4 (from tensorboard>=2.9.1->stable-baselines3[extra]>=2.0.0a5->finrl==0.3.6)\r\n",
      "  Obtaining dependency information for absl-py>=0.4 from https://files.pythonhosted.org/packages/a2/ad/e0d3c824784ff121c03cc031f944bc7e139a8f1870ffd2845cc2dd76f6c4/absl_py-2.1.0-py3-none-any.whl.metadata\r\n",
      "  Using cached absl_py-2.1.0-py3-none-any.whl.metadata (2.3 kB)\r\n",
      "Collecting markdown>=2.6.8 (from tensorboard>=2.9.1->stable-baselines3[extra]>=2.0.0a5->finrl==0.3.6)\r\n",
      "  Obtaining dependency information for markdown>=2.6.8 from https://files.pythonhosted.org/packages/3f/08/83871f3c50fc983b88547c196d11cf8c3340e37c32d2e9d6152abe2c61f7/Markdown-3.7-py3-none-any.whl.metadata\r\n",
      "  Using cached Markdown-3.7-py3-none-any.whl.metadata (7.0 kB)\r\n",
      "Collecting tensorboard-data-server<0.8.0,>=0.7.0 (from tensorboard>=2.9.1->stable-baselines3[extra]>=2.0.0a5->finrl==0.3.6)\r\n",
      "  Obtaining dependency information for tensorboard-data-server<0.8.0,>=0.7.0 from https://files.pythonhosted.org/packages/7a/13/e503968fefabd4c6b2650af21e110aa8466fe21432cd7c43a84577a89438/tensorboard_data_server-0.7.2-py3-none-any.whl.metadata\r\n",
      "  Using cached tensorboard_data_server-0.7.2-py3-none-any.whl.metadata (1.1 kB)\r\n",
      "Collecting werkzeug>=1.0.1 (from tensorboard>=2.9.1->stable-baselines3[extra]>=2.0.0a5->finrl==0.3.6)\r\n",
      "  Obtaining dependency information for werkzeug>=1.0.1 from https://files.pythonhosted.org/packages/52/24/ab44c871b0f07f491e5d2ad12c9bd7358e527510618cb1b803a88e986db1/werkzeug-3.1.3-py3-none-any.whl.metadata\r\n",
      "  Using cached werkzeug-3.1.3-py3-none-any.whl.metadata (3.7 kB)\r\n",
      "Collecting Cython>=3.0.10 (from thriftpy2!=0.5.1,>=0.3.9->jqdatasdk<2,>=1->finrl==0.3.6)\r\n",
      "  Obtaining dependency information for Cython>=3.0.10 from https://files.pythonhosted.org/packages/43/39/bdbec9142bc46605b54d674bf158a78b191c2b75be527c6dcf3e6dfe90b8/Cython-3.0.11-py2.py3-none-any.whl.metadata\r\n",
      "  Using cached Cython-3.0.11-py2.py3-none-any.whl.metadata (3.2 kB)\r\n",
      "Collecting ply<4.0,>=3.4 (from thriftpy2!=0.5.1,>=0.3.9->jqdatasdk<2,>=1->finrl==0.3.6)\r\n",
      "  Obtaining dependency information for ply<4.0,>=3.4 from https://files.pythonhosted.org/packages/a3/58/35da89ee790598a0700ea49b2a66594140f44dec458c07e8e3d4979137fc/ply-3.11-py2.py3-none-any.whl.metadata\r\n",
      "  Using cached ply-3.11-py2.py3-none-any.whl.metadata (844 bytes)\r\n",
      "Collecting networkx (from torch<3.0,>=2.3->stable-baselines3[extra]>=2.0.0a5->finrl==0.3.6)\r\n",
      "  Obtaining dependency information for networkx from https://files.pythonhosted.org/packages/b9/54/dd730b32ea14ea797530a4479b2ed46a6fb250f682a9cfb997e968bf0261/networkx-3.4.2-py3-none-any.whl.metadata\r\n",
      "  Using cached networkx-3.4.2-py3-none-any.whl.metadata (6.3 kB)\r\n",
      "Requirement already satisfied: jinja2 in /Users/zhengshuang/Documents/ProgramingGuide/SourceCode/GithubRepo/everyfine/FinRLLearn/FinRLExamples/.venv/lib/python3.10/site-packages (from torch<3.0,>=2.3->stable-baselines3[extra]>=2.0.0a5->finrl==0.3.6) (3.1.4)\r\n",
      "Collecting sympy==1.13.1 (from torch<3.0,>=2.3->stable-baselines3[extra]>=2.0.0a5->finrl==0.3.6)\r\n",
      "  Obtaining dependency information for sympy==1.13.1 from https://files.pythonhosted.org/packages/b2/fe/81695a1aa331a842b582453b605175f419fe8540355886031328089d840a/sympy-1.13.1-py3-none-any.whl.metadata\r\n",
      "  Using cached sympy-1.13.1-py3-none-any.whl.metadata (12 kB)\r\n",
      "Collecting mpmath<1.4,>=1.1.0 (from sympy==1.13.1->torch<3.0,>=2.3->stable-baselines3[extra]>=2.0.0a5->finrl==0.3.6)\r\n",
      "  Obtaining dependency information for mpmath<1.4,>=1.1.0 from https://files.pythonhosted.org/packages/43/e3/7d92a15f894aa0c9c4b49b8ee9ac9850d6e63b03c9c32c0367a13ae62209/mpmath-1.3.0-py3-none-any.whl.metadata\r\n",
      "  Using cached mpmath-1.3.0-py3-none-any.whl.metadata (8.6 kB)\r\n",
      "Collecting distlib<1,>=0.3.7 (from virtualenv!=20.21.1,>=20.0.24->ray[default,tune]<3,>=2->finrl==0.3.6)\r\n",
      "  Obtaining dependency information for distlib<1,>=0.3.7 from https://files.pythonhosted.org/packages/91/a1/cf2472db20f7ce4a6be1253a81cfdf85ad9c7885ffbed7047fb72c24cf87/distlib-0.3.9-py2.py3-none-any.whl.metadata\r\n",
      "  Using cached distlib-0.3.9-py2.py3-none-any.whl.metadata (5.2 kB)\r\n",
      "Requirement already satisfied: jsonschema-specifications>=2023.03.6 in /Users/zhengshuang/Documents/ProgramingGuide/SourceCode/GithubRepo/everyfine/FinRLLearn/FinRLExamples/.venv/lib/python3.10/site-packages (from jsonschema->ray[default,tune]<3,>=2->finrl==0.3.6) (2024.10.1)\r\n",
      "Requirement already satisfied: referencing>=0.28.4 in /Users/zhengshuang/Documents/ProgramingGuide/SourceCode/GithubRepo/everyfine/FinRLLearn/FinRLExamples/.venv/lib/python3.10/site-packages (from jsonschema->ray[default,tune]<3,>=2->finrl==0.3.6) (0.35.1)\r\n",
      "Requirement already satisfied: rpds-py>=0.7.1 in /Users/zhengshuang/Documents/ProgramingGuide/SourceCode/GithubRepo/everyfine/FinRLLearn/FinRLExamples/.venv/lib/python3.10/site-packages (from jsonschema->ray[default,tune]<3,>=2->finrl==0.3.6) (0.21.0)\r\n",
      "Collecting textual>=0.41.0 (from memray->ray[default,tune]<3,>=2->finrl==0.3.6)\r\n",
      "  Obtaining dependency information for textual>=0.41.0 from https://files.pythonhosted.org/packages/df/77/82e0593c98895e7bc18f15323c353d30e74fc0d2096a6d326fc31fddcc88/textual-0.86.3-py3-none-any.whl.metadata\r\n",
      "  Downloading textual-0.86.3-py3-none-any.whl.metadata (5.6 kB)\r\n",
      "Collecting markdown-it-py>=2.2.0 (from rich->stable-baselines3[extra]>=2.0.0a5->finrl==0.3.6)\r\n",
      "  Obtaining dependency information for markdown-it-py>=2.2.0 from https://files.pythonhosted.org/packages/42/d7/1ec15b46af6af88f19b8e5ffea08fa375d433c998b8a7639e76935c14f1f/markdown_it_py-3.0.0-py3-none-any.whl.metadata\r\n",
      "  Using cached markdown_it_py-3.0.0-py3-none-any.whl.metadata (6.9 kB)\r\n",
      "Collecting opencensus-context>=0.1.3 (from opencensus->ray[default,tune]<3,>=2->finrl==0.3.6)\r\n",
      "  Obtaining dependency information for opencensus-context>=0.1.3 from https://files.pythonhosted.org/packages/10/68/162c97ea78c957d68ecf78a5c5041d2e25bd5562bdf5d89a6cbf7f8429bf/opencensus_context-0.1.3-py2.py3-none-any.whl.metadata\r\n",
      "  Using cached opencensus_context-0.1.3-py2.py3-none-any.whl.metadata (3.3 kB)\r\n",
      "Collecting google-api-core<3.0.0,>=1.0.0 (from opencensus->ray[default,tune]<3,>=2->finrl==0.3.6)\r\n",
      "  Obtaining dependency information for google-api-core<3.0.0,>=1.0.0 from https://files.pythonhosted.org/packages/17/a4/c26886d57d90032c5f74c2e80aefdc38ec58551fc46bd4ce79fb2c9389fa/google_api_core-2.23.0-py3-none-any.whl.metadata\r\n",
      "  Using cached google_api_core-2.23.0-py3-none-any.whl.metadata (3.0 kB)\r\n",
      "Collecting wrapt (from smart-open->ray[default,tune]<3,>=2->finrl==0.3.6)\r\n",
      "  Obtaining dependency information for wrapt from https://files.pythonhosted.org/packages/99/f9/85220321e9bb1a5f72ccce6604395ae75fcb463d87dad0014dc1010bd1f1/wrapt-1.17.0-cp310-cp310-macosx_11_0_arm64.whl.metadata\r\n",
      "  Downloading wrapt-1.17.0-cp310-cp310-macosx_11_0_arm64.whl.metadata (6.4 kB)\r\n",
      "Collecting niltype<2.0,>=0.3 (from th->elegantrl@ git+https://github.com/AI4Finance-Foundation/ElegantRL.git#egg=elegantrl->finrl==0.3.6)\r\n",
      "  Obtaining dependency information for niltype<2.0,>=0.3 from https://files.pythonhosted.org/packages/41/d2/d3dee14b063ce2ce641a5f6d40b3537622373678c9db9ccbe67d15029b13/niltype-1.0.2-py3-none-any.whl.metadata\r\n",
      "  Using cached niltype-1.0.2-py3-none-any.whl.metadata (4.3 kB)\r\n",
      "Requirement already satisfied: pycparser in /Users/zhengshuang/Documents/ProgramingGuide/SourceCode/GithubRepo/everyfine/FinRLLearn/FinRLExamples/.venv/lib/python3.10/site-packages (from cffi>=1.12->cryptography>=2.6.1->ccxt<4,>=3->finrl==0.3.6) (2.22)\r\n",
      "Collecting googleapis-common-protos<2.0.dev0,>=1.56.2 (from google-api-core<3.0.0,>=1.0.0->opencensus->ray[default,tune]<3,>=2->finrl==0.3.6)\r\n",
      "  Obtaining dependency information for googleapis-common-protos<2.0.dev0,>=1.56.2 from https://files.pythonhosted.org/packages/a0/0f/c0713fb2b3d28af4b2fded3291df1c4d4f79a00d15c2374a9e010870016c/googleapis_common_protos-1.66.0-py2.py3-none-any.whl.metadata\r\n",
      "  Using cached googleapis_common_protos-1.66.0-py2.py3-none-any.whl.metadata (1.5 kB)\r\n",
      "Collecting proto-plus<2.0.0dev,>=1.22.3 (from google-api-core<3.0.0,>=1.0.0->opencensus->ray[default,tune]<3,>=2->finrl==0.3.6)\r\n",
      "  Obtaining dependency information for proto-plus<2.0.0dev,>=1.22.3 from https://files.pythonhosted.org/packages/dd/25/0b7cc838ae3d76d46539020ec39fc92bfc9acc29367e58fe912702c2a79e/proto_plus-1.25.0-py3-none-any.whl.metadata\r\n",
      "  Using cached proto_plus-1.25.0-py3-none-any.whl.metadata (2.2 kB)\r\n",
      "Collecting google-auth<3.0.dev0,>=2.14.1 (from google-api-core<3.0.0,>=1.0.0->opencensus->ray[default,tune]<3,>=2->finrl==0.3.6)\r\n",
      "  Obtaining dependency information for google-auth<3.0.dev0,>=2.14.1 from https://files.pythonhosted.org/packages/2d/9a/3d5087d27865c2f0431b942b5c4500b7d1b744dd3262fdc973a4c39d099e/google_auth-2.36.0-py2.py3-none-any.whl.metadata\r\n",
      "  Using cached google_auth-2.36.0-py2.py3-none-any.whl.metadata (4.7 kB)\r\n",
      "Requirement already satisfied: parso<0.9.0,>=0.8.4 in /Users/zhengshuang/Documents/ProgramingGuide/SourceCode/GithubRepo/everyfine/FinRLLearn/FinRLExamples/.venv/lib/python3.10/site-packages (from jedi>=0.16->ipython>=3.2.3->pyfolio<0.10,>=0.9->finrl==0.3.6) (0.8.4)\r\n",
      "Requirement already satisfied: MarkupSafe>=2.0 in /Users/zhengshuang/Documents/ProgramingGuide/SourceCode/GithubRepo/everyfine/FinRLLearn/FinRLExamples/.venv/lib/python3.10/site-packages (from jinja2->torch<3.0,>=2.3->stable-baselines3[extra]>=2.0.0a5->finrl==0.3.6) (3.0.2)\r\n",
      "Collecting mdurl~=0.1 (from markdown-it-py>=2.2.0->rich->stable-baselines3[extra]>=2.0.0a5->finrl==0.3.6)\r\n",
      "  Obtaining dependency information for mdurl~=0.1 from https://files.pythonhosted.org/packages/b3/38/89ba8ad64ae25be8de66a6d463314cf1eb366222074cfda9ee839c56a4b4/mdurl-0.1.2-py3-none-any.whl.metadata\r\n",
      "  Using cached mdurl-0.1.2-py3-none-any.whl.metadata (1.6 kB)\r\n",
      "Collecting qdldl (from osqp>=0.6.2->cvxpy<2.0.0,>=1.1.19->pyportfolioopt<2,>=1->finrl==0.3.6)\r\n",
      "  Obtaining dependency information for qdldl from https://files.pythonhosted.org/packages/c0/43/6ac6a201bd38149aaa89f1429559c97ffd7e8cfeb651b5cfdceb06394e5c/qdldl-0.1.7.post4-cp310-cp310-macosx_11_0_arm64.whl.metadata\r\n",
      "  Using cached qdldl-0.1.7.post4-cp310-cp310-macosx_11_0_arm64.whl.metadata (1.7 kB)\r\n",
      "Requirement already satisfied: ptyprocess>=0.5 in /Users/zhengshuang/Documents/ProgramingGuide/SourceCode/GithubRepo/everyfine/FinRLLearn/FinRLExamples/.venv/lib/python3.10/site-packages (from pexpect>4.3->ipython>=3.2.3->pyfolio<0.10,>=0.9->finrl==0.3.6) (0.7.0)\r\n",
      "Requirement already satisfied: wcwidth in /Users/zhengshuang/Documents/ProgramingGuide/SourceCode/GithubRepo/everyfine/FinRLLearn/FinRLExamples/.venv/lib/python3.10/site-packages (from prompt-toolkit<3.1.0,>=3.0.41->ipython>=3.2.3->pyfolio<0.10,>=0.9->finrl==0.3.6) (0.2.13)\r\n",
      "Requirement already satisfied: executing>=1.2.0 in /Users/zhengshuang/Documents/ProgramingGuide/SourceCode/GithubRepo/everyfine/FinRLLearn/FinRLExamples/.venv/lib/python3.10/site-packages (from stack-data->ipython>=3.2.3->pyfolio<0.10,>=0.9->finrl==0.3.6) (2.1.0)\r\n",
      "Requirement already satisfied: asttokens>=2.1.0 in /Users/zhengshuang/Documents/ProgramingGuide/SourceCode/GithubRepo/everyfine/FinRLLearn/FinRLExamples/.venv/lib/python3.10/site-packages (from stack-data->ipython>=3.2.3->pyfolio<0.10,>=0.9->finrl==0.3.6) (2.4.1)\r\n",
      "Requirement already satisfied: pure-eval in /Users/zhengshuang/Documents/ProgramingGuide/SourceCode/GithubRepo/everyfine/FinRLLearn/FinRLExamples/.venv/lib/python3.10/site-packages (from stack-data->ipython>=3.2.3->pyfolio<0.10,>=0.9->finrl==0.3.6) (0.2.3)\r\n",
      "Collecting cachetools<6.0,>=2.0.0 (from google-auth<3.0.dev0,>=2.14.1->google-api-core<3.0.0,>=1.0.0->opencensus->ray[default,tune]<3,>=2->finrl==0.3.6)\r\n",
      "  Obtaining dependency information for cachetools<6.0,>=2.0.0 from https://files.pythonhosted.org/packages/a4/07/14f8ad37f2d12a5ce41206c21820d8cb6561b728e51fad4530dff0552a67/cachetools-5.5.0-py3-none-any.whl.metadata\r\n",
      "  Using cached cachetools-5.5.0-py3-none-any.whl.metadata (5.3 kB)\r\n",
      "Collecting pyasn1-modules>=0.2.1 (from google-auth<3.0.dev0,>=2.14.1->google-api-core<3.0.0,>=1.0.0->opencensus->ray[default,tune]<3,>=2->finrl==0.3.6)\r\n",
      "  Obtaining dependency information for pyasn1-modules>=0.2.1 from https://files.pythonhosted.org/packages/77/89/bc88a6711935ba795a679ea6ebee07e128050d6382eaa35a0a47c8032bdc/pyasn1_modules-0.4.1-py3-none-any.whl.metadata\r\n",
      "  Using cached pyasn1_modules-0.4.1-py3-none-any.whl.metadata (3.5 kB)\r\n",
      "Collecting rsa<5,>=3.1.4 (from google-auth<3.0.dev0,>=2.14.1->google-api-core<3.0.0,>=1.0.0->opencensus->ray[default,tune]<3,>=2->finrl==0.3.6)\r\n",
      "  Obtaining dependency information for rsa<5,>=3.1.4 from https://files.pythonhosted.org/packages/49/97/fa78e3d2f65c02c8e1268b9aba606569fe97f6c8f7c2d74394553347c145/rsa-4.9-py3-none-any.whl.metadata\r\n",
      "  Using cached rsa-4.9-py3-none-any.whl.metadata (4.2 kB)\r\n",
      "Collecting mdit-py-plugins (from markdown-it-py>=2.2.0->rich->stable-baselines3[extra]>=2.0.0a5->finrl==0.3.6)\r\n",
      "  Obtaining dependency information for mdit-py-plugins from https://files.pythonhosted.org/packages/a7/f7/7782a043553ee469c1ff49cfa1cdace2d6bf99a1f333cf38676b3ddf30da/mdit_py_plugins-0.4.2-py3-none-any.whl.metadata\r\n",
      "  Using cached mdit_py_plugins-0.4.2-py3-none-any.whl.metadata (2.8 kB)\r\n",
      "Collecting linkify-it-py<3,>=1 (from markdown-it-py>=2.2.0->rich->stable-baselines3[extra]>=2.0.0a5->finrl==0.3.6)\r\n",
      "  Obtaining dependency information for linkify-it-py<3,>=1 from https://files.pythonhosted.org/packages/04/1e/b832de447dee8b582cac175871d2f6c3d5077cc56d5575cadba1fd1cccfa/linkify_it_py-2.0.3-py3-none-any.whl.metadata\r\n",
      "  Using cached linkify_it_py-2.0.3-py3-none-any.whl.metadata (8.5 kB)\r\n",
      "Collecting uc-micro-py (from linkify-it-py<3,>=1->markdown-it-py>=2.2.0->rich->stable-baselines3[extra]>=2.0.0a5->finrl==0.3.6)\r\n",
      "  Obtaining dependency information for uc-micro-py from https://files.pythonhosted.org/packages/37/87/1f677586e8ac487e29672e4b17455758fce261de06a0d086167bb760361a/uc_micro_py-1.0.3-py3-none-any.whl.metadata\r\n",
      "  Using cached uc_micro_py-1.0.3-py3-none-any.whl.metadata (2.0 kB)\r\n",
      "Collecting pyasn1<0.7.0,>=0.4.6 (from pyasn1-modules>=0.2.1->google-auth<3.0.dev0,>=2.14.1->google-api-core<3.0.0,>=1.0.0->opencensus->ray[default,tune]<3,>=2->finrl==0.3.6)\r\n",
      "  Obtaining dependency information for pyasn1<0.7.0,>=0.4.6 from https://files.pythonhosted.org/packages/c8/f1/d6a797abb14f6283c0ddff96bbdd46937f64122b8c925cab503dd37f8214/pyasn1-0.6.1-py3-none-any.whl.metadata\r\n",
      "  Using cached pyasn1-0.6.1-py3-none-any.whl.metadata (8.4 kB)\r\n",
      "Using cached alpaca_trade_api-3.2.0-py3-none-any.whl (34 kB)\r\n",
      "Using cached deprecation-2.1.0-py2.py3-none-any.whl (11 kB)\r\n",
      "Using cached msgpack-1.0.3-cp310-cp310-macosx_10_9_universal2.whl (130 kB)\r\n",
      "Using cached PyYAML-6.0.1-cp310-cp310-macosx_11_0_arm64.whl (169 kB)\r\n",
      "Using cached ccxt-3.1.60-py2.py3-none-any.whl (4.0 MB)\r\n",
      "Downloading exchange_calendars-4.6-py3-none-any.whl (196 kB)\r\n",
      "\u001B[2K   \u001B[90m━━━━━━━━━━━━━━━━━━━━━━━━━━━━━━━━━━━━━━━━\u001B[0m \u001B[32m196.8/196.8 kB\u001B[0m \u001B[31m1.6 MB/s\u001B[0m eta \u001B[36m0:00:00\u001B[0ma \u001B[36m0:00:01\u001B[0m\r\n",
      "\u001B[?25hUsing cached jqdatasdk-1.9.6-py3-none-any.whl (77 kB)\r\n",
      "Using cached pyportfolioopt-1.5.5-py3-none-any.whl (61 kB)\r\n",
      "Using cached scikit_learn-1.5.2-cp310-cp310-macosx_12_0_arm64.whl (11.0 MB)\r\n",
      "Using cached stockstats-0.5.4-py2.py3-none-any.whl (21 kB)\r\n",
      "Using cached yfinance-0.2.50-py2.py3-none-any.whl (102 kB)\r\n",
      "Using cached aiodns-3.2.0-py3-none-any.whl (5.7 kB)\r\n",
      "Downloading aiohttp-3.11.7-cp310-cp310-macosx_11_0_arm64.whl (453 kB)\r\n",
      "\u001B[2K   \u001B[90m━━━━━━━━━━━━━━━━━━━━━━━━━━━━━━━━━━━━━━━━\u001B[0m \u001B[32m454.0/454.0 kB\u001B[0m \u001B[31m1.8 MB/s\u001B[0m eta \u001B[36m0:00:00\u001B[0ma \u001B[36m0:00:01\u001B[0m\r\n",
      "\u001B[?25hUsing cached aiosignal-1.3.1-py3-none-any.whl (7.6 kB)\r\n",
      "Using cached ale_py-0.10.1-cp310-cp310-macosx_11_0_arm64.whl (1.5 MB)\r\n",
      "Using cached click-8.1.7-py3-none-any.whl (97 kB)\r\n",
      "Using cached cryptography-43.0.3-cp39-abi3-macosx_10_9_universal2.whl (6.2 MB)\r\n",
      "Using cached cvxpy-1.6.0-cp310-cp310-macosx_10_9_universal2.whl (1.5 MB)\r\n",
      "Using cached frozendict-2.4.6-cp310-cp310-macosx_11_0_arm64.whl (37 kB)\r\n",
      "Using cached frozenlist-1.5.0-cp310-cp310-macosx_11_0_arm64.whl (52 kB)\r\n",
      "Using cached grpcio-1.68.0-cp310-cp310-macosx_12_0_universal2.whl (11.1 MB)\r\n",
      "Using cached gymnasium-1.0.0-py3-none-any.whl (958 kB)\r\n",
      "Using cached cloudpickle-3.1.0-py3-none-any.whl (22 kB)\r\n",
      "Using cached html5lib-1.1-py2.py3-none-any.whl (112 kB)\r\n",
      "Using cached joblib-1.4.2-py3-none-any.whl (301 kB)\r\n",
      "Using cached lxml-5.3.0-cp310-cp310-macosx_10_9_universal2.whl (8.1 MB)\r\n",
      "Using cached matplotlib-3.9.2-cp310-cp310-macosx_11_0_arm64.whl (7.8 MB)\r\n",
      "Using cached multitasking-0.0.11-py3-none-any.whl (8.5 kB)\r\n",
      "Using cached pillow-11.0.0-cp310-cp310-macosx_11_0_arm64.whl (3.0 MB)\r\n",
      "Using cached protobuf-5.28.3-cp38-abi3-macosx_10_9_universal2.whl (414 kB)\r\n",
      "Using cached py_spy-0.4.0-py2.py3-none-macosx_11_0_arm64.whl (1.8 MB)\r\n",
      "Using cached pyarrow-18.0.0-cp310-cp310-macosx_12_0_arm64.whl (29.5 MB)\r\n",
      "Downloading pydantic-2.10.1-py3-none-any.whl (455 kB)\r\n",
      "\u001B[2K   \u001B[90m━━━━━━━━━━━━━━━━━━━━━━━━━━━━━━━━━━━━━━━━\u001B[0m \u001B[32m455.3/455.3 kB\u001B[0m \u001B[31m5.6 MB/s\u001B[0m eta \u001B[36m0:00:00\u001B[0m00:01\u001B[0m00:01\u001B[0m\r\n",
      "\u001B[?25hDownloading pydantic_core-2.27.1-cp310-cp310-macosx_11_0_arm64.whl (1.8 MB)\r\n",
      "\u001B[2K   \u001B[90m━━━━━━━━━━━━━━━━━━━━━━━━━━━━━━━━━━━━━━━━\u001B[0m \u001B[32m1.8/1.8 MB\u001B[0m \u001B[31m4.2 MB/s\u001B[0m eta \u001B[36m0:00:00\u001B[0ma \u001B[36m0:00:01\u001B[0m\r\n",
      "\u001B[?25hUsing cached PyMySQL-1.1.1-py3-none-any.whl (44 kB)\r\n",
      "Using cached seaborn-0.13.2-py3-none-any.whl (294 kB)\r\n",
      "Using cached tensorboard-2.18.0-py3-none-any.whl (5.5 MB)\r\n",
      "Using cached tensorboardX-2.6.2.2-py2.py3-none-any.whl (101 kB)\r\n",
      "Using cached threadpoolctl-3.5.0-py3-none-any.whl (18 kB)\r\n",
      "Using cached torch-2.5.1-cp310-none-macosx_11_0_arm64.whl (63.9 MB)\r\n",
      "Using cached sympy-1.13.1-py3-none-any.whl (6.2 MB)\r\n",
      "Using cached urllib3-1.26.20-py2.py3-none-any.whl (144 kB)\r\n",
      "Using cached virtualenv-20.27.1-py3-none-any.whl (3.1 MB)\r\n",
      "Using cached filelock-3.16.1-py3-none-any.whl (16 kB)\r\n",
      "Using cached websockets-10.4-cp310-cp310-macosx_11_0_arm64.whl (97 kB)\r\n",
      "Downloading yarl-1.18.0-cp310-cp310-macosx_11_0_arm64.whl (91 kB)\r\n",
      "\u001B[2K   \u001B[90m━━━━━━━━━━━━━━━━━━━━━━━━━━━━━━━━━━━━━━━━\u001B[0m \u001B[32m91.9/91.9 kB\u001B[0m \u001B[31m2.0 MB/s\u001B[0m eta \u001B[36m0:00:00\u001B[0ma \u001B[36m0:00:01\u001B[0m\r\n",
      "\u001B[?25hUsing cached aiohttp_cors-0.7.0-py3-none-any.whl (27 kB)\r\n",
      "Using cached colorful-0.5.6-py2.py3-none-any.whl (201 kB)\r\n",
      "Using cached fsspec-2024.10.0-py3-none-any.whl (179 kB)\r\n",
      "Using cached korean_lunar_calendar-0.3.1-py3-none-any.whl (9.0 kB)\r\n",
      "Using cached memray-1.14.0-cp310-cp310-macosx_11_0_arm64.whl (897 kB)\r\n",
      "Using cached rich-13.9.4-py3-none-any.whl (242 kB)\r\n",
      "Using cached opencensus-0.11.4-py2.py3-none-any.whl (128 kB)\r\n",
      "Using cached opencv_python-4.10.0.84-cp37-abi3-macosx_11_0_arm64.whl (54.8 MB)\r\n",
      "Using cached pygame-2.6.1-cp310-cp310-macosx_11_0_arm64.whl (12.4 MB)\r\n",
      "Using cached pyluach-2.2.0-py3-none-any.whl (25 kB)\r\n",
      "Using cached ray-2.39.0-cp310-cp310-macosx_11_0_arm64.whl (64.2 MB)\r\n",
      "Using cached smart_open-7.0.5-py3-none-any.whl (61 kB)\r\n",
      "Downloading stable_baselines3-2.5.0a0-py3-none-any.whl (183 kB)\r\n",
      "\u001B[2K   \u001B[90m━━━━━━━━━━━━━━━━━━━━━━━━━━━━━━━━━━━━━━━━\u001B[0m \u001B[32m183.7/183.7 kB\u001B[0m \u001B[31m2.6 MB/s\u001B[0m eta \u001B[36m0:00:00\u001B[0mta \u001B[36m0:00:01\u001B[0m\r\n",
      "\u001B[?25hUsing cached th-0.4.1-py3-none-any.whl (12 kB)\r\n",
      "Using cached toolz-1.0.0-py3-none-any.whl (56 kB)\r\n",
      "Using cached tqdm-4.67.0-py3-none-any.whl (78 kB)\r\n",
      "Using cached absl_py-2.1.0-py3-none-any.whl (133 kB)\r\n",
      "Using cached aiohappyeyeballs-2.4.3-py3-none-any.whl (14 kB)\r\n",
      "Using cached annotated_types-0.7.0-py3-none-any.whl (13 kB)\r\n",
      "Using cached async_timeout-5.0.1-py3-none-any.whl (6.2 kB)\r\n",
      "Using cached clarabel-0.9.0-cp37-abi3-macosx_10_12_x86_64.macosx_11_0_arm64.macosx_10_12_universal2.whl (1.7 MB)\r\n",
      "Using cached contourpy-1.3.1-cp310-cp310-macosx_11_0_arm64.whl (253 kB)\r\n",
      "Using cached cycler-0.12.1-py3-none-any.whl (8.3 kB)\r\n",
      "Using cached Cython-3.0.11-py2.py3-none-any.whl (1.2 MB)\r\n",
      "Using cached distlib-0.3.9-py2.py3-none-any.whl (468 kB)\r\n",
      "Using cached Farama_Notifications-0.0.4-py3-none-any.whl (2.5 kB)\r\n",
      "Using cached fonttools-4.55.0-cp310-cp310-macosx_10_9_universal2.whl (2.8 MB)\r\n",
      "Using cached google_api_core-2.23.0-py3-none-any.whl (156 kB)\r\n",
      "Using cached kiwisolver-1.4.7-cp310-cp310-macosx_11_0_arm64.whl (64 kB)\r\n",
      "Using cached Markdown-3.7-py3-none-any.whl (106 kB)\r\n",
      "Using cached markdown_it_py-3.0.0-py3-none-any.whl (87 kB)\r\n",
      "Using cached multidict-6.1.0-cp310-cp310-macosx_11_0_arm64.whl (29 kB)\r\n",
      "Using cached niltype-1.0.2-py3-none-any.whl (5.3 kB)\r\n",
      "Using cached opencensus_context-0.1.3-py2.py3-none-any.whl (5.1 kB)\r\n",
      "Using cached osqp-0.6.7.post3-cp310-cp310-macosx_11_0_arm64.whl (237 kB)\r\n",
      "Using cached pandas_datareader-0.10.0-py3-none-any.whl (109 kB)\r\n",
      "Using cached ply-3.11-py2.py3-none-any.whl (49 kB)\r\n",
      "Using cached propcache-0.2.0-cp310-cp310-macosx_11_0_arm64.whl (45 kB)\r\n",
      "Using cached pycares-4.4.0-cp310-cp310-macosx_10_9_universal2.whl (136 kB)\r\n",
      "Using cached pyparsing-3.2.0-py3-none-any.whl (106 kB)\r\n",
      "Using cached scs-3.2.7-cp310-cp310-macosx_11_0_arm64.whl (93 kB)\r\n",
      "Using cached tensorboard_data_server-0.7.2-py3-none-any.whl (2.4 kB)\r\n",
      "Downloading textual-0.86.3-py3-none-any.whl (647 kB)\r\n",
      "\u001B[2K   \u001B[90m━━━━━━━━━━━━━━━━━━━━━━━━━━━━━━━━━━━━━━━━\u001B[0m \u001B[32m647.2/647.2 kB\u001B[0m \u001B[31m3.0 MB/s\u001B[0m eta \u001B[36m0:00:00\u001B[0ma \u001B[36m0:00:01\u001B[0m\r\n",
      "\u001B[?25hUsing cached werkzeug-3.1.3-py3-none-any.whl (224 kB)\r\n",
      "Using cached networkx-3.4.2-py3-none-any.whl (1.7 MB)\r\n",
      "Downloading wrapt-1.17.0-cp310-cp310-macosx_11_0_arm64.whl (38 kB)\r\n",
      "Using cached google_auth-2.36.0-py2.py3-none-any.whl (209 kB)\r\n",
      "Using cached googleapis_common_protos-1.66.0-py2.py3-none-any.whl (221 kB)\r\n",
      "Using cached mdurl-0.1.2-py3-none-any.whl (10.0 kB)\r\n",
      "Using cached mpmath-1.3.0-py3-none-any.whl (536 kB)\r\n",
      "Using cached proto_plus-1.25.0-py3-none-any.whl (50 kB)\r\n",
      "Using cached qdldl-0.1.7.post4-cp310-cp310-macosx_11_0_arm64.whl (98 kB)\r\n",
      "Using cached cachetools-5.5.0-py3-none-any.whl (9.5 kB)\r\n",
      "Using cached linkify_it_py-2.0.3-py3-none-any.whl (19 kB)\r\n",
      "Using cached pyasn1_modules-0.4.1-py3-none-any.whl (181 kB)\r\n",
      "Using cached rsa-4.9-py3-none-any.whl (34 kB)\r\n",
      "Using cached mdit_py_plugins-0.4.2-py3-none-any.whl (55 kB)\r\n",
      "Using cached pyasn1-0.6.1-py3-none-any.whl (83 kB)\r\n",
      "Using cached uc_micro_py-1.0.3-py3-none-any.whl (6.2 kB)\r\n",
      "Building wheels for collected packages: finrl, elegantrl\r\n",
      "  Building wheel for finrl (pyproject.toml) ... \u001B[?25ldone\r\n",
      "\u001B[?25h  Created wheel for finrl: filename=finrl-0.3.6-py3-none-any.whl size=4691755 sha256=3eda17b41326452cd26c735c3d8be4c6992e404366746fdf42d3e69aadd703a4\r\n",
      "  Stored in directory: /private/var/folders/dv/ly5hp_ms3bd9753868lg6c5w0000gn/T/pip-ephem-wheel-cache-og_mx271/wheels/72/3b/1a/0fc805a8cc65ecd5bfe4f74a3c586b6075678b8ba53fd8f749\r\n",
      "  Building wheel for elegantrl (setup.py) ... \u001B[?25ldone\r\n",
      "\u001B[?25h  Created wheel for elegantrl: filename=ElegantRL-0.3.10-py3-none-any.whl size=281482 sha256=b16ae3e29b260ea6f59e2b396c173dc1889d24b4830c337580902cf81622b4d1\r\n",
      "  Stored in directory: /private/var/folders/dv/ly5hp_ms3bd9753868lg6c5w0000gn/T/pip-ephem-wheel-cache-og_mx271/wheels/c0/51/a5/b05f165548221bc570f7223babd33e2992fa873cdcebe2d229\r\n",
      "Successfully built finrl elegantrl\r\n",
      "Installing collected packages: py-spy, ply, peewee, opencensus-context, multitasking, msgpack, mpmath, korean_lunar_calendar, farama-notifications, distlib, colorful, wrapt, werkzeug, websockets, urllib3, uc-micro-py, tqdm, toolz, threadpoolctl, tensorboard-data-server, sympy, PyYAML, pyparsing, pymysql, pyluach, pygame, pydantic-core, pyasn1, pyarrow, protobuf, propcache, pillow, opencv-python, niltype, networkx, multidict, mdurl, markdown, lxml, kiwisolver, joblib, html5lib, grpcio, fsspec, frozenlist, frozendict, fonttools, filelock, deprecation, Cython, cycler, contourpy, cloudpickle, click, cachetools, async-timeout, annotated-types, ale-py, aiohappyeyeballs, absl-py, yarl, virtualenv, torch, thriftpy2, th, tensorboardX, tensorboard, smart-open, scs, scikit-learn, rsa, qdldl, pydantic, pycares, pyasn1-modules, proto-plus, matplotlib, markdown-it-py, linkify-it-py, gymnasium, googleapis-common-protos, cryptography, clarabel, aiosignal, yfinance, stockstats, stable-baselines3, seaborn, rich, pandas-datareader, osqp, mdit-py-plugins, jqdatasdk, google-auth, exchange-calendars, elegantrl, aiohttp, aiodns, ray, google-api-core, empyrical, cvxpy, ccxt, alpaca-trade-api, aiohttp-cors, textual, pyportfolioopt, pyfolio, opencensus, memray, finrl\r\n",
      "  Attempting uninstall: urllib3\r\n",
      "    Found existing installation: urllib3 2.2.3\r\n",
      "    Uninstalling urllib3-2.2.3:\r\n",
      "      Successfully uninstalled urllib3-2.2.3\r\n",
      "  Attempting uninstall: PyYAML\r\n",
      "    Found existing installation: PyYAML 6.0.2\r\n",
      "    Uninstalling PyYAML-6.0.2:\r\n",
      "      Successfully uninstalled PyYAML-6.0.2\r\n",
      "Successfully installed Cython-3.0.11 PyYAML-6.0.1 absl-py-2.1.0 aiodns-3.2.0 aiohappyeyeballs-2.4.3 aiohttp-3.11.7 aiohttp-cors-0.7.0 aiosignal-1.3.1 ale-py-0.10.1 alpaca-trade-api-3.2.0 annotated-types-0.7.0 async-timeout-5.0.1 cachetools-5.5.0 ccxt-3.1.60 clarabel-0.9.0 click-8.1.7 cloudpickle-3.1.0 colorful-0.5.6 contourpy-1.3.1 cryptography-43.0.3 cvxpy-1.6.0 cycler-0.12.1 deprecation-2.1.0 distlib-0.3.9 elegantrl-0.3.10 empyrical-0.5.5 exchange-calendars-4.6 farama-notifications-0.0.4 filelock-3.16.1 finrl-0.3.6 fonttools-4.55.0 frozendict-2.4.6 frozenlist-1.5.0 fsspec-2024.10.0 google-api-core-2.23.0 google-auth-2.36.0 googleapis-common-protos-1.66.0 grpcio-1.68.0 gymnasium-1.0.0 html5lib-1.1 joblib-1.4.2 jqdatasdk-1.9.6 kiwisolver-1.4.7 korean_lunar_calendar-0.3.1 linkify-it-py-2.0.3 lxml-5.3.0 markdown-3.7 markdown-it-py-3.0.0 matplotlib-3.9.2 mdit-py-plugins-0.4.2 mdurl-0.1.2 memray-1.14.0 mpmath-1.3.0 msgpack-1.0.3 multidict-6.1.0 multitasking-0.0.11 networkx-3.4.2 niltype-1.0.2 opencensus-0.11.4 opencensus-context-0.1.3 opencv-python-4.10.0.84 osqp-0.6.7.post3 pandas-datareader-0.10.0 peewee-3.17.8 pillow-11.0.0 ply-3.11 propcache-0.2.0 proto-plus-1.25.0 protobuf-5.28.3 py-spy-0.4.0 pyarrow-18.0.0 pyasn1-0.6.1 pyasn1-modules-0.4.1 pycares-4.4.0 pydantic-2.10.1 pydantic-core-2.27.1 pyfolio-0.9.2 pygame-2.6.1 pyluach-2.2.0 pymysql-1.1.1 pyparsing-3.2.0 pyportfolioopt-1.5.5 qdldl-0.1.7.post4 ray-2.39.0 rich-13.9.4 rsa-4.9 scikit-learn-1.5.2 scs-3.2.7 seaborn-0.13.2 smart-open-7.0.5 stable-baselines3-2.5.0a0 stockstats-0.5.4 sympy-1.13.1 tensorboard-2.18.0 tensorboard-data-server-0.7.2 tensorboardX-2.6.2.2 textual-0.86.3 th-0.4.1 threadpoolctl-3.5.0 thriftpy2-0.5.2 toolz-1.0.0 torch-2.5.1 tqdm-4.67.0 uc-micro-py-1.0.3 urllib3-1.26.20 virtualenv-20.27.1 websockets-10.4 werkzeug-3.1.3 wrapt-1.17.0 yarl-1.18.0 yfinance-0.2.50\r\n",
      "\r\n",
      "\u001B[1m[\u001B[0m\u001B[34;49mnotice\u001B[0m\u001B[1;39;49m]\u001B[0m\u001B[39;49m A new release of pip is available: \u001B[0m\u001B[31;49m23.2.1\u001B[0m\u001B[39;49m -> \u001B[0m\u001B[32;49m24.3.1\u001B[0m\r\n",
      "\u001B[1m[\u001B[0m\u001B[34;49mnotice\u001B[0m\u001B[1;39;49m]\u001B[0m\u001B[39;49m To update, run: \u001B[0m\u001B[32;49mpip install --upgrade pip\u001B[0m\r\n"
     ]
    }
   ],
   "execution_count": 3
  },
  {
   "metadata": {
    "ExecuteTime": {
     "end_time": "2024-11-24T07:48:19.346883Z",
     "start_time": "2024-11-24T07:48:16.616739Z"
    }
   },
   "cell_type": "code",
   "source": [
    "## We also need to install quantstats, because the environment uses it to plot graphs\n",
    "!pip install quantstats"
   ],
   "id": "97c7392e39cda9bf",
   "outputs": [
    {
     "name": "stdout",
     "output_type": "stream",
     "text": [
      "Collecting quantstats\r\n",
      "  Obtaining dependency information for quantstats from https://files.pythonhosted.org/packages/cc/74/b9cf9a2cf911d48c120635b71281a3a28323e97813e7a4d459b6acfd6447/QuantStats-0.0.64-py2.py3-none-any.whl.metadata\r\n",
      "  Using cached QuantStats-0.0.64-py2.py3-none-any.whl.metadata (8.9 kB)\r\n",
      "Requirement already satisfied: pandas>=0.24.0 in /Users/zhengshuang/Documents/ProgramingGuide/SourceCode/GithubRepo/everyfine/FinRLLearn/FinRLExamples/.venv/lib/python3.10/site-packages (from quantstats) (2.2.3)\r\n",
      "Requirement already satisfied: numpy>=1.16.5 in /Users/zhengshuang/Documents/ProgramingGuide/SourceCode/GithubRepo/everyfine/FinRLLearn/FinRLExamples/.venv/lib/python3.10/site-packages (from quantstats) (1.26.4)\r\n",
      "Requirement already satisfied: seaborn>=0.9.0 in /Users/zhengshuang/Documents/ProgramingGuide/SourceCode/GithubRepo/everyfine/FinRLLearn/FinRLExamples/.venv/lib/python3.10/site-packages (from quantstats) (0.13.2)\r\n",
      "Requirement already satisfied: matplotlib>=3.0.0 in /Users/zhengshuang/Documents/ProgramingGuide/SourceCode/GithubRepo/everyfine/FinRLLearn/FinRLExamples/.venv/lib/python3.10/site-packages (from quantstats) (3.9.2)\r\n",
      "Requirement already satisfied: scipy>=1.2.0 in /Users/zhengshuang/Documents/ProgramingGuide/SourceCode/GithubRepo/everyfine/FinRLLearn/FinRLExamples/.venv/lib/python3.10/site-packages (from quantstats) (1.12.0)\r\n",
      "Collecting tabulate>=0.8.0 (from quantstats)\r\n",
      "  Obtaining dependency information for tabulate>=0.8.0 from https://files.pythonhosted.org/packages/40/44/4a5f08c96eb108af5cb50b41f76142f0afa346dfa99d5296fe7202a11854/tabulate-0.9.0-py3-none-any.whl.metadata\r\n",
      "  Using cached tabulate-0.9.0-py3-none-any.whl.metadata (34 kB)\r\n",
      "Requirement already satisfied: yfinance>=0.1.70 in /Users/zhengshuang/Documents/ProgramingGuide/SourceCode/GithubRepo/everyfine/FinRLLearn/FinRLExamples/.venv/lib/python3.10/site-packages (from quantstats) (0.2.50)\r\n",
      "Requirement already satisfied: python-dateutil>=2.0 in /Users/zhengshuang/Documents/ProgramingGuide/SourceCode/GithubRepo/everyfine/FinRLLearn/FinRLExamples/.venv/lib/python3.10/site-packages (from quantstats) (2.9.0.post0)\r\n",
      "Requirement already satisfied: contourpy>=1.0.1 in /Users/zhengshuang/Documents/ProgramingGuide/SourceCode/GithubRepo/everyfine/FinRLLearn/FinRLExamples/.venv/lib/python3.10/site-packages (from matplotlib>=3.0.0->quantstats) (1.3.1)\r\n",
      "Requirement already satisfied: cycler>=0.10 in /Users/zhengshuang/Documents/ProgramingGuide/SourceCode/GithubRepo/everyfine/FinRLLearn/FinRLExamples/.venv/lib/python3.10/site-packages (from matplotlib>=3.0.0->quantstats) (0.12.1)\r\n",
      "Requirement already satisfied: fonttools>=4.22.0 in /Users/zhengshuang/Documents/ProgramingGuide/SourceCode/GithubRepo/everyfine/FinRLLearn/FinRLExamples/.venv/lib/python3.10/site-packages (from matplotlib>=3.0.0->quantstats) (4.55.0)\r\n",
      "Requirement already satisfied: kiwisolver>=1.3.1 in /Users/zhengshuang/Documents/ProgramingGuide/SourceCode/GithubRepo/everyfine/FinRLLearn/FinRLExamples/.venv/lib/python3.10/site-packages (from matplotlib>=3.0.0->quantstats) (1.4.7)\r\n",
      "Requirement already satisfied: packaging>=20.0 in /Users/zhengshuang/Documents/ProgramingGuide/SourceCode/GithubRepo/everyfine/FinRLLearn/FinRLExamples/.venv/lib/python3.10/site-packages (from matplotlib>=3.0.0->quantstats) (23.2)\r\n",
      "Requirement already satisfied: pillow>=8 in /Users/zhengshuang/Documents/ProgramingGuide/SourceCode/GithubRepo/everyfine/FinRLLearn/FinRLExamples/.venv/lib/python3.10/site-packages (from matplotlib>=3.0.0->quantstats) (11.0.0)\r\n",
      "Requirement already satisfied: pyparsing>=2.3.1 in /Users/zhengshuang/Documents/ProgramingGuide/SourceCode/GithubRepo/everyfine/FinRLLearn/FinRLExamples/.venv/lib/python3.10/site-packages (from matplotlib>=3.0.0->quantstats) (3.2.0)\r\n",
      "Requirement already satisfied: pytz>=2020.1 in /Users/zhengshuang/Documents/ProgramingGuide/SourceCode/GithubRepo/everyfine/FinRLLearn/FinRLExamples/.venv/lib/python3.10/site-packages (from pandas>=0.24.0->quantstats) (2024.2)\r\n",
      "Requirement already satisfied: tzdata>=2022.7 in /Users/zhengshuang/Documents/ProgramingGuide/SourceCode/GithubRepo/everyfine/FinRLLearn/FinRLExamples/.venv/lib/python3.10/site-packages (from pandas>=0.24.0->quantstats) (2024.2)\r\n",
      "Requirement already satisfied: six>=1.5 in /Users/zhengshuang/Documents/ProgramingGuide/SourceCode/GithubRepo/everyfine/FinRLLearn/FinRLExamples/.venv/lib/python3.10/site-packages (from python-dateutil>=2.0->quantstats) (1.16.0)\r\n",
      "Requirement already satisfied: requests>=2.31 in /Users/zhengshuang/Documents/ProgramingGuide/SourceCode/GithubRepo/everyfine/FinRLLearn/FinRLExamples/.venv/lib/python3.10/site-packages (from yfinance>=0.1.70->quantstats) (2.32.3)\r\n",
      "Requirement already satisfied: multitasking>=0.0.7 in /Users/zhengshuang/Documents/ProgramingGuide/SourceCode/GithubRepo/everyfine/FinRLLearn/FinRLExamples/.venv/lib/python3.10/site-packages (from yfinance>=0.1.70->quantstats) (0.0.11)\r\n",
      "Requirement already satisfied: lxml>=4.9.1 in /Users/zhengshuang/Documents/ProgramingGuide/SourceCode/GithubRepo/everyfine/FinRLLearn/FinRLExamples/.venv/lib/python3.10/site-packages (from yfinance>=0.1.70->quantstats) (5.3.0)\r\n",
      "Requirement already satisfied: platformdirs>=2.0.0 in /Users/zhengshuang/Documents/ProgramingGuide/SourceCode/GithubRepo/everyfine/FinRLLearn/FinRLExamples/.venv/lib/python3.10/site-packages (from yfinance>=0.1.70->quantstats) (4.3.6)\r\n",
      "Requirement already satisfied: frozendict>=2.3.4 in /Users/zhengshuang/Documents/ProgramingGuide/SourceCode/GithubRepo/everyfine/FinRLLearn/FinRLExamples/.venv/lib/python3.10/site-packages (from yfinance>=0.1.70->quantstats) (2.4.6)\r\n",
      "Requirement already satisfied: peewee>=3.16.2 in /Users/zhengshuang/Documents/ProgramingGuide/SourceCode/GithubRepo/everyfine/FinRLLearn/FinRLExamples/.venv/lib/python3.10/site-packages (from yfinance>=0.1.70->quantstats) (3.17.8)\r\n",
      "Requirement already satisfied: beautifulsoup4>=4.11.1 in /Users/zhengshuang/Documents/ProgramingGuide/SourceCode/GithubRepo/everyfine/FinRLLearn/FinRLExamples/.venv/lib/python3.10/site-packages (from yfinance>=0.1.70->quantstats) (4.12.3)\r\n",
      "Requirement already satisfied: html5lib>=1.1 in /Users/zhengshuang/Documents/ProgramingGuide/SourceCode/GithubRepo/everyfine/FinRLLearn/FinRLExamples/.venv/lib/python3.10/site-packages (from yfinance>=0.1.70->quantstats) (1.1)\r\n",
      "Requirement already satisfied: soupsieve>1.2 in /Users/zhengshuang/Documents/ProgramingGuide/SourceCode/GithubRepo/everyfine/FinRLLearn/FinRLExamples/.venv/lib/python3.10/site-packages (from beautifulsoup4>=4.11.1->yfinance>=0.1.70->quantstats) (2.6)\r\n",
      "Requirement already satisfied: webencodings in /Users/zhengshuang/Documents/ProgramingGuide/SourceCode/GithubRepo/everyfine/FinRLLearn/FinRLExamples/.venv/lib/python3.10/site-packages (from html5lib>=1.1->yfinance>=0.1.70->quantstats) (0.5.1)\r\n",
      "Requirement already satisfied: charset-normalizer<4,>=2 in /Users/zhengshuang/Documents/ProgramingGuide/SourceCode/GithubRepo/everyfine/FinRLLearn/FinRLExamples/.venv/lib/python3.10/site-packages (from requests>=2.31->yfinance>=0.1.70->quantstats) (3.4.0)\r\n",
      "Requirement already satisfied: idna<4,>=2.5 in /Users/zhengshuang/Documents/ProgramingGuide/SourceCode/GithubRepo/everyfine/FinRLLearn/FinRLExamples/.venv/lib/python3.10/site-packages (from requests>=2.31->yfinance>=0.1.70->quantstats) (3.10)\r\n",
      "Requirement already satisfied: urllib3<3,>=1.21.1 in /Users/zhengshuang/Documents/ProgramingGuide/SourceCode/GithubRepo/everyfine/FinRLLearn/FinRLExamples/.venv/lib/python3.10/site-packages (from requests>=2.31->yfinance>=0.1.70->quantstats) (1.26.20)\r\n",
      "Requirement already satisfied: certifi>=2017.4.17 in /Users/zhengshuang/Documents/ProgramingGuide/SourceCode/GithubRepo/everyfine/FinRLLearn/FinRLExamples/.venv/lib/python3.10/site-packages (from requests>=2.31->yfinance>=0.1.70->quantstats) (2024.8.30)\r\n",
      "Using cached QuantStats-0.0.64-py2.py3-none-any.whl (45 kB)\r\n",
      "Using cached tabulate-0.9.0-py3-none-any.whl (35 kB)\r\n",
      "Installing collected packages: tabulate, quantstats\r\n",
      "Successfully installed quantstats-0.0.64 tabulate-0.9.0\r\n",
      "\r\n",
      "\u001B[1m[\u001B[0m\u001B[34;49mnotice\u001B[0m\u001B[1;39;49m]\u001B[0m\u001B[39;49m A new release of pip is available: \u001B[0m\u001B[31;49m23.2.1\u001B[0m\u001B[39;49m -> \u001B[0m\u001B[32;49m24.3.1\u001B[0m\r\n",
      "\u001B[1m[\u001B[0m\u001B[34;49mnotice\u001B[0m\u001B[1;39;49m]\u001B[0m\u001B[39;49m To update, run: \u001B[0m\u001B[32;49mpip install --upgrade pip\u001B[0m\r\n"
     ]
    }
   ],
   "execution_count": 4
  },
  {
   "metadata": {
    "ExecuteTime": {
     "end_time": "2024-11-24T07:52:46.059711Z",
     "start_time": "2024-11-24T07:52:41.511266Z"
    }
   },
   "cell_type": "code",
   "source": "!pip install torch_geometric",
   "id": "fbaf8b7284c18c89",
   "outputs": [
    {
     "name": "stdout",
     "output_type": "stream",
     "text": [
      "Collecting torch_geometric\r\n",
      "  Obtaining dependency information for torch_geometric from https://files.pythonhosted.org/packages/03/9f/157e913626c1acfb3b19ce000b1a6e4e4fb177c0bc0ea0c67ca5bd714b5a/torch_geometric-2.6.1-py3-none-any.whl.metadata\r\n",
      "  Downloading torch_geometric-2.6.1-py3-none-any.whl.metadata (63 kB)\r\n",
      "\u001B[2K     \u001B[90m━━━━━━━━━━━━━━━━━━━━━━━━━━━━━━━━━━━━━━━\u001B[0m \u001B[32m63.1/63.1 kB\u001B[0m \u001B[31m233.7 kB/s\u001B[0m eta \u001B[36m0:00:00\u001B[0ma \u001B[36m0:00:01\u001B[0m\r\n",
      "\u001B[?25hRequirement already satisfied: aiohttp in /Users/zhengshuang/Documents/ProgramingGuide/SourceCode/GithubRepo/everyfine/FinRLLearn/FinRLExamples/.venv/lib/python3.10/site-packages (from torch_geometric) (3.11.7)\r\n",
      "Requirement already satisfied: fsspec in /Users/zhengshuang/Documents/ProgramingGuide/SourceCode/GithubRepo/everyfine/FinRLLearn/FinRLExamples/.venv/lib/python3.10/site-packages (from torch_geometric) (2024.10.0)\r\n",
      "Requirement already satisfied: jinja2 in /Users/zhengshuang/Documents/ProgramingGuide/SourceCode/GithubRepo/everyfine/FinRLLearn/FinRLExamples/.venv/lib/python3.10/site-packages (from torch_geometric) (3.1.4)\r\n",
      "Requirement already satisfied: numpy in /Users/zhengshuang/Documents/ProgramingGuide/SourceCode/GithubRepo/everyfine/FinRLLearn/FinRLExamples/.venv/lib/python3.10/site-packages (from torch_geometric) (1.26.4)\r\n",
      "Requirement already satisfied: psutil>=5.8.0 in /Users/zhengshuang/Documents/ProgramingGuide/SourceCode/GithubRepo/everyfine/FinRLLearn/FinRLExamples/.venv/lib/python3.10/site-packages (from torch_geometric) (6.1.0)\r\n",
      "Requirement already satisfied: pyparsing in /Users/zhengshuang/Documents/ProgramingGuide/SourceCode/GithubRepo/everyfine/FinRLLearn/FinRLExamples/.venv/lib/python3.10/site-packages (from torch_geometric) (3.2.0)\r\n",
      "Requirement already satisfied: requests in /Users/zhengshuang/Documents/ProgramingGuide/SourceCode/GithubRepo/everyfine/FinRLLearn/FinRLExamples/.venv/lib/python3.10/site-packages (from torch_geometric) (2.32.3)\r\n",
      "Requirement already satisfied: tqdm in /Users/zhengshuang/Documents/ProgramingGuide/SourceCode/GithubRepo/everyfine/FinRLLearn/FinRLExamples/.venv/lib/python3.10/site-packages (from torch_geometric) (4.67.0)\r\n",
      "Requirement already satisfied: aiohappyeyeballs>=2.3.0 in /Users/zhengshuang/Documents/ProgramingGuide/SourceCode/GithubRepo/everyfine/FinRLLearn/FinRLExamples/.venv/lib/python3.10/site-packages (from aiohttp->torch_geometric) (2.4.3)\r\n",
      "Requirement already satisfied: aiosignal>=1.1.2 in /Users/zhengshuang/Documents/ProgramingGuide/SourceCode/GithubRepo/everyfine/FinRLLearn/FinRLExamples/.venv/lib/python3.10/site-packages (from aiohttp->torch_geometric) (1.3.1)\r\n",
      "Requirement already satisfied: async-timeout<6.0,>=4.0 in /Users/zhengshuang/Documents/ProgramingGuide/SourceCode/GithubRepo/everyfine/FinRLLearn/FinRLExamples/.venv/lib/python3.10/site-packages (from aiohttp->torch_geometric) (5.0.1)\r\n",
      "Requirement already satisfied: attrs>=17.3.0 in /Users/zhengshuang/Documents/ProgramingGuide/SourceCode/GithubRepo/everyfine/FinRLLearn/FinRLExamples/.venv/lib/python3.10/site-packages (from aiohttp->torch_geometric) (24.2.0)\r\n",
      "Requirement already satisfied: frozenlist>=1.1.1 in /Users/zhengshuang/Documents/ProgramingGuide/SourceCode/GithubRepo/everyfine/FinRLLearn/FinRLExamples/.venv/lib/python3.10/site-packages (from aiohttp->torch_geometric) (1.5.0)\r\n",
      "Requirement already satisfied: multidict<7.0,>=4.5 in /Users/zhengshuang/Documents/ProgramingGuide/SourceCode/GithubRepo/everyfine/FinRLLearn/FinRLExamples/.venv/lib/python3.10/site-packages (from aiohttp->torch_geometric) (6.1.0)\r\n",
      "Requirement already satisfied: propcache>=0.2.0 in /Users/zhengshuang/Documents/ProgramingGuide/SourceCode/GithubRepo/everyfine/FinRLLearn/FinRLExamples/.venv/lib/python3.10/site-packages (from aiohttp->torch_geometric) (0.2.0)\r\n",
      "Requirement already satisfied: yarl<2.0,>=1.17.0 in /Users/zhengshuang/Documents/ProgramingGuide/SourceCode/GithubRepo/everyfine/FinRLLearn/FinRLExamples/.venv/lib/python3.10/site-packages (from aiohttp->torch_geometric) (1.18.0)\r\n",
      "Requirement already satisfied: MarkupSafe>=2.0 in /Users/zhengshuang/Documents/ProgramingGuide/SourceCode/GithubRepo/everyfine/FinRLLearn/FinRLExamples/.venv/lib/python3.10/site-packages (from jinja2->torch_geometric) (3.0.2)\r\n",
      "Requirement already satisfied: charset-normalizer<4,>=2 in /Users/zhengshuang/Documents/ProgramingGuide/SourceCode/GithubRepo/everyfine/FinRLLearn/FinRLExamples/.venv/lib/python3.10/site-packages (from requests->torch_geometric) (3.4.0)\r\n",
      "Requirement already satisfied: idna<4,>=2.5 in /Users/zhengshuang/Documents/ProgramingGuide/SourceCode/GithubRepo/everyfine/FinRLLearn/FinRLExamples/.venv/lib/python3.10/site-packages (from requests->torch_geometric) (3.10)\r\n",
      "Requirement already satisfied: urllib3<3,>=1.21.1 in /Users/zhengshuang/Documents/ProgramingGuide/SourceCode/GithubRepo/everyfine/FinRLLearn/FinRLExamples/.venv/lib/python3.10/site-packages (from requests->torch_geometric) (1.26.20)\r\n",
      "Requirement already satisfied: certifi>=2017.4.17 in /Users/zhengshuang/Documents/ProgramingGuide/SourceCode/GithubRepo/everyfine/FinRLLearn/FinRLExamples/.venv/lib/python3.10/site-packages (from requests->torch_geometric) (2024.8.30)\r\n",
      "Requirement already satisfied: typing-extensions>=4.1.0 in /Users/zhengshuang/Documents/ProgramingGuide/SourceCode/GithubRepo/everyfine/FinRLLearn/FinRLExamples/.venv/lib/python3.10/site-packages (from multidict<7.0,>=4.5->aiohttp->torch_geometric) (4.12.2)\r\n",
      "Downloading torch_geometric-2.6.1-py3-none-any.whl (1.1 MB)\r\n",
      "\u001B[2K   \u001B[90m━━━━━━━━━━━━━━━━━━━━━━━━━━━━━━━━━━━━━━━━\u001B[0m \u001B[32m1.1/1.1 MB\u001B[0m \u001B[31m1.8 MB/s\u001B[0m eta \u001B[36m0:00:00\u001B[0m00:01\u001B[0m00:01\u001B[0m0m\r\n",
      "\u001B[?25hInstalling collected packages: torch_geometric\r\n",
      "Successfully installed torch_geometric-2.6.1\r\n",
      "\r\n",
      "\u001B[1m[\u001B[0m\u001B[34;49mnotice\u001B[0m\u001B[1;39;49m]\u001B[0m\u001B[39;49m A new release of pip is available: \u001B[0m\u001B[31;49m23.2.1\u001B[0m\u001B[39;49m -> \u001B[0m\u001B[32;49m24.3.1\u001B[0m\r\n",
      "\u001B[1m[\u001B[0m\u001B[34;49mnotice\u001B[0m\u001B[1;39;49m]\u001B[0m\u001B[39;49m To update, run: \u001B[0m\u001B[32;49mpip install --upgrade pip\u001B[0m\r\n"
     ]
    }
   ],
   "execution_count": 7
  },
  {
   "metadata": {
    "ExecuteTime": {
     "end_time": "2024-11-24T07:53:56.715791Z",
     "start_time": "2024-11-24T07:53:54.830505Z"
    }
   },
   "cell_type": "code",
   "source": "!pip install gym",
   "id": "2863ea22676dd2c0",
   "outputs": [
    {
     "name": "stdout",
     "output_type": "stream",
     "text": [
      "Collecting gym\r\n",
      "  Using cached gym-0.26.2-py3-none-any.whl\r\n",
      "Requirement already satisfied: numpy>=1.18.0 in /Users/zhengshuang/Documents/ProgramingGuide/SourceCode/GithubRepo/everyfine/FinRLLearn/FinRLExamples/.venv/lib/python3.10/site-packages (from gym) (1.26.4)\r\n",
      "Requirement already satisfied: cloudpickle>=1.2.0 in /Users/zhengshuang/Documents/ProgramingGuide/SourceCode/GithubRepo/everyfine/FinRLLearn/FinRLExamples/.venv/lib/python3.10/site-packages (from gym) (3.1.0)\r\n",
      "Collecting gym-notices>=0.0.4 (from gym)\r\n",
      "  Obtaining dependency information for gym-notices>=0.0.4 from https://files.pythonhosted.org/packages/25/26/d786c6bec30fe6110fd3d22c9a273a2a0e56c0b73b93e25ea1af5a53243b/gym_notices-0.0.8-py3-none-any.whl.metadata\r\n",
      "  Using cached gym_notices-0.0.8-py3-none-any.whl.metadata (1.0 kB)\r\n",
      "Using cached gym_notices-0.0.8-py3-none-any.whl (3.0 kB)\r\n",
      "Installing collected packages: gym-notices, gym\r\n",
      "Successfully installed gym-0.26.2 gym-notices-0.0.8\r\n",
      "\r\n",
      "\u001B[1m[\u001B[0m\u001B[34;49mnotice\u001B[0m\u001B[1;39;49m]\u001B[0m\u001B[39;49m A new release of pip is available: \u001B[0m\u001B[31;49m23.2.1\u001B[0m\u001B[39;49m -> \u001B[0m\u001B[32;49m24.3.1\u001B[0m\r\n",
      "\u001B[1m[\u001B[0m\u001B[34;49mnotice\u001B[0m\u001B[1;39;49m]\u001B[0m\u001B[39;49m To update, run: \u001B[0m\u001B[32;49mpip install --upgrade pip\u001B[0m\r\n"
     ]
    }
   ],
   "execution_count": 9
  },
  {
   "metadata": {
    "ExecuteTime": {
     "end_time": "2024-11-24T08:03:27.597731Z",
     "start_time": "2024-11-24T08:03:27.592275Z"
    }
   },
   "cell_type": "code",
   "source": [
    "## Hide matplotlib warnings\n",
    "# import warnings\n",
    "# warnings.filterwarnings('ignore')\n",
    "\n",
    "import logging\n",
    "logging.getLogger('matplotlib.font_manager').disabled = True"
   ],
   "id": "d3e4cb580b40b170",
   "outputs": [],
   "execution_count": 1
  },
  {
   "metadata": {},
   "cell_type": "markdown",
   "source": "#### Import the necessary code libraries",
   "id": "60d91a0c3bf547e3"
  },
  {
   "metadata": {
    "ExecuteTime": {
     "end_time": "2024-11-24T08:03:32.488606Z",
     "start_time": "2024-11-24T08:03:29.810803Z"
    }
   },
   "cell_type": "code",
   "source": [
    "import torch\n",
    "\n",
    "import numpy as np\n",
    "import pandas as pd\n",
    "\n",
    "from torch_geometric.utils import k_hop_subgraph\n",
    "\n",
    "from finrl.meta.preprocessor.yahoodownloader import YahooDownloader\n",
    "from finrl.meta.env_portfolio_optimization.env_portfolio_optimization import PortfolioOptimizationEnv\n",
    "from finrl.agents.portfolio_optimization.models import DRLAgent\n",
    "from finrl.agents.portfolio_optimization.architectures import GPM\n",
    "\n",
    "device = 'cuda:0' if torch.cuda.is_available() else 'cpu'"
   ],
   "id": "fd470b4e56804cae",
   "outputs": [],
   "execution_count": 2
  },
  {
   "metadata": {},
   "cell_type": "markdown",
   "source": [
    "## Fetch data\n",
    "\n",
    "We are going to use the same data used in the paper. The original data can be found in [Temporal_Relational_Stock_Ranking repository](https://github.com/fulifeng/Temporal_Relational_Stock_Ranking), but it's not in a FinRL friendly format. So, we're going to get the processed and FinRL-friendly data from [Temporal_Relational_Stock_Ranking_FinRL repository](https://github.com/C4i0kun/Temporal_Relational_Stock_Ranking_FinRL)."
   ],
   "id": "6902f913ce647e14"
  },
  {
   "metadata": {
    "ExecuteTime": {
     "end_time": "2024-11-24T08:06:29.552311Z",
     "start_time": "2024-11-24T08:06:28.888979Z"
    }
   },
   "cell_type": "code",
   "source": [
    "# download repository with data and extract tar.gz file with processed temporal data\n",
    "# !curl -L -O https://github.com/C4i0kun/Temporal_Relational_Stock_Ranking_FinRL/archive/refs/heads/main.zip\n",
    "# !unzip Temporal_Relational_Stock_Ranking_FinRL-main.zip\n",
    "!mv Temporal_Relational_Stock_Ranking_FinRL-main Temporal_Relational_Stock_Ranking_FinRL\n",
    "!tar -xzvf Temporal_Relational_Stock_Ranking_FinRL/temporal_data/temporal_data_processed.tar.gz -C Temporal_Relational_Stock_Ranking_FinRL/temporal_data"
   ],
   "id": "eacbea1628b4de0e",
   "outputs": [
    {
     "name": "stdout",
     "output_type": "stream",
     "text": [
      "x NASDAQ_temporal_data.csv\r\n",
      "x NYSE_temporal_data.csv\r\n"
     ]
    }
   ],
   "execution_count": 4
  },
  {
   "metadata": {
    "ExecuteTime": {
     "end_time": "2024-11-24T08:08:01.030327Z",
     "start_time": "2024-11-24T08:08:00.693952Z"
    }
   },
   "cell_type": "code",
   "source": [
    "nasdaq_temporal = pd.read_csv(\"Temporal_Relational_Stock_Ranking_FinRL/temporal_data/NASDAQ_temporal_data.csv\")\n",
    "nasdaq_temporal"
   ],
   "id": "c0ccd1ee8e8190e3",
   "outputs": [
    {
     "data": {
      "text/plain": [
       "          day      open      high       low     close    volume   tic\n",
       "0           0  0.270533  0.269522  0.267237  0.263333  0.275333  AABA\n",
       "1           0  0.238730  0.237522  0.239888  0.240502  0.248031  AAON\n",
       "2           0  0.424556  0.424768  0.429769  0.442628  0.445018  AAPL\n",
       "3           0  0.650667  0.648412  0.634492  0.631473  0.667839  AAWW\n",
       "4           0  0.766565  0.761693  0.759330  0.750061  0.788157  AAXJ\n",
       "...       ...       ...       ...       ...       ...       ...   ...\n",
       "1277365  1244  0.909992  0.918809  0.912345  0.922698  0.913021  ZBRA\n",
       "1277366  1244  0.660990  0.648907  0.636086  0.630816  0.665167  ZEUS\n",
       "1277367  1244  0.981600  0.961674  0.926768  0.914257  0.984345  ZION\n",
       "1277368  1244  0.980227  0.974903  0.960225  0.964956  0.997580   ZIV\n",
       "1277369  1244  0.509179  0.500725  0.475543  0.459018  0.512077  ZUMZ\n",
       "\n",
       "[1277370 rows x 7 columns]"
      ],
      "text/html": [
       "<div>\n",
       "<style scoped>\n",
       "    .dataframe tbody tr th:only-of-type {\n",
       "        vertical-align: middle;\n",
       "    }\n",
       "\n",
       "    .dataframe tbody tr th {\n",
       "        vertical-align: top;\n",
       "    }\n",
       "\n",
       "    .dataframe thead th {\n",
       "        text-align: right;\n",
       "    }\n",
       "</style>\n",
       "<table border=\"1\" class=\"dataframe\">\n",
       "  <thead>\n",
       "    <tr style=\"text-align: right;\">\n",
       "      <th></th>\n",
       "      <th>day</th>\n",
       "      <th>open</th>\n",
       "      <th>high</th>\n",
       "      <th>low</th>\n",
       "      <th>close</th>\n",
       "      <th>volume</th>\n",
       "      <th>tic</th>\n",
       "    </tr>\n",
       "  </thead>\n",
       "  <tbody>\n",
       "    <tr>\n",
       "      <th>0</th>\n",
       "      <td>0</td>\n",
       "      <td>0.270533</td>\n",
       "      <td>0.269522</td>\n",
       "      <td>0.267237</td>\n",
       "      <td>0.263333</td>\n",
       "      <td>0.275333</td>\n",
       "      <td>AABA</td>\n",
       "    </tr>\n",
       "    <tr>\n",
       "      <th>1</th>\n",
       "      <td>0</td>\n",
       "      <td>0.238730</td>\n",
       "      <td>0.237522</td>\n",
       "      <td>0.239888</td>\n",
       "      <td>0.240502</td>\n",
       "      <td>0.248031</td>\n",
       "      <td>AAON</td>\n",
       "    </tr>\n",
       "    <tr>\n",
       "      <th>2</th>\n",
       "      <td>0</td>\n",
       "      <td>0.424556</td>\n",
       "      <td>0.424768</td>\n",
       "      <td>0.429769</td>\n",
       "      <td>0.442628</td>\n",
       "      <td>0.445018</td>\n",
       "      <td>AAPL</td>\n",
       "    </tr>\n",
       "    <tr>\n",
       "      <th>3</th>\n",
       "      <td>0</td>\n",
       "      <td>0.650667</td>\n",
       "      <td>0.648412</td>\n",
       "      <td>0.634492</td>\n",
       "      <td>0.631473</td>\n",
       "      <td>0.667839</td>\n",
       "      <td>AAWW</td>\n",
       "    </tr>\n",
       "    <tr>\n",
       "      <th>4</th>\n",
       "      <td>0</td>\n",
       "      <td>0.766565</td>\n",
       "      <td>0.761693</td>\n",
       "      <td>0.759330</td>\n",
       "      <td>0.750061</td>\n",
       "      <td>0.788157</td>\n",
       "      <td>AAXJ</td>\n",
       "    </tr>\n",
       "    <tr>\n",
       "      <th>...</th>\n",
       "      <td>...</td>\n",
       "      <td>...</td>\n",
       "      <td>...</td>\n",
       "      <td>...</td>\n",
       "      <td>...</td>\n",
       "      <td>...</td>\n",
       "      <td>...</td>\n",
       "    </tr>\n",
       "    <tr>\n",
       "      <th>1277365</th>\n",
       "      <td>1244</td>\n",
       "      <td>0.909992</td>\n",
       "      <td>0.918809</td>\n",
       "      <td>0.912345</td>\n",
       "      <td>0.922698</td>\n",
       "      <td>0.913021</td>\n",
       "      <td>ZBRA</td>\n",
       "    </tr>\n",
       "    <tr>\n",
       "      <th>1277366</th>\n",
       "      <td>1244</td>\n",
       "      <td>0.660990</td>\n",
       "      <td>0.648907</td>\n",
       "      <td>0.636086</td>\n",
       "      <td>0.630816</td>\n",
       "      <td>0.665167</td>\n",
       "      <td>ZEUS</td>\n",
       "    </tr>\n",
       "    <tr>\n",
       "      <th>1277367</th>\n",
       "      <td>1244</td>\n",
       "      <td>0.981600</td>\n",
       "      <td>0.961674</td>\n",
       "      <td>0.926768</td>\n",
       "      <td>0.914257</td>\n",
       "      <td>0.984345</td>\n",
       "      <td>ZION</td>\n",
       "    </tr>\n",
       "    <tr>\n",
       "      <th>1277368</th>\n",
       "      <td>1244</td>\n",
       "      <td>0.980227</td>\n",
       "      <td>0.974903</td>\n",
       "      <td>0.960225</td>\n",
       "      <td>0.964956</td>\n",
       "      <td>0.997580</td>\n",
       "      <td>ZIV</td>\n",
       "    </tr>\n",
       "    <tr>\n",
       "      <th>1277369</th>\n",
       "      <td>1244</td>\n",
       "      <td>0.509179</td>\n",
       "      <td>0.500725</td>\n",
       "      <td>0.475543</td>\n",
       "      <td>0.459018</td>\n",
       "      <td>0.512077</td>\n",
       "      <td>ZUMZ</td>\n",
       "    </tr>\n",
       "  </tbody>\n",
       "</table>\n",
       "<p>1277370 rows × 7 columns</p>\n",
       "</div>"
      ]
     },
     "execution_count": 5,
     "metadata": {},
     "output_type": "execute_result"
    }
   ],
   "execution_count": 5
  },
  {
   "metadata": {
    "ExecuteTime": {
     "end_time": "2024-11-24T08:08:39.576174Z",
     "start_time": "2024-11-24T08:08:39.572726Z"
    }
   },
   "cell_type": "code",
   "source": [
    "nasdaq_edge_index = np.load(\"Temporal_Relational_Stock_Ranking_FinRL/relational_data/edge_indexes/NASDAQ_sector_industry_edge_index.npy\")\n",
    "nasdaq_edge_index"
   ],
   "id": "b55630844206384c",
   "outputs": [
    {
     "data": {
      "text/plain": [
       "array([[   0,   15,    0, ..., 1021, 1014, 1024],\n",
       "       [  15,    0,   18, ..., 1011, 1024, 1014]])"
      ]
     },
     "execution_count": 6,
     "metadata": {},
     "output_type": "execute_result"
    }
   ],
   "execution_count": 6
  },
  {
   "metadata": {},
   "cell_type": "code",
   "source": [
    "nasdaq_edge_type = np.load(\"Temporal_Relational_Stock_Ranking_FinRL/relational_data/edge_types/NASDAQ_sector_industry_edge_type.npy\")\n",
    "nasdaq_edge_type"
   ],
   "id": "2ff41ab7ec322ed4",
   "outputs": [
    {
     "data": {
      "text/plain": [
       "array([ 0,  0,  0, ...,  1, 26, 26])"
      ]
     },
     "execution_count": 7,
     "metadata": {},
     "output_type": "execute_result"
    }
   ],
   "execution_count": 7
  },
  {
   "metadata": {},
   "cell_type": "markdown",
   "source": [
    "### Simplify Data\n",
    "\n",
    "The graph loaded is too big, causing the training process to be extremely slow. So we are going to remove some of the stocks in the graph structure so that only stocks from 2 hops of the ones in our portfolio are considered."
   ],
   "id": "809b254efd26f0fd"
  },
  {
   "metadata": {
    "ExecuteTime": {
     "end_time": "2024-11-24T08:09:45.444892Z",
     "start_time": "2024-11-24T08:09:45.402904Z"
    }
   },
   "cell_type": "code",
   "source": [
    "list_of_stocks = nasdaq_temporal[\"tic\"].unique().tolist()\n",
    "tics_in_portfolio = [\"AAPL\", \"CMCSA\", \"CSCO\", \"FB\", \"HBAN\", \"INTC\", \"MSFT\", \"MU\", \"NVDA\", \"QQQ\", \"XIV\"]\n",
    "\n",
    "portfolio_nodes = []\n",
    "for tic in tics_in_portfolio:\n",
    "    portfolio_nodes.append(list_of_stocks.index(tic))\n",
    "portfolio_nodes"
   ],
   "id": "969a45b4b159a88",
   "outputs": [
    {
     "data": {
      "text/plain": [
       "[2, 185, 215, 310, 395, 464, 596, 603, 637, 768, 1014]"
      ]
     },
     "execution_count": 8,
     "metadata": {},
     "output_type": "execute_result"
    }
   ],
   "execution_count": 8
  },
  {
   "metadata": {
    "ExecuteTime": {
     "end_time": "2024-11-24T08:10:20.203496Z",
     "start_time": "2024-11-24T08:10:20.196446Z"
    }
   },
   "cell_type": "code",
   "source": [
    "nodes_kept, new_edge_index, nodes_to_select, edge_mask = k_hop_subgraph(\n",
    "    torch.LongTensor(portfolio_nodes),\n",
    "    2,\n",
    "    torch.from_numpy(nasdaq_edge_index),\n",
    "    relabel_nodes=True,\n",
    ")"
   ],
   "id": "cfc2a9ac7edeea5f",
   "outputs": [],
   "execution_count": 9
  },
  {
   "metadata": {
    "ExecuteTime": {
     "end_time": "2024-11-24T08:10:30.283163Z",
     "start_time": "2024-11-24T08:10:30.219767Z"
    }
   },
   "cell_type": "code",
   "source": [
    "# reduce temporal data\n",
    "nodes_kept = nodes_kept.tolist()\n",
    "nasdaq_temporal[\"tic_id\"], _ = pd.factorize(nasdaq_temporal[\"tic\"], sort=True)\n",
    "nasdaq_temporal = nasdaq_temporal[nasdaq_temporal[\"tic_id\"].isin(nodes_kept)]\n",
    "nasdaq_temporal = nasdaq_temporal.drop(columns=\"tic_id\")\n",
    "nasdaq_temporal"
   ],
   "id": "aee9aff3cdf840a2",
   "outputs": [
    {
     "data": {
      "text/plain": [
       "          day      open      high       low     close    volume   tic\n",
       "2           0  0.424556  0.424768  0.429769  0.442628  0.445018  AAPL\n",
       "4           0  0.766565  0.761693  0.759330  0.750061  0.788157  AAXJ\n",
       "7           0  0.244700  0.244212  0.238217  0.231041  0.251322  ABCB\n",
       "8           0  0.689403  0.698864  0.695715  0.675068  0.708124  ABCO\n",
       "13          0  0.566419  0.564621  0.563147  0.560503  0.579132  ACIW\n",
       "...       ...       ...       ...       ...       ...       ...   ...\n",
       "1277358  1244  0.923544  0.922537  0.896003  0.888519  0.966042   XIV\n",
       "1277359  1244  0.919490  0.931946  0.950966  0.960872  0.920000  XLNX\n",
       "1277361  1244  0.736906  0.747264  0.744030  0.745198  0.743781  YNDX\n",
       "1277367  1244  0.981600  0.961674  0.926768  0.914257  0.984345  ZION\n",
       "1277368  1244  0.980227  0.974903  0.960225  0.964956  0.997580   ZIV\n",
       "\n",
       "[517920 rows x 7 columns]"
      ],
      "text/html": [
       "<div>\n",
       "<style scoped>\n",
       "    .dataframe tbody tr th:only-of-type {\n",
       "        vertical-align: middle;\n",
       "    }\n",
       "\n",
       "    .dataframe tbody tr th {\n",
       "        vertical-align: top;\n",
       "    }\n",
       "\n",
       "    .dataframe thead th {\n",
       "        text-align: right;\n",
       "    }\n",
       "</style>\n",
       "<table border=\"1\" class=\"dataframe\">\n",
       "  <thead>\n",
       "    <tr style=\"text-align: right;\">\n",
       "      <th></th>\n",
       "      <th>day</th>\n",
       "      <th>open</th>\n",
       "      <th>high</th>\n",
       "      <th>low</th>\n",
       "      <th>close</th>\n",
       "      <th>volume</th>\n",
       "      <th>tic</th>\n",
       "    </tr>\n",
       "  </thead>\n",
       "  <tbody>\n",
       "    <tr>\n",
       "      <th>2</th>\n",
       "      <td>0</td>\n",
       "      <td>0.424556</td>\n",
       "      <td>0.424768</td>\n",
       "      <td>0.429769</td>\n",
       "      <td>0.442628</td>\n",
       "      <td>0.445018</td>\n",
       "      <td>AAPL</td>\n",
       "    </tr>\n",
       "    <tr>\n",
       "      <th>4</th>\n",
       "      <td>0</td>\n",
       "      <td>0.766565</td>\n",
       "      <td>0.761693</td>\n",
       "      <td>0.759330</td>\n",
       "      <td>0.750061</td>\n",
       "      <td>0.788157</td>\n",
       "      <td>AAXJ</td>\n",
       "    </tr>\n",
       "    <tr>\n",
       "      <th>7</th>\n",
       "      <td>0</td>\n",
       "      <td>0.244700</td>\n",
       "      <td>0.244212</td>\n",
       "      <td>0.238217</td>\n",
       "      <td>0.231041</td>\n",
       "      <td>0.251322</td>\n",
       "      <td>ABCB</td>\n",
       "    </tr>\n",
       "    <tr>\n",
       "      <th>8</th>\n",
       "      <td>0</td>\n",
       "      <td>0.689403</td>\n",
       "      <td>0.698864</td>\n",
       "      <td>0.695715</td>\n",
       "      <td>0.675068</td>\n",
       "      <td>0.708124</td>\n",
       "      <td>ABCO</td>\n",
       "    </tr>\n",
       "    <tr>\n",
       "      <th>13</th>\n",
       "      <td>0</td>\n",
       "      <td>0.566419</td>\n",
       "      <td>0.564621</td>\n",
       "      <td>0.563147</td>\n",
       "      <td>0.560503</td>\n",
       "      <td>0.579132</td>\n",
       "      <td>ACIW</td>\n",
       "    </tr>\n",
       "    <tr>\n",
       "      <th>...</th>\n",
       "      <td>...</td>\n",
       "      <td>...</td>\n",
       "      <td>...</td>\n",
       "      <td>...</td>\n",
       "      <td>...</td>\n",
       "      <td>...</td>\n",
       "      <td>...</td>\n",
       "    </tr>\n",
       "    <tr>\n",
       "      <th>1277358</th>\n",
       "      <td>1244</td>\n",
       "      <td>0.923544</td>\n",
       "      <td>0.922537</td>\n",
       "      <td>0.896003</td>\n",
       "      <td>0.888519</td>\n",
       "      <td>0.966042</td>\n",
       "      <td>XIV</td>\n",
       "    </tr>\n",
       "    <tr>\n",
       "      <th>1277359</th>\n",
       "      <td>1244</td>\n",
       "      <td>0.919490</td>\n",
       "      <td>0.931946</td>\n",
       "      <td>0.950966</td>\n",
       "      <td>0.960872</td>\n",
       "      <td>0.920000</td>\n",
       "      <td>XLNX</td>\n",
       "    </tr>\n",
       "    <tr>\n",
       "      <th>1277361</th>\n",
       "      <td>1244</td>\n",
       "      <td>0.736906</td>\n",
       "      <td>0.747264</td>\n",
       "      <td>0.744030</td>\n",
       "      <td>0.745198</td>\n",
       "      <td>0.743781</td>\n",
       "      <td>YNDX</td>\n",
       "    </tr>\n",
       "    <tr>\n",
       "      <th>1277367</th>\n",
       "      <td>1244</td>\n",
       "      <td>0.981600</td>\n",
       "      <td>0.961674</td>\n",
       "      <td>0.926768</td>\n",
       "      <td>0.914257</td>\n",
       "      <td>0.984345</td>\n",
       "      <td>ZION</td>\n",
       "    </tr>\n",
       "    <tr>\n",
       "      <th>1277368</th>\n",
       "      <td>1244</td>\n",
       "      <td>0.980227</td>\n",
       "      <td>0.974903</td>\n",
       "      <td>0.960225</td>\n",
       "      <td>0.964956</td>\n",
       "      <td>0.997580</td>\n",
       "      <td>ZIV</td>\n",
       "    </tr>\n",
       "  </tbody>\n",
       "</table>\n",
       "<p>517920 rows × 7 columns</p>\n",
       "</div>"
      ]
     },
     "execution_count": 10,
     "metadata": {},
     "output_type": "execute_result"
    }
   ],
   "execution_count": 10
  },
  {
   "metadata": {
    "ExecuteTime": {
     "end_time": "2024-11-24T08:10:48.351732Z",
     "start_time": "2024-11-24T08:10:48.346325Z"
    }
   },
   "cell_type": "code",
   "source": [
    "# reduce edge type\n",
    "new_edge_type = torch.from_numpy(nasdaq_edge_type)[edge_mask]\n",
    "_, new_edge_type = torch.unique(new_edge_type, return_inverse=True)\n",
    "new_edge_type"
   ],
   "id": "ec4abd9d5a018a61",
   "outputs": [
    {
     "data": {
      "text/plain": [
       "tensor([0, 0, 0,  ..., 2, 6, 6])"
      ]
     },
     "execution_count": 11,
     "metadata": {},
     "output_type": "execute_result"
    }
   ],
   "execution_count": 11
  },
  {
   "metadata": {},
   "cell_type": "markdown",
   "source": [
    "### Instantiate Environment\n",
    "\n",
    "Using the `PortfolioOptimizationEnv`, it's easy to instantiate a portfolio optimization environment for reinforcement learning agents. In the example below, we use the dataframe created before to start an environment."
   ],
   "id": "4973a312ea720ec1"
  },
  {
   "metadata": {
    "ExecuteTime": {
     "end_time": "2024-11-24T08:11:41.032727Z",
     "start_time": "2024-11-24T08:11:41.004461Z"
    }
   },
   "cell_type": "code",
   "source": [
    "df_portfolio = nasdaq_temporal[[\"day\", \"tic\", \"close\", \"high\", \"low\"]]\n",
    "\n",
    "df_portfolio_train = df_portfolio[df_portfolio[\"day\"] < 979]\n",
    "df_portfolio_test = df_portfolio[df_portfolio[\"day\"] >= 979]"
   ],
   "id": "f6a6b8c01a17523a",
   "outputs": [],
   "execution_count": 12
  },
  {
   "metadata": {
    "ExecuteTime": {
     "end_time": "2024-11-24T09:08:33.188257Z",
     "start_time": "2024-11-24T09:08:33.185371Z"
    }
   },
   "cell_type": "code",
   "source": "len(df_portfolio_train)",
   "id": "78ace96862d6c8b2",
   "outputs": [
    {
     "data": {
      "text/plain": [
       "407264"
      ]
     },
     "execution_count": 18,
     "metadata": {},
     "output_type": "execute_result"
    }
   ],
   "execution_count": 18
  },
  {
   "metadata": {
    "ExecuteTime": {
     "end_time": "2024-11-24T08:12:04.008413Z",
     "start_time": "2024-11-24T08:12:03.279086Z"
    }
   },
   "cell_type": "code",
   "source": [
    "environment_train = PortfolioOptimizationEnv(\n",
    "        df_portfolio_train,\n",
    "        initial_amount=100000,\n",
    "        comission_fee_pct=0.0025,\n",
    "        time_window=50,\n",
    "        features=[\"close\", \"high\", \"low\"],\n",
    "        time_column=\"day\",\n",
    "        normalize_df=None, # dataframe is already normalized\n",
    "        tics_in_portfolio=tics_in_portfolio\n",
    "    )\n",
    "\n",
    "environment_test = PortfolioOptimizationEnv(\n",
    "        df_portfolio_test,\n",
    "        initial_amount=100000,\n",
    "        comission_fee_pct=0.0025,\n",
    "        time_window=50,\n",
    "        features=[\"close\", \"high\", \"low\"],\n",
    "        time_column=\"day\",\n",
    "        normalize_df=None, # dataframe is already normalized\n",
    "        tics_in_portfolio=tics_in_portfolio\n",
    "    )"
   ],
   "id": "d706ce24bfa35d2",
   "outputs": [],
   "execution_count": 13
  },
  {
   "metadata": {},
   "cell_type": "markdown",
   "source": [
    "### Instantiate Model\n",
    "\n",
    "Now, we can instantiate the model using FinRL API. In this example, we are going to use the EI3 architecture introduced by Jiang et. al.\n",
    "\n",
    ":exclamation: **Note:** Remember to set the architecture's `time_window` parameter with the same value of the environment's `time_window`."
   ],
   "id": "6f66b1104c3795b7"
  },
  {
   "metadata": {
    "ExecuteTime": {
     "end_time": "2024-11-24T08:12:50.163311Z",
     "start_time": "2024-11-24T08:12:50.004537Z"
    }
   },
   "cell_type": "code",
   "source": [
    "# set PolicyGradient parameters\n",
    "model_kwargs = {\n",
    "    \"lr\": 0.01,\n",
    "    \"policy\": GPM,\n",
    "}\n",
    "\n",
    "# here, we can set GPM's parameters\n",
    "policy_kwargs = {\n",
    "    \"edge_index\": new_edge_index,\n",
    "    \"edge_type\": new_edge_type,\n",
    "    \"nodes_to_select\": nodes_to_select\n",
    "}\n",
    "\n",
    "model = DRLAgent(environment_train).get_model(\"pg\", device, model_kwargs, policy_kwargs)"
   ],
   "id": "4765e7d919530e47",
   "outputs": [],
   "execution_count": 14
  },
  {
   "metadata": {},
   "cell_type": "markdown",
   "source": [
    "### Train Model\n",
    "\n",
    "We will train only a few episodes because training takes a considerable time."
   ],
   "id": "e69f8556e9e7360"
  },
  {
   "metadata": {},
   "cell_type": "markdown",
   "source": "看起来训练需要花费很长时间才能走完一个episode",
   "id": "e04964e1030aed69"
  },
  {
   "metadata": {
    "ExecuteTime": {
     "end_time": "2024-11-24T09:08:33.176848Z",
     "start_time": "2024-11-24T08:54:55.481686Z"
    }
   },
   "cell_type": "code",
   "source": "DRLAgent.train_model(model, episodes=2)",
   "id": "232157359778639e",
   "outputs": [
    {
     "name": "stderr",
     "output_type": "stream",
     "text": [
      "  0%|          | 0/2 [00:00<?, ?it/s]"
     ]
    },
    {
     "name": "stdout",
     "output_type": "stream",
     "text": [
      "=================================\n",
      "Initial portfolio value:100000\n",
      "Final portfolio value: 305963.21875\n",
      "Final accumulative portfolio value: 3.0596321875\n",
      "Maximum DrawDown: -0.05815055513944978\n",
      "Sharpe ratio: 11.594083803003027\n",
      "=================================\n"
     ]
    },
    {
     "name": "stderr",
     "output_type": "stream",
     "text": [
      " 50%|█████     | 1/2 [06:47<06:47, 407.67s/it]"
     ]
    },
    {
     "name": "stdout",
     "output_type": "stream",
     "text": [
      "=================================\n",
      "Initial portfolio value:100000\n",
      "Final portfolio value: 788063.375\n",
      "Final accumulative portfolio value: 7.88063375\n",
      "Maximum DrawDown: -0.14492677222597972\n",
      "Sharpe ratio: 8.646679508934293\n",
      "=================================\n"
     ]
    },
    {
     "name": "stderr",
     "output_type": "stream",
     "text": [
      "100%|██████████| 2/2 [13:37<00:00, 408.85s/it]\n"
     ]
    },
    {
     "data": {
      "text/plain": [
       "<finrl.agents.portfolio_optimization.algorithms.PolicyGradient at 0x31b3f4070>"
      ]
     },
     "execution_count": 16,
     "metadata": {},
     "output_type": "execute_result"
    }
   ],
   "execution_count": 16
  },
  {
   "metadata": {},
   "cell_type": "markdown",
   "source": "### Save Model",
   "id": "3d81d2c8b8148795"
  },
  {
   "metadata": {
    "ExecuteTime": {
     "end_time": "2024-11-24T09:10:49.802377Z",
     "start_time": "2024-11-24T09:10:49.799011Z"
    }
   },
   "cell_type": "code",
   "source": "torch.save(model.train_policy.state_dict(), \"policy_GPM.pt\")",
   "id": "7306201117dd2c2e",
   "outputs": [],
   "execution_count": 19
  },
  {
   "metadata": {},
   "cell_type": "markdown",
   "source": "## Test Model",
   "id": "3a0a30ed54dca22d"
  },
  {
   "metadata": {},
   "cell_type": "markdown",
   "source": "Following the idea from the original article, we will evaluate the performance of the trained model in the test period. We will also compare with the Uniform buy and hold strategy.",
   "id": "c73d9082e5593c66"
  },
  {
   "metadata": {},
   "cell_type": "markdown",
   "source": [
    "### Test GPM architecture\n",
    "\n",
    "It's important no note that, in this code, we load the saved policy even though it's not necessary just to show how to save and load your model."
   ],
   "id": "52fc5b398a00bb05"
  },
  {
   "metadata": {
    "ExecuteTime": {
     "end_time": "2024-11-24T09:14:54.383501Z",
     "start_time": "2024-11-24T09:13:22.657145Z"
    }
   },
   "cell_type": "code",
   "source": [
    "GPM_results = {\n",
    "    \"train\": environment_train._asset_memory[\"final\"],\n",
    "    \"test\": {},\n",
    "}\n",
    "\n",
    "# instantiate an architecture with the same arguments used in training\n",
    "# and load with load_state_dict.\n",
    "policy = GPM(new_edge_index, new_edge_type, nodes_to_select, device=device)\n",
    "policy.load_state_dict(torch.load(\"policy_GPM.pt\"))\n",
    "\n",
    "# testing\n",
    "DRLAgent.DRL_validation(model, environment_test, policy=policy)\n",
    "GPM_results[\"test\"] = environment_test._asset_memory[\"final\"]"
   ],
   "id": "6c69852890433434",
   "outputs": [
    {
     "name": "stderr",
     "output_type": "stream",
     "text": [
      "/var/folders/dv/ly5hp_ms3bd9753868lg6c5w0000gn/T/ipykernel_96644/3434580810.py:9: FutureWarning: You are using `torch.load` with `weights_only=False` (the current default value), which uses the default pickle module implicitly. It is possible to construct malicious pickle data which will execute arbitrary code during unpickling (See https://github.com/pytorch/pytorch/blob/main/SECURITY.md#untrusted-models for more details). In a future release, the default value for `weights_only` will be flipped to `True`. This limits the functions that could be executed during unpickling. Arbitrary objects will no longer be allowed to be loaded via this mode unless they are explicitly allowlisted by the user via `torch.serialization.add_safe_globals`. We recommend you start setting `weights_only=True` for any use case where you don't have full control of the loaded file. Please open an issue on GitHub for any issues related to this experimental feature.\n",
      "  policy.load_state_dict(torch.load(\"policy_GPM.pt\"))\n"
     ]
    },
    {
     "name": "stdout",
     "output_type": "stream",
     "text": [
      "=================================\n",
      "Initial portfolio value:100000\n",
      "Final portfolio value: 162909.5\n",
      "Final accumulative portfolio value: 1.629095\n",
      "Maximum DrawDown: -0.03328069918424792\n",
      "Sharpe ratio: 8.64522783934371\n",
      "=================================\n"
     ]
    }
   ],
   "execution_count": 21
  },
  {
   "metadata": {},
   "cell_type": "markdown",
   "source": [
    "### Test Uniform Buy and Hold\n",
    "For comparison, we will also test the performance of a uniform buy and hold strategy. In this strategy, the portfolio has no remaining cash and the same percentage of money is allocated in each asset."
   ],
   "id": "8c2f55c503709c75"
  },
  {
   "metadata": {
    "ExecuteTime": {
     "end_time": "2024-11-24T09:22:45.274946Z",
     "start_time": "2024-11-24T09:15:12.768448Z"
    }
   },
   "cell_type": "code",
   "source": [
    "UBAH_results = {\n",
    "    \"train\": {},\n",
    "    \"test\": {},\n",
    "}\n",
    "\n",
    "PORTFOLIO_SIZE = len(tics_in_portfolio)\n",
    "\n",
    "# train period\n",
    "terminated = False\n",
    "environment_train.reset()\n",
    "while not terminated:\n",
    "    action = [0] + [1/PORTFOLIO_SIZE] * PORTFOLIO_SIZE\n",
    "    _, _, terminated, _ = environment_train.step(action)\n",
    "UBAH_results[\"train\"] = environment_train._asset_memory[\"final\"]\n",
    "\n",
    "# test period\n",
    "terminated = False\n",
    "environment_test.reset()\n",
    "while not terminated:\n",
    "    action = [0] + [1/PORTFOLIO_SIZE] * PORTFOLIO_SIZE\n",
    "    _, _, terminated, _ = environment_test.step(action)\n",
    "UBAH_results[\"test\"] = environment_test._asset_memory[\"final\"]"
   ],
   "id": "df65eebdd0022240",
   "outputs": [
    {
     "name": "stdout",
     "output_type": "stream",
     "text": [
      "=================================\n",
      "Initial portfolio value:100000\n",
      "Final portfolio value: 210066.515625\n",
      "Final accumulative portfolio value: 2.10066515625\n",
      "Maximum DrawDown: -0.1770357694310173\n",
      "Sharpe ratio: 6.126976338415281\n",
      "=================================\n",
      "=================================\n",
      "Initial portfolio value:100000\n",
      "Final portfolio value: 140385.78125\n",
      "Final accumulative portfolio value: 1.4038578125\n",
      "Maximum DrawDown: -0.001439125798492591\n",
      "Sharpe ratio: 23.930156872458472\n",
      "=================================\n"
     ]
    }
   ],
   "execution_count": 22
  },
  {
   "metadata": {},
   "cell_type": "markdown",
   "source": "### Plot graphics",
   "id": "af74e8486fa03aac"
  },
  {
   "metadata": {
    "ExecuteTime": {
     "end_time": "2024-11-24T09:23:06.389467Z",
     "start_time": "2024-11-24T09:23:06.290822Z"
    }
   },
   "cell_type": "code",
   "source": [
    "import matplotlib.pyplot as plt\n",
    "%matplotlib inline \n",
    "\n",
    "plt.plot(UBAH_results[\"train\"], label=\"Buy and Hold\")\n",
    "plt.plot(GPM_results[\"train\"], label=\"GPM\")\n",
    "\n",
    "plt.xlabel(\"Days\")\n",
    "plt.ylabel(\"Portfolio Value\")\n",
    "plt.title(\"Performance in training period\")\n",
    "plt.legend()\n",
    "\n",
    "plt.show()"
   ],
   "id": "26453d2fdb7ad168",
   "outputs": [
    {
     "data": {
      "text/plain": [
       "<Figure size 1000x600 with 1 Axes>"
      ],
      "image/png": "[encoded data removed]"
     },
     "metadata": {},
     "output_type": "display_data"
    }
   ],
   "execution_count": 23
  },
  {
   "metadata": {
    "ExecuteTime": {
     "end_time": "2024-11-24T09:23:15.346371Z",
     "start_time": "2024-11-24T09:23:15.239214Z"
    }
   },
   "cell_type": "code",
   "source": [
    "plt.plot(UBAH_results[\"test\"], label=\"Buy and Hold\")\n",
    "plt.plot(GPM_results[\"test\"], label=\"GPM\")\n",
    "\n",
    "plt.xlabel(\"Days\")\n",
    "plt.ylabel(\"Portfolio Value\")\n",
    "plt.title(\"Performance in testing period\")\n",
    "plt.legend()\n",
    "\n",
    "plt.show()"
   ],
   "id": "c1fd09b16032d85a",
   "outputs": [
    {
     "data": {
      "text/plain": [
       "<Figure size 1000x600 with 1 Axes>"
      ],
      "image/png": "[encoded data removed]"
     },
     "metadata": {},
     "output_type": "display_data"
    }
   ],
   "execution_count": 24
  },
  {
   "metadata": {},
   "cell_type": "markdown",
   "source": "With only two training episodes, we can see that GPM achieves better performance than buy and hold strategy, but according to the original article, that performance could be better. Hyperparameter tuning must be performed. Additionaly, we used softmax temperature equal to one, something that can be changed to achieve better performance as stated in the original article.",
   "id": "a6487136ae7f70f3"
  }
 ],
 "metadata": {
  "kernelspec": {
   "display_name": "Python 3",
   "language": "python",
   "name": "python3"
  },
  "language_info": {
   "codemirror_mode": {
    "name": "ipython",
    "version": 2
   },
   "file_extension": ".py",
   "mimetype": "text/x-python",
   "name": "python",
   "nbconvert_exporter": "python",
   "pygments_lexer": "ipython2",
   "version": "2.7.6"
  }
 },
 "nbformat": 4,
 "nbformat_minor": 5
}
