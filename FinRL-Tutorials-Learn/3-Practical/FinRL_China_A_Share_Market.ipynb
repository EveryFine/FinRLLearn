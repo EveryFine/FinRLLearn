{
 "cells": [
  {
   "metadata": {},
   "cell_type": "markdown",
   "source": "## Quantitative trading in China A stock market with FinRL",
   "id": "68e862fd5f418930"
  },
  {
   "metadata": {
    "ExecuteTime": {
     "end_time": "2024-11-16T10:19:31.765967Z",
     "start_time": "2024-11-16T10:19:31.763260Z"
    }
   },
   "cell_type": "code",
   "source": [
    "# !git clone https://github.com/AI4Finance-Foundation/FinRL-Meta\n",
    "%cd FinRL-Meta/"
   ],
   "id": "646fbdb9a28a6e3",
   "outputs": [
    {
     "name": "stdout",
     "output_type": "stream",
     "text": [
      "/Users/zhengshuang/Documents/ProgramingGuide/SourceCode/GithubRepo/everyfine/FinRLLearn/FinRL-Tutorials-Learn/3-Practical/FinRL-Meta\n"
     ]
    },
    {
     "name": "stderr",
     "output_type": "stream",
     "text": [
      "/Users/zhengshuang/Documents/ProgramingGuide/SourceCode/GithubRepo/everyfine/FinRLLearn/FinRL-Tutorials-Learn/.venv/lib/python3.10/site-packages/IPython/core/magics/osm.py:417: UserWarning: This is now an optional IPython functionality, setting dhist requires you to install the `pickleshare` library.\n",
      "  self.shell.db['dhist'] = compress_dhist(dhist)[-100:]\n"
     ]
    }
   ],
   "execution_count": 2
  },
  {
   "metadata": {},
   "cell_type": "markdown",
   "source": "### Import modules",
   "id": "257a221db5af2b3d"
  },
  {
   "metadata": {
    "ExecuteTime": {
     "end_time": "2024-11-16T10:20:11.484320Z",
     "start_time": "2024-11-16T10:20:09.575040Z"
    }
   },
   "cell_type": "code",
   "source": [
    "import warnings\n",
    "warnings.filterwarnings(\"ignore\")\n",
    "\n",
    "import pandas as pd\n",
    "from IPython import display\n",
    "display.set_matplotlib_formats(\"svg\")\n",
    "\n",
    "from meta import config\n",
    "from meta.data_processors.tushare import Tushare, ReturnPlotter\n",
    "from meta.env_stock_trading.env_stocktrading_China_A_shares import StockTradingEnv\n",
    "from agents.stablebaselines3_models import DRLAgent\n",
    "pd.options.display.max_columns = None\n",
    "    \n",
    "print(\"ALL Modules have been imported!\")"
   ],
   "id": "9641a89fcdc5c506",
   "outputs": [
    {
     "name": "stdout",
     "output_type": "stream",
     "text": [
      "ALL Modules have been imported!\n"
     ]
    }
   ],
   "execution_count": 3
  },
  {
   "metadata": {},
   "cell_type": "markdown",
   "source": "### Create folders",
   "id": "11fc3f6d81b58f63"
  },
  {
   "metadata": {
    "ExecuteTime": {
     "end_time": "2024-11-16T10:20:30.967619Z",
     "start_time": "2024-11-16T10:20:30.962440Z"
    }
   },
   "cell_type": "code",
   "source": [
    "import os\n",
    "if not os.path.exists(\"./datasets\" ):\n",
    "    os.makedirs(\"./datasets\" )\n",
    "if not os.path.exists(\"./trained_models\"):\n",
    "    os.makedirs(\"./trained_models\" )\n",
    "if not os.path.exists(\"./tensorboard_log\"):\n",
    "    os.makedirs(\"./tensorboard_log\" )\n",
    "if not os.path.exists(\"./results\" ):\n",
    "    os.makedirs(\"./results\" )"
   ],
   "id": "f4018ac53a2fd36f",
   "outputs": [],
   "execution_count": 4
  },
  {
   "metadata": {},
   "cell_type": "markdown",
   "source": "### Download data, cleaning and feature engineering",
   "id": "a8d2c0e6f4358cf9"
  },
  {
   "metadata": {
    "ExecuteTime": {
     "end_time": "2024-11-16T10:21:16.215693Z",
     "start_time": "2024-11-16T10:21:16.211922Z"
    }
   },
   "cell_type": "code",
   "source": [
    "ticket_list=['600000.SH', '600009.SH', '600016.SH', '600028.SH', '600030.SH',\n",
    "       '600031.SH', '600036.SH', '600050.SH', '600104.SH', '600196.SH',\n",
    "       '600276.SH', '600309.SH', '600519.SH', '600547.SH', '600570.SH']\n",
    "\n",
    "train_start_date='2015-01-01'\n",
    "train_stop_date='2019-08-01'\n",
    "val_start_date='2019-08-01'\n",
    "val_stop_date='2021-01-03'\n",
    "\n",
    "token='27080ec403c0218f96f388bca1b1d85329d563c91a43672239619ef5'"
   ],
   "id": "5ed242db8827e790",
   "outputs": [],
   "execution_count": 5
  },
  {
   "metadata": {
    "ExecuteTime": {
     "end_time": "2024-11-16T10:22:15.595475Z",
     "start_time": "2024-11-16T10:21:57.384184Z"
    }
   },
   "cell_type": "code",
   "source": [
    "# download and clean\n",
    "ts_processor = Tushare(data_source=\"tushare\", \n",
    "                                   start_date=train_start_date,\n",
    "                                   end_date=val_stop_date,\n",
    "                                   time_interval=\"1d\",\n",
    "                                   token=token)\n",
    "ts_processor.download_data(ticker_list=ticket_list)"
   ],
   "id": "6577191c22304750",
   "outputs": [
    {
     "name": "stderr",
     "output_type": "stream",
     "text": [
      "  0%|          | 0/15 [00:00<?, ?it/s]"
     ]
    },
    {
     "name": "stdout",
     "output_type": "stream",
     "text": [
      "'close'\n",
      "'close'\n"
     ]
    },
    {
     "name": "stderr",
     "output_type": "stream",
     "text": [
      "100%|██████████| 15/15 [00:18<00:00,  1.20s/it]"
     ]
    },
    {
     "name": "stdout",
     "output_type": "stream",
     "text": [
      "Download complete! Dataset saved to ./data/dataset.csv. \n",
      "Shape of DataFrame: (21574, 8)\n"
     ]
    },
    {
     "name": "stderr",
     "output_type": "stream",
     "text": [
      "\n"
     ]
    }
   ],
   "execution_count": 6
  },
  {
   "metadata": {
    "ExecuteTime": {
     "end_time": "2024-11-16T10:22:38.852752Z",
     "start_time": "2024-11-16T10:22:38.782750Z"
    }
   },
   "cell_type": "code",
   "source": [
    "ts_processor.clean_data()\n",
    "ts_processor.fillna()\n",
    "ts_processor.dataframe"
   ],
   "id": "f8693423ee051dad",
   "outputs": [
    {
     "name": "stdout",
     "output_type": "stream",
     "text": [
      "Shape of DataFrame:  (21930, 8)\n"
     ]
    },
    {
     "data": {
      "text/plain": [
       "             tic        time     open     high      low    close  \\\n",
       "0      600000.SH  2015-01-05    15.88    16.25    15.56    16.07   \n",
       "1      600009.SH  2015-01-05    19.82    20.91    19.82    20.53   \n",
       "2      600016.SH  2015-01-05    10.87    10.96    10.50    10.78   \n",
       "3      600028.SH  2015-01-05     6.59     7.14     6.45     7.14   \n",
       "4      600030.SH  2015-01-05    33.90    35.25    33.01    34.66   \n",
       "...          ...         ...      ...      ...      ...      ...   \n",
       "21925  600276.SH  2020-12-31   112.55   112.66   110.01   111.46   \n",
       "21926  600309.SH  2020-12-31    89.88    91.48    88.70    91.04   \n",
       "21927  600519.SH  2020-12-31  1941.00  1998.98  1939.00  1998.00   \n",
       "21928  600547.SH  2020-12-31    23.60    23.75    23.48    23.62   \n",
       "21929  600570.SH  2020-12-31   102.88   105.00   102.36   104.90   \n",
       "\n",
       "       adjusted_close       volume  \n",
       "0               16.07   5135687.09  \n",
       "1               20.53    371485.54  \n",
       "2               10.78   9138873.70  \n",
       "3                7.14  11864996.45  \n",
       "4               34.66   6986272.15  \n",
       "...               ...          ...  \n",
       "21925          111.46    281568.85  \n",
       "21926           91.04    213631.34  \n",
       "21927         1998.00     38860.07  \n",
       "21928           23.62    213786.94  \n",
       "21929          104.90    182603.40  \n",
       "\n",
       "[21930 rows x 8 columns]"
      ],
      "text/html": [
       "<div>\n",
       "<style scoped>\n",
       "    .dataframe tbody tr th:only-of-type {\n",
       "        vertical-align: middle;\n",
       "    }\n",
       "\n",
       "    .dataframe tbody tr th {\n",
       "        vertical-align: top;\n",
       "    }\n",
       "\n",
       "    .dataframe thead th {\n",
       "        text-align: right;\n",
       "    }\n",
       "</style>\n",
       "<table border=\"1\" class=\"dataframe\">\n",
       "  <thead>\n",
       "    <tr style=\"text-align: right;\">\n",
       "      <th></th>\n",
       "      <th>tic</th>\n",
       "      <th>time</th>\n",
       "      <th>open</th>\n",
       "      <th>high</th>\n",
       "      <th>low</th>\n",
       "      <th>close</th>\n",
       "      <th>adjusted_close</th>\n",
       "      <th>volume</th>\n",
       "    </tr>\n",
       "  </thead>\n",
       "  <tbody>\n",
       "    <tr>\n",
       "      <th>0</th>\n",
       "      <td>600000.SH</td>\n",
       "      <td>2015-01-05</td>\n",
       "      <td>15.88</td>\n",
       "      <td>16.25</td>\n",
       "      <td>15.56</td>\n",
       "      <td>16.07</td>\n",
       "      <td>16.07</td>\n",
       "      <td>5135687.09</td>\n",
       "    </tr>\n",
       "    <tr>\n",
       "      <th>1</th>\n",
       "      <td>600009.SH</td>\n",
       "      <td>2015-01-05</td>\n",
       "      <td>19.82</td>\n",
       "      <td>20.91</td>\n",
       "      <td>19.82</td>\n",
       "      <td>20.53</td>\n",
       "      <td>20.53</td>\n",
       "      <td>371485.54</td>\n",
       "    </tr>\n",
       "    <tr>\n",
       "      <th>2</th>\n",
       "      <td>600016.SH</td>\n",
       "      <td>2015-01-05</td>\n",
       "      <td>10.87</td>\n",
       "      <td>10.96</td>\n",
       "      <td>10.50</td>\n",
       "      <td>10.78</td>\n",
       "      <td>10.78</td>\n",
       "      <td>9138873.70</td>\n",
       "    </tr>\n",
       "    <tr>\n",
       "      <th>3</th>\n",
       "      <td>600028.SH</td>\n",
       "      <td>2015-01-05</td>\n",
       "      <td>6.59</td>\n",
       "      <td>7.14</td>\n",
       "      <td>6.45</td>\n",
       "      <td>7.14</td>\n",
       "      <td>7.14</td>\n",
       "      <td>11864996.45</td>\n",
       "    </tr>\n",
       "    <tr>\n",
       "      <th>4</th>\n",
       "      <td>600030.SH</td>\n",
       "      <td>2015-01-05</td>\n",
       "      <td>33.90</td>\n",
       "      <td>35.25</td>\n",
       "      <td>33.01</td>\n",
       "      <td>34.66</td>\n",
       "      <td>34.66</td>\n",
       "      <td>6986272.15</td>\n",
       "    </tr>\n",
       "    <tr>\n",
       "      <th>...</th>\n",
       "      <td>...</td>\n",
       "      <td>...</td>\n",
       "      <td>...</td>\n",
       "      <td>...</td>\n",
       "      <td>...</td>\n",
       "      <td>...</td>\n",
       "      <td>...</td>\n",
       "      <td>...</td>\n",
       "    </tr>\n",
       "    <tr>\n",
       "      <th>21925</th>\n",
       "      <td>600276.SH</td>\n",
       "      <td>2020-12-31</td>\n",
       "      <td>112.55</td>\n",
       "      <td>112.66</td>\n",
       "      <td>110.01</td>\n",
       "      <td>111.46</td>\n",
       "      <td>111.46</td>\n",
       "      <td>281568.85</td>\n",
       "    </tr>\n",
       "    <tr>\n",
       "      <th>21926</th>\n",
       "      <td>600309.SH</td>\n",
       "      <td>2020-12-31</td>\n",
       "      <td>89.88</td>\n",
       "      <td>91.48</td>\n",
       "      <td>88.70</td>\n",
       "      <td>91.04</td>\n",
       "      <td>91.04</td>\n",
       "      <td>213631.34</td>\n",
       "    </tr>\n",
       "    <tr>\n",
       "      <th>21927</th>\n",
       "      <td>600519.SH</td>\n",
       "      <td>2020-12-31</td>\n",
       "      <td>1941.00</td>\n",
       "      <td>1998.98</td>\n",
       "      <td>1939.00</td>\n",
       "      <td>1998.00</td>\n",
       "      <td>1998.00</td>\n",
       "      <td>38860.07</td>\n",
       "    </tr>\n",
       "    <tr>\n",
       "      <th>21928</th>\n",
       "      <td>600547.SH</td>\n",
       "      <td>2020-12-31</td>\n",
       "      <td>23.60</td>\n",
       "      <td>23.75</td>\n",
       "      <td>23.48</td>\n",
       "      <td>23.62</td>\n",
       "      <td>23.62</td>\n",
       "      <td>213786.94</td>\n",
       "    </tr>\n",
       "    <tr>\n",
       "      <th>21929</th>\n",
       "      <td>600570.SH</td>\n",
       "      <td>2020-12-31</td>\n",
       "      <td>102.88</td>\n",
       "      <td>105.00</td>\n",
       "      <td>102.36</td>\n",
       "      <td>104.90</td>\n",
       "      <td>104.90</td>\n",
       "      <td>182603.40</td>\n",
       "    </tr>\n",
       "  </tbody>\n",
       "</table>\n",
       "<p>21930 rows × 8 columns</p>\n",
       "</div>"
      ]
     },
     "execution_count": 7,
     "metadata": {},
     "output_type": "execute_result"
    }
   ],
   "execution_count": 7
  },
  {
   "metadata": {
    "ExecuteTime": {
     "end_time": "2024-11-16T10:23:03.634552Z",
     "start_time": "2024-11-16T10:23:01.638743Z"
    }
   },
   "cell_type": "code",
   "source": [
    "# add_technical_indicator\n",
    "ts_processor.add_technical_indicator(config.INDICATORS)\n",
    "ts_processor.fillna()\n",
    "ts_processor.dataframe"
   ],
   "id": "8b355ceb2ffc15a",
   "outputs": [
    {
     "name": "stdout",
     "output_type": "stream",
     "text": [
      "tech_indicator_list:  ['macd', 'boll_ub', 'boll_lb', 'rsi_30', 'cci_30', 'dx_30', 'close_30_sma', 'close_60_sma']\n",
      "indicator:  macd\n",
      "indicator:  boll_ub\n",
      "indicator:  boll_lb\n",
      "indicator:  rsi_30\n",
      "indicator:  cci_30\n",
      "indicator:  dx_30\n",
      "indicator:  close_30_sma\n",
      "indicator:  close_60_sma\n",
      "Succesfully add technical indicators\n",
      "Shape of DataFrame:  (21885, 17)\n"
     ]
    },
    {
     "data": {
      "text/plain": [
       "             tic        time  index     open     high      low    close  \\\n",
       "0      600000.SH  2015-01-08     45    15.87    15.88    15.20    15.25   \n",
       "1      600009.SH  2015-01-08     46    20.18    20.18    19.73    20.00   \n",
       "2      600016.SH  2015-01-08     47    10.61    10.66    10.09    10.20   \n",
       "3      600028.SH  2015-01-08     48     7.09     7.41     6.83     6.85   \n",
       "4      600030.SH  2015-01-08     49    36.40    36.70    34.68    35.25   \n",
       "...          ...         ...    ...      ...      ...      ...      ...   \n",
       "21880  600276.SH  2020-12-31  21925   112.55   112.66   110.01   111.46   \n",
       "21881  600309.SH  2020-12-31  21926    89.88    91.48    88.70    91.04   \n",
       "21882  600519.SH  2020-12-31  21927  1941.00  1998.98  1939.00  1998.00   \n",
       "21883  600547.SH  2020-12-31  21928    23.60    23.75    23.48    23.62   \n",
       "21884  600570.SH  2020-12-31  21929   102.88   105.00   102.36   104.90   \n",
       "\n",
       "       adjusted_close      volume       macd      boll_ub      boll_lb  \\\n",
       "0               15.25  3306271.72  -0.032571    16.617911    15.012089   \n",
       "1               20.00   198117.45  -0.016008    20.663897    19.736103   \n",
       "2               10.20  4851684.17  -0.018247    10.957604     9.997396   \n",
       "3                6.85  8190902.35  -0.008227     7.342000     6.743000   \n",
       "4               35.25  6376268.69   0.032910    36.576444    33.808556   \n",
       "...               ...         ...        ...          ...          ...   \n",
       "21880          111.46   281568.85   5.999563   120.049291    81.980709   \n",
       "21881           91.04   213631.34   1.723646    92.780907    79.425093   \n",
       "21882         1998.00    38860.07  42.535547  1942.989267  1761.052733   \n",
       "21883           23.62   213786.94  -0.252554    24.495355    23.032645   \n",
       "21884          104.90   182603.40   1.232803   106.208096    91.214904   \n",
       "\n",
       "          rsi_30      cci_30       dx_30  close_30_sma  close_60_sma  \n",
       "0       6.058641 -125.593009   23.014040     15.815000     15.815000  \n",
       "1      12.828915  -90.842491  100.000000     20.200000     20.200000  \n",
       "2      11.862558  -99.887006  100.000000     10.477500     10.477500  \n",
       "3      27.409248   36.578171   64.934862      7.042500      7.042500  \n",
       "4      61.517448   47.947020  100.000000     35.192500     35.192500  \n",
       "...          ...         ...         ...           ...           ...  \n",
       "21880  65.497668  108.629006   49.657169     96.356667     92.992167  \n",
       "21881  58.501768  115.410537   38.129756     85.693000     84.104667  \n",
       "21882  66.422960  220.691463   52.684229   1815.039333   1761.921500  \n",
       "21883  42.060734  -55.475296    0.003164     23.883667     24.534000  \n",
       "21884  56.711178  116.898013   26.076600     95.407333     94.708000  \n",
       "\n",
       "[21885 rows x 17 columns]"
      ],
      "text/html": [
       "<div>\n",
       "<style scoped>\n",
       "    .dataframe tbody tr th:only-of-type {\n",
       "        vertical-align: middle;\n",
       "    }\n",
       "\n",
       "    .dataframe tbody tr th {\n",
       "        vertical-align: top;\n",
       "    }\n",
       "\n",
       "    .dataframe thead th {\n",
       "        text-align: right;\n",
       "    }\n",
       "</style>\n",
       "<table border=\"1\" class=\"dataframe\">\n",
       "  <thead>\n",
       "    <tr style=\"text-align: right;\">\n",
       "      <th></th>\n",
       "      <th>tic</th>\n",
       "      <th>time</th>\n",
       "      <th>index</th>\n",
       "      <th>open</th>\n",
       "      <th>high</th>\n",
       "      <th>low</th>\n",
       "      <th>close</th>\n",
       "      <th>adjusted_close</th>\n",
       "      <th>volume</th>\n",
       "      <th>macd</th>\n",
       "      <th>boll_ub</th>\n",
       "      <th>boll_lb</th>\n",
       "      <th>rsi_30</th>\n",
       "      <th>cci_30</th>\n",
       "      <th>dx_30</th>\n",
       "      <th>close_30_sma</th>\n",
       "      <th>close_60_sma</th>\n",
       "    </tr>\n",
       "  </thead>\n",
       "  <tbody>\n",
       "    <tr>\n",
       "      <th>0</th>\n",
       "      <td>600000.SH</td>\n",
       "      <td>2015-01-08</td>\n",
       "      <td>45</td>\n",
       "      <td>15.87</td>\n",
       "      <td>15.88</td>\n",
       "      <td>15.20</td>\n",
       "      <td>15.25</td>\n",
       "      <td>15.25</td>\n",
       "      <td>3306271.72</td>\n",
       "      <td>-0.032571</td>\n",
       "      <td>16.617911</td>\n",
       "      <td>15.012089</td>\n",
       "      <td>6.058641</td>\n",
       "      <td>-125.593009</td>\n",
       "      <td>23.014040</td>\n",
       "      <td>15.815000</td>\n",
       "      <td>15.815000</td>\n",
       "    </tr>\n",
       "    <tr>\n",
       "      <th>1</th>\n",
       "      <td>600009.SH</td>\n",
       "      <td>2015-01-08</td>\n",
       "      <td>46</td>\n",
       "      <td>20.18</td>\n",
       "      <td>20.18</td>\n",
       "      <td>19.73</td>\n",
       "      <td>20.00</td>\n",
       "      <td>20.00</td>\n",
       "      <td>198117.45</td>\n",
       "      <td>-0.016008</td>\n",
       "      <td>20.663897</td>\n",
       "      <td>19.736103</td>\n",
       "      <td>12.828915</td>\n",
       "      <td>-90.842491</td>\n",
       "      <td>100.000000</td>\n",
       "      <td>20.200000</td>\n",
       "      <td>20.200000</td>\n",
       "    </tr>\n",
       "    <tr>\n",
       "      <th>2</th>\n",
       "      <td>600016.SH</td>\n",
       "      <td>2015-01-08</td>\n",
       "      <td>47</td>\n",
       "      <td>10.61</td>\n",
       "      <td>10.66</td>\n",
       "      <td>10.09</td>\n",
       "      <td>10.20</td>\n",
       "      <td>10.20</td>\n",
       "      <td>4851684.17</td>\n",
       "      <td>-0.018247</td>\n",
       "      <td>10.957604</td>\n",
       "      <td>9.997396</td>\n",
       "      <td>11.862558</td>\n",
       "      <td>-99.887006</td>\n",
       "      <td>100.000000</td>\n",
       "      <td>10.477500</td>\n",
       "      <td>10.477500</td>\n",
       "    </tr>\n",
       "    <tr>\n",
       "      <th>3</th>\n",
       "      <td>600028.SH</td>\n",
       "      <td>2015-01-08</td>\n",
       "      <td>48</td>\n",
       "      <td>7.09</td>\n",
       "      <td>7.41</td>\n",
       "      <td>6.83</td>\n",
       "      <td>6.85</td>\n",
       "      <td>6.85</td>\n",
       "      <td>8190902.35</td>\n",
       "      <td>-0.008227</td>\n",
       "      <td>7.342000</td>\n",
       "      <td>6.743000</td>\n",
       "      <td>27.409248</td>\n",
       "      <td>36.578171</td>\n",
       "      <td>64.934862</td>\n",
       "      <td>7.042500</td>\n",
       "      <td>7.042500</td>\n",
       "    </tr>\n",
       "    <tr>\n",
       "      <th>4</th>\n",
       "      <td>600030.SH</td>\n",
       "      <td>2015-01-08</td>\n",
       "      <td>49</td>\n",
       "      <td>36.40</td>\n",
       "      <td>36.70</td>\n",
       "      <td>34.68</td>\n",
       "      <td>35.25</td>\n",
       "      <td>35.25</td>\n",
       "      <td>6376268.69</td>\n",
       "      <td>0.032910</td>\n",
       "      <td>36.576444</td>\n",
       "      <td>33.808556</td>\n",
       "      <td>61.517448</td>\n",
       "      <td>47.947020</td>\n",
       "      <td>100.000000</td>\n",
       "      <td>35.192500</td>\n",
       "      <td>35.192500</td>\n",
       "    </tr>\n",
       "    <tr>\n",
       "      <th>...</th>\n",
       "      <td>...</td>\n",
       "      <td>...</td>\n",
       "      <td>...</td>\n",
       "      <td>...</td>\n",
       "      <td>...</td>\n",
       "      <td>...</td>\n",
       "      <td>...</td>\n",
       "      <td>...</td>\n",
       "      <td>...</td>\n",
       "      <td>...</td>\n",
       "      <td>...</td>\n",
       "      <td>...</td>\n",
       "      <td>...</td>\n",
       "      <td>...</td>\n",
       "      <td>...</td>\n",
       "      <td>...</td>\n",
       "      <td>...</td>\n",
       "    </tr>\n",
       "    <tr>\n",
       "      <th>21880</th>\n",
       "      <td>600276.SH</td>\n",
       "      <td>2020-12-31</td>\n",
       "      <td>21925</td>\n",
       "      <td>112.55</td>\n",
       "      <td>112.66</td>\n",
       "      <td>110.01</td>\n",
       "      <td>111.46</td>\n",
       "      <td>111.46</td>\n",
       "      <td>281568.85</td>\n",
       "      <td>5.999563</td>\n",
       "      <td>120.049291</td>\n",
       "      <td>81.980709</td>\n",
       "      <td>65.497668</td>\n",
       "      <td>108.629006</td>\n",
       "      <td>49.657169</td>\n",
       "      <td>96.356667</td>\n",
       "      <td>92.992167</td>\n",
       "    </tr>\n",
       "    <tr>\n",
       "      <th>21881</th>\n",
       "      <td>600309.SH</td>\n",
       "      <td>2020-12-31</td>\n",
       "      <td>21926</td>\n",
       "      <td>89.88</td>\n",
       "      <td>91.48</td>\n",
       "      <td>88.70</td>\n",
       "      <td>91.04</td>\n",
       "      <td>91.04</td>\n",
       "      <td>213631.34</td>\n",
       "      <td>1.723646</td>\n",
       "      <td>92.780907</td>\n",
       "      <td>79.425093</td>\n",
       "      <td>58.501768</td>\n",
       "      <td>115.410537</td>\n",
       "      <td>38.129756</td>\n",
       "      <td>85.693000</td>\n",
       "      <td>84.104667</td>\n",
       "    </tr>\n",
       "    <tr>\n",
       "      <th>21882</th>\n",
       "      <td>600519.SH</td>\n",
       "      <td>2020-12-31</td>\n",
       "      <td>21927</td>\n",
       "      <td>1941.00</td>\n",
       "      <td>1998.98</td>\n",
       "      <td>1939.00</td>\n",
       "      <td>1998.00</td>\n",
       "      <td>1998.00</td>\n",
       "      <td>38860.07</td>\n",
       "      <td>42.535547</td>\n",
       "      <td>1942.989267</td>\n",
       "      <td>1761.052733</td>\n",
       "      <td>66.422960</td>\n",
       "      <td>220.691463</td>\n",
       "      <td>52.684229</td>\n",
       "      <td>1815.039333</td>\n",
       "      <td>1761.921500</td>\n",
       "    </tr>\n",
       "    <tr>\n",
       "      <th>21883</th>\n",
       "      <td>600547.SH</td>\n",
       "      <td>2020-12-31</td>\n",
       "      <td>21928</td>\n",
       "      <td>23.60</td>\n",
       "      <td>23.75</td>\n",
       "      <td>23.48</td>\n",
       "      <td>23.62</td>\n",
       "      <td>23.62</td>\n",
       "      <td>213786.94</td>\n",
       "      <td>-0.252554</td>\n",
       "      <td>24.495355</td>\n",
       "      <td>23.032645</td>\n",
       "      <td>42.060734</td>\n",
       "      <td>-55.475296</td>\n",
       "      <td>0.003164</td>\n",
       "      <td>23.883667</td>\n",
       "      <td>24.534000</td>\n",
       "    </tr>\n",
       "    <tr>\n",
       "      <th>21884</th>\n",
       "      <td>600570.SH</td>\n",
       "      <td>2020-12-31</td>\n",
       "      <td>21929</td>\n",
       "      <td>102.88</td>\n",
       "      <td>105.00</td>\n",
       "      <td>102.36</td>\n",
       "      <td>104.90</td>\n",
       "      <td>104.90</td>\n",
       "      <td>182603.40</td>\n",
       "      <td>1.232803</td>\n",
       "      <td>106.208096</td>\n",
       "      <td>91.214904</td>\n",
       "      <td>56.711178</td>\n",
       "      <td>116.898013</td>\n",
       "      <td>26.076600</td>\n",
       "      <td>95.407333</td>\n",
       "      <td>94.708000</td>\n",
       "    </tr>\n",
       "  </tbody>\n",
       "</table>\n",
       "<p>21885 rows × 17 columns</p>\n",
       "</div>"
      ]
     },
     "execution_count": 8,
     "metadata": {},
     "output_type": "execute_result"
    }
   ],
   "execution_count": 8
  },
  {
   "metadata": {},
   "cell_type": "markdown",
   "source": "### Split traning dataset",
   "id": "ceb0e7cffd07269a"
  },
  {
   "metadata": {
    "ExecuteTime": {
     "end_time": "2024-11-16T10:24:48.664785Z",
     "start_time": "2024-11-16T10:24:48.653918Z"
    }
   },
   "cell_type": "code",
   "source": [
    "train = ts_processor.data_split(ts_processor.dataframe,train_start_date,train_stop_date)\n",
    "len(train.tic.unique())"
   ],
   "id": "35eef982e722e5cb",
   "outputs": [
    {
     "data": {
      "text/plain": [
       "15"
      ]
     },
     "execution_count": 9,
     "metadata": {},
     "output_type": "execute_result"
    }
   ],
   "execution_count": 9
  },
  {
   "metadata": {
    "ExecuteTime": {
     "end_time": "2024-11-16T10:25:01.471634Z",
     "start_time": "2024-11-16T10:25:01.467798Z"
    }
   },
   "cell_type": "code",
   "source": "train.tic.unique()",
   "id": "9fbd15366468c1b6",
   "outputs": [
    {
     "data": {
      "text/plain": [
       "array(['600000.SH', '600009.SH', '600016.SH', '600028.SH', '600030.SH',\n",
       "       '600031.SH', '600036.SH', '600050.SH', '600104.SH', '600196.SH',\n",
       "       '600276.SH', '600309.SH', '600519.SH', '600547.SH', '600570.SH'],\n",
       "      dtype=object)"
      ]
     },
     "execution_count": 10,
     "metadata": {},
     "output_type": "execute_result"
    }
   ],
   "execution_count": 10
  },
  {
   "metadata": {
    "ExecuteTime": {
     "end_time": "2024-11-16T10:25:12.226850Z",
     "start_time": "2024-11-16T10:25:12.222862Z"
    }
   },
   "cell_type": "code",
   "source": "train.shape",
   "id": "f5e02a788e493860",
   "outputs": [
    {
     "data": {
      "text/plain": [
       "(16695, 17)"
      ]
     },
     "execution_count": 11,
     "metadata": {},
     "output_type": "execute_result"
    }
   ],
   "execution_count": 11
  },
  {
   "metadata": {
    "ExecuteTime": {
     "end_time": "2024-11-16T10:29:04.361779Z",
     "start_time": "2024-11-16T10:29:04.350629Z"
    }
   },
   "cell_type": "code",
   "source": [
    "train = train.rename(columns={'time': 'date'})\n",
    "train.head()"
   ],
   "id": "cfce3b82a8f33eca",
   "outputs": [
    {
     "data": {
      "text/plain": [
       "         tic        date  index   open   high    low  close  adjusted_close  \\\n",
       "0  600000.SH  2015-01-08     45  15.87  15.88  15.20  15.25           15.25   \n",
       "0  600009.SH  2015-01-08     46  20.18  20.18  19.73  20.00           20.00   \n",
       "0  600016.SH  2015-01-08     47  10.61  10.66  10.09  10.20           10.20   \n",
       "0  600028.SH  2015-01-08     48   7.09   7.41   6.83   6.85            6.85   \n",
       "0  600030.SH  2015-01-08     49  36.40  36.70  34.68  35.25           35.25   \n",
       "\n",
       "       volume      macd    boll_ub    boll_lb     rsi_30      cci_30  \\\n",
       "0  3306271.72 -0.032571  16.617911  15.012089   6.058641 -125.593009   \n",
       "0   198117.45 -0.016008  20.663897  19.736103  12.828915  -90.842491   \n",
       "0  4851684.17 -0.018247  10.957604   9.997396  11.862558  -99.887006   \n",
       "0  8190902.35 -0.008227   7.342000   6.743000  27.409248   36.578171   \n",
       "0  6376268.69  0.032910  36.576444  33.808556  61.517448   47.947020   \n",
       "\n",
       "        dx_30  close_30_sma  close_60_sma  \n",
       "0   23.014040       15.8150       15.8150  \n",
       "0  100.000000       20.2000       20.2000  \n",
       "0  100.000000       10.4775       10.4775  \n",
       "0   64.934862        7.0425        7.0425  \n",
       "0  100.000000       35.1925       35.1925  "
      ],
      "text/html": [
       "<div>\n",
       "<style scoped>\n",
       "    .dataframe tbody tr th:only-of-type {\n",
       "        vertical-align: middle;\n",
       "    }\n",
       "\n",
       "    .dataframe tbody tr th {\n",
       "        vertical-align: top;\n",
       "    }\n",
       "\n",
       "    .dataframe thead th {\n",
       "        text-align: right;\n",
       "    }\n",
       "</style>\n",
       "<table border=\"1\" class=\"dataframe\">\n",
       "  <thead>\n",
       "    <tr style=\"text-align: right;\">\n",
       "      <th></th>\n",
       "      <th>tic</th>\n",
       "      <th>date</th>\n",
       "      <th>index</th>\n",
       "      <th>open</th>\n",
       "      <th>high</th>\n",
       "      <th>low</th>\n",
       "      <th>close</th>\n",
       "      <th>adjusted_close</th>\n",
       "      <th>volume</th>\n",
       "      <th>macd</th>\n",
       "      <th>boll_ub</th>\n",
       "      <th>boll_lb</th>\n",
       "      <th>rsi_30</th>\n",
       "      <th>cci_30</th>\n",
       "      <th>dx_30</th>\n",
       "      <th>close_30_sma</th>\n",
       "      <th>close_60_sma</th>\n",
       "    </tr>\n",
       "  </thead>\n",
       "  <tbody>\n",
       "    <tr>\n",
       "      <th>0</th>\n",
       "      <td>600000.SH</td>\n",
       "      <td>2015-01-08</td>\n",
       "      <td>45</td>\n",
       "      <td>15.87</td>\n",
       "      <td>15.88</td>\n",
       "      <td>15.20</td>\n",
       "      <td>15.25</td>\n",
       "      <td>15.25</td>\n",
       "      <td>3306271.72</td>\n",
       "      <td>-0.032571</td>\n",
       "      <td>16.617911</td>\n",
       "      <td>15.012089</td>\n",
       "      <td>6.058641</td>\n",
       "      <td>-125.593009</td>\n",
       "      <td>23.014040</td>\n",
       "      <td>15.8150</td>\n",
       "      <td>15.8150</td>\n",
       "    </tr>\n",
       "    <tr>\n",
       "      <th>0</th>\n",
       "      <td>600009.SH</td>\n",
       "      <td>2015-01-08</td>\n",
       "      <td>46</td>\n",
       "      <td>20.18</td>\n",
       "      <td>20.18</td>\n",
       "      <td>19.73</td>\n",
       "      <td>20.00</td>\n",
       "      <td>20.00</td>\n",
       "      <td>198117.45</td>\n",
       "      <td>-0.016008</td>\n",
       "      <td>20.663897</td>\n",
       "      <td>19.736103</td>\n",
       "      <td>12.828915</td>\n",
       "      <td>-90.842491</td>\n",
       "      <td>100.000000</td>\n",
       "      <td>20.2000</td>\n",
       "      <td>20.2000</td>\n",
       "    </tr>\n",
       "    <tr>\n",
       "      <th>0</th>\n",
       "      <td>600016.SH</td>\n",
       "      <td>2015-01-08</td>\n",
       "      <td>47</td>\n",
       "      <td>10.61</td>\n",
       "      <td>10.66</td>\n",
       "      <td>10.09</td>\n",
       "      <td>10.20</td>\n",
       "      <td>10.20</td>\n",
       "      <td>4851684.17</td>\n",
       "      <td>-0.018247</td>\n",
       "      <td>10.957604</td>\n",
       "      <td>9.997396</td>\n",
       "      <td>11.862558</td>\n",
       "      <td>-99.887006</td>\n",
       "      <td>100.000000</td>\n",
       "      <td>10.4775</td>\n",
       "      <td>10.4775</td>\n",
       "    </tr>\n",
       "    <tr>\n",
       "      <th>0</th>\n",
       "      <td>600028.SH</td>\n",
       "      <td>2015-01-08</td>\n",
       "      <td>48</td>\n",
       "      <td>7.09</td>\n",
       "      <td>7.41</td>\n",
       "      <td>6.83</td>\n",
       "      <td>6.85</td>\n",
       "      <td>6.85</td>\n",
       "      <td>8190902.35</td>\n",
       "      <td>-0.008227</td>\n",
       "      <td>7.342000</td>\n",
       "      <td>6.743000</td>\n",
       "      <td>27.409248</td>\n",
       "      <td>36.578171</td>\n",
       "      <td>64.934862</td>\n",
       "      <td>7.0425</td>\n",
       "      <td>7.0425</td>\n",
       "    </tr>\n",
       "    <tr>\n",
       "      <th>0</th>\n",
       "      <td>600030.SH</td>\n",
       "      <td>2015-01-08</td>\n",
       "      <td>49</td>\n",
       "      <td>36.40</td>\n",
       "      <td>36.70</td>\n",
       "      <td>34.68</td>\n",
       "      <td>35.25</td>\n",
       "      <td>35.25</td>\n",
       "      <td>6376268.69</td>\n",
       "      <td>0.032910</td>\n",
       "      <td>36.576444</td>\n",
       "      <td>33.808556</td>\n",
       "      <td>61.517448</td>\n",
       "      <td>47.947020</td>\n",
       "      <td>100.000000</td>\n",
       "      <td>35.1925</td>\n",
       "      <td>35.1925</td>\n",
       "    </tr>\n",
       "  </tbody>\n",
       "</table>\n",
       "</div>"
      ]
     },
     "execution_count": 15,
     "metadata": {},
     "output_type": "execute_result"
    }
   ],
   "execution_count": 15
  },
  {
   "metadata": {
    "ExecuteTime": {
     "end_time": "2024-11-16T10:29:09.024473Z",
     "start_time": "2024-11-16T10:29:09.018882Z"
    }
   },
   "cell_type": "code",
   "source": [
    "stock_dimension = len(train.tic.unique())\n",
    "state_space = stock_dimension*(len(config.INDICATORS)+2)+1\n",
    "print(f\"Stock Dimension: {stock_dimension}, State Space: {state_space}\")"
   ],
   "id": "ba11e5e8456a81fd",
   "outputs": [
    {
     "name": "stdout",
     "output_type": "stream",
     "text": [
      "Stock Dimension: 15, State Space: 151\n"
     ]
    }
   ],
   "execution_count": 16
  },
  {
   "metadata": {},
   "cell_type": "markdown",
   "source": "### Train",
   "id": "5eb2d179fe80147d"
  },
  {
   "metadata": {
    "ExecuteTime": {
     "end_time": "2024-11-16T10:29:11.238059Z",
     "start_time": "2024-11-16T10:29:11.231863Z"
    }
   },
   "cell_type": "code",
   "source": [
    "env_kwargs = {\n",
    "    \"stock_dim\": stock_dimension,\n",
    "    \"hmax\": 1000, \n",
    "    \"initial_amount\": 1000000, \n",
    "    \"buy_cost_pct\":6.87e-5,\n",
    "    \"sell_cost_pct\":1.0687e-3,\n",
    "    \"reward_scaling\": 1e-4,\n",
    "    \"state_space\": state_space, \n",
    "    \"action_space\": stock_dimension,\n",
    "    \"tech_indicator_list\": config.INDICATORS, \n",
    "    \"print_verbosity\": 1,\n",
    "    \"initial_buy\":True,\n",
    "    \"hundred_each_trade\":False\n",
    "}\n",
    "\n",
    "e_train_gym = StockTradingEnv(df = train, **env_kwargs)"
   ],
   "id": "b97684136d5fa709",
   "outputs": [],
   "execution_count": 17
  }
 ],
 "metadata": {
  "kernelspec": {
   "display_name": "Python 3",
   "language": "python",
   "name": "python3"
  },
  "language_info": {
   "codemirror_mode": {
    "name": "ipython",
    "version": 2
   },
   "file_extension": ".py",
   "mimetype": "text/x-python",
   "name": "python",
   "nbconvert_exporter": "python",
   "pygments_lexer": "ipython2",
   "version": "2.7.6"
  }
 },
 "nbformat": 4,
 "nbformat_minor": 5
}
